{
 "cells": [
  {
   "cell_type": "code",
   "execution_count": 1,
   "metadata": {},
   "outputs": [
    {
     "name": "stdout",
     "output_type": "stream",
     "text": [
      "Defaulting to user installation because normal site-packages is not writeable\n",
      "Requirement already satisfied: pandas in ./.local/lib/python3.7/site-packages (1.3.4)\n",
      "Requirement already satisfied: numpy>=1.17.3; platform_machine != \"aarch64\" and platform_machine != \"arm64\" and python_version < \"3.10\" in ./.local/lib/python3.7/site-packages (from pandas) (1.21.3)\n",
      "Requirement already satisfied: python-dateutil>=2.7.3 in ./.local/lib/python3.7/site-packages (from pandas) (2.8.2)\n",
      "Requirement already satisfied: pytz>=2017.3 in ./.local/lib/python3.7/site-packages (from pandas) (2021.3)\n",
      "Requirement already satisfied: six>=1.5 in ./.local/lib/python3.7/site-packages (from python-dateutil>=2.7.3->pandas) (1.16.0)\n",
      "Defaulting to user installation because normal site-packages is not writeable\n",
      "Requirement already satisfied: matplotlib in ./.local/lib/python3.7/site-packages (3.4.3)\n",
      "Requirement already satisfied: pyparsing>=2.2.1 in ./.local/lib/python3.7/site-packages (from matplotlib) (2.4.7)\n",
      "Requirement already satisfied: numpy>=1.16 in ./.local/lib/python3.7/site-packages (from matplotlib) (1.21.3)\n",
      "Requirement already satisfied: python-dateutil>=2.7 in ./.local/lib/python3.7/site-packages (from matplotlib) (2.8.2)\n",
      "Requirement already satisfied: kiwisolver>=1.0.1 in ./.local/lib/python3.7/site-packages (from matplotlib) (1.3.2)\n",
      "Requirement already satisfied: cycler>=0.10 in ./.local/lib/python3.7/site-packages (from matplotlib) (0.10.0)\n",
      "Requirement already satisfied: pillow>=6.2.0 in ./.local/lib/python3.7/site-packages (from matplotlib) (8.4.0)\n",
      "Requirement already satisfied: six>=1.5 in ./.local/lib/python3.7/site-packages (from python-dateutil>=2.7->matplotlib) (1.16.0)\n",
      "Defaulting to user installation because normal site-packages is not writeable\n",
      "Requirement already satisfied: seaborn in ./.local/lib/python3.7/site-packages (0.11.2)\n",
      "Requirement already satisfied: matplotlib>=2.2 in ./.local/lib/python3.7/site-packages (from seaborn) (3.4.3)\n",
      "Requirement already satisfied: scipy>=1.0 in ./.local/lib/python3.7/site-packages (from seaborn) (1.7.1)\n",
      "Requirement already satisfied: pandas>=0.23 in ./.local/lib/python3.7/site-packages (from seaborn) (1.3.4)\n",
      "Requirement already satisfied: numpy>=1.15 in ./.local/lib/python3.7/site-packages (from seaborn) (1.21.3)\n",
      "Requirement already satisfied: python-dateutil>=2.7 in ./.local/lib/python3.7/site-packages (from matplotlib>=2.2->seaborn) (2.8.2)\n",
      "Requirement already satisfied: pillow>=6.2.0 in ./.local/lib/python3.7/site-packages (from matplotlib>=2.2->seaborn) (8.4.0)\n",
      "Requirement already satisfied: kiwisolver>=1.0.1 in ./.local/lib/python3.7/site-packages (from matplotlib>=2.2->seaborn) (1.3.2)\n",
      "Requirement already satisfied: pyparsing>=2.2.1 in ./.local/lib/python3.7/site-packages (from matplotlib>=2.2->seaborn) (2.4.7)\n",
      "Requirement already satisfied: cycler>=0.10 in ./.local/lib/python3.7/site-packages (from matplotlib>=2.2->seaborn) (0.10.0)\n",
      "Requirement already satisfied: pytz>=2017.3 in ./.local/lib/python3.7/site-packages (from pandas>=0.23->seaborn) (2021.3)\n",
      "Requirement already satisfied: six>=1.5 in ./.local/lib/python3.7/site-packages (from python-dateutil>=2.7->matplotlib>=2.2->seaborn) (1.16.0)\n",
      "Defaulting to user installation because normal site-packages is not writeable\n",
      "Requirement already satisfied: tabulate in ./.local/lib/python3.7/site-packages (0.8.9)\n",
      "Defaulting to user installation because normal site-packages is not writeable\n",
      "Requirement already satisfied: boto3 in ./.local/lib/python3.7/site-packages (1.19.0)\n",
      "Collecting botocore<1.23.0,>=1.22.0\n",
      "  Using cached botocore-1.22.2-py3-none-any.whl (8.0 MB)\n",
      "Requirement already satisfied: s3transfer<0.6.0,>=0.5.0 in ./.local/lib/python3.7/site-packages (from boto3) (0.5.0)\n",
      "Requirement already satisfied: jmespath<1.0.0,>=0.7.1 in ./.local/lib/python3.7/site-packages (from boto3) (0.10.0)\n",
      "Requirement already satisfied: python-dateutil<3.0.0,>=2.1 in ./.local/lib/python3.7/site-packages (from botocore<1.23.0,>=1.22.0->boto3) (2.8.2)\n",
      "Requirement already satisfied: urllib3<1.27,>=1.25.4 in ./.local/lib/python3.7/site-packages (from botocore<1.23.0,>=1.22.0->boto3) (1.26.7)\n",
      "Requirement already satisfied: six>=1.5 in ./.local/lib/python3.7/site-packages (from python-dateutil<3.0.0,>=2.1->botocore<1.23.0,>=1.22.0->boto3) (1.16.0)\n",
      "Installing collected packages: botocore\n",
      "  Attempting uninstall: botocore\n",
      "    Found existing installation: botocore 1.20.106\n",
      "    Uninstalling botocore-1.20.106:\n",
      "      Successfully uninstalled botocore-1.20.106\n",
      "\u001b[31mERROR: After October 2020 you may experience errors when installing or updating packages. This is because pip will change the way that it resolves dependency conflicts.\n",
      "\n",
      "We recommend you use --use-feature=2020-resolver to test your packages with the new resolver before it becomes the default.\n",
      "\n",
      "aiobotocore 1.4.2 requires botocore<1.20.107,>=1.20.106, but you'll have botocore 1.22.2 which is incompatible.\u001b[0m\n",
      "Successfully installed botocore-1.22.2\n",
      "Defaulting to user installation because normal site-packages is not writeable\n",
      "Requirement already satisfied: s3fs in ./.local/lib/python3.7/site-packages (2021.10.1)\n",
      "Requirement already satisfied: fsspec==2021.10.1 in ./.local/lib/python3.7/site-packages (from s3fs) (2021.10.1)\n",
      "Requirement already satisfied: aiobotocore~=1.4.1 in ./.local/lib/python3.7/site-packages (from s3fs) (1.4.2)\n",
      "Collecting botocore<1.20.107,>=1.20.106\n",
      "  Using cached botocore-1.20.106-py2.py3-none-any.whl (7.7 MB)\n",
      "Requirement already satisfied: aiohttp>=3.3.1 in ./.local/lib/python3.7/site-packages (from aiobotocore~=1.4.1->s3fs) (3.7.4.post0)\n",
      "Requirement already satisfied: wrapt>=1.10.10 in ./.local/lib/python3.7/site-packages (from aiobotocore~=1.4.1->s3fs) (1.13.2)\n",
      "Requirement already satisfied: aioitertools>=0.5.1 in ./.local/lib/python3.7/site-packages (from aiobotocore~=1.4.1->s3fs) (0.8.0)\n",
      "Requirement already satisfied: python-dateutil<3.0.0,>=2.1 in ./.local/lib/python3.7/site-packages (from botocore<1.20.107,>=1.20.106->aiobotocore~=1.4.1->s3fs) (2.8.2)\n",
      "Requirement already satisfied: urllib3<1.27,>=1.25.4 in ./.local/lib/python3.7/site-packages (from botocore<1.20.107,>=1.20.106->aiobotocore~=1.4.1->s3fs) (1.26.7)\n",
      "Requirement already satisfied: jmespath<1.0.0,>=0.7.1 in ./.local/lib/python3.7/site-packages (from botocore<1.20.107,>=1.20.106->aiobotocore~=1.4.1->s3fs) (0.10.0)\n",
      "Requirement already satisfied: typing-extensions>=3.6.5 in ./.local/lib/python3.7/site-packages (from aiohttp>=3.3.1->aiobotocore~=1.4.1->s3fs) (3.10.0.2)\n",
      "Requirement already satisfied: attrs>=17.3.0 in ./.local/lib/python3.7/site-packages (from aiohttp>=3.3.1->aiobotocore~=1.4.1->s3fs) (21.2.0)\n",
      "Requirement already satisfied: multidict<7.0,>=4.5 in ./.local/lib/python3.7/site-packages (from aiohttp>=3.3.1->aiobotocore~=1.4.1->s3fs) (5.2.0)\n",
      "Requirement already satisfied: async-timeout<4.0,>=3.0 in ./.local/lib/python3.7/site-packages (from aiohttp>=3.3.1->aiobotocore~=1.4.1->s3fs) (3.0.1)\n",
      "Requirement already satisfied: chardet<5.0,>=2.0 in ./.local/lib/python3.7/site-packages (from aiohttp>=3.3.1->aiobotocore~=1.4.1->s3fs) (4.0.0)\n",
      "Requirement already satisfied: yarl<2.0,>=1.0 in ./.local/lib/python3.7/site-packages (from aiohttp>=3.3.1->aiobotocore~=1.4.1->s3fs) (1.7.0)\n",
      "Requirement already satisfied: six>=1.5 in ./.local/lib/python3.7/site-packages (from python-dateutil<3.0.0,>=2.1->botocore<1.20.107,>=1.20.106->aiobotocore~=1.4.1->s3fs) (1.16.0)\n",
      "Requirement already satisfied: idna>=2.0 in ./.local/lib/python3.7/site-packages (from yarl<2.0,>=1.0->aiohttp>=3.3.1->aiobotocore~=1.4.1->s3fs) (3.3)\n",
      "Installing collected packages: botocore\n",
      "  Attempting uninstall: botocore\n",
      "    Found existing installation: botocore 1.22.2\n",
      "    Uninstalling botocore-1.22.2:\n",
      "      Successfully uninstalled botocore-1.22.2\n",
      "\u001b[31mERROR: After October 2020 you may experience errors when installing or updating packages. This is because pip will change the way that it resolves dependency conflicts.\n",
      "\n",
      "We recommend you use --use-feature=2020-resolver to test your packages with the new resolver before it becomes the default.\n",
      "\n",
      "boto3 1.19.0 requires botocore<1.23.0,>=1.22.0, but you'll have botocore 1.20.106 which is incompatible.\u001b[0m\n",
      "Successfully installed botocore-1.20.106\n",
      "Defaulting to user installation because normal site-packages is not writeable\r\n",
      "Requirement already satisfied: fsspec in ./.local/lib/python3.7/site-packages (2021.10.1)\r\n"
     ]
    }
   ],
   "source": [
    "#Installing necessary libraries\n",
    "!pip3 install pandas\n",
    "!pip3 install matplotlib\n",
    "!pip3 install seaborn\n",
    "!pip3 install tabulate\n",
    "!pip3 install boto3\n",
    "!pip3 install s3fs\n",
    "!pip3 install fsspec"
   ]
  },
  {
   "cell_type": "code",
   "execution_count": 2,
   "metadata": {
    "id": "_0s34bKPYJsk"
   },
   "outputs": [],
   "source": [
    "#Import the libraries\n",
    "import pandas as pd\n",
    "import numpy as np\n",
    "import matplotlib.pyplot as plt\n",
    "import datetime\n",
    "import seaborn as sns\n",
    "from datetime import timedelta\n",
    "from tabulate import tabulate\n",
    "import boto3"
   ]
  },
  {
   "cell_type": "code",
   "execution_count": 3,
   "metadata": {},
   "outputs": [],
   "source": [
    "client = boto3.client('s3')"
   ]
  },
  {
   "cell_type": "code",
   "execution_count": 4,
   "metadata": {},
   "outputs": [],
   "source": [
    "import warnings\n",
    "warnings.filterwarnings(\"ignore\")"
   ]
  },
  {
   "cell_type": "code",
   "execution_count": 5,
   "metadata": {
    "id": "M-H0qBfKfJK0"
   },
   "outputs": [],
   "source": [
    "#Reading final_app_events csv file and loading it in a DF\n",
    "\n",
    "dfappevent=pd.read_csv('s3://capstone-project-sep2021/final_app_events.csv', delimiter=',', names= [\"event_id\", \"app_id\", \"is_installed\", \"is_active\"])"
   ]
  },
  {
   "cell_type": "code",
   "execution_count": 6,
   "metadata": {
    "colab": {
     "base_uri": "https://localhost:8080/",
     "height": 362
    },
    "id": "k-nfPPdT7gpo",
    "outputId": "42e4ce4e-4c56-4c43-8f7d-14a141692ac8"
   },
   "outputs": [
    {
     "data": {
      "text/html": [
       "<div>\n",
       "<style scoped>\n",
       "    .dataframe tbody tr th:only-of-type {\n",
       "        vertical-align: middle;\n",
       "    }\n",
       "\n",
       "    .dataframe tbody tr th {\n",
       "        vertical-align: top;\n",
       "    }\n",
       "\n",
       "    .dataframe thead th {\n",
       "        text-align: right;\n",
       "    }\n",
       "</style>\n",
       "<table border=\"1\" class=\"dataframe\">\n",
       "  <thead>\n",
       "    <tr style=\"text-align: right;\">\n",
       "      <th></th>\n",
       "      <th>event_id</th>\n",
       "      <th>app_id</th>\n",
       "      <th>is_installed</th>\n",
       "      <th>is_active</th>\n",
       "    </tr>\n",
       "  </thead>\n",
       "  <tbody>\n",
       "    <tr>\n",
       "      <th>0</th>\n",
       "      <td>2</td>\n",
       "      <td>5927333115845830913</td>\n",
       "      <td>1</td>\n",
       "      <td>1</td>\n",
       "    </tr>\n",
       "    <tr>\n",
       "      <th>1</th>\n",
       "      <td>2</td>\n",
       "      <td>-5720078949152207372</td>\n",
       "      <td>1</td>\n",
       "      <td>0</td>\n",
       "    </tr>\n",
       "    <tr>\n",
       "      <th>2</th>\n",
       "      <td>2</td>\n",
       "      <td>-1633887856876571208</td>\n",
       "      <td>1</td>\n",
       "      <td>0</td>\n",
       "    </tr>\n",
       "    <tr>\n",
       "      <th>3</th>\n",
       "      <td>2</td>\n",
       "      <td>-653184325010919369</td>\n",
       "      <td>1</td>\n",
       "      <td>1</td>\n",
       "    </tr>\n",
       "    <tr>\n",
       "      <th>4</th>\n",
       "      <td>2</td>\n",
       "      <td>8693964245073640147</td>\n",
       "      <td>1</td>\n",
       "      <td>1</td>\n",
       "    </tr>\n",
       "    <tr>\n",
       "      <th>5</th>\n",
       "      <td>2</td>\n",
       "      <td>4775896950989639373</td>\n",
       "      <td>1</td>\n",
       "      <td>1</td>\n",
       "    </tr>\n",
       "    <tr>\n",
       "      <th>6</th>\n",
       "      <td>2</td>\n",
       "      <td>-8022267440849930066</td>\n",
       "      <td>1</td>\n",
       "      <td>0</td>\n",
       "    </tr>\n",
       "    <tr>\n",
       "      <th>7</th>\n",
       "      <td>2</td>\n",
       "      <td>9112463267739110219</td>\n",
       "      <td>1</td>\n",
       "      <td>0</td>\n",
       "    </tr>\n",
       "    <tr>\n",
       "      <th>8</th>\n",
       "      <td>2</td>\n",
       "      <td>-3725672010020973973</td>\n",
       "      <td>1</td>\n",
       "      <td>0</td>\n",
       "    </tr>\n",
       "    <tr>\n",
       "      <th>9</th>\n",
       "      <td>2</td>\n",
       "      <td>7167114343576723123</td>\n",
       "      <td>1</td>\n",
       "      <td>1</td>\n",
       "    </tr>\n",
       "  </tbody>\n",
       "</table>\n",
       "</div>"
      ],
      "text/plain": [
       "   event_id               app_id  is_installed  is_active\n",
       "0         2  5927333115845830913             1          1\n",
       "1         2 -5720078949152207372             1          0\n",
       "2         2 -1633887856876571208             1          0\n",
       "3         2  -653184325010919369             1          1\n",
       "4         2  8693964245073640147             1          1\n",
       "5         2  4775896950989639373             1          1\n",
       "6         2 -8022267440849930066             1          0\n",
       "7         2  9112463267739110219             1          0\n",
       "8         2 -3725672010020973973             1          0\n",
       "9         2  7167114343576723123             1          1"
      ]
     },
     "execution_count": 6,
     "metadata": {},
     "output_type": "execute_result"
    }
   ],
   "source": [
    "#First 10 entries of the new DF\n",
    "dfappevent.head(10)"
   ]
  },
  {
   "cell_type": "code",
   "execution_count": 7,
   "metadata": {
    "colab": {
     "base_uri": "https://localhost:8080/"
    },
    "id": "5CBfs9Xs8q8J",
    "outputId": "93368604-90ee-4735-fbe7-02cecf01d312"
   },
   "outputs": [
    {
     "name": "stdout",
     "output_type": "stream",
     "text": [
      "<class 'pandas.core.frame.DataFrame'>\n",
      "RangeIndex: 32473067 entries, 0 to 32473066\n",
      "Data columns (total 4 columns):\n",
      " #   Column        Dtype\n",
      "---  ------        -----\n",
      " 0   event_id      int64\n",
      " 1   app_id        int64\n",
      " 2   is_installed  int64\n",
      " 3   is_active     int64\n",
      "dtypes: int64(4)\n",
      "memory usage: 991.0 MB\n"
     ]
    }
   ],
   "source": [
    "#Getting the info of the new DF\n",
    "dfappevent.info()"
   ]
  },
  {
   "cell_type": "code",
   "execution_count": 8,
   "metadata": {
    "colab": {
     "base_uri": "https://localhost:8080/"
    },
    "id": "MIOPoKnu8s_V",
    "outputId": "02b958af-2726-4e4a-8f54-5a49d4af29dd"
   },
   "outputs": [
    {
     "data": {
      "text/plain": [
       "event_id        0\n",
       "app_id          0\n",
       "is_installed    0\n",
       "is_active       0\n",
       "dtype: int64"
      ]
     },
     "execution_count": 8,
     "metadata": {},
     "output_type": "execute_result"
    }
   ],
   "source": [
    "#Validating to see if there are any null entries\n",
    "dfappevent.isnull().sum()"
   ]
  },
  {
   "cell_type": "code",
   "execution_count": 9,
   "metadata": {
    "id": "XzwGY-oN83eg"
   },
   "outputs": [],
   "source": [
    "#Ensuring that app_id has absolute values\n",
    "dfappevent['app_id']=dfappevent.app_id.apply(abs)"
   ]
  },
  {
   "cell_type": "code",
   "execution_count": 10,
   "metadata": {
    "colab": {
     "base_uri": "https://localhost:8080/",
     "height": 362
    },
    "id": "W3fqr0U1-D_v",
    "outputId": "662b76aa-c09b-4f16-ddd6-37bf3b20f234"
   },
   "outputs": [
    {
     "data": {
      "text/html": [
       "<div>\n",
       "<style scoped>\n",
       "    .dataframe tbody tr th:only-of-type {\n",
       "        vertical-align: middle;\n",
       "    }\n",
       "\n",
       "    .dataframe tbody tr th {\n",
       "        vertical-align: top;\n",
       "    }\n",
       "\n",
       "    .dataframe thead th {\n",
       "        text-align: right;\n",
       "    }\n",
       "</style>\n",
       "<table border=\"1\" class=\"dataframe\">\n",
       "  <thead>\n",
       "    <tr style=\"text-align: right;\">\n",
       "      <th></th>\n",
       "      <th>event_id</th>\n",
       "      <th>app_id</th>\n",
       "      <th>is_installed</th>\n",
       "      <th>is_active</th>\n",
       "    </tr>\n",
       "  </thead>\n",
       "  <tbody>\n",
       "    <tr>\n",
       "      <th>0</th>\n",
       "      <td>2</td>\n",
       "      <td>5927333115845830913</td>\n",
       "      <td>1</td>\n",
       "      <td>1</td>\n",
       "    </tr>\n",
       "    <tr>\n",
       "      <th>1</th>\n",
       "      <td>2</td>\n",
       "      <td>5720078949152207372</td>\n",
       "      <td>1</td>\n",
       "      <td>0</td>\n",
       "    </tr>\n",
       "    <tr>\n",
       "      <th>2</th>\n",
       "      <td>2</td>\n",
       "      <td>1633887856876571208</td>\n",
       "      <td>1</td>\n",
       "      <td>0</td>\n",
       "    </tr>\n",
       "    <tr>\n",
       "      <th>3</th>\n",
       "      <td>2</td>\n",
       "      <td>653184325010919369</td>\n",
       "      <td>1</td>\n",
       "      <td>1</td>\n",
       "    </tr>\n",
       "    <tr>\n",
       "      <th>4</th>\n",
       "      <td>2</td>\n",
       "      <td>8693964245073640147</td>\n",
       "      <td>1</td>\n",
       "      <td>1</td>\n",
       "    </tr>\n",
       "    <tr>\n",
       "      <th>5</th>\n",
       "      <td>2</td>\n",
       "      <td>4775896950989639373</td>\n",
       "      <td>1</td>\n",
       "      <td>1</td>\n",
       "    </tr>\n",
       "    <tr>\n",
       "      <th>6</th>\n",
       "      <td>2</td>\n",
       "      <td>8022267440849930066</td>\n",
       "      <td>1</td>\n",
       "      <td>0</td>\n",
       "    </tr>\n",
       "    <tr>\n",
       "      <th>7</th>\n",
       "      <td>2</td>\n",
       "      <td>9112463267739110219</td>\n",
       "      <td>1</td>\n",
       "      <td>0</td>\n",
       "    </tr>\n",
       "    <tr>\n",
       "      <th>8</th>\n",
       "      <td>2</td>\n",
       "      <td>3725672010020973973</td>\n",
       "      <td>1</td>\n",
       "      <td>0</td>\n",
       "    </tr>\n",
       "    <tr>\n",
       "      <th>9</th>\n",
       "      <td>2</td>\n",
       "      <td>7167114343576723123</td>\n",
       "      <td>1</td>\n",
       "      <td>1</td>\n",
       "    </tr>\n",
       "  </tbody>\n",
       "</table>\n",
       "</div>"
      ],
      "text/plain": [
       "   event_id               app_id  is_installed  is_active\n",
       "0         2  5927333115845830913             1          1\n",
       "1         2  5720078949152207372             1          0\n",
       "2         2  1633887856876571208             1          0\n",
       "3         2   653184325010919369             1          1\n",
       "4         2  8693964245073640147             1          1\n",
       "5         2  4775896950989639373             1          1\n",
       "6         2  8022267440849930066             1          0\n",
       "7         2  9112463267739110219             1          0\n",
       "8         2  3725672010020973973             1          0\n",
       "9         2  7167114343576723123             1          1"
      ]
     },
     "execution_count": 10,
     "metadata": {},
     "output_type": "execute_result"
    }
   ],
   "source": [
    "#Revalidating the entries post above entry\n",
    "dfappevent.head(10)"
   ]
  },
  {
   "cell_type": "code",
   "execution_count": null,
   "metadata": {
    "id": "3s-MfImBfUyy"
   },
   "outputs": [],
   "source": []
  },
  {
   "cell_type": "code",
   "execution_count": 11,
   "metadata": {
    "id": "WVYWwSKYXMLj"
   },
   "outputs": [
    {
     "name": "stderr",
     "output_type": "stream",
     "text": [
      "Skipping line 123004: ',' expected after '\"'\n",
      "Skipping line 123005: ',' expected after '\"'\n",
      "Skipping line 123006: ',' expected after '\"'\n",
      "Skipping line 123007: ',' expected after '\"'\n",
      "Skipping line 123008: ',' expected after '\"'\n",
      "Skipping line 123009: ',' expected after '\"'\n",
      "Skipping line 123010: ',' expected after '\"'\n",
      "Skipping line 123011: ',' expected after '\"'\n",
      "Skipping line 123012: ',' expected after '\"'\n",
      "Skipping line 123013: ',' expected after '\"'\n",
      "Skipping line 123014: field larger than field limit (131072)\n",
      "Skipping line 125799: ',' expected after '\"'\n",
      "Skipping line 125800: ',' expected after '\"'\n",
      "Skipping line 125801: ',' expected after '\"'\n",
      "Skipping line 125802: ',' expected after '\"'\n",
      "Skipping line 125803: ',' expected after '\"'\n",
      "Skipping line 125804: ',' expected after '\"'\n",
      "Skipping line 125805: ',' expected after '\"'\n",
      "Skipping line 125806: field larger than field limit (131072)\n",
      "Skipping line 126210: ',' expected after '\"'\n",
      "Skipping line 126220: ',' expected after '\"'\n",
      "Skipping line 126482: ',' expected after '\"'\n",
      "Skipping line 126860: ',' expected after '\"'\n",
      "Skipping line 126985: ',' expected after '\"'\n",
      "Skipping line 127188: ',' expected after '\"'\n",
      "Skipping line 127202: ',' expected after '\"'\n",
      "Skipping line 127347: ',' expected after '\"'\n",
      "Skipping line 127422: ',' expected after '\"'\n",
      "Skipping line 127432: field larger than field limit (131072)\n",
      "Skipping line 340467: ',' expected after '\"'\n",
      "Skipping line 340468: ',' expected after '\"'\n",
      "Skipping line 340469: ',' expected after '\"'\n",
      "Skipping line 340470: ',' expected after '\"'\n",
      "Skipping line 340471: ',' expected after '\"'\n",
      "Skipping line 340472: ',' expected after '\"'\n",
      "Skipping line 340473: ',' expected after '\"'\n",
      "Skipping line 340474: ',' expected after '\"'\n",
      "Skipping line 340475: ',' expected after '\"'\n",
      "Skipping line 340476: ',' expected after '\"'\n",
      "Skipping line 340477: ',' expected after '\"'\n",
      "Skipping line 340478: ',' expected after '\"'\n",
      "Skipping line 340479: ',' expected after '\"'\n",
      "Skipping line 340480: ',' expected after '\"'\n",
      "Skipping line 340481: ',' expected after '\"'\n",
      "Skipping line 340482: ',' expected after '\"'\n",
      "Skipping line 340483: ',' expected after '\"'\n",
      "Skipping line 340484: ',' expected after '\"'\n",
      "Skipping line 340485: ',' expected after '\"'\n",
      "Skipping line 340486: ',' expected after '\"'\n",
      "Skipping line 340487: ',' expected after '\"'\n",
      "Skipping line 340488: ',' expected after '\"'\n",
      "Skipping line 340489: ',' expected after '\"'\n",
      "Skipping line 340490: ',' expected after '\"'\n",
      "Skipping line 340491: ',' expected after '\"'\n",
      "Skipping line 340492: ',' expected after '\"'\n",
      "Skipping line 340493: ',' expected after '\"'\n",
      "Skipping line 340494: ',' expected after '\"'\n",
      "Skipping line 340495: ',' expected after '\"'\n",
      "Skipping line 340496: ',' expected after '\"'\n",
      "Skipping line 340497: ',' expected after '\"'\n",
      "Skipping line 340498: ',' expected after '\"'\n",
      "Skipping line 340499: ',' expected after '\"'\n",
      "Skipping line 340500: ',' expected after '\"'\n",
      "Skipping line 340501: ',' expected after '\"'\n",
      "Skipping line 340502: ',' expected after '\"'\n",
      "Skipping line 340503: ',' expected after '\"'\n",
      "Skipping line 340504: ',' expected after '\"'\n",
      "Skipping line 340505: ',' expected after '\"'\n",
      "Skipping line 340506: ',' expected after '\"'\n",
      "Skipping line 340507: field larger than field limit (131072)\n",
      "Skipping line 399149: ',' expected after '\"'\n",
      "Skipping line 399150: ',' expected after '\"'\n",
      "Skipping line 399151: ',' expected after '\"'\n",
      "Skipping line 399152: ',' expected after '\"'\n",
      "Skipping line 399153: ',' expected after '\"'\n",
      "Skipping line 399154: ',' expected after '\"'\n",
      "Skipping line 399155: ',' expected after '\"'\n",
      "Skipping line 399156: ',' expected after '\"'\n",
      "Skipping line 399157: ',' expected after '\"'\n",
      "Skipping line 399158: ',' expected after '\"'\n",
      "Skipping line 399159: ',' expected after '\"'\n",
      "Skipping line 399160: ',' expected after '\"'\n",
      "Skipping line 399161: ',' expected after '\"'\n",
      "Skipping line 399162: ',' expected after '\"'\n",
      "Skipping line 399281: ',' expected after '\"'\n",
      "Skipping line 399322: ',' expected after '\"'\n",
      "Skipping line 399333: ',' expected after '\"'\n",
      "Skipping line 399367: ',' expected after '\"'\n",
      "Skipping line 399370: ',' expected after '\"'\n",
      "Skipping line 399387: ',' expected after '\"'\n",
      "Skipping line 399389: ',' expected after '\"'\n",
      "Skipping line 399391: ',' expected after '\"'\n",
      "Skipping line 399410: ',' expected after '\"'\n",
      "Skipping line 399421: ',' expected after '\"'\n",
      "Skipping line 399422: ',' expected after '\"'\n",
      "Skipping line 399427: ',' expected after '\"'\n",
      "Skipping line 399431: field larger than field limit (131072)\n"
     ]
    }
   ],
   "source": [
    "#Reading final_label_data csv file and loading it in a DF\n",
    "dflabeldata = pd.read_csv('s3://capstone-project-sep2021/final_label_data.csv',delimiter=',',names=[\"app_id\",\"category\"], engine='python', error_bad_lines=False)"
   ]
  },
  {
   "cell_type": "code",
   "execution_count": 12,
   "metadata": {
    "colab": {
     "base_uri": "https://localhost:8080/"
    },
    "id": "eppNcOB4swSP",
    "outputId": "f9c6bff4-cf4e-4440-931c-7cb4ddac2166"
   },
   "outputs": [
    {
     "name": "stdout",
     "output_type": "stream",
     "text": [
      "<class 'pandas.core.frame.DataFrame'>\n",
      "RangeIndex: 436835 entries, 0 to 436834\n",
      "Data columns (total 2 columns):\n",
      " #   Column    Non-Null Count   Dtype \n",
      "---  ------    --------------   ----- \n",
      " 0   app_id    436835 non-null  int64 \n",
      " 1   category  436835 non-null  object\n",
      "dtypes: int64(1), object(1)\n",
      "memory usage: 6.7+ MB\n"
     ]
    }
   ],
   "source": [
    "#Getting the info of the new DF\n",
    "dflabeldata.info()"
   ]
  },
  {
   "cell_type": "code",
   "execution_count": 13,
   "metadata": {
    "id": "wsCYTikq_kcU"
   },
   "outputs": [],
   "source": [
    "#Changing the type of the columns\n",
    "dflabeldata['category']=dflabeldata['category'].apply(lambda x : str(x))\n",
    "dflabeldata['app_id']=dflabeldata.app_id.apply(abs)"
   ]
  },
  {
   "cell_type": "code",
   "execution_count": 14,
   "metadata": {
    "colab": {
     "base_uri": "https://localhost:8080/"
    },
    "id": "xWXmpomv_4DZ",
    "outputId": "bae2db69-a597-4d41-e8e8-ec96f2ee2ce7"
   },
   "outputs": [
    {
     "name": "stdout",
     "output_type": "stream",
     "text": [
      "<class 'pandas.core.frame.DataFrame'>\n",
      "RangeIndex: 436835 entries, 0 to 436834\n",
      "Data columns (total 2 columns):\n",
      " #   Column    Non-Null Count   Dtype \n",
      "---  ------    --------------   ----- \n",
      " 0   app_id    436835 non-null  int64 \n",
      " 1   category  436835 non-null  object\n",
      "dtypes: int64(1), object(1)\n",
      "memory usage: 6.7+ MB\n"
     ]
    }
   ],
   "source": [
    "#Getting the info of the new DF\n",
    "dflabeldata.info()"
   ]
  },
  {
   "cell_type": "code",
   "execution_count": null,
   "metadata": {
    "id": "mvjyuCePfXVf"
   },
   "outputs": [],
   "source": []
  },
  {
   "cell_type": "code",
   "execution_count": 15,
   "metadata": {
    "id": "IRduFbnA-Ndp"
   },
   "outputs": [],
   "source": [
    "#Reading final_events_data csv file and loading it in a DF\n",
    "dfeventdata=pd.read_csv('s3://capstone-project-sep2021/final_event_data.csv',delimiter=',', names= [\"device_id\",'gender','age','age_group',\"event_id\",\"timestamp\",'longitude','latitude'])"
   ]
  },
  {
   "cell_type": "code",
   "execution_count": 16,
   "metadata": {
    "colab": {
     "base_uri": "https://localhost:8080/",
     "height": 362
    },
    "id": "--VnX8W6AiWm",
    "outputId": "1d7f6456-bfd0-4953-9a5c-90749aab5646"
   },
   "outputs": [
    {
     "data": {
      "text/html": [
       "<div>\n",
       "<style scoped>\n",
       "    .dataframe tbody tr th:only-of-type {\n",
       "        vertical-align: middle;\n",
       "    }\n",
       "\n",
       "    .dataframe tbody tr th {\n",
       "        vertical-align: top;\n",
       "    }\n",
       "\n",
       "    .dataframe thead th {\n",
       "        text-align: right;\n",
       "    }\n",
       "</style>\n",
       "<table border=\"1\" class=\"dataframe\">\n",
       "  <thead>\n",
       "    <tr style=\"text-align: right;\">\n",
       "      <th></th>\n",
       "      <th>device_id</th>\n",
       "      <th>gender</th>\n",
       "      <th>age</th>\n",
       "      <th>age_group</th>\n",
       "      <th>event_id</th>\n",
       "      <th>timestamp</th>\n",
       "      <th>longitude</th>\n",
       "      <th>latitude</th>\n",
       "    </tr>\n",
       "  </thead>\n",
       "  <tbody>\n",
       "    <tr>\n",
       "      <th>0</th>\n",
       "      <td>-9223067244542180000</td>\n",
       "      <td>M</td>\n",
       "      <td>24</td>\n",
       "      <td>M0-24</td>\n",
       "      <td>\\N</td>\n",
       "      <td>\\N</td>\n",
       "      <td>\\N</td>\n",
       "      <td>\\N</td>\n",
       "    </tr>\n",
       "    <tr>\n",
       "      <th>1</th>\n",
       "      <td>-9222956879900150000</td>\n",
       "      <td>M</td>\n",
       "      <td>36</td>\n",
       "      <td>M32+</td>\n",
       "      <td>11281</td>\n",
       "      <td>2016-05-07 11:36:04</td>\n",
       "      <td>0.0</td>\n",
       "      <td>0.0</td>\n",
       "    </tr>\n",
       "    <tr>\n",
       "      <th>2</th>\n",
       "      <td>-9222956879900150000</td>\n",
       "      <td>M</td>\n",
       "      <td>36</td>\n",
       "      <td>M32+</td>\n",
       "      <td>12679</td>\n",
       "      <td>2016-05-07 12:18:35</td>\n",
       "      <td>113.24</td>\n",
       "      <td>23.19</td>\n",
       "    </tr>\n",
       "    <tr>\n",
       "      <th>3</th>\n",
       "      <td>-9222956879900150000</td>\n",
       "      <td>M</td>\n",
       "      <td>36</td>\n",
       "      <td>M32+</td>\n",
       "      <td>49383</td>\n",
       "      <td>2016-05-07 15:44:45</td>\n",
       "      <td>0.0</td>\n",
       "      <td>0.0</td>\n",
       "    </tr>\n",
       "    <tr>\n",
       "      <th>4</th>\n",
       "      <td>-9222956879900150000</td>\n",
       "      <td>M</td>\n",
       "      <td>36</td>\n",
       "      <td>M32+</td>\n",
       "      <td>131849</td>\n",
       "      <td>2016-05-07 12:06:35</td>\n",
       "      <td>113.24</td>\n",
       "      <td>23.19</td>\n",
       "    </tr>\n",
       "    <tr>\n",
       "      <th>5</th>\n",
       "      <td>-9222956879900150000</td>\n",
       "      <td>M</td>\n",
       "      <td>36</td>\n",
       "      <td>M32+</td>\n",
       "      <td>205471</td>\n",
       "      <td>2016-05-06 15:36:46</td>\n",
       "      <td>113.24</td>\n",
       "      <td>23.19</td>\n",
       "    </tr>\n",
       "    <tr>\n",
       "      <th>6</th>\n",
       "      <td>-9222956879900150000</td>\n",
       "      <td>M</td>\n",
       "      <td>36</td>\n",
       "      <td>M32+</td>\n",
       "      <td>211711</td>\n",
       "      <td>2016-05-06 21:26:14</td>\n",
       "      <td>113.24</td>\n",
       "      <td>23.19</td>\n",
       "    </tr>\n",
       "    <tr>\n",
       "      <th>7</th>\n",
       "      <td>-9222956879900150000</td>\n",
       "      <td>M</td>\n",
       "      <td>36</td>\n",
       "      <td>M32+</td>\n",
       "      <td>229069</td>\n",
       "      <td>2016-05-06 15:34:19</td>\n",
       "      <td>113.24</td>\n",
       "      <td>23.19</td>\n",
       "    </tr>\n",
       "    <tr>\n",
       "      <th>8</th>\n",
       "      <td>-9222956879900150000</td>\n",
       "      <td>M</td>\n",
       "      <td>36</td>\n",
       "      <td>M32+</td>\n",
       "      <td>229087</td>\n",
       "      <td>2016-05-06 15:33:50</td>\n",
       "      <td>113.24</td>\n",
       "      <td>23.19</td>\n",
       "    </tr>\n",
       "    <tr>\n",
       "      <th>9</th>\n",
       "      <td>-9222956879900150000</td>\n",
       "      <td>M</td>\n",
       "      <td>36</td>\n",
       "      <td>M32+</td>\n",
       "      <td>289564</td>\n",
       "      <td>2016-05-06 21:26:44</td>\n",
       "      <td>113.24</td>\n",
       "      <td>23.19</td>\n",
       "    </tr>\n",
       "  </tbody>\n",
       "</table>\n",
       "</div>"
      ],
      "text/plain": [
       "             device_id gender  age age_group event_id            timestamp  \\\n",
       "0 -9223067244542180000      M   24     M0-24       \\N                   \\N   \n",
       "1 -9222956879900150000      M   36      M32+    11281  2016-05-07 11:36:04   \n",
       "2 -9222956879900150000      M   36      M32+    12679  2016-05-07 12:18:35   \n",
       "3 -9222956879900150000      M   36      M32+    49383  2016-05-07 15:44:45   \n",
       "4 -9222956879900150000      M   36      M32+   131849  2016-05-07 12:06:35   \n",
       "5 -9222956879900150000      M   36      M32+   205471  2016-05-06 15:36:46   \n",
       "6 -9222956879900150000      M   36      M32+   211711  2016-05-06 21:26:14   \n",
       "7 -9222956879900150000      M   36      M32+   229069  2016-05-06 15:34:19   \n",
       "8 -9222956879900150000      M   36      M32+   229087  2016-05-06 15:33:50   \n",
       "9 -9222956879900150000      M   36      M32+   289564  2016-05-06 21:26:44   \n",
       "\n",
       "  longitude latitude  \n",
       "0        \\N       \\N  \n",
       "1       0.0      0.0  \n",
       "2    113.24    23.19  \n",
       "3       0.0      0.0  \n",
       "4    113.24    23.19  \n",
       "5    113.24    23.19  \n",
       "6    113.24    23.19  \n",
       "7    113.24    23.19  \n",
       "8    113.24    23.19  \n",
       "9    113.24    23.19  "
      ]
     },
     "execution_count": 16,
     "metadata": {},
     "output_type": "execute_result"
    }
   ],
   "source": [
    "#First 10 entries of the new DF\n",
    "dfeventdata.head(10)"
   ]
  },
  {
   "cell_type": "code",
   "execution_count": 17,
   "metadata": {
    "colab": {
     "base_uri": "https://localhost:8080/"
    },
    "id": "Jan5iSiFAmLM",
    "outputId": "2d45bc96-56f2-4e6a-eb68-db1c40791588"
   },
   "outputs": [
    {
     "name": "stdout",
     "output_type": "stream",
     "text": [
      "<class 'pandas.core.frame.DataFrame'>\n",
      "RangeIndex: 1266933 entries, 0 to 1266932\n",
      "Data columns (total 8 columns):\n",
      " #   Column     Non-Null Count    Dtype \n",
      "---  ------     --------------    ----- \n",
      " 0   device_id  1266933 non-null  int64 \n",
      " 1   gender     1266933 non-null  object\n",
      " 2   age        1266933 non-null  int64 \n",
      " 3   age_group  1266933 non-null  object\n",
      " 4   event_id   1266933 non-null  object\n",
      " 5   timestamp  1266933 non-null  object\n",
      " 6   longitude  1266933 non-null  object\n",
      " 7   latitude   1266933 non-null  object\n",
      "dtypes: int64(2), object(6)\n",
      "memory usage: 77.3+ MB\n"
     ]
    }
   ],
   "source": [
    "#Getting the info of the new DF\n",
    "dfeventdata.info()"
   ]
  },
  {
   "cell_type": "code",
   "execution_count": 18,
   "metadata": {
    "id": "g3hCmeqN6ezQ"
   },
   "outputs": [],
   "source": [
    "#Changing the type of the columns\n",
    "dfeventdata[\"event_id\"]=dfeventdata[\"event_id\"].str.replace(\"\\\\\",\"\",)\n",
    "dfeventdata[\"timestamp\"]=dfeventdata[\"timestamp\"].str.replace(\"\\\\\",\"\",)\n",
    "dfeventdata[\"longitude\"]=dfeventdata[\"longitude\"].str.replace(\"\\\\\",\"\",)\n",
    "dfeventdata[\"latitude\"]=dfeventdata[\"latitude\"].str.replace(\"\\\\\",\"\",)\n",
    "\n",
    "dfeventdata[\"event_id\"]=dfeventdata[\"event_id\"].str.replace(\"N\",\"0\",)\n",
    "dfeventdata[\"timestamp\"]=dfeventdata[\"timestamp\"].str.replace(\"N\",\"2021-05-05 00:00:00\",)\n",
    "dfeventdata[\"longitude\"]=dfeventdata[\"longitude\"].str.replace(\"N\",\"0\",)\n",
    "dfeventdata[\"latitude\"]=dfeventdata[\"latitude\"].str.replace(\"N\",\"0\",)"
   ]
  },
  {
   "cell_type": "code",
   "execution_count": 19,
   "metadata": {
    "id": "trDNMbjI67Rr"
   },
   "outputs": [],
   "source": [
    "#Change datatypes to required datatype format.\n",
    "dfeventdata['device_id']=dfeventdata['device_id'].apply(abs)\n",
    "dfeventdata['timestamp']=pd.to_datetime(dfeventdata['timestamp'])\n",
    "dfeventdata[\"longitude\"]=dfeventdata[\"longitude\"].astype(float)\n",
    "dfeventdata[\"latitude\"]=dfeventdata[\"latitude\"].astype(float)\n",
    "dfeventdata['event_id']=dfeventdata[\"event_id\"].astype(int)\n",
    "dfeventdata['gender']=dfeventdata[\"gender\"].astype(\"string\")\n",
    "dfeventdata['age_group']=dfeventdata[\"age_group\"].astype(\"string\")"
   ]
  },
  {
   "cell_type": "code",
   "execution_count": 20,
   "metadata": {
    "colab": {
     "base_uri": "https://localhost:8080/"
    },
    "id": "a15VlqcL7FwA",
    "outputId": "b1bdd715-cc96-4eda-f0e8-d1034ef3b819"
   },
   "outputs": [
    {
     "name": "stdout",
     "output_type": "stream",
     "text": [
      "<class 'pandas.core.frame.DataFrame'>\n",
      "RangeIndex: 1266933 entries, 0 to 1266932\n",
      "Data columns (total 8 columns):\n",
      " #   Column     Non-Null Count    Dtype         \n",
      "---  ------     --------------    -----         \n",
      " 0   device_id  1266933 non-null  int64         \n",
      " 1   gender     1266933 non-null  string        \n",
      " 2   age        1266933 non-null  int64         \n",
      " 3   age_group  1266933 non-null  string        \n",
      " 4   event_id   1266933 non-null  int64         \n",
      " 5   timestamp  1266933 non-null  datetime64[ns]\n",
      " 6   longitude  1266933 non-null  float64       \n",
      " 7   latitude   1266933 non-null  float64       \n",
      "dtypes: datetime64[ns](1), float64(2), int64(3), string(2)\n",
      "memory usage: 77.3 MB\n"
     ]
    }
   ],
   "source": [
    "#Getting the info of the new DF\n",
    "dfeventdata.info()"
   ]
  },
  {
   "cell_type": "code",
   "execution_count": 21,
   "metadata": {
    "colab": {
     "base_uri": "https://localhost:8080/",
     "height": 299
    },
    "id": "iy-Q5YpSI1Yq",
    "outputId": "6f06e985-f693-4c01-bf22-910be55648ba"
   },
   "outputs": [
    {
     "data": {
      "text/html": [
       "<div>\n",
       "<style scoped>\n",
       "    .dataframe tbody tr th:only-of-type {\n",
       "        vertical-align: middle;\n",
       "    }\n",
       "\n",
       "    .dataframe tbody tr th {\n",
       "        vertical-align: top;\n",
       "    }\n",
       "\n",
       "    .dataframe thead th {\n",
       "        text-align: right;\n",
       "    }\n",
       "</style>\n",
       "<table border=\"1\" class=\"dataframe\">\n",
       "  <thead>\n",
       "    <tr style=\"text-align: right;\">\n",
       "      <th></th>\n",
       "      <th>device_id</th>\n",
       "      <th>age</th>\n",
       "      <th>event_id</th>\n",
       "      <th>longitude</th>\n",
       "      <th>latitude</th>\n",
       "    </tr>\n",
       "  </thead>\n",
       "  <tbody>\n",
       "    <tr>\n",
       "      <th>count</th>\n",
       "      <td>1.266933e+06</td>\n",
       "      <td>1.266933e+06</td>\n",
       "      <td>1.266933e+06</td>\n",
       "      <td>1.266933e+06</td>\n",
       "      <td>1.266933e+06</td>\n",
       "    </tr>\n",
       "    <tr>\n",
       "      <th>mean</th>\n",
       "      <td>4.634877e+18</td>\n",
       "      <td>3.340051e+01</td>\n",
       "      <td>1.560763e+06</td>\n",
       "      <td>7.521735e+01</td>\n",
       "      <td>2.094308e+01</td>\n",
       "    </tr>\n",
       "    <tr>\n",
       "      <th>std</th>\n",
       "      <td>2.617042e+18</td>\n",
       "      <td>9.762003e+00</td>\n",
       "      <td>9.747112e+05</td>\n",
       "      <td>5.493059e+01</td>\n",
       "      <td>1.592072e+01</td>\n",
       "    </tr>\n",
       "    <tr>\n",
       "      <th>min</th>\n",
       "      <td>5.036611e+13</td>\n",
       "      <td>1.000000e+00</td>\n",
       "      <td>0.000000e+00</td>\n",
       "      <td>-1.800000e+02</td>\n",
       "      <td>-3.380000e+01</td>\n",
       "    </tr>\n",
       "    <tr>\n",
       "      <th>25%</th>\n",
       "      <td>2.400791e+18</td>\n",
       "      <td>2.600000e+01</td>\n",
       "      <td>7.091030e+05</td>\n",
       "      <td>0.000000e+00</td>\n",
       "      <td>0.000000e+00</td>\n",
       "    </tr>\n",
       "    <tr>\n",
       "      <th>50%</th>\n",
       "      <td>4.645192e+18</td>\n",
       "      <td>3.100000e+01</td>\n",
       "      <td>1.557841e+06</td>\n",
       "      <td>1.122600e+02</td>\n",
       "      <td>2.782000e+01</td>\n",
       "    </tr>\n",
       "    <tr>\n",
       "      <th>75%</th>\n",
       "      <td>6.854440e+18</td>\n",
       "      <td>3.900000e+01</td>\n",
       "      <td>2.405959e+06</td>\n",
       "      <td>1.170400e+02</td>\n",
       "      <td>3.305000e+01</td>\n",
       "    </tr>\n",
       "    <tr>\n",
       "      <th>max</th>\n",
       "      <td>9.223067e+18</td>\n",
       "      <td>9.600000e+01</td>\n",
       "      <td>3.252948e+06</td>\n",
       "      <td>1.511800e+02</td>\n",
       "      <td>5.364000e+01</td>\n",
       "    </tr>\n",
       "  </tbody>\n",
       "</table>\n",
       "</div>"
      ],
      "text/plain": [
       "          device_id           age      event_id     longitude      latitude\n",
       "count  1.266933e+06  1.266933e+06  1.266933e+06  1.266933e+06  1.266933e+06\n",
       "mean   4.634877e+18  3.340051e+01  1.560763e+06  7.521735e+01  2.094308e+01\n",
       "std    2.617042e+18  9.762003e+00  9.747112e+05  5.493059e+01  1.592072e+01\n",
       "min    5.036611e+13  1.000000e+00  0.000000e+00 -1.800000e+02 -3.380000e+01\n",
       "25%    2.400791e+18  2.600000e+01  7.091030e+05  0.000000e+00  0.000000e+00\n",
       "50%    4.645192e+18  3.100000e+01  1.557841e+06  1.122600e+02  2.782000e+01\n",
       "75%    6.854440e+18  3.900000e+01  2.405959e+06  1.170400e+02  3.305000e+01\n",
       "max    9.223067e+18  9.600000e+01  3.252948e+06  1.511800e+02  5.364000e+01"
      ]
     },
     "execution_count": 21,
     "metadata": {},
     "output_type": "execute_result"
    }
   ],
   "source": [
    "#Calculating the Values\n",
    "dfeventdata.describe()"
   ]
  },
  {
   "cell_type": "code",
   "execution_count": 22,
   "metadata": {
    "colab": {
     "base_uri": "https://localhost:8080/"
    },
    "id": "bGH-qFoiJQ2R",
    "outputId": "6083df6a-bd0e-4ade-e5cf-6c33d0fbcf1f"
   },
   "outputs": [
    {
     "data": {
      "text/plain": [
       "count    1.266933e+06\n",
       "mean     7.521735e+01\n",
       "std      5.493059e+01\n",
       "min     -1.800000e+02\n",
       "25%      0.000000e+00\n",
       "50%      1.122600e+02\n",
       "75%      1.170400e+02\n",
       "max      1.511800e+02\n",
       "Name: longitude, dtype: float64"
      ]
     },
     "execution_count": 22,
     "metadata": {},
     "output_type": "execute_result"
    }
   ],
   "source": [
    "#Validating longitude values.  longitude should be between -180 to 180\n",
    "dfeventdata.longitude.describe()"
   ]
  },
  {
   "cell_type": "code",
   "execution_count": 23,
   "metadata": {
    "colab": {
     "base_uri": "https://localhost:8080/"
    },
    "id": "uYJYYVOgL2Jo",
    "outputId": "30763eea-001c-4eee-a598-7abdb9faab91"
   },
   "outputs": [
    {
     "data": {
      "text/plain": [
       "count    1.266933e+06\n",
       "mean     2.094308e+01\n",
       "std      1.592072e+01\n",
       "min     -3.380000e+01\n",
       "25%      0.000000e+00\n",
       "50%      2.782000e+01\n",
       "75%      3.305000e+01\n",
       "max      5.364000e+01\n",
       "Name: latitude, dtype: float64"
      ]
     },
     "execution_count": 23,
     "metadata": {},
     "output_type": "execute_result"
    }
   ],
   "source": [
    "#Validating latitude values.  latitude should be between -90 to 90\n",
    "dfeventdata.latitude.describe()"
   ]
  },
  {
   "cell_type": "code",
   "execution_count": null,
   "metadata": {
    "id": "PZPzbdOatyEm"
   },
   "outputs": [],
   "source": []
  },
  {
   "cell_type": "code",
   "execution_count": 24,
   "metadata": {
    "id": "4s2aAy2oMEyM"
   },
   "outputs": [],
   "source": [
    "#Reading final_non_event_data csv file and loading it in a DF\n",
    "dfnoneventdata=pd.read_csv('s3://capstone-project-sep2021/final_non_event_data.csv',delimiter=',', names= [\"device_id\",\"gender\",'age',\"age_group\",\"device_brand\",\"phone_brand\"], encoding='utf-8')"
   ]
  },
  {
   "cell_type": "code",
   "execution_count": 25,
   "metadata": {
    "colab": {
     "base_uri": "https://localhost:8080/"
    },
    "id": "AkkeI9T4XTLQ",
    "outputId": "1523b8f6-9e74-447b-bd37-5b9a329f55f1"
   },
   "outputs": [
    {
     "name": "stdout",
     "output_type": "stream",
     "text": [
      "<class 'pandas.core.frame.DataFrame'>\n",
      "RangeIndex: 74646 entries, 0 to 74645\n",
      "Data columns (total 6 columns):\n",
      " #   Column        Non-Null Count  Dtype \n",
      "---  ------        --------------  ----- \n",
      " 0   device_id     74646 non-null  int64 \n",
      " 1   gender        74646 non-null  object\n",
      " 2   age           74646 non-null  int64 \n",
      " 3   age_group     74646 non-null  object\n",
      " 4   device_brand  74646 non-null  object\n",
      " 5   phone_brand   74646 non-null  object\n",
      "dtypes: int64(2), object(4)\n",
      "memory usage: 3.4+ MB\n"
     ]
    }
   ],
   "source": [
    "#Getting the info of the new DF\n",
    "dfnoneventdata.info()"
   ]
  },
  {
   "cell_type": "code",
   "execution_count": 26,
   "metadata": {
    "colab": {
     "base_uri": "https://localhost:8080/",
     "height": 362
    },
    "id": "IC3aBx1vCXPm",
    "outputId": "08080dac-7063-4cab-a58f-7fdbe9780ec8"
   },
   "outputs": [
    {
     "data": {
      "text/html": [
       "<div>\n",
       "<style scoped>\n",
       "    .dataframe tbody tr th:only-of-type {\n",
       "        vertical-align: middle;\n",
       "    }\n",
       "\n",
       "    .dataframe tbody tr th {\n",
       "        vertical-align: top;\n",
       "    }\n",
       "\n",
       "    .dataframe thead th {\n",
       "        text-align: right;\n",
       "    }\n",
       "</style>\n",
       "<table border=\"1\" class=\"dataframe\">\n",
       "  <thead>\n",
       "    <tr style=\"text-align: right;\">\n",
       "      <th></th>\n",
       "      <th>device_id</th>\n",
       "      <th>gender</th>\n",
       "      <th>age</th>\n",
       "      <th>age_group</th>\n",
       "      <th>device_brand</th>\n",
       "      <th>phone_brand</th>\n",
       "    </tr>\n",
       "  </thead>\n",
       "  <tbody>\n",
       "    <tr>\n",
       "      <th>0</th>\n",
       "      <td>-9223067244542180000</td>\n",
       "      <td>M</td>\n",
       "      <td>24</td>\n",
       "      <td>M0-24</td>\n",
       "      <td>vivo</td>\n",
       "      <td>Y19T</td>\n",
       "    </tr>\n",
       "    <tr>\n",
       "      <th>1</th>\n",
       "      <td>-9222956879900150000</td>\n",
       "      <td>M</td>\n",
       "      <td>36</td>\n",
       "      <td>M32+</td>\n",
       "      <td>samsung</td>\n",
       "      <td>Galaxy Note 2</td>\n",
       "    </tr>\n",
       "    <tr>\n",
       "      <th>2</th>\n",
       "      <td>-9222754701995930000</td>\n",
       "      <td>M</td>\n",
       "      <td>29</td>\n",
       "      <td>M25-32</td>\n",
       "      <td>Coolpad</td>\n",
       "      <td>8730L</td>\n",
       "    </tr>\n",
       "    <tr>\n",
       "      <th>3</th>\n",
       "      <td>-9222352239947200000</td>\n",
       "      <td>M</td>\n",
       "      <td>23</td>\n",
       "      <td>M0-24</td>\n",
       "      <td>Xiaomi</td>\n",
       "      <td>xnote11</td>\n",
       "    </tr>\n",
       "    <tr>\n",
       "      <th>4</th>\n",
       "      <td>-9222173362545970000</td>\n",
       "      <td>F</td>\n",
       "      <td>56</td>\n",
       "      <td>F32+</td>\n",
       "      <td>samsung</td>\n",
       "      <td>Galaxy Note 2</td>\n",
       "    </tr>\n",
       "    <tr>\n",
       "      <th>5</th>\n",
       "      <td>-9221639938103560000</td>\n",
       "      <td>F</td>\n",
       "      <td>27</td>\n",
       "      <td>F25-32</td>\n",
       "      <td>Xiaomi</td>\n",
       "      <td>xnote2</td>\n",
       "    </tr>\n",
       "    <tr>\n",
       "      <th>6</th>\n",
       "      <td>-9221307795397200000</td>\n",
       "      <td>M</td>\n",
       "      <td>33</td>\n",
       "      <td>M32+</td>\n",
       "      <td>Coolpad</td>\n",
       "      <td>900tr2123</td>\n",
       "    </tr>\n",
       "    <tr>\n",
       "      <th>7</th>\n",
       "      <td>-9221086586254640000</td>\n",
       "      <td>M</td>\n",
       "      <td>29</td>\n",
       "      <td>M25-32</td>\n",
       "      <td>Xiaomi</td>\n",
       "      <td>x11S</td>\n",
       "    </tr>\n",
       "    <tr>\n",
       "      <th>8</th>\n",
       "      <td>-9221066489596330000</td>\n",
       "      <td>M</td>\n",
       "      <td>31</td>\n",
       "      <td>M25-32</td>\n",
       "      <td>lenovo</td>\n",
       "      <td>K860i</td>\n",
       "    </tr>\n",
       "    <tr>\n",
       "      <th>9</th>\n",
       "      <td>-9221046405740900000</td>\n",
       "      <td>M</td>\n",
       "      <td>38</td>\n",
       "      <td>M32+</td>\n",
       "      <td>Huawei</td>\n",
       "      <td>G510</td>\n",
       "    </tr>\n",
       "  </tbody>\n",
       "</table>\n",
       "</div>"
      ],
      "text/plain": [
       "             device_id gender  age age_group device_brand    phone_brand\n",
       "0 -9223067244542180000      M   24     M0-24         vivo           Y19T\n",
       "1 -9222956879900150000      M   36      M32+      samsung  Galaxy Note 2\n",
       "2 -9222754701995930000      M   29    M25-32      Coolpad          8730L\n",
       "3 -9222352239947200000      M   23     M0-24       Xiaomi        xnote11\n",
       "4 -9222173362545970000      F   56      F32+      samsung  Galaxy Note 2\n",
       "5 -9221639938103560000      F   27    F25-32       Xiaomi         xnote2\n",
       "6 -9221307795397200000      M   33      M32+      Coolpad      900tr2123\n",
       "7 -9221086586254640000      M   29    M25-32       Xiaomi           x11S\n",
       "8 -9221066489596330000      M   31    M25-32       lenovo          K860i\n",
       "9 -9221046405740900000      M   38      M32+       Huawei           G510"
      ]
     },
     "execution_count": 26,
     "metadata": {},
     "output_type": "execute_result"
    }
   ],
   "source": [
    "#First 10 entries of the new DF\n",
    "dfnoneventdata.head(10)"
   ]
  },
  {
   "cell_type": "code",
   "execution_count": 27,
   "metadata": {
    "id": "3-xRIwfUXx0K"
   },
   "outputs": [],
   "source": [
    "#Change datatypes to required datatype format\n",
    "dfnoneventdata['device_id']=dfnoneventdata['device_id'].apply(abs)\n",
    "dfnoneventdata['device_brand']=dfnoneventdata[\"device_brand\"].astype(\"str\")\n",
    "dfnoneventdata['gender']=dfnoneventdata[\"gender\"].astype(\"str\")\n",
    "dfnoneventdata['phone_brand']=dfnoneventdata.phone_brand.str.replace(r'[^\\x00-\\x7F]+', '')"
   ]
  },
  {
   "cell_type": "code",
   "execution_count": 28,
   "metadata": {
    "colab": {
     "base_uri": "https://localhost:8080/",
     "height": 362
    },
    "id": "6mvUo3slCOut",
    "outputId": "d8ada25c-0c70-4fd2-8d23-f27be01118fa"
   },
   "outputs": [
    {
     "data": {
      "text/html": [
       "<div>\n",
       "<style scoped>\n",
       "    .dataframe tbody tr th:only-of-type {\n",
       "        vertical-align: middle;\n",
       "    }\n",
       "\n",
       "    .dataframe tbody tr th {\n",
       "        vertical-align: top;\n",
       "    }\n",
       "\n",
       "    .dataframe thead th {\n",
       "        text-align: right;\n",
       "    }\n",
       "</style>\n",
       "<table border=\"1\" class=\"dataframe\">\n",
       "  <thead>\n",
       "    <tr style=\"text-align: right;\">\n",
       "      <th></th>\n",
       "      <th>device_id</th>\n",
       "      <th>gender</th>\n",
       "      <th>age</th>\n",
       "      <th>age_group</th>\n",
       "      <th>device_brand</th>\n",
       "      <th>phone_brand</th>\n",
       "    </tr>\n",
       "  </thead>\n",
       "  <tbody>\n",
       "    <tr>\n",
       "      <th>0</th>\n",
       "      <td>9223067244542180000</td>\n",
       "      <td>M</td>\n",
       "      <td>24</td>\n",
       "      <td>M0-24</td>\n",
       "      <td>vivo</td>\n",
       "      <td>Y19T</td>\n",
       "    </tr>\n",
       "    <tr>\n",
       "      <th>1</th>\n",
       "      <td>9222956879900150000</td>\n",
       "      <td>M</td>\n",
       "      <td>36</td>\n",
       "      <td>M32+</td>\n",
       "      <td>samsung</td>\n",
       "      <td>Galaxy Note 2</td>\n",
       "    </tr>\n",
       "    <tr>\n",
       "      <th>2</th>\n",
       "      <td>9222754701995930000</td>\n",
       "      <td>M</td>\n",
       "      <td>29</td>\n",
       "      <td>M25-32</td>\n",
       "      <td>Coolpad</td>\n",
       "      <td>8730L</td>\n",
       "    </tr>\n",
       "    <tr>\n",
       "      <th>3</th>\n",
       "      <td>9222352239947200000</td>\n",
       "      <td>M</td>\n",
       "      <td>23</td>\n",
       "      <td>M0-24</td>\n",
       "      <td>Xiaomi</td>\n",
       "      <td>xnote11</td>\n",
       "    </tr>\n",
       "    <tr>\n",
       "      <th>4</th>\n",
       "      <td>9222173362545970000</td>\n",
       "      <td>F</td>\n",
       "      <td>56</td>\n",
       "      <td>F32+</td>\n",
       "      <td>samsung</td>\n",
       "      <td>Galaxy Note 2</td>\n",
       "    </tr>\n",
       "    <tr>\n",
       "      <th>5</th>\n",
       "      <td>9221639938103560000</td>\n",
       "      <td>F</td>\n",
       "      <td>27</td>\n",
       "      <td>F25-32</td>\n",
       "      <td>Xiaomi</td>\n",
       "      <td>xnote2</td>\n",
       "    </tr>\n",
       "    <tr>\n",
       "      <th>6</th>\n",
       "      <td>9221307795397200000</td>\n",
       "      <td>M</td>\n",
       "      <td>33</td>\n",
       "      <td>M32+</td>\n",
       "      <td>Coolpad</td>\n",
       "      <td>900tr2123</td>\n",
       "    </tr>\n",
       "    <tr>\n",
       "      <th>7</th>\n",
       "      <td>9221086586254640000</td>\n",
       "      <td>M</td>\n",
       "      <td>29</td>\n",
       "      <td>M25-32</td>\n",
       "      <td>Xiaomi</td>\n",
       "      <td>x11S</td>\n",
       "    </tr>\n",
       "    <tr>\n",
       "      <th>8</th>\n",
       "      <td>9221066489596330000</td>\n",
       "      <td>M</td>\n",
       "      <td>31</td>\n",
       "      <td>M25-32</td>\n",
       "      <td>lenovo</td>\n",
       "      <td>K860i</td>\n",
       "    </tr>\n",
       "    <tr>\n",
       "      <th>9</th>\n",
       "      <td>9221046405740900000</td>\n",
       "      <td>M</td>\n",
       "      <td>38</td>\n",
       "      <td>M32+</td>\n",
       "      <td>Huawei</td>\n",
       "      <td>G510</td>\n",
       "    </tr>\n",
       "  </tbody>\n",
       "</table>\n",
       "</div>"
      ],
      "text/plain": [
       "             device_id gender  age age_group device_brand    phone_brand\n",
       "0  9223067244542180000      M   24     M0-24         vivo           Y19T\n",
       "1  9222956879900150000      M   36      M32+      samsung  Galaxy Note 2\n",
       "2  9222754701995930000      M   29    M25-32      Coolpad          8730L\n",
       "3  9222352239947200000      M   23     M0-24       Xiaomi        xnote11\n",
       "4  9222173362545970000      F   56      F32+      samsung  Galaxy Note 2\n",
       "5  9221639938103560000      F   27    F25-32       Xiaomi         xnote2\n",
       "6  9221307795397200000      M   33      M32+      Coolpad      900tr2123\n",
       "7  9221086586254640000      M   29    M25-32       Xiaomi           x11S\n",
       "8  9221066489596330000      M   31    M25-32       lenovo          K860i\n",
       "9  9221046405740900000      M   38      M32+       Huawei           G510"
      ]
     },
     "execution_count": 28,
     "metadata": {},
     "output_type": "execute_result"
    }
   ],
   "source": [
    "#First 10 entries of the new DF\n",
    "dfnoneventdata.head(10)"
   ]
  },
  {
   "cell_type": "code",
   "execution_count": null,
   "metadata": {
    "id": "r5loQxK1t6xC"
   },
   "outputs": [],
   "source": []
  },
  {
   "cell_type": "code",
   "execution_count": 29,
   "metadata": {
    "id": "5pJL3KyEt69V"
   },
   "outputs": [],
   "source": [
    "#####EDA"
   ]
  },
  {
   "cell_type": "code",
   "execution_count": 30,
   "metadata": {
    "colab": {
     "base_uri": "https://localhost:8080/",
     "height": 297
    },
    "id": "C7ziYDX9CUDr",
    "outputId": "07e1e704-e9a2-4fae-bd27-06bf3d468bbd"
   },
   "outputs": [
    {
     "data": {
      "text/plain": [
       "<AxesSubplot:xlabel='gender', ylabel='Count'>"
      ]
     },
     "execution_count": 30,
     "metadata": {},
     "output_type": "execute_result"
    },
    {
     "data": {
      "image/png": "[encoded data removed]",
      "text/plain": [
       "<Figure size 432x288 with 1 Axes>"
      ]
     },
     "metadata": {
      "needs_background": "light"
     },
     "output_type": "display_data"
    }
   ],
   "source": [
    "#1. Plot appropriate graphs representing the distribution of age and gender in the data set [univariate].\n",
    "\n",
    "dfnoneventdata['Count']=1\n",
    "\n",
    "sns.barplot(data = dfnoneventdata, x = 'gender', y='Count', hue= 'age_group',estimator = np.sum)"
   ]
  },
  {
   "cell_type": "code",
   "execution_count": 31,
   "metadata": {
    "colab": {
     "base_uri": "https://localhost:8080/",
     "height": 357
    },
    "id": "XHfyIqnbgrTc",
    "outputId": "d6f33f7a-917f-4dff-c0d0-15db26808f16"
   },
   "outputs": [
    {
     "data": {
      "image/png": "[encoded data removed]",
      "text/plain": [
       "<Figure size 432x288 with 1 Axes>"
      ]
     },
     "metadata": {
      "needs_background": "light"
     },
     "output_type": "display_data"
    }
   ],
   "source": [
    "#2. Boxplot analysis for gender and age [bivariate]\n",
    "dfnoneventdata.boxplot(column='age', by='gender')\n",
    "plt.show()"
   ]
  },
  {
   "cell_type": "code",
   "execution_count": 32,
   "metadata": {
    "colab": {
     "base_uri": "https://localhost:8080/",
     "height": 299
    },
    "id": "jPSMHUxdhNAg",
    "outputId": "dd447872-65ba-4889-eedc-e5e1a648e0e8"
   },
   "outputs": [
    {
     "data": {
      "text/plain": [
       "<AxesSubplot:>"
      ]
     },
     "execution_count": 32,
     "metadata": {},
     "output_type": "execute_result"
    },
    {
     "data": {
      "image/png": "[encoded data removed]",
      "text/plain": [
       "<Figure size 432x288 with 1 Axes>"
      ]
     },
     "metadata": {
      "needs_background": "light"
     },
     "output_type": "display_data"
    }
   ],
   "source": [
    "#3. Plot the percentage of the device_ids with and without event data. \n",
    "\n",
    "dfeventdata['Count']=1\n",
    "dfeventdata['flag']=((dfeventdata['longitude']!=0) & (dfeventdata['latitude']!=0)&(dfeventdata['event_id']!=0))\n",
    "dfeventdata['flag'].value_counts(normalize=True).plot(kind='bar')"
   ]
  },
  {
   "cell_type": "code",
   "execution_count": 33,
   "metadata": {
    "colab": {
     "base_uri": "https://localhost:8080/"
    },
    "id": "VLpdJJ3eImO8",
    "outputId": "814a63e6-18a1-464b-97dd-dbfb1089ca43"
   },
   "outputs": [
    {
     "name": "stdout",
     "output_type": "stream",
     "text": [
      "(407640, 10)\n",
      "(859293, 10)\n"
     ]
    }
   ],
   "source": [
    "#Change datatypes to required datatype format\n",
    "dfeventdata['flag']= dfeventdata['flag'].apply(lambda x: 1 if x==True else 0)\n",
    "#assigning data without event details \n",
    "dfeventnodata=dfeventdata[dfeventdata['flag']==0]\n",
    "print(dfeventnodata.shape)\n",
    "\n",
    "#assigning data with event details \n",
    "dfeventdata=dfeventdata[dfeventdata['flag']==1]\n",
    "print(dfeventdata.shape)"
   ]
  },
  {
   "cell_type": "code",
   "execution_count": 34,
   "metadata": {
    "colab": {
     "base_uri": "https://localhost:8080/",
     "height": 280
    },
    "id": "llBKk4ishrKI",
    "outputId": "c1761eb0-9d8a-49d7-c64f-83f8f2d14b08"
   },
   "outputs": [
    {
     "data": {
      "image/png": "[encoded data removed]",
      "text/plain": [
       "<Figure size 432x288 with 1 Axes>"
      ]
     },
     "metadata": {
      "needs_background": "light"
     },
     "output_type": "display_data"
    }
   ],
   "source": [
    "#4. Plot a graph representing the distribution of events over different days of a week. \n",
    "dfeventdata['Day_weeks']=dfeventdata['timestamp'].apply(lambda x: x.weekday())\n",
    "sns.barplot(data=dfeventdata, x = 'Day_weeks', y='Count',estimator = np.sum)\n",
    "plt.show()"
   ]
  },
  {
   "cell_type": "code",
   "execution_count": 35,
   "metadata": {
    "colab": {
     "base_uri": "https://localhost:8080/"
    },
    "id": "C_V62x-QhuPu",
    "outputId": "0dc41d64-f37f-4117-bb49-488392ae5e1d"
   },
   "outputs": [
    {
     "data": {
      "text/plain": [
       "2          12\n",
       "4          12\n",
       "5          15\n",
       "6          21\n",
       "7          15\n",
       "           ..\n",
       "1266866     3\n",
       "1266875    19\n",
       "1266891     7\n",
       "1266900    11\n",
       "1266927    11\n",
       "Name: hours, Length: 859293, dtype: int64"
      ]
     },
     "execution_count": 35,
     "metadata": {},
     "output_type": "execute_result"
    }
   ],
   "source": [
    "#5. Plot a graph representing the distribution of events per hour [for one-week data].\n",
    "dfeventdata['hours']=dfeventdata['timestamp'].apply(lambda x: x.hour)\n",
    "dfeventdata.hours"
   ]
  },
  {
   "cell_type": "code",
   "execution_count": 36,
   "metadata": {
    "colab": {
     "base_uri": "https://localhost:8080/"
    },
    "id": "IHMLF9fPvQJT",
    "outputId": "a771f688-5c23-4600-ac22-6901e0de6ab7"
   },
   "outputs": [
    {
     "data": {
      "text/plain": [
       "18    742971\n",
       "17    116322\n",
       "Name: week_of_year, dtype: int64"
      ]
     },
     "execution_count": 36,
     "metadata": {},
     "output_type": "execute_result"
    }
   ],
   "source": [
    "#Change datatypes to required datatype format\n",
    "dfeventdata['week_of_year'] = dfeventdata.timestamp.apply(lambda x: x.weekofyear)\n",
    "dfeventdata.week_of_year.value_counts()"
   ]
  },
  {
   "cell_type": "code",
   "execution_count": 37,
   "metadata": {
    "colab": {
     "base_uri": "https://localhost:8080/",
     "height": 535
    },
    "id": "Osr-BD25vQRb",
    "outputId": "dab5766d-72fd-4012-d0ae-26e2c2064752"
   },
   "outputs": [
    {
     "data": {
      "text/html": [
       "<div>\n",
       "<style scoped>\n",
       "    .dataframe tbody tr th:only-of-type {\n",
       "        vertical-align: middle;\n",
       "    }\n",
       "\n",
       "    .dataframe tbody tr th {\n",
       "        vertical-align: top;\n",
       "    }\n",
       "\n",
       "    .dataframe thead th {\n",
       "        text-align: right;\n",
       "    }\n",
       "</style>\n",
       "<table border=\"1\" class=\"dataframe\">\n",
       "  <thead>\n",
       "    <tr style=\"text-align: right;\">\n",
       "      <th></th>\n",
       "      <th>device_id</th>\n",
       "      <th>gender</th>\n",
       "      <th>age</th>\n",
       "      <th>age_group</th>\n",
       "      <th>event_id</th>\n",
       "      <th>timestamp</th>\n",
       "      <th>longitude</th>\n",
       "      <th>latitude</th>\n",
       "      <th>Count</th>\n",
       "      <th>flag</th>\n",
       "      <th>Day_weeks</th>\n",
       "      <th>hours</th>\n",
       "      <th>week_of_year</th>\n",
       "    </tr>\n",
       "  </thead>\n",
       "  <tbody>\n",
       "    <tr>\n",
       "      <th>391424</th>\n",
       "      <td>3518798689933310000</td>\n",
       "      <td>M</td>\n",
       "      <td>30</td>\n",
       "      <td>M25-32</td>\n",
       "      <td>173398</td>\n",
       "      <td>2016-05-01 11:32:35</td>\n",
       "      <td>109.55</td>\n",
       "      <td>31.05</td>\n",
       "      <td>1</td>\n",
       "      <td>1</td>\n",
       "      <td>6</td>\n",
       "      <td>11</td>\n",
       "      <td>17</td>\n",
       "    </tr>\n",
       "    <tr>\n",
       "      <th>472280</th>\n",
       "      <td>2511395840834720000</td>\n",
       "      <td>M</td>\n",
       "      <td>27</td>\n",
       "      <td>M25-32</td>\n",
       "      <td>2957074</td>\n",
       "      <td>2016-05-01 21:10:36</td>\n",
       "      <td>1.00</td>\n",
       "      <td>1.00</td>\n",
       "      <td>1</td>\n",
       "      <td>1</td>\n",
       "      <td>6</td>\n",
       "      <td>21</td>\n",
       "      <td>17</td>\n",
       "    </tr>\n",
       "    <tr>\n",
       "      <th>217268</th>\n",
       "      <td>6127113861188220000</td>\n",
       "      <td>M</td>\n",
       "      <td>32</td>\n",
       "      <td>M25-32</td>\n",
       "      <td>3140421</td>\n",
       "      <td>2016-05-01 15:49:46</td>\n",
       "      <td>116.42</td>\n",
       "      <td>39.85</td>\n",
       "      <td>1</td>\n",
       "      <td>1</td>\n",
       "      <td>6</td>\n",
       "      <td>15</td>\n",
       "      <td>17</td>\n",
       "    </tr>\n",
       "    <tr>\n",
       "      <th>386550</th>\n",
       "      <td>3588747489088130000</td>\n",
       "      <td>F</td>\n",
       "      <td>37</td>\n",
       "      <td>F32+</td>\n",
       "      <td>2918893</td>\n",
       "      <td>2016-05-01 19:28:54</td>\n",
       "      <td>112.21</td>\n",
       "      <td>28.07</td>\n",
       "      <td>1</td>\n",
       "      <td>1</td>\n",
       "      <td>6</td>\n",
       "      <td>19</td>\n",
       "      <td>17</td>\n",
       "    </tr>\n",
       "    <tr>\n",
       "      <th>201987</th>\n",
       "      <td>6263539463080760000</td>\n",
       "      <td>F</td>\n",
       "      <td>53</td>\n",
       "      <td>F32+</td>\n",
       "      <td>1850843</td>\n",
       "      <td>2016-05-01 11:43:01</td>\n",
       "      <td>120.40</td>\n",
       "      <td>36.17</td>\n",
       "      <td>1</td>\n",
       "      <td>1</td>\n",
       "      <td>6</td>\n",
       "      <td>11</td>\n",
       "      <td>17</td>\n",
       "    </tr>\n",
       "    <tr>\n",
       "      <th>759509</th>\n",
       "      <td>1931509655515140000</td>\n",
       "      <td>M</td>\n",
       "      <td>53</td>\n",
       "      <td>M32+</td>\n",
       "      <td>926465</td>\n",
       "      <td>2016-05-01 12:41:09</td>\n",
       "      <td>113.72</td>\n",
       "      <td>37.57</td>\n",
       "      <td>1</td>\n",
       "      <td>1</td>\n",
       "      <td>6</td>\n",
       "      <td>12</td>\n",
       "      <td>17</td>\n",
       "    </tr>\n",
       "    <tr>\n",
       "      <th>535696</th>\n",
       "      <td>1543433923574950000</td>\n",
       "      <td>F</td>\n",
       "      <td>29</td>\n",
       "      <td>F25-32</td>\n",
       "      <td>906299</td>\n",
       "      <td>2016-05-01 17:55:27</td>\n",
       "      <td>111.54</td>\n",
       "      <td>24.43</td>\n",
       "      <td>1</td>\n",
       "      <td>1</td>\n",
       "      <td>6</td>\n",
       "      <td>17</td>\n",
       "      <td>17</td>\n",
       "    </tr>\n",
       "    <tr>\n",
       "      <th>163408</th>\n",
       "      <td>6828890587571450000</td>\n",
       "      <td>M</td>\n",
       "      <td>26</td>\n",
       "      <td>M25-32</td>\n",
       "      <td>1331733</td>\n",
       "      <td>2016-05-01 08:57:31</td>\n",
       "      <td>120.12</td>\n",
       "      <td>29.31</td>\n",
       "      <td>1</td>\n",
       "      <td>1</td>\n",
       "      <td>6</td>\n",
       "      <td>8</td>\n",
       "      <td>17</td>\n",
       "    </tr>\n",
       "    <tr>\n",
       "      <th>1131223</th>\n",
       "      <td>7166563712658300000</td>\n",
       "      <td>M</td>\n",
       "      <td>60</td>\n",
       "      <td>M32+</td>\n",
       "      <td>1671237</td>\n",
       "      <td>2016-05-01 13:38:07</td>\n",
       "      <td>117.96</td>\n",
       "      <td>28.47</td>\n",
       "      <td>1</td>\n",
       "      <td>1</td>\n",
       "      <td>6</td>\n",
       "      <td>13</td>\n",
       "      <td>17</td>\n",
       "    </tr>\n",
       "    <tr>\n",
       "      <th>541451</th>\n",
       "      <td>1474154142826940000</td>\n",
       "      <td>M</td>\n",
       "      <td>36</td>\n",
       "      <td>M32+</td>\n",
       "      <td>2185680</td>\n",
       "      <td>2016-05-01 14:48:20</td>\n",
       "      <td>116.16</td>\n",
       "      <td>39.75</td>\n",
       "      <td>1</td>\n",
       "      <td>1</td>\n",
       "      <td>6</td>\n",
       "      <td>14</td>\n",
       "      <td>17</td>\n",
       "    </tr>\n",
       "  </tbody>\n",
       "</table>\n",
       "</div>"
      ],
      "text/plain": [
       "                   device_id gender  age age_group  event_id  \\\n",
       "391424   3518798689933310000      M   30    M25-32    173398   \n",
       "472280   2511395840834720000      M   27    M25-32   2957074   \n",
       "217268   6127113861188220000      M   32    M25-32   3140421   \n",
       "386550   3588747489088130000      F   37      F32+   2918893   \n",
       "201987   6263539463080760000      F   53      F32+   1850843   \n",
       "759509   1931509655515140000      M   53      M32+    926465   \n",
       "535696   1543433923574950000      F   29    F25-32    906299   \n",
       "163408   6828890587571450000      M   26    M25-32   1331733   \n",
       "1131223  7166563712658300000      M   60      M32+   1671237   \n",
       "541451   1474154142826940000      M   36      M32+   2185680   \n",
       "\n",
       "                  timestamp  longitude  latitude  Count  flag  Day_weeks  \\\n",
       "391424  2016-05-01 11:32:35     109.55     31.05      1     1          6   \n",
       "472280  2016-05-01 21:10:36       1.00      1.00      1     1          6   \n",
       "217268  2016-05-01 15:49:46     116.42     39.85      1     1          6   \n",
       "386550  2016-05-01 19:28:54     112.21     28.07      1     1          6   \n",
       "201987  2016-05-01 11:43:01     120.40     36.17      1     1          6   \n",
       "759509  2016-05-01 12:41:09     113.72     37.57      1     1          6   \n",
       "535696  2016-05-01 17:55:27     111.54     24.43      1     1          6   \n",
       "163408  2016-05-01 08:57:31     120.12     29.31      1     1          6   \n",
       "1131223 2016-05-01 13:38:07     117.96     28.47      1     1          6   \n",
       "541451  2016-05-01 14:48:20     116.16     39.75      1     1          6   \n",
       "\n",
       "         hours  week_of_year  \n",
       "391424      11            17  \n",
       "472280      21            17  \n",
       "217268      15            17  \n",
       "386550      19            17  \n",
       "201987      11            17  \n",
       "759509      12            17  \n",
       "535696      17            17  \n",
       "163408       8            17  \n",
       "1131223     13            17  \n",
       "541451      14            17  "
      ]
     },
     "execution_count": 37,
     "metadata": {},
     "output_type": "execute_result"
    }
   ],
   "source": [
    "#Carving out only a specific week data\n",
    "dfeventweek=dfeventdata[dfeventdata['week_of_year']==17]\n",
    "dfeventweek.sample(10)"
   ]
  },
  {
   "cell_type": "code",
   "execution_count": 38,
   "metadata": {
    "colab": {
     "base_uri": "https://localhost:8080/",
     "height": 297
    },
    "id": "CFyKTNikvQXx",
    "outputId": "376af07f-c30b-4e98-86f8-2e18edc59c41"
   },
   "outputs": [
    {
     "data": {
      "text/plain": [
       "<function matplotlib.pyplot.show(close=None, block=None)>"
      ]
     },
     "execution_count": 38,
     "metadata": {},
     "output_type": "execute_result"
    },
    {
     "data": {
      "image/png": "[encoded data removed]",
      "text/plain": [
       "<Figure size 432x288 with 1 Axes>"
      ]
     },
     "metadata": {
      "needs_background": "light"
     },
     "output_type": "display_data"
    }
   ],
   "source": [
    "sns.barplot(data=dfeventdata, x='hours', y='Count',estimator = np.sum)\n",
    "plt.show"
   ]
  },
  {
   "cell_type": "code",
   "execution_count": 39,
   "metadata": {
    "colab": {
     "base_uri": "https://localhost:8080/",
     "height": 297
    },
    "id": "ADjIP6XlhuYC",
    "outputId": "a4698850-889f-42ad-97c2-033b553070d3"
   },
   "outputs": [
    {
     "data": {
      "text/plain": [
       "<AxesSubplot:xlabel='hours', ylabel='Count'>"
      ]
     },
     "execution_count": 39,
     "metadata": {},
     "output_type": "execute_result"
    },
    {
     "data": {
      "image/png": "[encoded data removed]",
      "text/plain": [
       "<Figure size 432x288 with 1 Axes>"
      ]
     },
     "metadata": {
      "needs_background": "light"
     },
     "output_type": "display_data"
    }
   ],
   "source": [
    "#6. The difference in the distribution of events per hour for Male and Female consumers. [Show the difference using an appropriate chart for one-week data.]\n",
    "sns.barplot(data=dfeventdata, x='hours', y='Count',hue= 'gender',estimator = np.sum)"
   ]
  },
  {
   "cell_type": "code",
   "execution_count": 40,
   "metadata": {
    "colab": {
     "base_uri": "https://localhost:8080/",
     "height": 205
    },
    "id": "0KglJCKW-uU_",
    "outputId": "0770d6aa-0478-4e0f-e699-c6961572f1e9"
   },
   "outputs": [
    {
     "data": {
      "text/html": [
       "<div>\n",
       "<style scoped>\n",
       "    .dataframe tbody tr th:only-of-type {\n",
       "        vertical-align: middle;\n",
       "    }\n",
       "\n",
       "    .dataframe tbody tr th {\n",
       "        vertical-align: top;\n",
       "    }\n",
       "\n",
       "    .dataframe thead th {\n",
       "        text-align: right;\n",
       "    }\n",
       "</style>\n",
       "<table border=\"1\" class=\"dataframe\">\n",
       "  <thead>\n",
       "    <tr style=\"text-align: right;\">\n",
       "      <th></th>\n",
       "      <th>device_id</th>\n",
       "      <th>gender</th>\n",
       "      <th>age</th>\n",
       "      <th>age_group</th>\n",
       "      <th>event_id</th>\n",
       "      <th>timestamp</th>\n",
       "      <th>longitude</th>\n",
       "      <th>latitude</th>\n",
       "      <th>Count</th>\n",
       "      <th>flag</th>\n",
       "      <th>Day_weeks</th>\n",
       "      <th>hours</th>\n",
       "      <th>week_of_year</th>\n",
       "    </tr>\n",
       "  </thead>\n",
       "  <tbody>\n",
       "    <tr>\n",
       "      <th>2</th>\n",
       "      <td>9222956879900150000</td>\n",
       "      <td>M</td>\n",
       "      <td>36</td>\n",
       "      <td>M32+</td>\n",
       "      <td>12679</td>\n",
       "      <td>2016-05-07 12:18:35</td>\n",
       "      <td>113.24</td>\n",
       "      <td>23.19</td>\n",
       "      <td>1</td>\n",
       "      <td>1</td>\n",
       "      <td>5</td>\n",
       "      <td>12</td>\n",
       "      <td>18</td>\n",
       "    </tr>\n",
       "    <tr>\n",
       "      <th>4</th>\n",
       "      <td>9222956879900150000</td>\n",
       "      <td>M</td>\n",
       "      <td>36</td>\n",
       "      <td>M32+</td>\n",
       "      <td>131849</td>\n",
       "      <td>2016-05-07 12:06:35</td>\n",
       "      <td>113.24</td>\n",
       "      <td>23.19</td>\n",
       "      <td>1</td>\n",
       "      <td>1</td>\n",
       "      <td>5</td>\n",
       "      <td>12</td>\n",
       "      <td>18</td>\n",
       "    </tr>\n",
       "    <tr>\n",
       "      <th>5</th>\n",
       "      <td>9222956879900150000</td>\n",
       "      <td>M</td>\n",
       "      <td>36</td>\n",
       "      <td>M32+</td>\n",
       "      <td>205471</td>\n",
       "      <td>2016-05-06 15:36:46</td>\n",
       "      <td>113.24</td>\n",
       "      <td>23.19</td>\n",
       "      <td>1</td>\n",
       "      <td>1</td>\n",
       "      <td>4</td>\n",
       "      <td>15</td>\n",
       "      <td>18</td>\n",
       "    </tr>\n",
       "    <tr>\n",
       "      <th>6</th>\n",
       "      <td>9222956879900150000</td>\n",
       "      <td>M</td>\n",
       "      <td>36</td>\n",
       "      <td>M32+</td>\n",
       "      <td>211711</td>\n",
       "      <td>2016-05-06 21:26:14</td>\n",
       "      <td>113.24</td>\n",
       "      <td>23.19</td>\n",
       "      <td>1</td>\n",
       "      <td>1</td>\n",
       "      <td>4</td>\n",
       "      <td>21</td>\n",
       "      <td>18</td>\n",
       "    </tr>\n",
       "    <tr>\n",
       "      <th>7</th>\n",
       "      <td>9222956879900150000</td>\n",
       "      <td>M</td>\n",
       "      <td>36</td>\n",
       "      <td>M32+</td>\n",
       "      <td>229069</td>\n",
       "      <td>2016-05-06 15:34:19</td>\n",
       "      <td>113.24</td>\n",
       "      <td>23.19</td>\n",
       "      <td>1</td>\n",
       "      <td>1</td>\n",
       "      <td>4</td>\n",
       "      <td>15</td>\n",
       "      <td>18</td>\n",
       "    </tr>\n",
       "  </tbody>\n",
       "</table>\n",
       "</div>"
      ],
      "text/plain": [
       "             device_id gender  age age_group  event_id           timestamp  \\\n",
       "2  9222956879900150000      M   36      M32+     12679 2016-05-07 12:18:35   \n",
       "4  9222956879900150000      M   36      M32+    131849 2016-05-07 12:06:35   \n",
       "5  9222956879900150000      M   36      M32+    205471 2016-05-06 15:36:46   \n",
       "6  9222956879900150000      M   36      M32+    211711 2016-05-06 21:26:14   \n",
       "7  9222956879900150000      M   36      M32+    229069 2016-05-06 15:34:19   \n",
       "\n",
       "   longitude  latitude  Count  flag  Day_weeks  hours  week_of_year  \n",
       "2     113.24     23.19      1     1          5     12            18  \n",
       "4     113.24     23.19      1     1          5     12            18  \n",
       "5     113.24     23.19      1     1          4     15            18  \n",
       "6     113.24     23.19      1     1          4     21            18  \n",
       "7     113.24     23.19      1     1          4     15            18  "
      ]
     },
     "execution_count": 40,
     "metadata": {},
     "output_type": "execute_result"
    }
   ],
   "source": [
    "#Getting the top 5 rows\n",
    "dfeventdata.head(5)"
   ]
  },
  {
   "cell_type": "code",
   "execution_count": 41,
   "metadata": {
    "colab": {
     "base_uri": "https://localhost:8080/"
    },
    "id": "IWXO_FP3h0R3",
    "outputId": "488d744f-1478-4482-86e7-001c8300689c"
   },
   "outputs": [
    {
     "data": {
      "text/plain": [
       "32+      392944\n",
       "25-32    341155\n",
       "0-24     125194\n",
       "Name: age_group, dtype: int64"
      ]
     },
     "execution_count": 41,
     "metadata": {},
     "output_type": "execute_result"
    }
   ],
   "source": [
    "#7. Is there any difference in the distribution of Events for different Age Groups over different days of the week? [Consider the following age groups: 0–24, 25–32, 33–45, and 46+]\n",
    "dfeventdata['age_group']=dfeventdata['age_group'].apply(lambda x: x[1:])\n",
    "dfeventdata['age_group'].value_counts()"
   ]
  },
  {
   "cell_type": "code",
   "execution_count": 42,
   "metadata": {
    "colab": {
     "base_uri": "https://localhost:8080/",
     "height": 298
    },
    "id": "cwNaxrQ0-nKn",
    "outputId": "d756c650-f5f7-42e7-c004-145eab258523"
   },
   "outputs": [
    {
     "data": {
      "text/plain": [
       "<AxesSubplot:xlabel='Day_weeks', ylabel='Count'>"
      ]
     },
     "execution_count": 42,
     "metadata": {},
     "output_type": "execute_result"
    },
    {
     "data": {
      "image/png": "[encoded data removed]",
      "text/plain": [
       "<Figure size 432x288 with 1 Axes>"
      ]
     },
     "metadata": {
      "needs_background": "light"
     },
     "output_type": "display_data"
    }
   ],
   "source": [
    "#Display of barplot\n",
    "sns.barplot(data=dfeventdata, x = 'Day_weeks', y='Count',hue= 'age_group',estimator = np.sum)"
   ]
  },
  {
   "cell_type": "code",
   "execution_count": 43,
   "metadata": {
    "colab": {
     "base_uri": "https://localhost:8080/"
    },
    "id": "wl_WBadaxCSq",
    "outputId": "6408b2f8-74be-4572-9aed-ed99d7cabf76"
   },
   "outputs": [
    {
     "data": {
      "text/plain": [
       "32+      392944\n",
       "25-32    341155\n",
       "0-24     125194\n",
       "Name: age_group, dtype: int64"
      ]
     },
     "execution_count": 43,
     "metadata": {},
     "output_type": "execute_result"
    }
   ],
   "source": [
    "#Showcasing value counts across age groups\n",
    "dfeventdata.age_group.value_counts()"
   ]
  },
  {
   "cell_type": "code",
   "execution_count": 44,
   "metadata": {
    "colab": {
     "base_uri": "https://localhost:8080/"
    },
    "id": "GWV0uFHUh0g8",
    "outputId": "d159f56a-16f3-4dca-9a43-e82b4e87562c"
   },
   "outputs": [
    {
     "data": {
      "text/plain": [
       "Xiaomi     17300\n",
       "samsung    13669\n",
       "Huawei     12960\n",
       "OPPO        5783\n",
       "vivo        5637\n",
       "Meizu       4699\n",
       "Coolpad     3339\n",
       "lenovo      2691\n",
       "Gionee      1123\n",
       "HTC         1013\n",
       "Name: device_brand, dtype: int64"
      ]
     },
     "execution_count": 44,
     "metadata": {},
     "output_type": "execute_result"
    }
   ],
   "source": [
    "#8. Stacked bar chart for the top 10 mobile brands across male and female consumers.\n",
    "top10brand=dfnoneventdata.device_brand.value_counts()[0:10]\n",
    "top10brand"
   ]
  },
  {
   "cell_type": "code",
   "execution_count": 45,
   "metadata": {
    "colab": {
     "base_uri": "https://localhost:8080/",
     "height": 362
    },
    "id": "ItZaTDKbxhSF",
    "outputId": "cd18726c-2b33-43b1-cf22-d73be54e8c53"
   },
   "outputs": [
    {
     "data": {
      "text/html": [
       "<div>\n",
       "<style scoped>\n",
       "    .dataframe tbody tr th:only-of-type {\n",
       "        vertical-align: middle;\n",
       "    }\n",
       "\n",
       "    .dataframe tbody tr th {\n",
       "        vertical-align: top;\n",
       "    }\n",
       "\n",
       "    .dataframe thead th {\n",
       "        text-align: right;\n",
       "    }\n",
       "</style>\n",
       "<table border=\"1\" class=\"dataframe\">\n",
       "  <thead>\n",
       "    <tr style=\"text-align: right;\">\n",
       "      <th></th>\n",
       "      <th>device_id</th>\n",
       "      <th>gender</th>\n",
       "      <th>age</th>\n",
       "      <th>age_group</th>\n",
       "      <th>device_brand</th>\n",
       "      <th>phone_brand</th>\n",
       "      <th>Count</th>\n",
       "    </tr>\n",
       "  </thead>\n",
       "  <tbody>\n",
       "    <tr>\n",
       "      <th>59352</th>\n",
       "      <td>5450847761385090000</td>\n",
       "      <td>M</td>\n",
       "      <td>46</td>\n",
       "      <td>M32+</td>\n",
       "      <td>Xiaomi</td>\n",
       "      <td>x1</td>\n",
       "      <td>1</td>\n",
       "    </tr>\n",
       "    <tr>\n",
       "      <th>69293</th>\n",
       "      <td>7894218768335210000</td>\n",
       "      <td>M</td>\n",
       "      <td>20</td>\n",
       "      <td>M0-24</td>\n",
       "      <td>Huawei</td>\n",
       "      <td>7i</td>\n",
       "      <td>1</td>\n",
       "    </tr>\n",
       "    <tr>\n",
       "      <th>73561</th>\n",
       "      <td>8963020038022060000</td>\n",
       "      <td>M</td>\n",
       "      <td>20</td>\n",
       "      <td>M0-24</td>\n",
       "      <td>Huawei</td>\n",
       "      <td>4X</td>\n",
       "      <td>1</td>\n",
       "    </tr>\n",
       "    <tr>\n",
       "      <th>28760</th>\n",
       "      <td>2126547214213710000</td>\n",
       "      <td>F</td>\n",
       "      <td>37</td>\n",
       "      <td>F32+</td>\n",
       "      <td>samsung</td>\n",
       "      <td>Galaxy Note 2</td>\n",
       "      <td>1</td>\n",
       "    </tr>\n",
       "    <tr>\n",
       "      <th>13262</th>\n",
       "      <td>5936156240484970000</td>\n",
       "      <td>F</td>\n",
       "      <td>20</td>\n",
       "      <td>F0-24</td>\n",
       "      <td>OPPO</td>\n",
       "      <td>R827T</td>\n",
       "      <td>1</td>\n",
       "    </tr>\n",
       "    <tr>\n",
       "      <th>59114</th>\n",
       "      <td>5401785456646610000</td>\n",
       "      <td>M</td>\n",
       "      <td>33</td>\n",
       "      <td>M32+</td>\n",
       "      <td>Meizu</td>\n",
       "      <td>MX5</td>\n",
       "      <td>1</td>\n",
       "    </tr>\n",
       "    <tr>\n",
       "      <th>8349</th>\n",
       "      <td>7153351891088590000</td>\n",
       "      <td>M</td>\n",
       "      <td>41</td>\n",
       "      <td>M32+</td>\n",
       "      <td>vivo</td>\n",
       "      <td>S7I</td>\n",
       "      <td>1</td>\n",
       "    </tr>\n",
       "    <tr>\n",
       "      <th>40266</th>\n",
       "      <td>721933290314511000</td>\n",
       "      <td>M</td>\n",
       "      <td>39</td>\n",
       "      <td>M32+</td>\n",
       "      <td>Huawei</td>\n",
       "      <td>3X</td>\n",
       "      <td>1</td>\n",
       "    </tr>\n",
       "    <tr>\n",
       "      <th>29389</th>\n",
       "      <td>1969739369820760000</td>\n",
       "      <td>F</td>\n",
       "      <td>30</td>\n",
       "      <td>F25-32</td>\n",
       "      <td>OPPO</td>\n",
       "      <td>R1C</td>\n",
       "      <td>1</td>\n",
       "    </tr>\n",
       "    <tr>\n",
       "      <th>72811</th>\n",
       "      <td>8780146868947760000</td>\n",
       "      <td>F</td>\n",
       "      <td>34</td>\n",
       "      <td>F32+</td>\n",
       "      <td>Coolpad</td>\n",
       "      <td>5956</td>\n",
       "      <td>1</td>\n",
       "    </tr>\n",
       "  </tbody>\n",
       "</table>\n",
       "</div>"
      ],
      "text/plain": [
       "                 device_id gender  age age_group device_brand    phone_brand  \\\n",
       "59352  5450847761385090000      M   46      M32+       Xiaomi             x1   \n",
       "69293  7894218768335210000      M   20     M0-24       Huawei             7i   \n",
       "73561  8963020038022060000      M   20     M0-24       Huawei             4X   \n",
       "28760  2126547214213710000      F   37      F32+      samsung  Galaxy Note 2   \n",
       "13262  5936156240484970000      F   20     F0-24         OPPO          R827T   \n",
       "59114  5401785456646610000      M   33      M32+        Meizu            MX5   \n",
       "8349   7153351891088590000      M   41      M32+         vivo            S7I   \n",
       "40266   721933290314511000      M   39      M32+       Huawei             3X   \n",
       "29389  1969739369820760000      F   30    F25-32         OPPO            R1C   \n",
       "72811  8780146868947760000      F   34      F32+      Coolpad           5956   \n",
       "\n",
       "       Count  \n",
       "59352      1  \n",
       "69293      1  \n",
       "73561      1  \n",
       "28760      1  \n",
       "13262      1  \n",
       "59114      1  \n",
       "8349       1  \n",
       "40266      1  \n",
       "29389      1  \n",
       "72811      1  "
      ]
     },
     "execution_count": 45,
     "metadata": {},
     "output_type": "execute_result"
    }
   ],
   "source": [
    "mob=['Xiaomi','samsung','Huawei','OPPO','vivo','Meizu','Coolpad','lenovo','Gionee','HTC']\n",
    "top10brand=dfnoneventdata[dfnoneventdata['device_brand'].isin(mob)]\n",
    "top10brand.sample(10)"
   ]
  },
  {
   "cell_type": "code",
   "execution_count": 46,
   "metadata": {
    "colab": {
     "base_uri": "https://localhost:8080/",
     "height": 424
    },
    "id": "kZE6HJHcxr3E",
    "outputId": "43c898a7-e21d-4134-bbaf-7c0845254ce8"
   },
   "outputs": [
    {
     "data": {
      "image/png": "[encoded data removed]",
      "text/plain": [
       "<Figure size 720x432 with 1 Axes>"
      ]
     },
     "metadata": {
      "needs_background": "light"
     },
     "output_type": "display_data"
    }
   ],
   "source": [
    "pivot=pd.pivot_table(data=top10brand, index='device_brand', columns='gender', values='Count', aggfunc='sum')\n",
    "pivot.plot(kind=\"bar\", stacked=\"True\", figsize=[10,6])\n",
    "plt.show()"
   ]
  },
  {
   "cell_type": "code",
   "execution_count": 47,
   "metadata": {
    "id": "8D1pSrOpiKH4"
   },
   "outputs": [],
   "source": [
    "#9. Prepare a chart representing the ten frequently used applications and their respective male and female percentage.\n",
    "\n",
    "#Total number of users who have installed the app\n",
    "topapp = dfeventdata.merge(dfappevent, on='event_id')"
   ]
  },
  {
   "cell_type": "code",
   "execution_count": 48,
   "metadata": {
    "colab": {
     "base_uri": "https://localhost:8080/"
    },
    "id": "5xoOzV4myUA-",
    "outputId": "52439daa-a3e3-4e8d-aaba-bc08435f0b96"
   },
   "outputs": [
    {
     "data": {
      "text/plain": [
       "8693964245073640147    162356\n",
       "5927333115845830913    128691\n",
       "4348659952760821294    123122\n",
       "628020936226491308      94954\n",
       "3433289601737013244     68883\n",
       "7348340405200054701     51561\n",
       "6284164581582112235     47048\n",
       "8948670408023620661     45499\n",
       "5729517255058371973     44523\n",
       "2320783822570582843     41913\n",
       "Name: app_id, dtype: int64"
      ]
     },
     "execution_count": 48,
     "metadata": {},
     "output_type": "execute_result"
    }
   ],
   "source": [
    "appcount=topapp.app_id.value_counts()[0:10]\n",
    "appcount"
   ]
  },
  {
   "cell_type": "code",
   "execution_count": 49,
   "metadata": {
    "colab": {
     "base_uri": "https://localhost:8080/",
     "height": 398
    },
    "id": "iPACPsOSHB_L",
    "outputId": "0a7037ca-51bf-4b9a-b564-52bea898ddec"
   },
   "outputs": [
    {
     "data": {
      "text/html": [
       "<div>\n",
       "<style scoped>\n",
       "    .dataframe tbody tr th:only-of-type {\n",
       "        vertical-align: middle;\n",
       "    }\n",
       "\n",
       "    .dataframe tbody tr th {\n",
       "        vertical-align: top;\n",
       "    }\n",
       "\n",
       "    .dataframe thead th {\n",
       "        text-align: right;\n",
       "    }\n",
       "</style>\n",
       "<table border=\"1\" class=\"dataframe\">\n",
       "  <thead>\n",
       "    <tr style=\"text-align: right;\">\n",
       "      <th></th>\n",
       "      <th>device_id</th>\n",
       "      <th>gender</th>\n",
       "      <th>age</th>\n",
       "      <th>age_group</th>\n",
       "      <th>event_id</th>\n",
       "      <th>timestamp</th>\n",
       "      <th>longitude</th>\n",
       "      <th>latitude</th>\n",
       "      <th>Count</th>\n",
       "      <th>flag</th>\n",
       "      <th>Day_weeks</th>\n",
       "      <th>hours</th>\n",
       "      <th>week_of_year</th>\n",
       "      <th>app_id</th>\n",
       "      <th>is_installed</th>\n",
       "      <th>is_active</th>\n",
       "    </tr>\n",
       "  </thead>\n",
       "  <tbody>\n",
       "    <tr>\n",
       "      <th>2439333</th>\n",
       "      <td>42961107734561600</td>\n",
       "      <td>M</td>\n",
       "      <td>28</td>\n",
       "      <td>25-32</td>\n",
       "      <td>2303138</td>\n",
       "      <td>2016-05-06 00:36:09</td>\n",
       "      <td>117.98</td>\n",
       "      <td>24.61</td>\n",
       "      <td>1</td>\n",
       "      <td>1</td>\n",
       "      <td>4</td>\n",
       "      <td>0</td>\n",
       "      <td>18</td>\n",
       "      <td>4348659952760821294</td>\n",
       "      <td>1</td>\n",
       "      <td>1</td>\n",
       "    </tr>\n",
       "    <tr>\n",
       "      <th>936489</th>\n",
       "      <td>5444703814462630000</td>\n",
       "      <td>F</td>\n",
       "      <td>23</td>\n",
       "      <td>0-24</td>\n",
       "      <td>187869</td>\n",
       "      <td>2016-05-02 21:20:18</td>\n",
       "      <td>119.57</td>\n",
       "      <td>30.86</td>\n",
       "      <td>1</td>\n",
       "      <td>1</td>\n",
       "      <td>0</td>\n",
       "      <td>21</td>\n",
       "      <td>18</td>\n",
       "      <td>8693964245073640147</td>\n",
       "      <td>1</td>\n",
       "      <td>1</td>\n",
       "    </tr>\n",
       "    <tr>\n",
       "      <th>3320044</th>\n",
       "      <td>2976914939399440000</td>\n",
       "      <td>F</td>\n",
       "      <td>28</td>\n",
       "      <td>25-32</td>\n",
       "      <td>3138405</td>\n",
       "      <td>2016-05-02 14:14:16</td>\n",
       "      <td>103.88</td>\n",
       "      <td>30.81</td>\n",
       "      <td>1</td>\n",
       "      <td>1</td>\n",
       "      <td>0</td>\n",
       "      <td>14</td>\n",
       "      <td>18</td>\n",
       "      <td>628020936226491308</td>\n",
       "      <td>1</td>\n",
       "      <td>1</td>\n",
       "    </tr>\n",
       "    <tr>\n",
       "      <th>201325</th>\n",
       "      <td>8301650690669780000</td>\n",
       "      <td>M</td>\n",
       "      <td>42</td>\n",
       "      <td>32+</td>\n",
       "      <td>2998005</td>\n",
       "      <td>2016-05-06 12:57:32</td>\n",
       "      <td>119.41</td>\n",
       "      <td>32.20</td>\n",
       "      <td>1</td>\n",
       "      <td>1</td>\n",
       "      <td>4</td>\n",
       "      <td>12</td>\n",
       "      <td>18</td>\n",
       "      <td>8693964245073640147</td>\n",
       "      <td>1</td>\n",
       "      <td>0</td>\n",
       "    </tr>\n",
       "    <tr>\n",
       "      <th>1350136</th>\n",
       "      <td>3907798047502040000</td>\n",
       "      <td>M</td>\n",
       "      <td>29</td>\n",
       "      <td>25-32</td>\n",
       "      <td>679789</td>\n",
       "      <td>2016-05-03 14:20:58</td>\n",
       "      <td>120.96</td>\n",
       "      <td>31.41</td>\n",
       "      <td>1</td>\n",
       "      <td>1</td>\n",
       "      <td>1</td>\n",
       "      <td>14</td>\n",
       "      <td>18</td>\n",
       "      <td>4348659952760821294</td>\n",
       "      <td>1</td>\n",
       "      <td>0</td>\n",
       "    </tr>\n",
       "  </tbody>\n",
       "</table>\n",
       "</div>"
      ],
      "text/plain": [
       "                   device_id gender  age age_group  event_id  \\\n",
       "2439333    42961107734561600      M   28     25-32   2303138   \n",
       "936489   5444703814462630000      F   23      0-24    187869   \n",
       "3320044  2976914939399440000      F   28     25-32   3138405   \n",
       "201325   8301650690669780000      M   42       32+   2998005   \n",
       "1350136  3907798047502040000      M   29     25-32    679789   \n",
       "\n",
       "                  timestamp  longitude  latitude  Count  flag  Day_weeks  \\\n",
       "2439333 2016-05-06 00:36:09     117.98     24.61      1     1          4   \n",
       "936489  2016-05-02 21:20:18     119.57     30.86      1     1          0   \n",
       "3320044 2016-05-02 14:14:16     103.88     30.81      1     1          0   \n",
       "201325  2016-05-06 12:57:32     119.41     32.20      1     1          4   \n",
       "1350136 2016-05-03 14:20:58     120.96     31.41      1     1          1   \n",
       "\n",
       "         hours  week_of_year               app_id  is_installed  is_active  \n",
       "2439333      0            18  4348659952760821294             1          1  \n",
       "936489      21            18  8693964245073640147             1          1  \n",
       "3320044     14            18   628020936226491308             1          1  \n",
       "201325      12            18  8693964245073640147             1          0  \n",
       "1350136     14            18  4348659952760821294             1          0  "
      ]
     },
     "execution_count": 49,
     "metadata": {},
     "output_type": "execute_result"
    }
   ],
   "source": [
    "x=[8693964245073640147, 5927333115845830913, 4348659952760821294, 628020936226491308, 3433289601737013244, 2320783822570582843, 6284164581582112235, 5729517255058371973, 8948670408023620661, 3683147815759994238]\n",
    "app_sample=topapp[topapp['app_id'].isin(x)]\n",
    "app_sample.sample(5)"
   ]
  },
  {
   "cell_type": "code",
   "execution_count": 50,
   "metadata": {
    "colab": {
     "base_uri": "https://localhost:8080/",
     "height": 486
    },
    "id": "-ZMxD2usJRqC",
    "outputId": "3ea7f9cb-5bfb-4361-c66c-361fdc36df97"
   },
   "outputs": [
    {
     "data": {
      "text/plain": [
       "<AxesSubplot:xlabel='app_id,gender'>"
      ]
     },
     "execution_count": 50,
     "metadata": {},
     "output_type": "execute_result"
    },
    {
     "data": {
      "image/png": "[encoded data removed]",
      "text/plain": [
       "<Figure size 720x360 with 1 Axes>"
      ]
     },
     "metadata": {
      "needs_background": "light"
     },
     "output_type": "display_data"
    }
   ],
   "source": [
    "app_sample.groupby('app_id')['gender'].value_counts(normalize=True).plot(kind=\"bar\", stacked=\"True\", figsize=[10,5])"
   ]
  },
  {
   "cell_type": "code",
   "execution_count": 51,
   "metadata": {
    "colab": {
     "base_uri": "https://localhost:8080/",
     "height": 498
    },
    "id": "v6T03OsLiKTz",
    "outputId": "2ae34f36-164f-49eb-f034-8aa2b6ba1669"
   },
   "outputs": [
    {
     "data": {
      "image/png": "[encoded data removed]",
      "text/plain": [
       "<Figure size 576x576 with 1 Axes>"
      ]
     },
     "metadata": {
      "needs_background": "light"
     },
     "output_type": "display_data"
    }
   ],
   "source": [
    "#10. List the top 10 mobile phone brands bought by customers by age groups. [Consider the following age groups: 0–24, 25–32, 33–45, and 46+]\n",
    "fig, ax = plt.subplots(figsize=(8, 8))\n",
    "sns.barplot(data =top10brand, x = 'device_brand', y='Count',hue= 'age_group',estimator = np.sum, dodge= False)\n",
    "plt.show()"
   ]
  },
  {
   "cell_type": "code",
   "execution_count": null,
   "metadata": {
    "colab": {
     "base_uri": "https://localhost:8080/",
     "height": 171
    },
    "id": "x_5nYXu4hueF",
    "outputId": "6461d14d-7b9e-4cc7-ebca-dac13499bfee"
   },
   "outputs": [],
   "source": []
  },
  {
   "cell_type": "code",
   "execution_count": 52,
   "metadata": {
    "id": "dp12MpaqK0BK"
   },
   "outputs": [],
   "source": [
    "##feature engineering"
   ]
  },
  {
   "cell_type": "code",
   "execution_count": 53,
   "metadata": {
    "id": "sxrAT2IrLHCQ"
   },
   "outputs": [],
   "source": [
    "#1. Considering the events data, you can create a feature called Average Events, which can give you an estimate of how long the users' mobile phones are active."
   ]
  },
  {
   "cell_type": "code",
   "execution_count": 54,
   "metadata": {
    "colab": {
     "base_uri": "https://localhost:8080/",
     "height": 393
    },
    "id": "rDEO_WwzLHXQ",
    "outputId": "ef1a0d2b-6d6b-4b85-cbf6-bdd2783a89a9"
   },
   "outputs": [
    {
     "data": {
      "text/html": [
       "<div>\n",
       "<style scoped>\n",
       "    .dataframe tbody tr th:only-of-type {\n",
       "        vertical-align: middle;\n",
       "    }\n",
       "\n",
       "    .dataframe tbody tr th {\n",
       "        vertical-align: top;\n",
       "    }\n",
       "\n",
       "    .dataframe thead th {\n",
       "        text-align: right;\n",
       "    }\n",
       "</style>\n",
       "<table border=\"1\" class=\"dataframe\">\n",
       "  <thead>\n",
       "    <tr style=\"text-align: right;\">\n",
       "      <th></th>\n",
       "      <th>Average</th>\n",
       "    </tr>\n",
       "    <tr>\n",
       "      <th>device_id</th>\n",
       "      <th></th>\n",
       "    </tr>\n",
       "  </thead>\n",
       "  <tbody>\n",
       "    <tr>\n",
       "      <th>5820979872442000000</th>\n",
       "      <td>0.010823</td>\n",
       "    </tr>\n",
       "    <tr>\n",
       "      <th>6031581433677470000</th>\n",
       "      <td>0.001164</td>\n",
       "    </tr>\n",
       "    <tr>\n",
       "      <th>7172658427943150000</th>\n",
       "      <td>0.005819</td>\n",
       "    </tr>\n",
       "    <tr>\n",
       "      <th>679142927640773000</th>\n",
       "      <td>0.017107</td>\n",
       "    </tr>\n",
       "    <tr>\n",
       "      <th>4294753544473110000</th>\n",
       "      <td>0.009310</td>\n",
       "    </tr>\n",
       "    <tr>\n",
       "      <th>5184843826620500000</th>\n",
       "      <td>0.002909</td>\n",
       "    </tr>\n",
       "    <tr>\n",
       "      <th>7367262162443820000</th>\n",
       "      <td>0.006633</td>\n",
       "    </tr>\n",
       "    <tr>\n",
       "      <th>3656132883647860000</th>\n",
       "      <td>0.053183</td>\n",
       "    </tr>\n",
       "    <tr>\n",
       "      <th>7250088706397510000</th>\n",
       "      <td>0.004306</td>\n",
       "    </tr>\n",
       "    <tr>\n",
       "      <th>5023182361940990000</th>\n",
       "      <td>0.015361</td>\n",
       "    </tr>\n",
       "  </tbody>\n",
       "</table>\n",
       "</div>"
      ],
      "text/plain": [
       "                      Average\n",
       "device_id                    \n",
       "5820979872442000000  0.010823\n",
       "6031581433677470000  0.001164\n",
       "7172658427943150000  0.005819\n",
       "679142927640773000   0.017107\n",
       "4294753544473110000  0.009310\n",
       "5184843826620500000  0.002909\n",
       "7367262162443820000  0.006633\n",
       "3656132883647860000  0.053183\n",
       "7250088706397510000  0.004306\n",
       "5023182361940990000  0.015361"
      ]
     },
     "execution_count": 54,
     "metadata": {},
     "output_type": "execute_result"
    }
   ],
   "source": [
    "Avgevent=dfeventdata.groupby('device_id')['Count'].sum()\n",
    "Avgevent=Avgevent.to_frame()\n",
    "Avgevent['Average']=(Avgevent['Count']/Avgevent['Count'].sum())*100\n",
    "Avgevent= Avgevent['Average'].to_frame()\n",
    "Avgevent.sample(10)"
   ]
  },
  {
   "cell_type": "code",
   "execution_count": 55,
   "metadata": {
    "colab": {
     "base_uri": "https://localhost:8080/"
    },
    "id": "MOZgKPaa3lFB",
    "outputId": "3d385abd-084b-453b-ad78-98a2d8de7cf0"
   },
   "outputs": [
    {
     "name": "stdout",
     "output_type": "stream",
     "text": [
      "<class 'pandas.core.frame.DataFrame'>\n",
      "Int64Index: 11980 entries, 2385668677718310 to 9222956879900150000\n",
      "Data columns (total 1 columns):\n",
      " #   Column   Non-Null Count  Dtype  \n",
      "---  ------   --------------  -----  \n",
      " 0   Average  11980 non-null  float64\n",
      "dtypes: float64(1)\n",
      "memory usage: 187.2 KB\n"
     ]
    }
   ],
   "source": [
    "Avgevent.info()"
   ]
  },
  {
   "cell_type": "code",
   "execution_count": 56,
   "metadata": {
    "colab": {
     "base_uri": "https://localhost:8080/",
     "height": 398
    },
    "id": "qWJAFOYkMQ6f",
    "outputId": "16c2761f-486b-44a8-c496-cf5f4639fca5"
   },
   "outputs": [
    {
     "data": {
      "text/html": [
       "<div>\n",
       "<style scoped>\n",
       "    .dataframe tbody tr th:only-of-type {\n",
       "        vertical-align: middle;\n",
       "    }\n",
       "\n",
       "    .dataframe tbody tr th {\n",
       "        vertical-align: top;\n",
       "    }\n",
       "\n",
       "    .dataframe thead th {\n",
       "        text-align: right;\n",
       "    }\n",
       "</style>\n",
       "<table border=\"1\" class=\"dataframe\">\n",
       "  <thead>\n",
       "    <tr style=\"text-align: right;\">\n",
       "      <th></th>\n",
       "      <th>device_id</th>\n",
       "      <th>gender</th>\n",
       "      <th>age</th>\n",
       "      <th>age_group</th>\n",
       "      <th>event_id</th>\n",
       "      <th>timestamp</th>\n",
       "      <th>longitude</th>\n",
       "      <th>latitude</th>\n",
       "      <th>Count</th>\n",
       "      <th>flag</th>\n",
       "      <th>Day_weeks</th>\n",
       "      <th>hours</th>\n",
       "      <th>week_of_year</th>\n",
       "      <th>Average</th>\n",
       "    </tr>\n",
       "  </thead>\n",
       "  <tbody>\n",
       "    <tr>\n",
       "      <th>845981</th>\n",
       "      <td>8879672715748670000</td>\n",
       "      <td>M</td>\n",
       "      <td>31</td>\n",
       "      <td>25-32</td>\n",
       "      <td>2222500</td>\n",
       "      <td>2016-05-03 22:38:06</td>\n",
       "      <td>121.32</td>\n",
       "      <td>31.06</td>\n",
       "      <td>1</td>\n",
       "      <td>1</td>\n",
       "      <td>1</td>\n",
       "      <td>22</td>\n",
       "      <td>18</td>\n",
       "      <td>0.018620</td>\n",
       "    </tr>\n",
       "    <tr>\n",
       "      <th>574637</th>\n",
       "      <td>3044177087333560000</td>\n",
       "      <td>M</td>\n",
       "      <td>53</td>\n",
       "      <td>32+</td>\n",
       "      <td>194010</td>\n",
       "      <td>2016-05-05 23:24:07</td>\n",
       "      <td>117.18</td>\n",
       "      <td>26.90</td>\n",
       "      <td>1</td>\n",
       "      <td>1</td>\n",
       "      <td>3</td>\n",
       "      <td>23</td>\n",
       "      <td>18</td>\n",
       "      <td>0.018038</td>\n",
       "    </tr>\n",
       "    <tr>\n",
       "      <th>22529</th>\n",
       "      <td>8658253277334370000</td>\n",
       "      <td>M</td>\n",
       "      <td>24</td>\n",
       "      <td>0-24</td>\n",
       "      <td>936688</td>\n",
       "      <td>2016-05-06 19:37:39</td>\n",
       "      <td>127.49</td>\n",
       "      <td>50.24</td>\n",
       "      <td>1</td>\n",
       "      <td>1</td>\n",
       "      <td>4</td>\n",
       "      <td>19</td>\n",
       "      <td>18</td>\n",
       "      <td>0.056907</td>\n",
       "    </tr>\n",
       "    <tr>\n",
       "      <th>248958</th>\n",
       "      <td>3903059712853410000</td>\n",
       "      <td>F</td>\n",
       "      <td>46</td>\n",
       "      <td>32+</td>\n",
       "      <td>1813060</td>\n",
       "      <td>2016-05-01 22:38:43</td>\n",
       "      <td>109.19</td>\n",
       "      <td>34.74</td>\n",
       "      <td>1</td>\n",
       "      <td>1</td>\n",
       "      <td>6</td>\n",
       "      <td>22</td>\n",
       "      <td>17</td>\n",
       "      <td>0.006866</td>\n",
       "    </tr>\n",
       "    <tr>\n",
       "      <th>363673</th>\n",
       "      <td>1652871882320730000</td>\n",
       "      <td>M</td>\n",
       "      <td>31</td>\n",
       "      <td>25-32</td>\n",
       "      <td>1334671</td>\n",
       "      <td>2016-05-07 10:32:18</td>\n",
       "      <td>1.00</td>\n",
       "      <td>1.00</td>\n",
       "      <td>1</td>\n",
       "      <td>1</td>\n",
       "      <td>5</td>\n",
       "      <td>10</td>\n",
       "      <td>18</td>\n",
       "      <td>0.040964</td>\n",
       "    </tr>\n",
       "  </tbody>\n",
       "</table>\n",
       "</div>"
      ],
      "text/plain": [
       "                  device_id gender  age age_group  event_id  \\\n",
       "845981  8879672715748670000      M   31     25-32   2222500   \n",
       "574637  3044177087333560000      M   53       32+    194010   \n",
       "22529   8658253277334370000      M   24      0-24    936688   \n",
       "248958  3903059712853410000      F   46       32+   1813060   \n",
       "363673  1652871882320730000      M   31     25-32   1334671   \n",
       "\n",
       "                 timestamp  longitude  latitude  Count  flag  Day_weeks  \\\n",
       "845981 2016-05-03 22:38:06     121.32     31.06      1     1          1   \n",
       "574637 2016-05-05 23:24:07     117.18     26.90      1     1          3   \n",
       "22529  2016-05-06 19:37:39     127.49     50.24      1     1          4   \n",
       "248958 2016-05-01 22:38:43     109.19     34.74      1     1          6   \n",
       "363673 2016-05-07 10:32:18       1.00      1.00      1     1          5   \n",
       "\n",
       "        hours  week_of_year   Average  \n",
       "845981     22            18  0.018620  \n",
       "574637     23            18  0.018038  \n",
       "22529      19            18  0.056907  \n",
       "248958     22            17  0.006866  \n",
       "363673     10            18  0.040964  "
      ]
     },
     "execution_count": 56,
     "metadata": {},
     "output_type": "execute_result"
    }
   ],
   "source": [
    "dfeventdata=dfeventdata.merge(Avgevent, on='device_id', how='inner')\n",
    "dfeventdata.sample(5)"
   ]
  },
  {
   "cell_type": "code",
   "execution_count": 57,
   "metadata": {
    "id": "RrKOH8OHV-JH"
   },
   "outputs": [],
   "source": [
    "#2. You can use the information related to the location of the users (latitude and longitude data) to create features representing changes in the latitude and longitude details at different times of the day."
   ]
  },
  {
   "cell_type": "code",
   "execution_count": 58,
   "metadata": {
    "colab": {
     "base_uri": "https://localhost:8080/",
     "height": 236
    },
    "id": "NVsma4Jno3uk",
    "outputId": "d13bf2f9-e908-45b3-f874-2c0bbadf5802"
   },
   "outputs": [
    {
     "data": {
      "text/html": [
       "<div>\n",
       "<style scoped>\n",
       "    .dataframe tbody tr th:only-of-type {\n",
       "        vertical-align: middle;\n",
       "    }\n",
       "\n",
       "    .dataframe tbody tr th {\n",
       "        vertical-align: top;\n",
       "    }\n",
       "\n",
       "    .dataframe thead th {\n",
       "        text-align: right;\n",
       "    }\n",
       "</style>\n",
       "<table border=\"1\" class=\"dataframe\">\n",
       "  <thead>\n",
       "    <tr style=\"text-align: right;\">\n",
       "      <th></th>\n",
       "      <th></th>\n",
       "      <th></th>\n",
       "      <th>Count</th>\n",
       "    </tr>\n",
       "    <tr>\n",
       "      <th>device_id</th>\n",
       "      <th>longitude</th>\n",
       "      <th>latitude</th>\n",
       "      <th></th>\n",
       "    </tr>\n",
       "  </thead>\n",
       "  <tbody>\n",
       "    <tr>\n",
       "      <th>1289243613815300000</th>\n",
       "      <th>119.28</th>\n",
       "      <th>26.10</th>\n",
       "      <td>2</td>\n",
       "    </tr>\n",
       "    <tr>\n",
       "      <th>5070792900202240000</th>\n",
       "      <th>106.58</th>\n",
       "      <th>29.65</th>\n",
       "      <td>1</td>\n",
       "    </tr>\n",
       "    <tr>\n",
       "      <th>1153910750523970000</th>\n",
       "      <th>108.78</th>\n",
       "      <th>34.23</th>\n",
       "      <td>11</td>\n",
       "    </tr>\n",
       "    <tr>\n",
       "      <th>5579147762755410000</th>\n",
       "      <th>114.26</th>\n",
       "      <th>30.57</th>\n",
       "      <td>1</td>\n",
       "    </tr>\n",
       "    <tr>\n",
       "      <th>5982602838212570000</th>\n",
       "      <th>115.90</th>\n",
       "      <th>28.66</th>\n",
       "      <td>2</td>\n",
       "    </tr>\n",
       "  </tbody>\n",
       "</table>\n",
       "</div>"
      ],
      "text/plain": [
       "                                        Count\n",
       "device_id           longitude latitude       \n",
       "1289243613815300000 119.28    26.10         2\n",
       "5070792900202240000 106.58    29.65         1\n",
       "1153910750523970000 108.78    34.23        11\n",
       "5579147762755410000 114.26    30.57         1\n",
       "5982602838212570000 115.90    28.66         2"
      ]
     },
     "execution_count": 58,
     "metadata": {},
     "output_type": "execute_result"
    }
   ],
   "source": [
    "dfloc=dfeventdata.groupby(['device_id','longitude','latitude'])['Count'].sum()\n",
    "dfloc=pd.DataFrame(data=dfloc)\n",
    "dfloc.sample(5)"
   ]
  },
  {
   "cell_type": "code",
   "execution_count": 59,
   "metadata": {
    "colab": {
     "base_uri": "https://localhost:8080/",
     "height": 236
    },
    "id": "ffMBKqu5NPb3",
    "outputId": "f3591d6e-ea05-49c0-be3c-9ea385526b88"
   },
   "outputs": [
    {
     "data": {
      "text/html": [
       "<div>\n",
       "<style scoped>\n",
       "    .dataframe tbody tr th:only-of-type {\n",
       "        vertical-align: middle;\n",
       "    }\n",
       "\n",
       "    .dataframe tbody tr th {\n",
       "        vertical-align: top;\n",
       "    }\n",
       "\n",
       "    .dataframe thead th {\n",
       "        text-align: right;\n",
       "    }\n",
       "</style>\n",
       "<table border=\"1\" class=\"dataframe\">\n",
       "  <thead>\n",
       "    <tr style=\"text-align: right;\">\n",
       "      <th></th>\n",
       "      <th>Count</th>\n",
       "    </tr>\n",
       "    <tr>\n",
       "      <th>device_id</th>\n",
       "      <th></th>\n",
       "    </tr>\n",
       "  </thead>\n",
       "  <tbody>\n",
       "    <tr>\n",
       "      <th>6793597291824870000</th>\n",
       "      <td>4</td>\n",
       "    </tr>\n",
       "    <tr>\n",
       "      <th>5255884550690110000</th>\n",
       "      <td>60</td>\n",
       "    </tr>\n",
       "    <tr>\n",
       "      <th>716242923594038000</th>\n",
       "      <td>14</td>\n",
       "    </tr>\n",
       "    <tr>\n",
       "      <th>5906807789525860000</th>\n",
       "      <td>5</td>\n",
       "    </tr>\n",
       "    <tr>\n",
       "      <th>5227797713911120000</th>\n",
       "      <td>138</td>\n",
       "    </tr>\n",
       "  </tbody>\n",
       "</table>\n",
       "</div>"
      ],
      "text/plain": [
       "                     Count\n",
       "device_id                 \n",
       "6793597291824870000      4\n",
       "5255884550690110000     60\n",
       "716242923594038000      14\n",
       "5906807789525860000      5\n",
       "5227797713911120000    138"
      ]
     },
     "execution_count": 59,
     "metadata": {},
     "output_type": "execute_result"
    }
   ],
   "source": [
    "dfcountdev=dfeventdata.groupby('device_id')['Count'].sum()\n",
    "dfcountdev=pd.DataFrame(data=dfcountdev)\n",
    "dfcountdev.sample(5)"
   ]
  },
  {
   "cell_type": "code",
   "execution_count": 60,
   "metadata": {
    "colab": {
     "base_uri": "https://localhost:8080/"
    },
    "id": "Ftd_oNTvNPYM",
    "outputId": "0fd92052-bb59-4d2c-d180-7a0c2407ac79"
   },
   "outputs": [
    {
     "data": {
      "text/plain": [
       "1    43392\n",
       "0     4980\n",
       "Name: c_flag, dtype: int64"
      ]
     },
     "execution_count": 60,
     "metadata": {},
     "output_type": "execute_result"
    }
   ],
   "source": [
    "dfloc=dfloc.merge(dfcountdev, on='device_id', how='left')\n",
    "dfloc['change']=dfloc['Count_x']/dfloc['Count_y']\n",
    "dfloc['c_flag']=dfloc['change'].apply(lambda x: 0 if x==1 else 1)\n",
    "dfloc['c_flag'].value_counts()"
   ]
  },
  {
   "cell_type": "code",
   "execution_count": 61,
   "metadata": {
    "colab": {
     "base_uri": "https://localhost:8080/"
    },
    "id": "KgLQ4q-CNPVj",
    "outputId": "f10b0532-990c-44dd-cb4f-1b972dd7632f"
   },
   "outputs": [
    {
     "data": {
      "text/plain": [
       "(7000, 2)"
      ]
     },
     "execution_count": 61,
     "metadata": {},
     "output_type": "execute_result"
    }
   ],
   "source": [
    "dfloc=dfloc.reset_index()\n",
    "dfloc=dfloc[dfloc['change']!=1]\n",
    "dfloc=dfloc[['device_id','c_flag']]\n",
    "dfloc.drop_duplicates(subset='device_id',inplace=True)\n",
    "dfloc.shape"
   ]
  },
  {
   "cell_type": "code",
   "execution_count": 62,
   "metadata": {
    "colab": {
     "base_uri": "https://localhost:8080/",
     "height": 205
    },
    "id": "KGnupN364HJ4",
    "outputId": "41a2156b-4e79-4d4a-da6c-c1b11fe2fc80"
   },
   "outputs": [
    {
     "data": {
      "text/html": [
       "<div>\n",
       "<style scoped>\n",
       "    .dataframe tbody tr th:only-of-type {\n",
       "        vertical-align: middle;\n",
       "    }\n",
       "\n",
       "    .dataframe tbody tr th {\n",
       "        vertical-align: top;\n",
       "    }\n",
       "\n",
       "    .dataframe thead th {\n",
       "        text-align: right;\n",
       "    }\n",
       "</style>\n",
       "<table border=\"1\" class=\"dataframe\">\n",
       "  <thead>\n",
       "    <tr style=\"text-align: right;\">\n",
       "      <th></th>\n",
       "      <th>device_id</th>\n",
       "      <th>c_flag</th>\n",
       "    </tr>\n",
       "  </thead>\n",
       "  <tbody>\n",
       "    <tr>\n",
       "      <th>8169</th>\n",
       "      <td>1672908181859390000</td>\n",
       "      <td>1</td>\n",
       "    </tr>\n",
       "    <tr>\n",
       "      <th>20633</th>\n",
       "      <td>3857410204003270000</td>\n",
       "      <td>1</td>\n",
       "    </tr>\n",
       "    <tr>\n",
       "      <th>44516</th>\n",
       "      <td>8425982648867560000</td>\n",
       "      <td>1</td>\n",
       "    </tr>\n",
       "    <tr>\n",
       "      <th>35534</th>\n",
       "      <td>6716140592517400000</td>\n",
       "      <td>1</td>\n",
       "    </tr>\n",
       "    <tr>\n",
       "      <th>8855</th>\n",
       "      <td>1800886563498980000</td>\n",
       "      <td>1</td>\n",
       "    </tr>\n",
       "  </tbody>\n",
       "</table>\n",
       "</div>"
      ],
      "text/plain": [
       "                 device_id  c_flag\n",
       "8169   1672908181859390000       1\n",
       "20633  3857410204003270000       1\n",
       "44516  8425982648867560000       1\n",
       "35534  6716140592517400000       1\n",
       "8855   1800886563498980000       1"
      ]
     },
     "execution_count": 62,
     "metadata": {},
     "output_type": "execute_result"
    }
   ],
   "source": [
    "dfloc.sample(5)"
   ]
  },
  {
   "cell_type": "code",
   "execution_count": 63,
   "metadata": {
    "colab": {
     "base_uri": "https://localhost:8080/"
    },
    "id": "4aVnKsu9NPOS",
    "outputId": "23fe66f1-62ad-4690-f0bc-b52d9e5a0b22"
   },
   "outputs": [
    {
     "data": {
      "text/plain": [
       "1    722628\n",
       "0    136665\n",
       "Name: change_flag, dtype: int64"
      ]
     },
     "execution_count": 63,
     "metadata": {},
     "output_type": "execute_result"
    }
   ],
   "source": [
    "dfeventdata=dfeventdata.merge(dfloc, on='device_id',how='left')\n",
    "dfeventdata['change_flag']=dfeventdata['c_flag'].apply(lambda x: 0 if x!=1 else 1)\n",
    "dfeventdata['change_flag'].value_counts()"
   ]
  },
  {
   "cell_type": "code",
   "execution_count": 64,
   "metadata": {
    "id": "H5NAwo3ANPEJ"
   },
   "outputs": [],
   "source": [
    "dfeventdata=dfeventdata.drop(columns=['c_flag'])"
   ]
  },
  {
   "cell_type": "code",
   "execution_count": 65,
   "metadata": {
    "colab": {
     "base_uri": "https://localhost:8080/",
     "height": 398
    },
    "id": "1RjYi5szPGD6",
    "outputId": "4269e573-280c-46de-eb84-b47fb56b89bf"
   },
   "outputs": [
    {
     "data": {
      "text/html": [
       "<div>\n",
       "<style scoped>\n",
       "    .dataframe tbody tr th:only-of-type {\n",
       "        vertical-align: middle;\n",
       "    }\n",
       "\n",
       "    .dataframe tbody tr th {\n",
       "        vertical-align: top;\n",
       "    }\n",
       "\n",
       "    .dataframe thead th {\n",
       "        text-align: right;\n",
       "    }\n",
       "</style>\n",
       "<table border=\"1\" class=\"dataframe\">\n",
       "  <thead>\n",
       "    <tr style=\"text-align: right;\">\n",
       "      <th></th>\n",
       "      <th>device_id</th>\n",
       "      <th>gender</th>\n",
       "      <th>age</th>\n",
       "      <th>age_group</th>\n",
       "      <th>event_id</th>\n",
       "      <th>timestamp</th>\n",
       "      <th>longitude</th>\n",
       "      <th>latitude</th>\n",
       "      <th>Count</th>\n",
       "      <th>flag</th>\n",
       "      <th>Day_weeks</th>\n",
       "      <th>hours</th>\n",
       "      <th>week_of_year</th>\n",
       "      <th>Average</th>\n",
       "      <th>change_flag</th>\n",
       "    </tr>\n",
       "  </thead>\n",
       "  <tbody>\n",
       "    <tr>\n",
       "      <th>0</th>\n",
       "      <td>9222956879900150000</td>\n",
       "      <td>M</td>\n",
       "      <td>36</td>\n",
       "      <td>32+</td>\n",
       "      <td>12679</td>\n",
       "      <td>2016-05-07 12:18:35</td>\n",
       "      <td>113.24</td>\n",
       "      <td>23.19</td>\n",
       "      <td>1</td>\n",
       "      <td>1</td>\n",
       "      <td>5</td>\n",
       "      <td>12</td>\n",
       "      <td>18</td>\n",
       "      <td>0.006051</td>\n",
       "      <td>0</td>\n",
       "    </tr>\n",
       "    <tr>\n",
       "      <th>1</th>\n",
       "      <td>9222956879900150000</td>\n",
       "      <td>M</td>\n",
       "      <td>36</td>\n",
       "      <td>32+</td>\n",
       "      <td>131849</td>\n",
       "      <td>2016-05-07 12:06:35</td>\n",
       "      <td>113.24</td>\n",
       "      <td>23.19</td>\n",
       "      <td>1</td>\n",
       "      <td>1</td>\n",
       "      <td>5</td>\n",
       "      <td>12</td>\n",
       "      <td>18</td>\n",
       "      <td>0.006051</td>\n",
       "      <td>0</td>\n",
       "    </tr>\n",
       "    <tr>\n",
       "      <th>2</th>\n",
       "      <td>9222956879900150000</td>\n",
       "      <td>M</td>\n",
       "      <td>36</td>\n",
       "      <td>32+</td>\n",
       "      <td>205471</td>\n",
       "      <td>2016-05-06 15:36:46</td>\n",
       "      <td>113.24</td>\n",
       "      <td>23.19</td>\n",
       "      <td>1</td>\n",
       "      <td>1</td>\n",
       "      <td>4</td>\n",
       "      <td>15</td>\n",
       "      <td>18</td>\n",
       "      <td>0.006051</td>\n",
       "      <td>0</td>\n",
       "    </tr>\n",
       "    <tr>\n",
       "      <th>3</th>\n",
       "      <td>9222956879900150000</td>\n",
       "      <td>M</td>\n",
       "      <td>36</td>\n",
       "      <td>32+</td>\n",
       "      <td>211711</td>\n",
       "      <td>2016-05-06 21:26:14</td>\n",
       "      <td>113.24</td>\n",
       "      <td>23.19</td>\n",
       "      <td>1</td>\n",
       "      <td>1</td>\n",
       "      <td>4</td>\n",
       "      <td>21</td>\n",
       "      <td>18</td>\n",
       "      <td>0.006051</td>\n",
       "      <td>0</td>\n",
       "    </tr>\n",
       "    <tr>\n",
       "      <th>4</th>\n",
       "      <td>9222956879900150000</td>\n",
       "      <td>M</td>\n",
       "      <td>36</td>\n",
       "      <td>32+</td>\n",
       "      <td>229069</td>\n",
       "      <td>2016-05-06 15:34:19</td>\n",
       "      <td>113.24</td>\n",
       "      <td>23.19</td>\n",
       "      <td>1</td>\n",
       "      <td>1</td>\n",
       "      <td>4</td>\n",
       "      <td>15</td>\n",
       "      <td>18</td>\n",
       "      <td>0.006051</td>\n",
       "      <td>0</td>\n",
       "    </tr>\n",
       "  </tbody>\n",
       "</table>\n",
       "</div>"
      ],
      "text/plain": [
       "             device_id gender  age age_group  event_id           timestamp  \\\n",
       "0  9222956879900150000      M   36       32+     12679 2016-05-07 12:18:35   \n",
       "1  9222956879900150000      M   36       32+    131849 2016-05-07 12:06:35   \n",
       "2  9222956879900150000      M   36       32+    205471 2016-05-06 15:36:46   \n",
       "3  9222956879900150000      M   36       32+    211711 2016-05-06 21:26:14   \n",
       "4  9222956879900150000      M   36       32+    229069 2016-05-06 15:34:19   \n",
       "\n",
       "   longitude  latitude  Count  flag  Day_weeks  hours  week_of_year   Average  \\\n",
       "0     113.24     23.19      1     1          5     12            18  0.006051   \n",
       "1     113.24     23.19      1     1          5     12            18  0.006051   \n",
       "2     113.24     23.19      1     1          4     15            18  0.006051   \n",
       "3     113.24     23.19      1     1          4     21            18  0.006051   \n",
       "4     113.24     23.19      1     1          4     15            18  0.006051   \n",
       "\n",
       "   change_flag  \n",
       "0            0  \n",
       "1            0  \n",
       "2            0  \n",
       "3            0  \n",
       "4            0  "
      ]
     },
     "execution_count": 65,
     "metadata": {},
     "output_type": "execute_result"
    }
   ],
   "source": [
    "dfeventdata.head(5)"
   ]
  },
  {
   "cell_type": "code",
   "execution_count": 66,
   "metadata": {
    "id": "RltZepQGo6he"
   },
   "outputs": [],
   "source": [
    "#3.You can create features such as Median Latitude and Median Longitude for different event ids."
   ]
  },
  {
   "cell_type": "code",
   "execution_count": 67,
   "metadata": {
    "colab": {
     "base_uri": "https://localhost:8080/",
     "height": 398
    },
    "id": "BwE0skfTqTxd",
    "outputId": "27036f80-3ea8-4928-8c86-013a8ea2117f"
   },
   "outputs": [
    {
     "data": {
      "text/html": [
       "<div>\n",
       "<style scoped>\n",
       "    .dataframe tbody tr th:only-of-type {\n",
       "        vertical-align: middle;\n",
       "    }\n",
       "\n",
       "    .dataframe tbody tr th {\n",
       "        vertical-align: top;\n",
       "    }\n",
       "\n",
       "    .dataframe thead th {\n",
       "        text-align: right;\n",
       "    }\n",
       "</style>\n",
       "<table border=\"1\" class=\"dataframe\">\n",
       "  <thead>\n",
       "    <tr style=\"text-align: right;\">\n",
       "      <th></th>\n",
       "      <th>device_id</th>\n",
       "      <th>gender</th>\n",
       "      <th>age</th>\n",
       "      <th>age_group</th>\n",
       "      <th>event_id</th>\n",
       "      <th>timestamp</th>\n",
       "      <th>longitude</th>\n",
       "      <th>latitude</th>\n",
       "      <th>Count</th>\n",
       "      <th>flag</th>\n",
       "      <th>Day_weeks</th>\n",
       "      <th>hours</th>\n",
       "      <th>week_of_year</th>\n",
       "      <th>Average</th>\n",
       "      <th>change_flag</th>\n",
       "      <th>lg_median</th>\n",
       "    </tr>\n",
       "  </thead>\n",
       "  <tbody>\n",
       "    <tr>\n",
       "      <th>379725</th>\n",
       "      <td>1348266885080490000</td>\n",
       "      <td>M</td>\n",
       "      <td>23</td>\n",
       "      <td>0-24</td>\n",
       "      <td>1023888</td>\n",
       "      <td>2016-05-06 21:40:13</td>\n",
       "      <td>123.50</td>\n",
       "      <td>41.73</td>\n",
       "      <td>1</td>\n",
       "      <td>1</td>\n",
       "      <td>4</td>\n",
       "      <td>21</td>\n",
       "      <td>18</td>\n",
       "      <td>0.005120</td>\n",
       "      <td>1</td>\n",
       "      <td>123.50</td>\n",
       "    </tr>\n",
       "    <tr>\n",
       "      <th>744941</th>\n",
       "      <td>6556238795193780000</td>\n",
       "      <td>M</td>\n",
       "      <td>30</td>\n",
       "      <td>25-32</td>\n",
       "      <td>342219</td>\n",
       "      <td>2016-05-05 08:51:39</td>\n",
       "      <td>121.05</td>\n",
       "      <td>28.18</td>\n",
       "      <td>1</td>\n",
       "      <td>1</td>\n",
       "      <td>3</td>\n",
       "      <td>8</td>\n",
       "      <td>18</td>\n",
       "      <td>0.093798</td>\n",
       "      <td>1</td>\n",
       "      <td>121.05</td>\n",
       "    </tr>\n",
       "    <tr>\n",
       "      <th>617024</th>\n",
       "      <td>3938296868828970000</td>\n",
       "      <td>M</td>\n",
       "      <td>18</td>\n",
       "      <td>0-24</td>\n",
       "      <td>1260188</td>\n",
       "      <td>2016-05-05 18:41:21</td>\n",
       "      <td>116.58</td>\n",
       "      <td>23.66</td>\n",
       "      <td>1</td>\n",
       "      <td>1</td>\n",
       "      <td>3</td>\n",
       "      <td>18</td>\n",
       "      <td>18</td>\n",
       "      <td>0.004189</td>\n",
       "      <td>0</td>\n",
       "      <td>116.58</td>\n",
       "    </tr>\n",
       "    <tr>\n",
       "      <th>81005</th>\n",
       "      <td>7417241229334250000</td>\n",
       "      <td>M</td>\n",
       "      <td>40</td>\n",
       "      <td>32+</td>\n",
       "      <td>242496</td>\n",
       "      <td>2016-05-06 04:08:38</td>\n",
       "      <td>108.37</td>\n",
       "      <td>30.83</td>\n",
       "      <td>1</td>\n",
       "      <td>1</td>\n",
       "      <td>4</td>\n",
       "      <td>4</td>\n",
       "      <td>18</td>\n",
       "      <td>0.111720</td>\n",
       "      <td>1</td>\n",
       "      <td>108.37</td>\n",
       "    </tr>\n",
       "    <tr>\n",
       "      <th>474177</th>\n",
       "      <td>992109739203134000</td>\n",
       "      <td>F</td>\n",
       "      <td>52</td>\n",
       "      <td>32+</td>\n",
       "      <td>2729476</td>\n",
       "      <td>2016-05-02 15:22:28</td>\n",
       "      <td>123.48</td>\n",
       "      <td>41.78</td>\n",
       "      <td>1</td>\n",
       "      <td>1</td>\n",
       "      <td>0</td>\n",
       "      <td>15</td>\n",
       "      <td>18</td>\n",
       "      <td>0.028395</td>\n",
       "      <td>1</td>\n",
       "      <td>123.48</td>\n",
       "    </tr>\n",
       "  </tbody>\n",
       "</table>\n",
       "</div>"
      ],
      "text/plain": [
       "                  device_id gender  age age_group  event_id  \\\n",
       "379725  1348266885080490000      M   23      0-24   1023888   \n",
       "744941  6556238795193780000      M   30     25-32    342219   \n",
       "617024  3938296868828970000      M   18      0-24   1260188   \n",
       "81005   7417241229334250000      M   40       32+    242496   \n",
       "474177   992109739203134000      F   52       32+   2729476   \n",
       "\n",
       "                 timestamp  longitude  latitude  Count  flag  Day_weeks  \\\n",
       "379725 2016-05-06 21:40:13     123.50     41.73      1     1          4   \n",
       "744941 2016-05-05 08:51:39     121.05     28.18      1     1          3   \n",
       "617024 2016-05-05 18:41:21     116.58     23.66      1     1          3   \n",
       "81005  2016-05-06 04:08:38     108.37     30.83      1     1          4   \n",
       "474177 2016-05-02 15:22:28     123.48     41.78      1     1          0   \n",
       "\n",
       "        hours  week_of_year   Average  change_flag  lg_median  \n",
       "379725     21            18  0.005120            1     123.50  \n",
       "744941      8            18  0.093798            1     121.05  \n",
       "617024     18            18  0.004189            0     116.58  \n",
       "81005       4            18  0.111720            1     108.37  \n",
       "474177     15            18  0.028395            1     123.48  "
      ]
     },
     "execution_count": 67,
     "metadata": {},
     "output_type": "execute_result"
    }
   ],
   "source": [
    "dflonglat=dfeventdata.groupby('event_id')['longitude'].median()\n",
    "dflonglat=pd.DataFrame(data=dflonglat)\n",
    "dflonglat.rename(columns={'longitude':'lg_median'},inplace=True)\n",
    "dflonglat.sample(5)\n",
    "dfeventdata=dfeventdata.merge(dflonglat, on='event_id', how='inner')\n",
    "dfeventdata.sample(5)"
   ]
  },
  {
   "cell_type": "code",
   "execution_count": 68,
   "metadata": {
    "colab": {
     "base_uri": "https://localhost:8080/",
     "height": 398
    },
    "id": "7RTzlujFqTc2",
    "outputId": "269e32cc-7eed-4e4b-9afd-080dcb7b8673"
   },
   "outputs": [
    {
     "data": {
      "text/html": [
       "<div>\n",
       "<style scoped>\n",
       "    .dataframe tbody tr th:only-of-type {\n",
       "        vertical-align: middle;\n",
       "    }\n",
       "\n",
       "    .dataframe tbody tr th {\n",
       "        vertical-align: top;\n",
       "    }\n",
       "\n",
       "    .dataframe thead th {\n",
       "        text-align: right;\n",
       "    }\n",
       "</style>\n",
       "<table border=\"1\" class=\"dataframe\">\n",
       "  <thead>\n",
       "    <tr style=\"text-align: right;\">\n",
       "      <th></th>\n",
       "      <th>device_id</th>\n",
       "      <th>gender</th>\n",
       "      <th>age</th>\n",
       "      <th>age_group</th>\n",
       "      <th>event_id</th>\n",
       "      <th>timestamp</th>\n",
       "      <th>longitude</th>\n",
       "      <th>latitude</th>\n",
       "      <th>Count</th>\n",
       "      <th>flag</th>\n",
       "      <th>Day_weeks</th>\n",
       "      <th>hours</th>\n",
       "      <th>week_of_year</th>\n",
       "      <th>Average</th>\n",
       "      <th>change_flag</th>\n",
       "      <th>lg_median</th>\n",
       "      <th>lt_median</th>\n",
       "    </tr>\n",
       "  </thead>\n",
       "  <tbody>\n",
       "    <tr>\n",
       "      <th>656902</th>\n",
       "      <td>4804474219212560000</td>\n",
       "      <td>F</td>\n",
       "      <td>43</td>\n",
       "      <td>32+</td>\n",
       "      <td>2850999</td>\n",
       "      <td>2016-05-04 09:57:27</td>\n",
       "      <td>114.21</td>\n",
       "      <td>35.62</td>\n",
       "      <td>1</td>\n",
       "      <td>1</td>\n",
       "      <td>2</td>\n",
       "      <td>9</td>\n",
       "      <td>18</td>\n",
       "      <td>0.012918</td>\n",
       "      <td>1</td>\n",
       "      <td>114.21</td>\n",
       "      <td>35.62</td>\n",
       "    </tr>\n",
       "    <tr>\n",
       "      <th>560215</th>\n",
       "      <td>2726339378971290000</td>\n",
       "      <td>F</td>\n",
       "      <td>37</td>\n",
       "      <td>32+</td>\n",
       "      <td>2123731</td>\n",
       "      <td>2016-05-05 22:22:47</td>\n",
       "      <td>113.58</td>\n",
       "      <td>23.56</td>\n",
       "      <td>1</td>\n",
       "      <td>1</td>\n",
       "      <td>3</td>\n",
       "      <td>22</td>\n",
       "      <td>18</td>\n",
       "      <td>0.010125</td>\n",
       "      <td>1</td>\n",
       "      <td>113.58</td>\n",
       "      <td>23.56</td>\n",
       "    </tr>\n",
       "    <tr>\n",
       "      <th>475276</th>\n",
       "      <td>1023369573882580000</td>\n",
       "      <td>M</td>\n",
       "      <td>30</td>\n",
       "      <td>25-32</td>\n",
       "      <td>3166206</td>\n",
       "      <td>2016-05-03 19:15:26</td>\n",
       "      <td>114.48</td>\n",
       "      <td>22.99</td>\n",
       "      <td>1</td>\n",
       "      <td>1</td>\n",
       "      <td>1</td>\n",
       "      <td>19</td>\n",
       "      <td>18</td>\n",
       "      <td>0.053765</td>\n",
       "      <td>1</td>\n",
       "      <td>114.48</td>\n",
       "      <td>22.99</td>\n",
       "    </tr>\n",
       "    <tr>\n",
       "      <th>730626</th>\n",
       "      <td>6252266641108360000</td>\n",
       "      <td>F</td>\n",
       "      <td>39</td>\n",
       "      <td>32+</td>\n",
       "      <td>110716</td>\n",
       "      <td>2016-05-06 18:22:12</td>\n",
       "      <td>113.89</td>\n",
       "      <td>23.06</td>\n",
       "      <td>1</td>\n",
       "      <td>1</td>\n",
       "      <td>4</td>\n",
       "      <td>18</td>\n",
       "      <td>18</td>\n",
       "      <td>0.030490</td>\n",
       "      <td>1</td>\n",
       "      <td>113.89</td>\n",
       "      <td>23.06</td>\n",
       "    </tr>\n",
       "    <tr>\n",
       "      <th>105332</th>\n",
       "      <td>6925480406979320000</td>\n",
       "      <td>F</td>\n",
       "      <td>27</td>\n",
       "      <td>25-32</td>\n",
       "      <td>2488704</td>\n",
       "      <td>2016-05-01 21:03:46</td>\n",
       "      <td>116.97</td>\n",
       "      <td>32.62</td>\n",
       "      <td>1</td>\n",
       "      <td>1</td>\n",
       "      <td>6</td>\n",
       "      <td>21</td>\n",
       "      <td>17</td>\n",
       "      <td>0.013034</td>\n",
       "      <td>1</td>\n",
       "      <td>116.97</td>\n",
       "      <td>32.62</td>\n",
       "    </tr>\n",
       "  </tbody>\n",
       "</table>\n",
       "</div>"
      ],
      "text/plain": [
       "                  device_id gender  age age_group  event_id  \\\n",
       "656902  4804474219212560000      F   43       32+   2850999   \n",
       "560215  2726339378971290000      F   37       32+   2123731   \n",
       "475276  1023369573882580000      M   30     25-32   3166206   \n",
       "730626  6252266641108360000      F   39       32+    110716   \n",
       "105332  6925480406979320000      F   27     25-32   2488704   \n",
       "\n",
       "                 timestamp  longitude  latitude  Count  flag  Day_weeks  \\\n",
       "656902 2016-05-04 09:57:27     114.21     35.62      1     1          2   \n",
       "560215 2016-05-05 22:22:47     113.58     23.56      1     1          3   \n",
       "475276 2016-05-03 19:15:26     114.48     22.99      1     1          1   \n",
       "730626 2016-05-06 18:22:12     113.89     23.06      1     1          4   \n",
       "105332 2016-05-01 21:03:46     116.97     32.62      1     1          6   \n",
       "\n",
       "        hours  week_of_year   Average  change_flag  lg_median  lt_median  \n",
       "656902      9            18  0.012918            1     114.21      35.62  \n",
       "560215     22            18  0.010125            1     113.58      23.56  \n",
       "475276     19            18  0.053765            1     114.48      22.99  \n",
       "730626     18            18  0.030490            1     113.89      23.06  \n",
       "105332     21            17  0.013034            1     116.97      32.62  "
      ]
     },
     "execution_count": 68,
     "metadata": {},
     "output_type": "execute_result"
    }
   ],
   "source": [
    "dflonglat=dfeventdata.groupby('event_id')['latitude'].median()\n",
    "dflonglat=pd.DataFrame(data=dflonglat)\n",
    "dflonglat.rename(columns={'latitude':'lt_median'},inplace=True)\n",
    "dfeventdata=dfeventdata.merge(dflonglat, on='event_id', how='inner')\n",
    "dfeventdata.sample(5)"
   ]
  },
  {
   "cell_type": "code",
   "execution_count": null,
   "metadata": {
    "id": "RmgCRDhj7NZ5"
   },
   "outputs": [],
   "source": []
  },
  {
   "cell_type": "code",
   "execution_count": 69,
   "metadata": {
    "id": "WT-WB1FE7Z4T"
   },
   "outputs": [],
   "source": [
    "#4.You can also group the existing categories to create a new supercategory #that will establish a significance in predicting the outcome variable."
   ]
  },
  {
   "cell_type": "code",
   "execution_count": 70,
   "metadata": {
    "id": "-RaeFtr27dpK"
   },
   "outputs": [],
   "source": [
    "dflabeldata[\"category\"]=dflabeldata[\"category\"].str.lower()"
   ]
  },
  {
   "cell_type": "code",
   "execution_count": 71,
   "metadata": {
    "id": "C6GsCOEV7h_7"
   },
   "outputs": [],
   "source": [
    "dflabeldata['super_category_game']=dflabeldata['category'].str.contains('game')"
   ]
  },
  {
   "cell_type": "code",
   "execution_count": 72,
   "metadata": {
    "colab": {
     "base_uri": "https://localhost:8080/"
    },
    "id": "tkm92RXk7uNJ",
    "outputId": "75895768-a352-44d6-e841-f67e7cc9f0e3"
   },
   "outputs": [
    {
     "data": {
      "text/plain": [
       "False    431593\n",
       "True       5242\n",
       "Name: super_finance, dtype: int64"
      ]
     },
     "execution_count": 72,
     "metadata": {},
     "output_type": "execute_result"
    }
   ],
   "source": [
    "dflabeldata['super_finance']=(dflabeldata['category'].str.contains('finance') | dflabeldata['category'].str.contains('loan') | dflabeldata['category'].str.contains('exchange')|\n",
    "                              dflabeldata['category'].str.contains('equity')|dflabeldata['category'].str.contains('bank'))\n",
    "dflabeldata['super_finance'].value_counts()"
   ]
  },
  {
   "cell_type": "code",
   "execution_count": 73,
   "metadata": {
    "colab": {
     "base_uri": "https://localhost:8080/"
    },
    "id": "TG6az93Q8ahn",
    "outputId": "b3d6a253-d65f-48ab-a8ef-c413b8549a6c"
   },
   "outputs": [
    {
     "data": {
      "text/plain": [
       "False    436257\n",
       "True        578\n",
       "Name: super_travel, dtype: int64"
      ]
     },
     "execution_count": 73,
     "metadata": {},
     "output_type": "execute_result"
    }
   ],
   "source": [
    "dflabeldata['super_travel']=(dflabeldata['category'].str.contains('travel') | dflabeldata['category'].str.contains('aviation') | dflabeldata['category'].str.contains('rentals'))\n",
    "dflabeldata['super_travel'].value_counts()"
   ]
  },
  {
   "cell_type": "code",
   "execution_count": 74,
   "metadata": {
    "colab": {
     "base_uri": "https://localhost:8080/"
    },
    "id": "6dJjSioNTv3Q",
    "outputId": "b9121a41-d550-41cc-f8d6-1ed361b76b3a"
   },
   "outputs": [
    {
     "data": {
      "text/plain": [
       "False    436799\n",
       "True         36\n",
       "Name: super_health, dtype: int64"
      ]
     },
     "execution_count": 74,
     "metadata": {},
     "output_type": "execute_result"
    }
   ],
   "source": [
    "dflabeldata['super_health']=(dflabeldata['category'].str.contains('beauty') |dflabeldata['category'].str.contains('health') )\n",
    "dflabeldata['super_health'].value_counts()"
   ]
  },
  {
   "cell_type": "code",
   "execution_count": 75,
   "metadata": {
    "id": "qeqnkya-Tvr9"
   },
   "outputs": [],
   "source": [
    "dflabeldata['others']=(~dflabeldata['super_travel'] | ~dflabeldata['super_finance'] | ~dflabeldata['super_category_game'] |~dflabeldata['super_health'])"
   ]
  },
  {
   "cell_type": "code",
   "execution_count": 76,
   "metadata": {
    "id": "2n17X6qBTvit"
   },
   "outputs": [],
   "source": [
    "dflabeldata['super_category_game']=dflabeldata['super_category_game'].apply(lambda x: 1 if x==True else 0)\n",
    "dflabeldata['super_finance']=dflabeldata['super_finance'].apply(lambda x: 1 if x==True else 0)\n",
    "dflabeldata['super_travel']=dflabeldata['super_travel'].apply(lambda x: 1 if x==True else 0)\n",
    "dflabeldata['super_health']=dflabeldata['super_health'].apply(lambda x: 1 if x==True else 0)\n",
    "dflabeldata['others']=dflabeldata['others'].apply(lambda x: 1 if x==True else 0)"
   ]
  },
  {
   "cell_type": "code",
   "execution_count": 77,
   "metadata": {
    "colab": {
     "base_uri": "https://localhost:8080/",
     "height": 205
    },
    "id": "GPvEb4jATvT5",
    "outputId": "ae6c5e9b-3f50-41f4-d27c-7dde6c98520b"
   },
   "outputs": [
    {
     "data": {
      "text/html": [
       "<div>\n",
       "<style scoped>\n",
       "    .dataframe tbody tr th:only-of-type {\n",
       "        vertical-align: middle;\n",
       "    }\n",
       "\n",
       "    .dataframe tbody tr th {\n",
       "        vertical-align: top;\n",
       "    }\n",
       "\n",
       "    .dataframe thead th {\n",
       "        text-align: right;\n",
       "    }\n",
       "</style>\n",
       "<table border=\"1\" class=\"dataframe\">\n",
       "  <thead>\n",
       "    <tr style=\"text-align: right;\">\n",
       "      <th></th>\n",
       "      <th>app_id</th>\n",
       "      <th>category</th>\n",
       "      <th>super_category_game</th>\n",
       "      <th>super_finance</th>\n",
       "      <th>super_travel</th>\n",
       "      <th>super_health</th>\n",
       "      <th>others</th>\n",
       "    </tr>\n",
       "  </thead>\n",
       "  <tbody>\n",
       "    <tr>\n",
       "      <th>336660</th>\n",
       "      <td>983998797291748388</td>\n",
       "      <td>relatives</td>\n",
       "      <td>0</td>\n",
       "      <td>0</td>\n",
       "      <td>0</td>\n",
       "      <td>0</td>\n",
       "      <td>1</td>\n",
       "    </tr>\n",
       "    <tr>\n",
       "      <th>118414</th>\n",
       "      <td>2545737006761375069</td>\n",
       "      <td>families with babies</td>\n",
       "      <td>0</td>\n",
       "      <td>0</td>\n",
       "      <td>0</td>\n",
       "      <td>0</td>\n",
       "      <td>1</td>\n",
       "    </tr>\n",
       "    <tr>\n",
       "      <th>138513</th>\n",
       "      <td>6567746363264558544</td>\n",
       "      <td>industry tag</td>\n",
       "      <td>0</td>\n",
       "      <td>0</td>\n",
       "      <td>0</td>\n",
       "      <td>0</td>\n",
       "      <td>1</td>\n",
       "    </tr>\n",
       "    <tr>\n",
       "      <th>199468</th>\n",
       "      <td>2980108404625706770</td>\n",
       "      <td>custom label</td>\n",
       "      <td>0</td>\n",
       "      <td>0</td>\n",
       "      <td>0</td>\n",
       "      <td>0</td>\n",
       "      <td>1</td>\n",
       "    </tr>\n",
       "    <tr>\n",
       "      <th>192228</th>\n",
       "      <td>8280676163071030626</td>\n",
       "      <td>custom label</td>\n",
       "      <td>0</td>\n",
       "      <td>0</td>\n",
       "      <td>0</td>\n",
       "      <td>0</td>\n",
       "      <td>1</td>\n",
       "    </tr>\n",
       "  </tbody>\n",
       "</table>\n",
       "</div>"
      ],
      "text/plain": [
       "                     app_id              category  super_category_game  \\\n",
       "336660   983998797291748388             relatives                    0   \n",
       "118414  2545737006761375069  families with babies                    0   \n",
       "138513  6567746363264558544          industry tag                    0   \n",
       "199468  2980108404625706770          custom label                    0   \n",
       "192228  8280676163071030626          custom label                    0   \n",
       "\n",
       "        super_finance  super_travel  super_health  others  \n",
       "336660              0             0             0       1  \n",
       "118414              0             0             0       1  \n",
       "138513              0             0             0       1  \n",
       "199468              0             0             0       1  \n",
       "192228              0             0             0       1  "
      ]
     },
     "execution_count": 77,
     "metadata": {},
     "output_type": "execute_result"
    }
   ],
   "source": [
    "dflabeldata.sample(5)"
   ]
  },
  {
   "cell_type": "code",
   "execution_count": null,
   "metadata": {
    "id": "UOV87BA0P3ZG"
   },
   "outputs": [],
   "source": []
  },
  {
   "cell_type": "code",
   "execution_count": 78,
   "metadata": {
    "id": "Z0nrBIhggoxs"
   },
   "outputs": [],
   "source": [
    "#Clustering"
   ]
  },
  {
   "cell_type": "code",
   "execution_count": 79,
   "metadata": {},
   "outputs": [
    {
     "name": "stdout",
     "output_type": "stream",
     "text": [
      "Defaulting to user installation because normal site-packages is not writeable\n",
      "Requirement already satisfied: scikit-learn in ./.local/lib/python3.7/site-packages (1.0)\n",
      "Requirement already satisfied: joblib>=0.11 in ./.local/lib/python3.7/site-packages (from scikit-learn) (1.1.0)\n",
      "Requirement already satisfied: threadpoolctl>=2.0.0 in ./.local/lib/python3.7/site-packages (from scikit-learn) (3.0.0)\n",
      "Requirement already satisfied: numpy>=1.14.6 in ./.local/lib/python3.7/site-packages (from scikit-learn) (1.21.3)\n",
      "Requirement already satisfied: scipy>=1.1.0 in ./.local/lib/python3.7/site-packages (from scikit-learn) (1.7.1)\n"
     ]
    }
   ],
   "source": [
    "#Installing scikit-learn\n",
    "!pip3 install scikit-learn"
   ]
  },
  {
   "cell_type": "code",
   "execution_count": 80,
   "metadata": {},
   "outputs": [],
   "source": [
    "import sklearn"
   ]
  },
  {
   "cell_type": "code",
   "execution_count": 81,
   "metadata": {
    "id": "qFo6Na1pgrSD"
   },
   "outputs": [],
   "source": [
    "from sklearn import datasets\n",
    "from sklearn.preprocessing import StandardScaler\n",
    "from sklearn.cluster import DBSCAN"
   ]
  },
  {
   "cell_type": "code",
   "execution_count": 82,
   "metadata": {
    "colab": {
     "base_uri": "https://localhost:8080/",
     "height": 398
    },
    "id": "H3ZRd0_ygtfh",
    "outputId": "dae21df3-96ec-4a6d-e1e5-b92ea6995f3e"
   },
   "outputs": [
    {
     "data": {
      "text/html": [
       "<div>\n",
       "<style scoped>\n",
       "    .dataframe tbody tr th:only-of-type {\n",
       "        vertical-align: middle;\n",
       "    }\n",
       "\n",
       "    .dataframe tbody tr th {\n",
       "        vertical-align: top;\n",
       "    }\n",
       "\n",
       "    .dataframe thead th {\n",
       "        text-align: right;\n",
       "    }\n",
       "</style>\n",
       "<table border=\"1\" class=\"dataframe\">\n",
       "  <thead>\n",
       "    <tr style=\"text-align: right;\">\n",
       "      <th></th>\n",
       "      <th>device_id</th>\n",
       "      <th>gender</th>\n",
       "      <th>age</th>\n",
       "      <th>age_group</th>\n",
       "      <th>event_id</th>\n",
       "      <th>timestamp</th>\n",
       "      <th>longitude</th>\n",
       "      <th>latitude</th>\n",
       "      <th>Count</th>\n",
       "      <th>flag</th>\n",
       "      <th>Day_weeks</th>\n",
       "      <th>hours</th>\n",
       "      <th>week_of_year</th>\n",
       "      <th>Average</th>\n",
       "      <th>change_flag</th>\n",
       "      <th>lg_median</th>\n",
       "      <th>lt_median</th>\n",
       "    </tr>\n",
       "  </thead>\n",
       "  <tbody>\n",
       "    <tr>\n",
       "      <th>538532</th>\n",
       "      <td>2358250186430570000</td>\n",
       "      <td>M</td>\n",
       "      <td>43</td>\n",
       "      <td>32+</td>\n",
       "      <td>939319</td>\n",
       "      <td>2016-05-05 21:47:24</td>\n",
       "      <td>112.26</td>\n",
       "      <td>30.32</td>\n",
       "      <td>1</td>\n",
       "      <td>1</td>\n",
       "      <td>3</td>\n",
       "      <td>21</td>\n",
       "      <td>18</td>\n",
       "      <td>0.070058</td>\n",
       "      <td>1</td>\n",
       "      <td>112.26</td>\n",
       "      <td>30.32</td>\n",
       "    </tr>\n",
       "    <tr>\n",
       "      <th>515983</th>\n",
       "      <td>1858929737091030000</td>\n",
       "      <td>F</td>\n",
       "      <td>34</td>\n",
       "      <td>32+</td>\n",
       "      <td>2883946</td>\n",
       "      <td>2016-05-03 16:32:34</td>\n",
       "      <td>117.13</td>\n",
       "      <td>39.22</td>\n",
       "      <td>1</td>\n",
       "      <td>1</td>\n",
       "      <td>1</td>\n",
       "      <td>16</td>\n",
       "      <td>18</td>\n",
       "      <td>0.010823</td>\n",
       "      <td>1</td>\n",
       "      <td>117.13</td>\n",
       "      <td>39.22</td>\n",
       "    </tr>\n",
       "    <tr>\n",
       "      <th>78215</th>\n",
       "      <td>7505063740126950000</td>\n",
       "      <td>M</td>\n",
       "      <td>34</td>\n",
       "      <td>32+</td>\n",
       "      <td>666069</td>\n",
       "      <td>2016-05-04 04:42:38</td>\n",
       "      <td>117.17</td>\n",
       "      <td>39.14</td>\n",
       "      <td>1</td>\n",
       "      <td>1</td>\n",
       "      <td>2</td>\n",
       "      <td>4</td>\n",
       "      <td>18</td>\n",
       "      <td>0.040731</td>\n",
       "      <td>1</td>\n",
       "      <td>117.17</td>\n",
       "      <td>39.14</td>\n",
       "    </tr>\n",
       "    <tr>\n",
       "      <th>202301</th>\n",
       "      <td>4995671438514200000</td>\n",
       "      <td>M</td>\n",
       "      <td>41</td>\n",
       "      <td>32+</td>\n",
       "      <td>1108071</td>\n",
       "      <td>2016-05-02 03:28:40</td>\n",
       "      <td>106.69</td>\n",
       "      <td>26.51</td>\n",
       "      <td>1</td>\n",
       "      <td>1</td>\n",
       "      <td>0</td>\n",
       "      <td>3</td>\n",
       "      <td>18</td>\n",
       "      <td>0.005819</td>\n",
       "      <td>1</td>\n",
       "      <td>106.69</td>\n",
       "      <td>26.51</td>\n",
       "    </tr>\n",
       "    <tr>\n",
       "      <th>33465</th>\n",
       "      <td>8417909748264590000</td>\n",
       "      <td>F</td>\n",
       "      <td>31</td>\n",
       "      <td>25-32</td>\n",
       "      <td>3063616</td>\n",
       "      <td>2016-05-07 06:34:23</td>\n",
       "      <td>106.49</td>\n",
       "      <td>29.75</td>\n",
       "      <td>1</td>\n",
       "      <td>1</td>\n",
       "      <td>5</td>\n",
       "      <td>6</td>\n",
       "      <td>18</td>\n",
       "      <td>0.065053</td>\n",
       "      <td>0</td>\n",
       "      <td>106.49</td>\n",
       "      <td>29.75</td>\n",
       "    </tr>\n",
       "  </tbody>\n",
       "</table>\n",
       "</div>"
      ],
      "text/plain": [
       "                  device_id gender  age age_group  event_id  \\\n",
       "538532  2358250186430570000      M   43       32+    939319   \n",
       "515983  1858929737091030000      F   34       32+   2883946   \n",
       "78215   7505063740126950000      M   34       32+    666069   \n",
       "202301  4995671438514200000      M   41       32+   1108071   \n",
       "33465   8417909748264590000      F   31     25-32   3063616   \n",
       "\n",
       "                 timestamp  longitude  latitude  Count  flag  Day_weeks  \\\n",
       "538532 2016-05-05 21:47:24     112.26     30.32      1     1          3   \n",
       "515983 2016-05-03 16:32:34     117.13     39.22      1     1          1   \n",
       "78215  2016-05-04 04:42:38     117.17     39.14      1     1          2   \n",
       "202301 2016-05-02 03:28:40     106.69     26.51      1     1          0   \n",
       "33465  2016-05-07 06:34:23     106.49     29.75      1     1          5   \n",
       "\n",
       "        hours  week_of_year   Average  change_flag  lg_median  lt_median  \n",
       "538532     21            18  0.070058            1     112.26      30.32  \n",
       "515983     16            18  0.010823            1     117.13      39.22  \n",
       "78215       4            18  0.040731            1     117.17      39.14  \n",
       "202301      3            18  0.005819            1     106.69      26.51  \n",
       "33465       6            18  0.065053            0     106.49      29.75  "
      ]
     },
     "execution_count": 82,
     "metadata": {},
     "output_type": "execute_result"
    }
   ],
   "source": [
    "dfeventdata.sample(5)"
   ]
  },
  {
   "cell_type": "code",
   "execution_count": 83,
   "metadata": {
    "colab": {
     "base_uri": "https://localhost:8080/"
    },
    "id": "3Hzelt0VgxiJ",
    "outputId": "dc3258b1-f593-4472-96e7-52a237fa1d7f"
   },
   "outputs": [
    {
     "data": {
      "text/plain": [
       "(                 device_id  lg_median  lt_median  Count\n",
       " 6220   1310531206624290000     114.19      30.60      3\n",
       " 45836  8669915825062050000     113.87      34.22      5\n",
       " 1319    291409447840670000     108.21      34.27     41\n",
       " 40987  7730364354275370000     117.11      36.85     40\n",
       " 46847  8886768683305250000     118.84      31.91      2,\n",
       " (48372, 4))"
      ]
     },
     "execution_count": 83,
     "metadata": {},
     "output_type": "execute_result"
    }
   ],
   "source": [
    "dfloc=dfeventdata.groupby(['device_id','lg_median','lt_median'])['Count'].sum()\n",
    "dfloc=pd.DataFrame(data=dfloc)\n",
    "dfloc=dfloc.reset_index()\n",
    "dfloc.sample(5), dfloc.shape"
   ]
  },
  {
   "cell_type": "code",
   "execution_count": 84,
   "metadata": {
    "colab": {
     "base_uri": "https://localhost:8080/"
    },
    "id": "7zkNEBbgi4_V",
    "outputId": "d92dac17-4528-46b4-acf8-96887cdce928"
   },
   "outputs": [
    {
     "data": {
      "text/plain": [
       "array([[114.48,  29.93],\n",
       "       [119.46,  35.42],\n",
       "       [113.62,  34.72],\n",
       "       ...,\n",
       "       [114.37,  30.88],\n",
       "       [114.37,  30.89],\n",
       "       [113.24,  23.19]])"
      ]
     },
     "execution_count": 84,
     "metadata": {},
     "output_type": "execute_result"
    }
   ],
   "source": [
    "dfeventdatafeatures=dfloc[['lg_median','lt_median']].values\n",
    "dfeventdatafet=dfloc[['lg_median','lt_median']]\n",
    "dfeventdatafeatures"
   ]
  },
  {
   "cell_type": "code",
   "execution_count": 85,
   "metadata": {
    "colab": {
     "base_uri": "https://localhost:8080/",
     "height": 205
    },
    "id": "Yd3hhuVti5cK",
    "outputId": "09124cc2-c319-49de-e35e-c2118039f460"
   },
   "outputs": [
    {
     "data": {
      "text/html": [
       "<div>\n",
       "<style scoped>\n",
       "    .dataframe tbody tr th:only-of-type {\n",
       "        vertical-align: middle;\n",
       "    }\n",
       "\n",
       "    .dataframe tbody tr th {\n",
       "        vertical-align: top;\n",
       "    }\n",
       "\n",
       "    .dataframe thead th {\n",
       "        text-align: right;\n",
       "    }\n",
       "</style>\n",
       "<table border=\"1\" class=\"dataframe\">\n",
       "  <thead>\n",
       "    <tr style=\"text-align: right;\">\n",
       "      <th></th>\n",
       "      <th>longitude</th>\n",
       "      <th>latitude</th>\n",
       "    </tr>\n",
       "  </thead>\n",
       "  <tbody>\n",
       "    <tr>\n",
       "      <th>0</th>\n",
       "      <td>0.089477</td>\n",
       "      <td>-0.212704</td>\n",
       "    </tr>\n",
       "    <tr>\n",
       "      <th>1</th>\n",
       "      <td>0.417338</td>\n",
       "      <td>0.564832</td>\n",
       "    </tr>\n",
       "    <tr>\n",
       "      <th>2</th>\n",
       "      <td>0.032859</td>\n",
       "      <td>0.465692</td>\n",
       "    </tr>\n",
       "    <tr>\n",
       "      <th>3</th>\n",
       "      <td>-0.264059</td>\n",
       "      <td>-1.410874</td>\n",
       "    </tr>\n",
       "    <tr>\n",
       "      <th>4</th>\n",
       "      <td>-0.264059</td>\n",
       "      <td>-1.409457</td>\n",
       "    </tr>\n",
       "  </tbody>\n",
       "</table>\n",
       "</div>"
      ],
      "text/plain": [
       "   longitude  latitude\n",
       "0   0.089477 -0.212704\n",
       "1   0.417338  0.564832\n",
       "2   0.032859  0.465692\n",
       "3  -0.264059 -1.410874\n",
       "4  -0.264059 -1.409457"
      ]
     },
     "execution_count": 85,
     "metadata": {},
     "output_type": "execute_result"
    }
   ],
   "source": [
    "# instantiate\n",
    "scaler = StandardScaler()\n",
    "\n",
    "# fit_transform\n",
    "dfeventdatascaled = scaler.fit_transform(dfeventdatafet)\n",
    "dfeventdatascaled = pd.DataFrame(data = dfeventdatascaled, columns=['longitude','latitude'])\n",
    "\n",
    "# Top 5 rows\n",
    "dfeventdatascaled.head()"
   ]
  },
  {
   "cell_type": "code",
   "execution_count": 86,
   "metadata": {
    "colab": {
     "base_uri": "https://localhost:8080/"
    },
    "id": "PK7OzmqJi5iv",
    "outputId": "afd34564-383b-4c4b-ed24-8aecb90b6acf"
   },
   "outputs": [
    {
     "name": "stdout",
     "output_type": "stream",
     "text": [
      "Number of clusters : 568\n"
     ]
    }
   ],
   "source": [
    "kms_per_radian = 6371.0088\n",
    "epsilon = 1.5/kms_per_radian\n",
    "db = DBSCAN(eps= epsilon, min_samples= 5, algorithm = 'ball_tree', metric = 'haversine').fit(np.radians(dfeventdatascaled))\n",
    "cluster_labels = db.labels_\n",
    "num_clusters = len(set(cluster_labels))\n",
    "clusters = pd.Series([dfeventdatafeatures[cluster_labels ==n] for n in range(num_clusters)])\n",
    "print('Number of clusters : {}'.format(num_clusters))"
   ]
  },
  {
   "cell_type": "code",
   "execution_count": 87,
   "metadata": {
    "colab": {
     "base_uri": "https://localhost:8080/"
    },
    "id": "q5Pzys3Oi5m6",
    "outputId": "945f1daa-0582-4c5a-afb7-572ef7cac58a"
   },
   "outputs": [
    {
     "data": {
      "text/plain": [
       "0      [[114.48, 29.93], [114.32, 29.82], [114.32, 29...\n",
       "1      [[119.46, 35.42], [119.44, 35.37], [119.52, 35...\n",
       "2      [[113.62, 34.72], [111.84, 34.76], [113.56, 34...\n",
       "3      [[109.11, 21.47], [109.11, 21.48], [109.13, 21...\n",
       "4      [[121.32, 28.54], [121.32, 28.56], [121.33, 28...\n",
       "                             ...                        \n",
       "563    [[116.38, 32.77], [116.4, 32.64], [116.59, 32....\n",
       "564    [[113.99, 38.55], [114.06, 38.66], [114.07, 38...\n",
       "565    [[106.36, 27.85], [106.39, 27.79], [106.39, 27...\n",
       "566    [[115.27, 23.5], [115.3, 23.47], [115.18, 23.6...\n",
       "567                                                   []\n",
       "Length: 568, dtype: object"
      ]
     },
     "execution_count": 87,
     "metadata": {},
     "output_type": "execute_result"
    }
   ],
   "source": [
    "clusters"
   ]
  },
  {
   "cell_type": "code",
   "execution_count": 88,
   "metadata": {
    "id": "LpTzaitXi5sA"
   },
   "outputs": [],
   "source": [
    "from sklearn.decomposition import PCA\n",
    "pca = PCA(n_components = 2) # 2D PCA for the plot\n",
    "reduceddf = pd.DataFrame(pca.fit_transform(dfeventdatascaled))"
   ]
  },
  {
   "cell_type": "code",
   "execution_count": 89,
   "metadata": {
    "colab": {
     "base_uri": "https://localhost:8080/",
     "height": 205
    },
    "id": "NP2sY7Whi5uX",
    "outputId": "804bfc35-5738-4635-b63a-699e72c05d0a"
   },
   "outputs": [
    {
     "data": {
      "text/html": [
       "<div>\n",
       "<style scoped>\n",
       "    .dataframe tbody tr th:only-of-type {\n",
       "        vertical-align: middle;\n",
       "    }\n",
       "\n",
       "    .dataframe tbody tr th {\n",
       "        vertical-align: top;\n",
       "    }\n",
       "\n",
       "    .dataframe thead th {\n",
       "        text-align: right;\n",
       "    }\n",
       "</style>\n",
       "<table border=\"1\" class=\"dataframe\">\n",
       "  <thead>\n",
       "    <tr style=\"text-align: right;\">\n",
       "      <th></th>\n",
       "      <th>PC1</th>\n",
       "      <th>PC2</th>\n",
       "    </tr>\n",
       "  </thead>\n",
       "  <tbody>\n",
       "    <tr>\n",
       "      <th>0</th>\n",
       "      <td>0.087134</td>\n",
       "      <td>-0.213674</td>\n",
       "    </tr>\n",
       "    <tr>\n",
       "      <th>1</th>\n",
       "      <td>-0.694499</td>\n",
       "      <td>0.104294</td>\n",
       "    </tr>\n",
       "    <tr>\n",
       "      <th>2</th>\n",
       "      <td>-0.352529</td>\n",
       "      <td>0.306059</td>\n",
       "    </tr>\n",
       "    <tr>\n",
       "      <th>3</th>\n",
       "      <td>1.184356</td>\n",
       "      <td>-0.810920</td>\n",
       "    </tr>\n",
       "    <tr>\n",
       "      <th>4</th>\n",
       "      <td>1.183355</td>\n",
       "      <td>-0.809919</td>\n",
       "    </tr>\n",
       "  </tbody>\n",
       "</table>\n",
       "</div>"
      ],
      "text/plain": [
       "        PC1       PC2\n",
       "0  0.087134 -0.213674\n",
       "1 -0.694499  0.104294\n",
       "2 -0.352529  0.306059\n",
       "3  1.184356 -0.810920\n",
       "4  1.183355 -0.809919"
      ]
     },
     "execution_count": 89,
     "metadata": {},
     "output_type": "execute_result"
    }
   ],
   "source": [
    "dfpcseventdatascaled = pd.DataFrame({'PC1':reduceddf[0],'PC2':reduceddf[1]})\n",
    "dfpcseventdatascaled.index = dfeventdatascaled.index\n",
    "dfpcseventdatascaled.head()"
   ]
  },
  {
   "cell_type": "code",
   "execution_count": 90,
   "metadata": {
    "colab": {
     "base_uri": "https://localhost:8080/",
     "height": 265
    },
    "id": "_m-Efifci5x_",
    "outputId": "0d653da5-15d8-44bb-ef7a-93a4f84dc4cd"
   },
   "outputs": [
    {
     "data": {
      "image/png": "[encoded data removed]",
      "text/plain": [
       "<Figure size 432x288 with 1 Axes>"
      ]
     },
     "metadata": {
      "needs_background": "light"
     },
     "output_type": "display_data"
    }
   ],
   "source": [
    "fig = plt.figure()\n",
    "plt.scatter(dfpcseventdatascaled['PC1'], dfpcseventdatascaled['PC2'], c = db.labels_)\n",
    "plt.show()"
   ]
  },
  {
   "cell_type": "code",
   "execution_count": 91,
   "metadata": {
    "id": "8Zkw2L97i51G"
   },
   "outputs": [],
   "source": [
    "dfloc['cluster_id']=db.labels_\n",
    "dfclusterdata=dfloc[['device_id','cluster_id']]\n",
    "dfeventdata1=dfeventdata.merge(dfclusterdata,on='device_id',how='inner')\n",
    "dfeventdata=dfeventdata1.drop_duplicates(subset=[\"event_id\"])"
   ]
  },
  {
   "cell_type": "code",
   "execution_count": 92,
   "metadata": {
    "colab": {
     "base_uri": "https://localhost:8080/"
    },
    "id": "Ll6-cFAflRNx",
    "outputId": "faeac45b-e698-4d8b-d354-fd0e0e8a61ac"
   },
   "outputs": [
    {
     "data": {
      "text/plain": [
       "(859293, 18)"
      ]
     },
     "execution_count": 92,
     "metadata": {},
     "output_type": "execute_result"
    }
   ],
   "source": [
    "dfeventdata.shape"
   ]
  },
  {
   "cell_type": "code",
   "execution_count": 93,
   "metadata": {
    "colab": {
     "base_uri": "https://localhost:8080/",
     "height": 398
    },
    "id": "M7CjJjTVlW4z",
    "outputId": "a96d506d-0112-4556-be28-aa3cbfdbecc5"
   },
   "outputs": [
    {
     "data": {
      "text/html": [
       "<div>\n",
       "<style scoped>\n",
       "    .dataframe tbody tr th:only-of-type {\n",
       "        vertical-align: middle;\n",
       "    }\n",
       "\n",
       "    .dataframe tbody tr th {\n",
       "        vertical-align: top;\n",
       "    }\n",
       "\n",
       "    .dataframe thead th {\n",
       "        text-align: right;\n",
       "    }\n",
       "</style>\n",
       "<table border=\"1\" class=\"dataframe\">\n",
       "  <thead>\n",
       "    <tr style=\"text-align: right;\">\n",
       "      <th></th>\n",
       "      <th>device_id</th>\n",
       "      <th>gender</th>\n",
       "      <th>age</th>\n",
       "      <th>age_group</th>\n",
       "      <th>event_id</th>\n",
       "      <th>timestamp</th>\n",
       "      <th>longitude</th>\n",
       "      <th>latitude</th>\n",
       "      <th>Count</th>\n",
       "      <th>flag</th>\n",
       "      <th>Day_weeks</th>\n",
       "      <th>hours</th>\n",
       "      <th>week_of_year</th>\n",
       "      <th>Average</th>\n",
       "      <th>change_flag</th>\n",
       "      <th>lg_median</th>\n",
       "      <th>lt_median</th>\n",
       "      <th>cluster_id</th>\n",
       "    </tr>\n",
       "  </thead>\n",
       "  <tbody>\n",
       "    <tr>\n",
       "      <th>0</th>\n",
       "      <td>9222956879900150000</td>\n",
       "      <td>M</td>\n",
       "      <td>36</td>\n",
       "      <td>32+</td>\n",
       "      <td>12679</td>\n",
       "      <td>2016-05-07 12:18:35</td>\n",
       "      <td>113.24</td>\n",
       "      <td>23.19</td>\n",
       "      <td>1</td>\n",
       "      <td>1</td>\n",
       "      <td>5</td>\n",
       "      <td>12</td>\n",
       "      <td>18</td>\n",
       "      <td>0.006051</td>\n",
       "      <td>0</td>\n",
       "      <td>113.24</td>\n",
       "      <td>23.19</td>\n",
       "      <td>14</td>\n",
       "    </tr>\n",
       "    <tr>\n",
       "      <th>1</th>\n",
       "      <td>9222956879900150000</td>\n",
       "      <td>M</td>\n",
       "      <td>36</td>\n",
       "      <td>32+</td>\n",
       "      <td>131849</td>\n",
       "      <td>2016-05-07 12:06:35</td>\n",
       "      <td>113.24</td>\n",
       "      <td>23.19</td>\n",
       "      <td>1</td>\n",
       "      <td>1</td>\n",
       "      <td>5</td>\n",
       "      <td>12</td>\n",
       "      <td>18</td>\n",
       "      <td>0.006051</td>\n",
       "      <td>0</td>\n",
       "      <td>113.24</td>\n",
       "      <td>23.19</td>\n",
       "      <td>14</td>\n",
       "    </tr>\n",
       "    <tr>\n",
       "      <th>2</th>\n",
       "      <td>9222956879900150000</td>\n",
       "      <td>M</td>\n",
       "      <td>36</td>\n",
       "      <td>32+</td>\n",
       "      <td>205471</td>\n",
       "      <td>2016-05-06 15:36:46</td>\n",
       "      <td>113.24</td>\n",
       "      <td>23.19</td>\n",
       "      <td>1</td>\n",
       "      <td>1</td>\n",
       "      <td>4</td>\n",
       "      <td>15</td>\n",
       "      <td>18</td>\n",
       "      <td>0.006051</td>\n",
       "      <td>0</td>\n",
       "      <td>113.24</td>\n",
       "      <td>23.19</td>\n",
       "      <td>14</td>\n",
       "    </tr>\n",
       "    <tr>\n",
       "      <th>3</th>\n",
       "      <td>9222956879900150000</td>\n",
       "      <td>M</td>\n",
       "      <td>36</td>\n",
       "      <td>32+</td>\n",
       "      <td>211711</td>\n",
       "      <td>2016-05-06 21:26:14</td>\n",
       "      <td>113.24</td>\n",
       "      <td>23.19</td>\n",
       "      <td>1</td>\n",
       "      <td>1</td>\n",
       "      <td>4</td>\n",
       "      <td>21</td>\n",
       "      <td>18</td>\n",
       "      <td>0.006051</td>\n",
       "      <td>0</td>\n",
       "      <td>113.24</td>\n",
       "      <td>23.19</td>\n",
       "      <td>14</td>\n",
       "    </tr>\n",
       "    <tr>\n",
       "      <th>4</th>\n",
       "      <td>9222956879900150000</td>\n",
       "      <td>M</td>\n",
       "      <td>36</td>\n",
       "      <td>32+</td>\n",
       "      <td>229069</td>\n",
       "      <td>2016-05-06 15:34:19</td>\n",
       "      <td>113.24</td>\n",
       "      <td>23.19</td>\n",
       "      <td>1</td>\n",
       "      <td>1</td>\n",
       "      <td>4</td>\n",
       "      <td>15</td>\n",
       "      <td>18</td>\n",
       "      <td>0.006051</td>\n",
       "      <td>0</td>\n",
       "      <td>113.24</td>\n",
       "      <td>23.19</td>\n",
       "      <td>14</td>\n",
       "    </tr>\n",
       "  </tbody>\n",
       "</table>\n",
       "</div>"
      ],
      "text/plain": [
       "             device_id gender  age age_group  event_id           timestamp  \\\n",
       "0  9222956879900150000      M   36       32+     12679 2016-05-07 12:18:35   \n",
       "1  9222956879900150000      M   36       32+    131849 2016-05-07 12:06:35   \n",
       "2  9222956879900150000      M   36       32+    205471 2016-05-06 15:36:46   \n",
       "3  9222956879900150000      M   36       32+    211711 2016-05-06 21:26:14   \n",
       "4  9222956879900150000      M   36       32+    229069 2016-05-06 15:34:19   \n",
       "\n",
       "   longitude  latitude  Count  flag  Day_weeks  hours  week_of_year   Average  \\\n",
       "0     113.24     23.19      1     1          5     12            18  0.006051   \n",
       "1     113.24     23.19      1     1          5     12            18  0.006051   \n",
       "2     113.24     23.19      1     1          4     15            18  0.006051   \n",
       "3     113.24     23.19      1     1          4     21            18  0.006051   \n",
       "4     113.24     23.19      1     1          4     15            18  0.006051   \n",
       "\n",
       "   change_flag  lg_median  lt_median  cluster_id  \n",
       "0            0     113.24      23.19          14  \n",
       "1            0     113.24      23.19          14  \n",
       "2            0     113.24      23.19          14  \n",
       "3            0     113.24      23.19          14  \n",
       "4            0     113.24      23.19          14  "
      ]
     },
     "execution_count": 93,
     "metadata": {},
     "output_type": "execute_result"
    }
   ],
   "source": [
    "dfeventdata.head()"
   ]
  },
  {
   "cell_type": "code",
   "execution_count": 94,
   "metadata": {
    "id": "5VmsLcLcmwyq"
   },
   "outputs": [],
   "source": [
    "#Prepare Data for the data thats present (latitude-longitude data, application id data, event data and devices data)"
   ]
  },
  {
   "cell_type": "code",
   "execution_count": 95,
   "metadata": {
    "colab": {
     "base_uri": "https://localhost:8080/",
     "height": 205
    },
    "id": "wSxL81eOmzE4",
    "outputId": "0421a959-b8b6-4829-fc0f-cb3942be477b"
   },
   "outputs": [
    {
     "data": {
      "text/html": [
       "<div>\n",
       "<style scoped>\n",
       "    .dataframe tbody tr th:only-of-type {\n",
       "        vertical-align: middle;\n",
       "    }\n",
       "\n",
       "    .dataframe tbody tr th {\n",
       "        vertical-align: top;\n",
       "    }\n",
       "\n",
       "    .dataframe thead th {\n",
       "        text-align: right;\n",
       "    }\n",
       "</style>\n",
       "<table border=\"1\" class=\"dataframe\">\n",
       "  <thead>\n",
       "    <tr style=\"text-align: right;\">\n",
       "      <th></th>\n",
       "      <th>device_id</th>\n",
       "      <th>gender</th>\n",
       "      <th>age</th>\n",
       "      <th>age_group</th>\n",
       "      <th>event_id</th>\n",
       "      <th>Count</th>\n",
       "      <th>flag</th>\n",
       "      <th>Day_weeks</th>\n",
       "      <th>hours</th>\n",
       "      <th>week_of_year</th>\n",
       "      <th>Average</th>\n",
       "      <th>change_flag</th>\n",
       "      <th>cluster_id</th>\n",
       "    </tr>\n",
       "  </thead>\n",
       "  <tbody>\n",
       "    <tr>\n",
       "      <th>291570</th>\n",
       "      <td>8730307490994650000</td>\n",
       "      <td>F</td>\n",
       "      <td>58</td>\n",
       "      <td>32+</td>\n",
       "      <td>2753017</td>\n",
       "      <td>1</td>\n",
       "      <td>1</td>\n",
       "      <td>3</td>\n",
       "      <td>14</td>\n",
       "      <td>18</td>\n",
       "      <td>0.033632</td>\n",
       "      <td>1</td>\n",
       "      <td>6</td>\n",
       "    </tr>\n",
       "    <tr>\n",
       "      <th>6841870</th>\n",
       "      <td>2336441622261300000</td>\n",
       "      <td>M</td>\n",
       "      <td>28</td>\n",
       "      <td>25-32</td>\n",
       "      <td>45887</td>\n",
       "      <td>1</td>\n",
       "      <td>1</td>\n",
       "      <td>3</td>\n",
       "      <td>13</td>\n",
       "      <td>18</td>\n",
       "      <td>0.004771</td>\n",
       "      <td>1</td>\n",
       "      <td>6</td>\n",
       "    </tr>\n",
       "    <tr>\n",
       "      <th>8326329</th>\n",
       "      <td>4314973743800610000</td>\n",
       "      <td>M</td>\n",
       "      <td>31</td>\n",
       "      <td>25-32</td>\n",
       "      <td>2440040</td>\n",
       "      <td>1</td>\n",
       "      <td>1</td>\n",
       "      <td>5</td>\n",
       "      <td>23</td>\n",
       "      <td>18</td>\n",
       "      <td>0.001396</td>\n",
       "      <td>0</td>\n",
       "      <td>80</td>\n",
       "    </tr>\n",
       "    <tr>\n",
       "      <th>6627762</th>\n",
       "      <td>2204630292293180000</td>\n",
       "      <td>F</td>\n",
       "      <td>33</td>\n",
       "      <td>32+</td>\n",
       "      <td>844529</td>\n",
       "      <td>1</td>\n",
       "      <td>1</td>\n",
       "      <td>6</td>\n",
       "      <td>12</td>\n",
       "      <td>17</td>\n",
       "      <td>0.053532</td>\n",
       "      <td>0</td>\n",
       "      <td>20</td>\n",
       "    </tr>\n",
       "    <tr>\n",
       "      <th>9340801</th>\n",
       "      <td>5463782024685680000</td>\n",
       "      <td>F</td>\n",
       "      <td>41</td>\n",
       "      <td>32+</td>\n",
       "      <td>3149260</td>\n",
       "      <td>1</td>\n",
       "      <td>1</td>\n",
       "      <td>6</td>\n",
       "      <td>19</td>\n",
       "      <td>17</td>\n",
       "      <td>0.000698</td>\n",
       "      <td>0</td>\n",
       "      <td>499</td>\n",
       "    </tr>\n",
       "  </tbody>\n",
       "</table>\n",
       "</div>"
      ],
      "text/plain": [
       "                   device_id gender  age age_group  event_id  Count  flag  \\\n",
       "291570   8730307490994650000      F   58       32+   2753017      1     1   \n",
       "6841870  2336441622261300000      M   28     25-32     45887      1     1   \n",
       "8326329  4314973743800610000      M   31     25-32   2440040      1     1   \n",
       "6627762  2204630292293180000      F   33       32+    844529      1     1   \n",
       "9340801  5463782024685680000      F   41       32+   3149260      1     1   \n",
       "\n",
       "         Day_weeks  hours  week_of_year   Average  change_flag  cluster_id  \n",
       "291570           3     14            18  0.033632            1           6  \n",
       "6841870          3     13            18  0.004771            1           6  \n",
       "8326329          5     23            18  0.001396            0          80  \n",
       "6627762          6     12            17  0.053532            0          20  \n",
       "9340801          6     19            17  0.000698            0         499  "
      ]
     },
     "execution_count": 95,
     "metadata": {},
     "output_type": "execute_result"
    }
   ],
   "source": [
    "dfeventdata = dfeventdata.drop(columns=['lg_median','lt_median','longitude','latitude','timestamp'])\n",
    "dfeventdata.sample(5)"
   ]
  },
  {
   "cell_type": "code",
   "execution_count": 96,
   "metadata": {
    "colab": {
     "base_uri": "https://localhost:8080/",
     "height": 205
    },
    "id": "MKJ8FCkqqIA2",
    "outputId": "5fac3b08-c61e-4fb8-aee6-87cc64baa197"
   },
   "outputs": [
    {
     "data": {
      "text/html": [
       "<div>\n",
       "<style scoped>\n",
       "    .dataframe tbody tr th:only-of-type {\n",
       "        vertical-align: middle;\n",
       "    }\n",
       "\n",
       "    .dataframe tbody tr th {\n",
       "        vertical-align: top;\n",
       "    }\n",
       "\n",
       "    .dataframe thead th {\n",
       "        text-align: right;\n",
       "    }\n",
       "</style>\n",
       "<table border=\"1\" class=\"dataframe\">\n",
       "  <thead>\n",
       "    <tr style=\"text-align: right;\">\n",
       "      <th></th>\n",
       "      <th>device_id</th>\n",
       "      <th>gender</th>\n",
       "      <th>age</th>\n",
       "      <th>age_group</th>\n",
       "      <th>device_brand</th>\n",
       "      <th>phone_brand</th>\n",
       "      <th>Count</th>\n",
       "    </tr>\n",
       "  </thead>\n",
       "  <tbody>\n",
       "    <tr>\n",
       "      <th>36583</th>\n",
       "      <td>205683734531857000</td>\n",
       "      <td>M</td>\n",
       "      <td>44</td>\n",
       "      <td>M32+</td>\n",
       "      <td>Huawei</td>\n",
       "      <td>5</td>\n",
       "      <td>1</td>\n",
       "    </tr>\n",
       "    <tr>\n",
       "      <th>7164</th>\n",
       "      <td>7463556533112170000</td>\n",
       "      <td>M</td>\n",
       "      <td>24</td>\n",
       "      <td>M0-24</td>\n",
       "      <td>Coolpad</td>\n",
       "      <td>8720L</td>\n",
       "      <td>1</td>\n",
       "    </tr>\n",
       "    <tr>\n",
       "      <th>9079</th>\n",
       "      <td>6992586379050290000</td>\n",
       "      <td>F</td>\n",
       "      <td>26</td>\n",
       "      <td>F25-32</td>\n",
       "      <td>samsung</td>\n",
       "      <td>Galaxy Note 2</td>\n",
       "      <td>1</td>\n",
       "    </tr>\n",
       "    <tr>\n",
       "      <th>65331</th>\n",
       "      <td>6908408710073310000</td>\n",
       "      <td>F</td>\n",
       "      <td>21</td>\n",
       "      <td>F0-24</td>\n",
       "      <td>Meizu</td>\n",
       "      <td>menote1</td>\n",
       "      <td>1</td>\n",
       "    </tr>\n",
       "    <tr>\n",
       "      <th>48361</th>\n",
       "      <td>2726344222869500000</td>\n",
       "      <td>M</td>\n",
       "      <td>25</td>\n",
       "      <td>M25-32</td>\n",
       "      <td>oneplus</td>\n",
       "      <td>One</td>\n",
       "      <td>1</td>\n",
       "    </tr>\n",
       "  </tbody>\n",
       "</table>\n",
       "</div>"
      ],
      "text/plain": [
       "                 device_id gender  age age_group device_brand    phone_brand  \\\n",
       "36583   205683734531857000      M   44      M32+       Huawei              5   \n",
       "7164   7463556533112170000      M   24     M0-24      Coolpad          8720L   \n",
       "9079   6992586379050290000      F   26    F25-32      samsung  Galaxy Note 2   \n",
       "65331  6908408710073310000      F   21     F0-24        Meizu        menote1   \n",
       "48361  2726344222869500000      M   25    M25-32      oneplus            One   \n",
       "\n",
       "       Count  \n",
       "36583      1  \n",
       "7164       1  \n",
       "9079       1  \n",
       "65331      1  \n",
       "48361      1  "
      ]
     },
     "execution_count": 96,
     "metadata": {},
     "output_type": "execute_result"
    }
   ],
   "source": [
    "dfnoneventdata.sample(5)"
   ]
  },
  {
   "cell_type": "code",
   "execution_count": 97,
   "metadata": {
    "colab": {
     "base_uri": "https://localhost:8080/",
     "height": 205
    },
    "id": "l1f4m1XIoHGV",
    "outputId": "ec9c6450-aeff-4357-f4b5-da7fdb2c3e4b"
   },
   "outputs": [
    {
     "data": {
      "text/html": [
       "<div>\n",
       "<style scoped>\n",
       "    .dataframe tbody tr th:only-of-type {\n",
       "        vertical-align: middle;\n",
       "    }\n",
       "\n",
       "    .dataframe tbody tr th {\n",
       "        vertical-align: top;\n",
       "    }\n",
       "\n",
       "    .dataframe thead th {\n",
       "        text-align: right;\n",
       "    }\n",
       "</style>\n",
       "<table border=\"1\" class=\"dataframe\">\n",
       "  <thead>\n",
       "    <tr style=\"text-align: right;\">\n",
       "      <th></th>\n",
       "      <th>device_id</th>\n",
       "      <th>age</th>\n",
       "      <th>device_brand</th>\n",
       "      <th>phone_brand</th>\n",
       "    </tr>\n",
       "  </thead>\n",
       "  <tbody>\n",
       "    <tr>\n",
       "      <th>43518</th>\n",
       "      <td>1533363301536180000</td>\n",
       "      <td>26</td>\n",
       "      <td>Huawei</td>\n",
       "      <td>Ascend P6</td>\n",
       "    </tr>\n",
       "    <tr>\n",
       "      <th>35243</th>\n",
       "      <td>527482989909947000</td>\n",
       "      <td>34</td>\n",
       "      <td>OPPO</td>\n",
       "      <td>R7s</td>\n",
       "    </tr>\n",
       "    <tr>\n",
       "      <th>26537</th>\n",
       "      <td>2670392286357820000</td>\n",
       "      <td>25</td>\n",
       "      <td>vivo</td>\n",
       "      <td>X5SL</td>\n",
       "    </tr>\n",
       "    <tr>\n",
       "      <th>23216</th>\n",
       "      <td>3481783700413430000</td>\n",
       "      <td>32</td>\n",
       "      <td>Xiaomi</td>\n",
       "      <td>xnote</td>\n",
       "    </tr>\n",
       "    <tr>\n",
       "      <th>54977</th>\n",
       "      <td>4367907138881660000</td>\n",
       "      <td>39</td>\n",
       "      <td>samsung</td>\n",
       "      <td>Galaxy S5</td>\n",
       "    </tr>\n",
       "  </tbody>\n",
       "</table>\n",
       "</div>"
      ],
      "text/plain": [
       "                 device_id  age device_brand phone_brand\n",
       "43518  1533363301536180000   26       Huawei   Ascend P6\n",
       "35243   527482989909947000   34         OPPO         R7s\n",
       "26537  2670392286357820000   25         vivo        X5SL\n",
       "23216  3481783700413430000   32       Xiaomi       xnote\n",
       "54977  4367907138881660000   39      samsung   Galaxy S5"
      ]
     },
     "execution_count": 97,
     "metadata": {},
     "output_type": "execute_result"
    }
   ],
   "source": [
    "dfnoneventdata = dfnoneventdata.drop(columns=['gender','age_group','Count'])\n",
    "dfnoneventdata.sample(5)"
   ]
  },
  {
   "cell_type": "code",
   "execution_count": 98,
   "metadata": {
    "colab": {
     "base_uri": "https://localhost:8080/",
     "height": 205
    },
    "id": "b7LQf90VqThQ",
    "outputId": "5eabe106-da20-4032-ff7b-ba3c062d75ec"
   },
   "outputs": [
    {
     "data": {
      "text/html": [
       "<div>\n",
       "<style scoped>\n",
       "    .dataframe tbody tr th:only-of-type {\n",
       "        vertical-align: middle;\n",
       "    }\n",
       "\n",
       "    .dataframe tbody tr th {\n",
       "        vertical-align: top;\n",
       "    }\n",
       "\n",
       "    .dataframe thead th {\n",
       "        text-align: right;\n",
       "    }\n",
       "</style>\n",
       "<table border=\"1\" class=\"dataframe\">\n",
       "  <thead>\n",
       "    <tr style=\"text-align: right;\">\n",
       "      <th></th>\n",
       "      <th>app_id</th>\n",
       "      <th>super_category_game</th>\n",
       "      <th>super_finance</th>\n",
       "      <th>super_travel</th>\n",
       "      <th>super_health</th>\n",
       "      <th>others</th>\n",
       "    </tr>\n",
       "  </thead>\n",
       "  <tbody>\n",
       "    <tr>\n",
       "      <th>136015</th>\n",
       "      <td>1415907494215963944</td>\n",
       "      <td>0</td>\n",
       "      <td>0</td>\n",
       "      <td>0</td>\n",
       "      <td>0</td>\n",
       "      <td>1</td>\n",
       "    </tr>\n",
       "    <tr>\n",
       "      <th>79876</th>\n",
       "      <td>7937002964052583505</td>\n",
       "      <td>0</td>\n",
       "      <td>0</td>\n",
       "      <td>0</td>\n",
       "      <td>0</td>\n",
       "      <td>1</td>\n",
       "    </tr>\n",
       "    <tr>\n",
       "      <th>413972</th>\n",
       "      <td>615950792130502554</td>\n",
       "      <td>0</td>\n",
       "      <td>0</td>\n",
       "      <td>0</td>\n",
       "      <td>0</td>\n",
       "      <td>1</td>\n",
       "    </tr>\n",
       "    <tr>\n",
       "      <th>98933</th>\n",
       "      <td>4416322685099076928</td>\n",
       "      <td>0</td>\n",
       "      <td>0</td>\n",
       "      <td>0</td>\n",
       "      <td>0</td>\n",
       "      <td>1</td>\n",
       "    </tr>\n",
       "    <tr>\n",
       "      <th>162513</th>\n",
       "      <td>8129169057837398484</td>\n",
       "      <td>0</td>\n",
       "      <td>0</td>\n",
       "      <td>0</td>\n",
       "      <td>0</td>\n",
       "      <td>1</td>\n",
       "    </tr>\n",
       "  </tbody>\n",
       "</table>\n",
       "</div>"
      ],
      "text/plain": [
       "                     app_id  super_category_game  super_finance  super_travel  \\\n",
       "136015  1415907494215963944                    0              0             0   \n",
       "79876   7937002964052583505                    0              0             0   \n",
       "413972   615950792130502554                    0              0             0   \n",
       "98933   4416322685099076928                    0              0             0   \n",
       "162513  8129169057837398484                    0              0             0   \n",
       "\n",
       "        super_health  others  \n",
       "136015             0       1  \n",
       "79876              0       1  \n",
       "413972             0       1  \n",
       "98933              0       1  \n",
       "162513             0       1  "
      ]
     },
     "execution_count": 98,
     "metadata": {},
     "output_type": "execute_result"
    }
   ],
   "source": [
    "dflabeldata = dflabeldata.drop(columns=['category'])\n",
    "dflabeldata.sample(5)"
   ]
  },
  {
   "cell_type": "code",
   "execution_count": 99,
   "metadata": {
    "colab": {
     "base_uri": "https://localhost:8080/",
     "height": 205
    },
    "id": "3DQP9WA7rsUI",
    "outputId": "aea91c40-edb8-4178-bff1-924ea112fe3b"
   },
   "outputs": [
    {
     "data": {
      "text/html": [
       "<div>\n",
       "<style scoped>\n",
       "    .dataframe tbody tr th:only-of-type {\n",
       "        vertical-align: middle;\n",
       "    }\n",
       "\n",
       "    .dataframe tbody tr th {\n",
       "        vertical-align: top;\n",
       "    }\n",
       "\n",
       "    .dataframe thead th {\n",
       "        text-align: right;\n",
       "    }\n",
       "</style>\n",
       "<table border=\"1\" class=\"dataframe\">\n",
       "  <thead>\n",
       "    <tr style=\"text-align: right;\">\n",
       "      <th></th>\n",
       "      <th>event_id</th>\n",
       "      <th>app_id</th>\n",
       "      <th>is_installed</th>\n",
       "      <th>is_active</th>\n",
       "    </tr>\n",
       "  </thead>\n",
       "  <tbody>\n",
       "    <tr>\n",
       "      <th>2116523</th>\n",
       "      <td>212671</td>\n",
       "      <td>3377762563562413489</td>\n",
       "      <td>1</td>\n",
       "      <td>1</td>\n",
       "    </tr>\n",
       "    <tr>\n",
       "      <th>24985018</th>\n",
       "      <td>2502077</td>\n",
       "      <td>8271866350659046570</td>\n",
       "      <td>1</td>\n",
       "      <td>1</td>\n",
       "    </tr>\n",
       "    <tr>\n",
       "      <th>16491277</th>\n",
       "      <td>1647997</td>\n",
       "      <td>1633852593328009081</td>\n",
       "      <td>1</td>\n",
       "      <td>0</td>\n",
       "    </tr>\n",
       "    <tr>\n",
       "      <th>9904943</th>\n",
       "      <td>993943</td>\n",
       "      <td>5099453940784075687</td>\n",
       "      <td>1</td>\n",
       "      <td>1</td>\n",
       "    </tr>\n",
       "    <tr>\n",
       "      <th>8831754</th>\n",
       "      <td>886379</td>\n",
       "      <td>7054804880832650555</td>\n",
       "      <td>1</td>\n",
       "      <td>0</td>\n",
       "    </tr>\n",
       "  </tbody>\n",
       "</table>\n",
       "</div>"
      ],
      "text/plain": [
       "          event_id               app_id  is_installed  is_active\n",
       "2116523     212671  3377762563562413489             1          1\n",
       "24985018   2502077  8271866350659046570             1          1\n",
       "16491277   1647997  1633852593328009081             1          0\n",
       "9904943     993943  5099453940784075687             1          1\n",
       "8831754     886379  7054804880832650555             1          0"
      ]
     },
     "execution_count": 99,
     "metadata": {},
     "output_type": "execute_result"
    }
   ],
   "source": [
    "dfappevent.sample(5)"
   ]
  },
  {
   "cell_type": "code",
   "execution_count": null,
   "metadata": {
    "id": "HY-JzEoir4xJ"
   },
   "outputs": [],
   "source": []
  },
  {
   "cell_type": "code",
   "execution_count": 100,
   "metadata": {
    "id": "2E85sADtuLR2"
   },
   "outputs": [],
   "source": [
    "#Scenario 1"
   ]
  },
  {
   "cell_type": "code",
   "execution_count": 101,
   "metadata": {
    "id": "xCgMqf0TuOe2"
   },
   "outputs": [],
   "source": [
    "#Loading data into CSV file\n",
    "\n",
    "dfeventdata.to_csv('edaeventdata.csv')\n",
    "dfappevent.to_csv('edaappevent.csv')\n",
    "dfnoneventdata.to_csv('edanoneventdata.csv')\n",
    "dflabeldata.to_csv('edalabeldata.csv')"
   ]
  },
  {
   "cell_type": "code",
   "execution_count": null,
   "metadata": {
    "id": "8_0HK0464dgZ"
   },
   "outputs": [],
   "source": []
  },
  {
   "cell_type": "code",
   "execution_count": 102,
   "metadata": {
    "id": "CR6SjzLO0Azw"
   },
   "outputs": [],
   "source": [
    "#Scenario 2"
   ]
  },
  {
   "cell_type": "code",
   "execution_count": 103,
   "metadata": {
    "id": "7Z_YiE2Iz9gd"
   },
   "outputs": [],
   "source": [
    "#Loading data into CSV file\n",
    "\n",
    "dfeventnodata.to_csv('eventnodata.csv')"
   ]
  },
  {
   "cell_type": "code",
   "execution_count": 104,
   "metadata": {},
   "outputs": [],
   "source": [
    "import os\n",
    "import sys\n",
    "os.environ[\"PYSPARK_PYTHON\"] = \"/bin/python3\"\n",
    "os.environ[\"JAVA_HOME\"] = \"/usr/java/jdk1.8.0_161/jre\"\n",
    "os.environ[\"SPARK_HOME\"] = \"/home/ec2-user/spark-2.4.4-bin-hadoop2.7\"\n",
    "os.environ[\"PYLIB\"] = os.environ[\"SPARK_HOME\"] + \"/python/lib\"\n",
    "sys.path.insert(0, os.environ[\"PYLIB\"] + \"/py4j-0.10.7-src.zip\")\n",
    "sys.path.insert(0, os.environ[\"PYLIB\"] + \"/pyspark.zip\")"
   ]
  },
  {
   "cell_type": "code",
   "execution_count": 105,
   "metadata": {},
   "outputs": [
    {
     "name": "stderr",
     "output_type": "stream",
     "text": [
      "21/10/24 07:59:55 WARN NativeCodeLoader: Unable to load native-hadoop library for your platform... using builtin-java classes where applicable\n",
      "Using Spark's default log4j profile: org/apache/spark/log4j-defaults.properties\n",
      "Setting default log level to \"WARN\".\n",
      "To adjust logging level use sc.setLogLevel(newLevel). For SparkR, use setLogLevel(newLevel).\n"
     ]
    }
   ],
   "source": [
    "from pyspark.sql import SparkSession\n",
    "from pyspark import SparkContext\n",
    "from pyspark.sql.functions import when , col, countDistinct\n",
    "\n",
    "spark = SparkSession.builder.appName('capstone').getOrCreate()"
   ]
  },
  {
   "cell_type": "code",
   "execution_count": null,
   "metadata": {},
   "outputs": [],
   "source": []
  },
  {
   "cell_type": "code",
   "execution_count": 106,
   "metadata": {
    "id": "V1ZPz6qAXecX"
   },
   "outputs": [],
   "source": [
    "sappevent= spark.read.format('csv').options(header='true').load('edaappevent.csv')"
   ]
  },
  {
   "cell_type": "code",
   "execution_count": 107,
   "metadata": {
    "colab": {
     "base_uri": "https://localhost:8080/"
    },
    "id": "NGVvnj0QFCiB",
    "outputId": "b4711174-0b85-442b-cced-331ef84b11e4"
   },
   "outputs": [
    {
     "data": {
      "text/plain": [
       "pyspark.sql.dataframe.DataFrame"
      ]
     },
     "execution_count": 107,
     "metadata": {},
     "output_type": "execute_result"
    }
   ],
   "source": [
    "type(sappevent)"
   ]
  },
  {
   "cell_type": "code",
   "execution_count": 108,
   "metadata": {
    "colab": {
     "base_uri": "https://localhost:8080/"
    },
    "id": "TGVpGKTb27OC",
    "outputId": "9496b6b6-7812-4fb9-9cea-256017b89de5"
   },
   "outputs": [
    {
     "name": "stderr",
     "output_type": "stream",
     "text": [
      "                                                                                \r"
     ]
    },
    {
     "data": {
      "text/plain": [
       "32473067"
      ]
     },
     "execution_count": 108,
     "metadata": {},
     "output_type": "execute_result"
    }
   ],
   "source": [
    "sappevent.count()"
   ]
  },
  {
   "cell_type": "code",
   "execution_count": 109,
   "metadata": {
    "colab": {
     "base_uri": "https://localhost:8080/"
    },
    "id": "LZk-mifiOuKr",
    "outputId": "d2dd85d1-1595-4b79-cd58-2a6e409a1de1"
   },
   "outputs": [
    {
     "name": "stdout",
     "output_type": "stream",
     "text": [
      "+---+--------+-------------------+------------+---------+\n",
      "|_c0|event_id|             app_id|is_installed|is_active|\n",
      "+---+--------+-------------------+------------+---------+\n",
      "|  0|       2|5927333115845830913|           1|        1|\n",
      "|  1|       2|5720078949152207372|           1|        0|\n",
      "|  2|       2|1633887856876571208|           1|        0|\n",
      "|  3|       2| 653184325010919369|           1|        1|\n",
      "|  4|       2|8693964245073640147|           1|        1|\n",
      "+---+--------+-------------------+------------+---------+\n",
      "only showing top 5 rows\n",
      "\n"
     ]
    },
    {
     "name": "stderr",
     "output_type": "stream",
     "text": [
      "21/10/24 08:00:13 WARN CSVDataSource: CSV header does not conform to the schema.\n",
      " Header: , event_id, app_id, is_installed, is_active\n",
      " Schema: _c0, event_id, app_id, is_installed, is_active\n",
      "Expected: _c0 but found: \n",
      "CSV file: file:///home/ec2-user/edaappevent.csv\n"
     ]
    }
   ],
   "source": [
    "sappevent.show(5)"
   ]
  },
  {
   "cell_type": "code",
   "execution_count": 110,
   "metadata": {},
   "outputs": [
    {
     "name": "stdout",
     "output_type": "stream",
     "text": [
      "+---+--------+-------------------+------------+---------+\n",
      "| ID|event_id|             app_id|is_installed|is_active|\n",
      "+---+--------+-------------------+------------+---------+\n",
      "|  0|       2|5927333115845830913|           1|        1|\n",
      "|  1|       2|5720078949152207372|           1|        0|\n",
      "|  2|       2|1633887856876571208|           1|        0|\n",
      "|  3|       2| 653184325010919369|           1|        1|\n",
      "|  4|       2|8693964245073640147|           1|        1|\n",
      "+---+--------+-------------------+------------+---------+\n",
      "only showing top 5 rows\n",
      "\n"
     ]
    },
    {
     "name": "stderr",
     "output_type": "stream",
     "text": [
      "21/10/24 08:00:13 WARN CSVDataSource: CSV header does not conform to the schema.\n",
      " Header: , event_id, app_id, is_installed, is_active\n",
      " Schema: _c0, event_id, app_id, is_installed, is_active\n",
      "Expected: _c0 but found: \n",
      "CSV file: file:///home/ec2-user/edaappevent.csv\n"
     ]
    }
   ],
   "source": [
    "sappevent=sappevent.withColumnRenamed(\"_c0\", \"ID\")\n",
    "sappevent.show(5)"
   ]
  },
  {
   "cell_type": "code",
   "execution_count": 111,
   "metadata": {
    "colab": {
     "base_uri": "https://localhost:8080/"
    },
    "id": "bu-1l0KUO0S6",
    "outputId": "8b49c04f-2694-47b1-bc38-4daed2875737"
   },
   "outputs": [
    {
     "name": "stdout",
     "output_type": "stream",
     "text": [
      "+---+-------------------+------+---+---------+--------+-----+----+---------+-----+------------+--------------------+-----------+----------+\n",
      "|_c0|          device_id|gender|age|age_group|event_id|Count|flag|Day_weeks|hours|week_of_year|             Average|change_flag|cluster_id|\n",
      "+---+-------------------+------+---+---------+--------+-----+----+---------+-----+------------+--------------------+-----------+----------+\n",
      "|  0|9222956879900150000|     M| 36|      32+|   12679|    1|   1|        5|   12|          18|0.006051486512749435|          0|        14|\n",
      "|  1|9222956879900150000|     M| 36|      32+|  131849|    1|   1|        5|   12|          18|0.006051486512749435|          0|        14|\n",
      "|  2|9222956879900150000|     M| 36|      32+|  205471|    1|   1|        4|   15|          18|0.006051486512749435|          0|        14|\n",
      "|  3|9222956879900150000|     M| 36|      32+|  211711|    1|   1|        4|   21|          18|0.006051486512749435|          0|        14|\n",
      "|  4|9222956879900150000|     M| 36|      32+|  229069|    1|   1|        4|   15|          18|0.006051486512749435|          0|        14|\n",
      "+---+-------------------+------+---+---------+--------+-----+----+---------+-----+------------+--------------------+-----------+----------+\n",
      "only showing top 5 rows\n",
      "\n"
     ]
    },
    {
     "name": "stderr",
     "output_type": "stream",
     "text": [
      "21/10/24 08:00:14 WARN CSVDataSource: CSV header does not conform to the schema.\n",
      " Header: , device_id, gender, age, age_group, event_id, Count, flag, Day_weeks, hours, week_of_year, Average, change_flag, cluster_id\n",
      " Schema: _c0, device_id, gender, age, age_group, event_id, Count, flag, Day_weeks, hours, week_of_year, Average, change_flag, cluster_id\n",
      "Expected: _c0 but found: \n",
      "CSV file: file:///home/ec2-user/edaeventdata.csv\n"
     ]
    }
   ],
   "source": [
    "seventdata= spark.read.format('csv').options(header='true',delimiter=',').load('edaeventdata.csv')\n",
    "seventdata.show(5)"
   ]
  },
  {
   "cell_type": "code",
   "execution_count": 112,
   "metadata": {},
   "outputs": [
    {
     "name": "stdout",
     "output_type": "stream",
     "text": [
      "+---+-------------------+------+---+---------+--------+-----+----+---------+-----+------------+--------------------+-----------+----------+\n",
      "| ID|          device_id|gender|age|age_group|event_id|Count|flag|Day_weeks|hours|week_of_year|             Average|change_flag|cluster_id|\n",
      "+---+-------------------+------+---+---------+--------+-----+----+---------+-----+------------+--------------------+-----------+----------+\n",
      "|  0|9222956879900150000|     M| 36|      32+|   12679|    1|   1|        5|   12|          18|0.006051486512749435|          0|        14|\n",
      "|  1|9222956879900150000|     M| 36|      32+|  131849|    1|   1|        5|   12|          18|0.006051486512749435|          0|        14|\n",
      "|  2|9222956879900150000|     M| 36|      32+|  205471|    1|   1|        4|   15|          18|0.006051486512749435|          0|        14|\n",
      "|  3|9222956879900150000|     M| 36|      32+|  211711|    1|   1|        4|   21|          18|0.006051486512749435|          0|        14|\n",
      "|  4|9222956879900150000|     M| 36|      32+|  229069|    1|   1|        4|   15|          18|0.006051486512749435|          0|        14|\n",
      "+---+-------------------+------+---+---------+--------+-----+----+---------+-----+------------+--------------------+-----------+----------+\n",
      "only showing top 5 rows\n",
      "\n"
     ]
    },
    {
     "name": "stderr",
     "output_type": "stream",
     "text": [
      "21/10/24 08:00:14 WARN CSVDataSource: CSV header does not conform to the schema.\n",
      " Header: , device_id, gender, age, age_group, event_id, Count, flag, Day_weeks, hours, week_of_year, Average, change_flag, cluster_id\n",
      " Schema: _c0, device_id, gender, age, age_group, event_id, Count, flag, Day_weeks, hours, week_of_year, Average, change_flag, cluster_id\n",
      "Expected: _c0 but found: \n",
      "CSV file: file:///home/ec2-user/edaeventdata.csv\n"
     ]
    }
   ],
   "source": [
    "seventdata=seventdata.withColumnRenamed(\"_c0\", \"ID\")\n",
    "seventdata.show(5)"
   ]
  },
  {
   "cell_type": "code",
   "execution_count": 113,
   "metadata": {
    "id": "vhBPcHyUgp0a"
   },
   "outputs": [
    {
     "name": "stdout",
     "output_type": "stream",
     "text": [
      "+---+-------------------+-------------------+-------------+------------+------------+------+\n",
      "|_c0|             app_id|super_category_game|super_finance|super_travel|super_health|others|\n",
      "+---+-------------------+-------------------+-------------+------------+------------+------+\n",
      "|  0|7324884708820027918|                  0|            1|           0|           0|     1|\n",
      "|  1|4494216993218550286|                  0|            1|           0|           0|     1|\n",
      "|  2|6058196446775239644|                  0|            0|           0|           0|     1|\n",
      "+---+-------------------+-------------------+-------------+------------+------------+------+\n",
      "only showing top 3 rows\n",
      "\n"
     ]
    },
    {
     "name": "stderr",
     "output_type": "stream",
     "text": [
      "21/10/24 08:00:14 WARN CSVDataSource: CSV header does not conform to the schema.\n",
      " Header: , app_id, super_category_game, super_finance, super_travel, super_health, others\n",
      " Schema: _c0, app_id, super_category_game, super_finance, super_travel, super_health, others\n",
      "Expected: _c0 but found: \n",
      "CSV file: file:///home/ec2-user/edalabeldata.csv\n"
     ]
    }
   ],
   "source": [
    "slabeldata= spark.read.format('csv').options(header='true').load('edalabeldata.csv')\n",
    "slabeldata.show(3)"
   ]
  },
  {
   "cell_type": "code",
   "execution_count": 114,
   "metadata": {},
   "outputs": [
    {
     "name": "stdout",
     "output_type": "stream",
     "text": [
      "+---+-------------------+-------------------+-------------+------------+------------+------+\n",
      "| ID|             app_id|super_category_game|super_finance|super_travel|super_health|others|\n",
      "+---+-------------------+-------------------+-------------+------------+------------+------+\n",
      "|  0|7324884708820027918|                  0|            1|           0|           0|     1|\n",
      "|  1|4494216993218550286|                  0|            1|           0|           0|     1|\n",
      "|  2|6058196446775239644|                  0|            0|           0|           0|     1|\n",
      "|  3|6058196446775239644|                  0|            1|           0|           0|     1|\n",
      "|  4|8694625920731541625|                  0|            0|           0|           0|     1|\n",
      "+---+-------------------+-------------------+-------------+------------+------------+------+\n",
      "only showing top 5 rows\n",
      "\n"
     ]
    },
    {
     "name": "stderr",
     "output_type": "stream",
     "text": [
      "21/10/24 08:00:15 WARN CSVDataSource: CSV header does not conform to the schema.\n",
      " Header: , app_id, super_category_game, super_finance, super_travel, super_health, others\n",
      " Schema: _c0, app_id, super_category_game, super_finance, super_travel, super_health, others\n",
      "Expected: _c0 but found: \n",
      "CSV file: file:///home/ec2-user/edalabeldata.csv\n"
     ]
    }
   ],
   "source": [
    "slabeldata=slabeldata.withColumnRenamed(\"_c0\", \"ID\")\n",
    "slabeldata.show(5)"
   ]
  },
  {
   "cell_type": "code",
   "execution_count": 115,
   "metadata": {
    "id": "B-vhjOBTgrY9"
   },
   "outputs": [
    {
     "name": "stdout",
     "output_type": "stream",
     "text": [
      "+---+-------------------+---+------------+-------------+\n",
      "|_c0|          device_id|age|device_brand|  phone_brand|\n",
      "+---+-------------------+---+------------+-------------+\n",
      "|  0|9223067244542180000| 24|        vivo|         Y19T|\n",
      "|  1|9222956879900150000| 36|     samsung|Galaxy Note 2|\n",
      "|  2|9222754701995930000| 29|     Coolpad|        8730L|\n",
      "|  3|9222352239947200000| 23|      Xiaomi|      xnote11|\n",
      "|  4|9222173362545970000| 56|     samsung|Galaxy Note 2|\n",
      "+---+-------------------+---+------------+-------------+\n",
      "only showing top 5 rows\n",
      "\n"
     ]
    },
    {
     "name": "stderr",
     "output_type": "stream",
     "text": [
      "21/10/24 08:00:15 WARN CSVDataSource: CSV header does not conform to the schema.\n",
      " Header: , device_id, age, device_brand, phone_brand\n",
      " Schema: _c0, device_id, age, device_brand, phone_brand\n",
      "Expected: _c0 but found: \n",
      "CSV file: file:///home/ec2-user/edanoneventdata.csv\n"
     ]
    }
   ],
   "source": [
    "snonevent= spark.read.format('csv').options(header='true').load('edanoneventdata.csv')\n",
    "snonevent.show(5)"
   ]
  },
  {
   "cell_type": "code",
   "execution_count": 116,
   "metadata": {},
   "outputs": [
    {
     "name": "stdout",
     "output_type": "stream",
     "text": [
      "+---+-------------------+---+------------+-------------+\n",
      "| ID|          device_id|age|device_brand|  phone_brand|\n",
      "+---+-------------------+---+------------+-------------+\n",
      "|  0|9223067244542180000| 24|        vivo|         Y19T|\n",
      "|  1|9222956879900150000| 36|     samsung|Galaxy Note 2|\n",
      "|  2|9222754701995930000| 29|     Coolpad|        8730L|\n",
      "|  3|9222352239947200000| 23|      Xiaomi|      xnote11|\n",
      "|  4|9222173362545970000| 56|     samsung|Galaxy Note 2|\n",
      "+---+-------------------+---+------------+-------------+\n",
      "only showing top 5 rows\n",
      "\n"
     ]
    },
    {
     "name": "stderr",
     "output_type": "stream",
     "text": [
      "21/10/24 08:00:15 WARN CSVDataSource: CSV header does not conform to the schema.\n",
      " Header: , device_id, age, device_brand, phone_brand\n",
      " Schema: _c0, device_id, age, device_brand, phone_brand\n",
      "Expected: _c0 but found: \n",
      "CSV file: file:///home/ec2-user/edanoneventdata.csv\n"
     ]
    }
   ],
   "source": [
    "snonevent=snonevent.withColumnRenamed(\"_c0\", \"ID\")\n",
    "snonevent.show(5)"
   ]
  },
  {
   "cell_type": "code",
   "execution_count": 117,
   "metadata": {
    "id": "JqwcQPTCgrVn"
   },
   "outputs": [],
   "source": [
    "snonevent=snonevent.drop(\"age\")"
   ]
  },
  {
   "cell_type": "code",
   "execution_count": 118,
   "metadata": {
    "id": "CnLRzOY1grS4"
   },
   "outputs": [
    {
     "name": "stderr",
     "output_type": "stream",
     "text": [
      "21/10/24 08:00:16 WARN CSVDataSource: CSV header does not conform to the schema.\n",
      " Header: , app_id, super_category_game, super_finance, super_travel, super_health, others\n",
      " Schema: _c0, app_id, super_category_game, super_finance, super_travel, super_health, others\n",
      "Expected: _c0 but found: \n",
      "CSV file: file:///home/ec2-user/edalabeldata.csv\n",
      "[Stage 14:>                 (0 + 4) / 4][Stage 15:>                (0 + 0) / 10]21/10/24 08:00:17 WARN CSVDataSource: CSV header does not conform to the schema.\n",
      " Header: , event_id, app_id, is_installed, is_active\n",
      " Schema: _c0, event_id, app_id, is_installed, is_active\n",
      "Expected: _c0 but found: \n",
      "CSV file: file:///home/ec2-user/edaappevent.csv\n",
      "[Stage 15:===================================================>     (9 + 1) / 10]"
     ]
    },
    {
     "name": "stdout",
     "output_type": "stream",
     "text": [
      "+-------------------+------+--------+------------+---------+------+-------------------+-------------+------------+------------+------+\n",
      "|             app_id|    ID|event_id|is_installed|is_active|    ID|super_category_game|super_finance|super_travel|super_health|others|\n",
      "+-------------------+------+--------+------------+---------+------+-------------------+-------------+------------+------------+------+\n",
      "|1000044012126765960|106921|    8400|           1|        1| 37095|                  0|            0|           0|           0|     1|\n",
      "|1000044012126765960|106921|    8400|           1|        1|112479|                  0|            0|           0|           0|     1|\n",
      "|1000044012126765960|106921|    8400|           1|        1|218621|                  0|            0|           0|           0|     1|\n",
      "|1000044012126765960|106921|    8400|           1|        1|243598|                  0|            0|           0|           0|     1|\n",
      "|1000044012126765960|106921|    8400|           1|        1|322493|                  1|            0|           0|           0|     1|\n",
      "+-------------------+------+--------+------------+---------+------+-------------------+-------------+------------+------------+------+\n",
      "only showing top 5 rows\n",
      "\n"
     ]
    },
    {
     "name": "stderr",
     "output_type": "stream",
     "text": [
      "                                                                                \r"
     ]
    }
   ],
   "source": [
    "sapplabel = sappevent.join(slabeldata,['app_id'],how='inner')\n",
    "sapplabel.show(5)"
   ]
  },
  {
   "cell_type": "code",
   "execution_count": 119,
   "metadata": {
    "id": "GGa9nI8sgrQk"
   },
   "outputs": [
    {
     "name": "stderr",
     "output_type": "stream",
     "text": [
      "21/10/24 08:00:58 WARN CSVDataSource: CSV header does not conform to the schema.\n",
      " Header: , device_id, gender, age, age_group, event_id, Count, flag, Day_weeks, hours, week_of_year, Average, change_flag, cluster_id\n",
      " Schema: _c0, device_id, gender, age, age_group, event_id, Count, flag, Day_weeks, hours, week_of_year, Average, change_flag, cluster_id\n",
      "Expected: _c0 but found: \n",
      "CSV file: file:///home/ec2-user/edaeventdata.csv\n",
      "[Stage 17:>   (0 + 4) / 4][Stage 18:>  (0 + 0) / 10][Stage 19:>   (0 + 0) / 4]21/10/24 08:01:00 WARN CSVDataSource: CSV header does not conform to the schema.\n",
      " Header: , event_id, app_id, is_installed, is_active\n",
      " Schema: _c0, event_id, app_id, is_installed, is_active\n",
      "Expected: _c0 but found: \n",
      "CSV file: file:///home/ec2-user/edaappevent.csv\n",
      "[Stage 18:==========>      (6 + 4) / 10][Stage 19:>                 (0 + 0) / 4]21/10/24 08:01:32 WARN CSVDataSource: CSV header does not conform to the schema.\n",
      " Header: , app_id, super_category_game, super_finance, super_travel, super_health, others\n",
      " Schema: _c0, app_id, super_category_game, super_finance, super_travel, super_health, others\n",
      "Expected: _c0 but found: \n",
      "CSV file: file:///home/ec2-user/edalabeldata.csv\n",
      "[Stage 20:=====================================================>(199 + 1) / 200]"
     ]
    },
    {
     "name": "stdout",
     "output_type": "stream",
     "text": [
      "+--------+-------------------+--------+------------+---------+------+-------------------+-------------+------------+------------+------+-------+-------------------+------+---+---------+-----+----+---------+-----+------------+-------------------+-----------+----------+\n",
      "|event_id|             app_id|      ID|is_installed|is_active|    ID|super_category_game|super_finance|super_travel|super_health|others|     ID|          device_id|gender|age|age_group|Count|flag|Day_weeks|hours|week_of_year|            Average|change_flag|cluster_id|\n",
      "+--------+-------------------+--------+------------+---------+------+-------------------+-------------+------------+------------+------+-------+-------------------+------+---+---------+-----+----+---------+-----+------------+-------------------+-----------+----------+\n",
      "| 1006588|6793861127573349654|10033944|           1|        1| 38881|                  0|            0|           0|           0|     1|8018445|3997915903738480000|     M| 29|    25-32|    1|   1|        0|    8|          18|0.03246855263571331|          1|        51|\n",
      "| 1006588|6793861127573349654|10033944|           1|        1|163542|                  0|            0|           0|           0|     1|8018445|3997915903738480000|     M| 29|    25-32|    1|   1|        0|    8|          18|0.03246855263571331|          1|        51|\n",
      "| 1006588|6793861127573349654|10033944|           1|        1|244780|                  0|            0|           0|           0|     1|8018445|3997915903738480000|     M| 29|    25-32|    1|   1|        0|    8|          18|0.03246855263571331|          1|        51|\n",
      "| 1006588|7460082553072507347|10033942|           1|        1| 36985|                  0|            0|           0|           0|     1|8018445|3997915903738480000|     M| 29|    25-32|    1|   1|        0|    8|          18|0.03246855263571331|          1|        51|\n",
      "| 1006588|7460082553072507347|10033942|           1|        1|243525|                  0|            0|           0|           0|     1|8018445|3997915903738480000|     M| 29|    25-32|    1|   1|        0|    8|          18|0.03246855263571331|          1|        51|\n",
      "+--------+-------------------+--------+------------+---------+------+-------------------+-------------+------------+------------+------+-------+-------------------+------+---+---------+-----+----+---------+-----+------------+-------------------+-----------+----------+\n",
      "only showing top 5 rows\n",
      "\n"
     ]
    },
    {
     "name": "stderr",
     "output_type": "stream",
     "text": [
      "                                                                                \r"
     ]
    }
   ],
   "source": [
    "seventapp = sapplabel.join(seventdata,['event_id'],how='inner')\n",
    "seventapp.show(5)"
   ]
  },
  {
   "cell_type": "code",
   "execution_count": 120,
   "metadata": {
    "id": "jlcKd7oggrOF"
   },
   "outputs": [],
   "source": [
    "#Final dataframe\n",
    "df = snonevent.join(seventapp,['device_id'],how='inner')"
   ]
  },
  {
   "cell_type": "code",
   "execution_count": 121,
   "metadata": {
    "id": "4-nyJkiAgrKd"
   },
   "outputs": [],
   "source": [
    "df=df.dropDuplicates()"
   ]
  },
  {
   "cell_type": "code",
   "execution_count": 122,
   "metadata": {
    "id": "qztZCx04grHR"
   },
   "outputs": [
    {
     "data": {
      "text/plain": [
       "['device_id',\n",
       " 'ID',\n",
       " 'device_brand',\n",
       " 'phone_brand',\n",
       " 'event_id',\n",
       " 'app_id',\n",
       " 'ID',\n",
       " 'is_installed',\n",
       " 'is_active',\n",
       " 'ID',\n",
       " 'super_category_game',\n",
       " 'super_finance',\n",
       " 'super_travel',\n",
       " 'super_health',\n",
       " 'others',\n",
       " 'ID',\n",
       " 'gender',\n",
       " 'age',\n",
       " 'age_group',\n",
       " 'Count',\n",
       " 'flag',\n",
       " 'Day_weeks',\n",
       " 'hours',\n",
       " 'week_of_year',\n",
       " 'Average',\n",
       " 'change_flag',\n",
       " 'cluster_id']"
      ]
     },
     "execution_count": 122,
     "metadata": {},
     "output_type": "execute_result"
    }
   ],
   "source": [
    "df.columns"
   ]
  },
  {
   "cell_type": "code",
   "execution_count": 123,
   "metadata": {
    "id": "hF4zWRNSgrFI"
   },
   "outputs": [],
   "source": [
    "#Loading only the required Columns \n",
    "colreq=['gender', 'age_group','age', 'device_brand', 'phone_brand', 'is_installed', 'is_active', 'super_category_game','super_finance',\n",
    " 'super_travel', 'super_health', 'others', 'Day_weeks', 'hours', 'week_of_year', 'Average', 'change_flag','cluster_id']"
   ]
  },
  {
   "cell_type": "code",
   "execution_count": 124,
   "metadata": {
    "id": "efYOL0ZTgq_w"
   },
   "outputs": [],
   "source": [
    "#Final data for model building for Scenario 1: All the requisite data is present (latitude-longitude data, application id data, event data and devices data).\n",
    "\n",
    "df=df.select(colreq)"
   ]
  },
  {
   "cell_type": "code",
   "execution_count": 125,
   "metadata": {},
   "outputs": [],
   "source": [
    "#Loading only limited data as the system is not able to read beyond it\n",
    "df=df.limit(100000)"
   ]
  },
  {
   "cell_type": "code",
   "execution_count": 126,
   "metadata": {
    "id": "KgCfu10Xgq6d"
   },
   "outputs": [
    {
     "name": "stderr",
     "output_type": "stream",
     "text": [
      "21/10/24 08:02:58 WARN Utils: Truncated the string representation of a plan since it was too large. This behavior can be adjusted by setting 'spark.debug.maxToStringFields' in SparkEnv.conf.\n",
      "21/10/24 08:02:58 WARN CSVDataSource: CSV header does not conform to the schema.\n",
      " Header: , device_id, device_brand, phone_brand\n",
      " Schema: _c0, device_id, device_brand, phone_brand\n",
      "Expected: _c0 but found: \n",
      "CSV file: file:///home/ec2-user/edanoneventdata.csv\n",
      "21/10/24 08:02:59 WARN CSVDataSource: CSV header does not conform to the schema.\n",
      " Header: , event_id, app_id, is_installed, is_active\n",
      " Schema: _c0, event_id, app_id, is_installed, is_active\n",
      "Expected: _c0 but found: \n",
      "CSV file: file:///home/ec2-user/edaappevent.csv\n",
      "[Stage 23:=> (5 + 4) / 10][Stage 24:>   (0 + 0) / 4][Stage 26:>   (0 + 0) / 4]21/10/24 08:03:31 WARN CSVDataSource: CSV header does not conform to the schema.\n",
      " Header: , app_id, super_category_game, super_finance, super_travel, super_health, others\n",
      " Schema: _c0, app_id, super_category_game, super_finance, super_travel, super_health, others\n",
      "Expected: _c0 but found: \n",
      "CSV file: file:///home/ec2-user/edalabeldata.csv\n",
      "[Stage 23:==>(8 + 2) / 10][Stage 24:==> (2 + 2) / 4][Stage 26:>   (0 + 0) / 4]21/10/24 08:03:32 WARN CSVDataSource: CSV header does not conform to the schema.\n",
      " Header: , device_id, gender, age, age_group, event_id, Count, flag, Day_weeks, hours, week_of_year, Average, change_flag, cluster_id\n",
      " Schema: _c0, device_id, gender, age, age_group, event_id, Count, flag, Day_weeks, hours, week_of_year, Average, change_flag, cluster_id\n",
      "Expected: _c0 but found: \n",
      "CSV file: file:///home/ec2-user/edaeventdata.csv\n",
      "                                                                                \r"
     ]
    }
   ],
   "source": [
    "#Writing the final CSV file\n",
    "df.repartition(1).write.csv(\"scenario1data\", sep=',')"
   ]
  },
  {
   "cell_type": "code",
   "execution_count": 128,
   "metadata": {
    "id": "psxigDk7gq3R"
   },
   "outputs": [],
   "source": [
    "#Loading the final CSV file\n",
    "df= spark.read.format('csv').options(header='true').load('scenario1data/eventdatamodel.csv')"
   ]
  },
  {
   "cell_type": "code",
   "execution_count": null,
   "metadata": {
    "id": "qqcxIYUkgqyV"
   },
   "outputs": [],
   "source": []
  },
  {
   "cell_type": "code",
   "execution_count": 129,
   "metadata": {
    "id": "BFszEjGBgqt9"
   },
   "outputs": [],
   "source": [
    "#Scenario 2 event with no data"
   ]
  },
  {
   "cell_type": "code",
   "execution_count": 130,
   "metadata": {
    "id": "zIers1Ungqlq"
   },
   "outputs": [],
   "source": [
    "seventnodata= spark.read.format('csv').options(header='true').load('eventnodata.csv')"
   ]
  },
  {
   "cell_type": "code",
   "execution_count": 131,
   "metadata": {
    "id": "1YU49zWTgqZ2"
   },
   "outputs": [
    {
     "name": "stdout",
     "output_type": "stream",
     "text": [
      "+---+-------------------+------+---+---------+--------+-------------------+---------+--------+-----+----+\n",
      "|_c0|          device_id|gender|age|age_group|event_id|          timestamp|longitude|latitude|Count|flag|\n",
      "+---+-------------------+------+---+---------+--------+-------------------+---------+--------+-----+----+\n",
      "|  0|9223067244542180000|     M| 24|    M0-24|       0|2021-05-05 00:00:00|      0.0|     0.0|    1|   0|\n",
      "|  1|9222956879900150000|     M| 36|     M32+|   11281|2016-05-07 11:36:04|      0.0|     0.0|    1|   0|\n",
      "|  3|9222956879900150000|     M| 36|     M32+|   49383|2016-05-07 15:44:45|      0.0|     0.0|    1|   0|\n",
      "| 18|9222956879900150000|     M| 36|     M32+|  554351|2016-05-06 15:34:16|      0.0|     0.0|    1|   0|\n",
      "| 19|9222956879900150000|     M| 36|     M32+|  605546|2016-05-07 13:38:25|      0.0|     0.0|    1|   0|\n",
      "+---+-------------------+------+---+---------+--------+-------------------+---------+--------+-----+----+\n",
      "only showing top 5 rows\n",
      "\n"
     ]
    },
    {
     "name": "stderr",
     "output_type": "stream",
     "text": [
      "21/10/24 08:07:33 WARN CSVDataSource: CSV header does not conform to the schema.\n",
      " Header: , device_id, gender, age, age_group, event_id, timestamp, longitude, latitude, Count, flag\n",
      " Schema: _c0, device_id, gender, age, age_group, event_id, timestamp, longitude, latitude, Count, flag\n",
      "Expected: _c0 but found: \n",
      "CSV file: file:///home/ec2-user/eventnodata.csv\n"
     ]
    }
   ],
   "source": [
    "seventnodata.show(5)"
   ]
  },
  {
   "cell_type": "code",
   "execution_count": 132,
   "metadata": {},
   "outputs": [
    {
     "name": "stdout",
     "output_type": "stream",
     "text": [
      "+---+-------------------+------+---+---------+--------+-------------------+---------+--------+-----+----+\n",
      "| ID|          device_id|gender|age|age_group|event_id|          timestamp|longitude|latitude|Count|flag|\n",
      "+---+-------------------+------+---+---------+--------+-------------------+---------+--------+-----+----+\n",
      "|  0|9223067244542180000|     M| 24|    M0-24|       0|2021-05-05 00:00:00|      0.0|     0.0|    1|   0|\n",
      "|  1|9222956879900150000|     M| 36|     M32+|   11281|2016-05-07 11:36:04|      0.0|     0.0|    1|   0|\n",
      "|  3|9222956879900150000|     M| 36|     M32+|   49383|2016-05-07 15:44:45|      0.0|     0.0|    1|   0|\n",
      "| 18|9222956879900150000|     M| 36|     M32+|  554351|2016-05-06 15:34:16|      0.0|     0.0|    1|   0|\n",
      "| 19|9222956879900150000|     M| 36|     M32+|  605546|2016-05-07 13:38:25|      0.0|     0.0|    1|   0|\n",
      "+---+-------------------+------+---+---------+--------+-------------------+---------+--------+-----+----+\n",
      "only showing top 5 rows\n",
      "\n"
     ]
    },
    {
     "name": "stderr",
     "output_type": "stream",
     "text": [
      "21/10/24 08:07:33 WARN CSVDataSource: CSV header does not conform to the schema.\n",
      " Header: , device_id, gender, age, age_group, event_id, timestamp, longitude, latitude, Count, flag\n",
      " Schema: _c0, device_id, gender, age, age_group, event_id, timestamp, longitude, latitude, Count, flag\n",
      "Expected: _c0 but found: \n",
      "CSV file: file:///home/ec2-user/eventnodata.csv\n"
     ]
    }
   ],
   "source": [
    "seventnodata=seventnodata.withColumnRenamed(\"_c0\", \"ID\")\n",
    "seventnodata.show(5)"
   ]
  },
  {
   "cell_type": "code",
   "execution_count": 133,
   "metadata": {},
   "outputs": [],
   "source": [
    "seventnodata=seventnodata.drop(\"flag\",'Count','longitude','latitude','timestamp','event_id')"
   ]
  },
  {
   "cell_type": "code",
   "execution_count": 134,
   "metadata": {},
   "outputs": [
    {
     "name": "stdout",
     "output_type": "stream",
     "text": [
      "+---+-------------------+------+---+---------+\n",
      "| ID|          device_id|gender|age|age_group|\n",
      "+---+-------------------+------+---+---------+\n",
      "|  0|9223067244542180000|     M| 24|    M0-24|\n",
      "|  1|9222956879900150000|     M| 36|     M32+|\n",
      "|  3|9222956879900150000|     M| 36|     M32+|\n",
      "| 18|9222956879900150000|     M| 36|     M32+|\n",
      "| 19|9222956879900150000|     M| 36|     M32+|\n",
      "+---+-------------------+------+---+---------+\n",
      "only showing top 5 rows\n",
      "\n"
     ]
    },
    {
     "name": "stderr",
     "output_type": "stream",
     "text": [
      "21/10/24 08:07:33 WARN CSVDataSource: CSV header does not conform to the schema.\n",
      " Header: , device_id, gender, age, age_group\n",
      " Schema: _c0, device_id, gender, age, age_group\n",
      "Expected: _c0 but found: \n",
      "CSV file: file:///home/ec2-user/eventnodata.csv\n"
     ]
    }
   ],
   "source": [
    "seventnodata.show(5)"
   ]
  },
  {
   "cell_type": "code",
   "execution_count": 135,
   "metadata": {},
   "outputs": [],
   "source": [
    "df1 = seventnodata.join(snonevent,['device_id'],how='inner')"
   ]
  },
  {
   "cell_type": "code",
   "execution_count": 136,
   "metadata": {},
   "outputs": [
    {
     "name": "stderr",
     "output_type": "stream",
     "text": [
      "                                                                                \r"
     ]
    },
    {
     "data": {
      "text/plain": [
       "407661"
      ]
     },
     "execution_count": 136,
     "metadata": {},
     "output_type": "execute_result"
    }
   ],
   "source": [
    "df1.count()"
   ]
  },
  {
   "cell_type": "code",
   "execution_count": 137,
   "metadata": {},
   "outputs": [
    {
     "name": "stderr",
     "output_type": "stream",
     "text": [
      "21/10/24 08:07:35 WARN CSVDataSource: CSV header does not conform to the schema.\n",
      " Header: , device_id, device_brand, phone_brand\n",
      " Schema: _c0, device_id, device_brand, phone_brand\n",
      "Expected: _c0 but found: \n",
      "CSV file: file:///home/ec2-user/edanoneventdata.csv\n"
     ]
    },
    {
     "name": "stdout",
     "output_type": "stream",
     "text": [
      "+-------------------+---+------+---+---------+---+------------+-------------+\n",
      "|          device_id| ID|gender|age|age_group| ID|device_brand|  phone_brand|\n",
      "+-------------------+---+------+---+---------+---+------------+-------------+\n",
      "|9223067244542180000|  0|     M| 24|    M0-24|  0|        vivo|         Y19T|\n",
      "|9222956879900150000|  1|     M| 36|     M32+|  1|     samsung|Galaxy Note 2|\n",
      "|9222956879900150000|  3|     M| 36|     M32+|  1|     samsung|Galaxy Note 2|\n",
      "|9222956879900150000| 18|     M| 36|     M32+|  1|     samsung|Galaxy Note 2|\n",
      "|9222956879900150000| 19|     M| 36|     M32+|  1|     samsung|Galaxy Note 2|\n",
      "+-------------------+---+------+---+---------+---+------------+-------------+\n",
      "only showing top 5 rows\n",
      "\n"
     ]
    },
    {
     "name": "stderr",
     "output_type": "stream",
     "text": [
      "21/10/24 08:07:35 WARN CSVDataSource: CSV header does not conform to the schema.\n",
      " Header: , device_id, gender, age, age_group\n",
      " Schema: _c0, device_id, gender, age, age_group\n",
      "Expected: _c0 but found: \n",
      "CSV file: file:///home/ec2-user/eventnodata.csv\n"
     ]
    }
   ],
   "source": [
    "df1.show(5)"
   ]
  },
  {
   "cell_type": "code",
   "execution_count": 138,
   "metadata": {},
   "outputs": [],
   "source": [
    "#required Columns \n",
    "col_req=['gender', 'age_group', 'age', 'device_brand', 'phone_brand']"
   ]
  },
  {
   "cell_type": "code",
   "execution_count": 139,
   "metadata": {},
   "outputs": [
    {
     "name": "stdout",
     "output_type": "stream",
     "text": [
      "+------+---------+---+------------+-------------+\n",
      "|gender|age_group|age|device_brand|  phone_brand|\n",
      "+------+---------+---+------------+-------------+\n",
      "|     M|    M0-24| 24|        vivo|         Y19T|\n",
      "|     M|     M32+| 36|     samsung|Galaxy Note 2|\n",
      "|     M|     M32+| 36|     samsung|Galaxy Note 2|\n",
      "|     M|     M32+| 36|     samsung|Galaxy Note 2|\n",
      "|     M|     M32+| 36|     samsung|Galaxy Note 2|\n",
      "+------+---------+---+------------+-------------+\n",
      "only showing top 5 rows\n",
      "\n"
     ]
    }
   ],
   "source": [
    "#Final data for model building for Scenario 2: All the requisite data is present (latitude-longitude data, application id data, event data and devices data).\n",
    "\n",
    "df1=df1.select(col_req)\n",
    "df1.show(5)"
   ]
  },
  {
   "cell_type": "code",
   "execution_count": 140,
   "metadata": {},
   "outputs": [
    {
     "name": "stderr",
     "output_type": "stream",
     "text": [
      "                                                                                \r"
     ]
    }
   ],
   "source": [
    "#Generating the final CSV file for scenario 2\n",
    "df1.repartition(1).write.csv(\"scenario2data\", sep=',')"
   ]
  },
  {
   "cell_type": "code",
   "execution_count": null,
   "metadata": {},
   "outputs": [],
   "source": []
  },
  {
   "cell_type": "code",
   "execution_count": 141,
   "metadata": {},
   "outputs": [
    {
     "name": "stdout",
     "output_type": "stream",
     "text": [
      "Defaulting to user installation because normal site-packages is not writeable\n",
      "Requirement already satisfied: mlxtend in ./.local/lib/python3.7/site-packages (0.19.0)\n",
      "Requirement already satisfied: scipy>=1.2.1 in ./.local/lib/python3.7/site-packages (from mlxtend) (1.7.1)\n",
      "Requirement already satisfied: pandas>=0.24.2 in ./.local/lib/python3.7/site-packages (from mlxtend) (1.3.4)\n",
      "Requirement already satisfied: scikit-learn>=0.20.3 in ./.local/lib/python3.7/site-packages (from mlxtend) (1.0)\n",
      "Requirement already satisfied: joblib>=0.13.2 in ./.local/lib/python3.7/site-packages (from mlxtend) (1.1.0)\n",
      "Requirement already satisfied: matplotlib>=3.0.0 in ./.local/lib/python3.7/site-packages (from mlxtend) (3.4.3)\n",
      "Requirement already satisfied: numpy>=1.16.2 in ./.local/lib/python3.7/site-packages (from mlxtend) (1.21.3)\n",
      "Requirement already satisfied: setuptools in /usr/lib/python3.7/site-packages (from mlxtend) (49.1.3)\n",
      "Requirement already satisfied: pytz>=2017.3 in ./.local/lib/python3.7/site-packages (from pandas>=0.24.2->mlxtend) (2021.3)\n",
      "Requirement already satisfied: python-dateutil>=2.7.3 in ./.local/lib/python3.7/site-packages (from pandas>=0.24.2->mlxtend) (2.8.2)\n",
      "Requirement already satisfied: threadpoolctl>=2.0.0 in ./.local/lib/python3.7/site-packages (from scikit-learn>=0.20.3->mlxtend) (3.0.0)\n",
      "Requirement already satisfied: kiwisolver>=1.0.1 in ./.local/lib/python3.7/site-packages (from matplotlib>=3.0.0->mlxtend) (1.3.2)\n",
      "Requirement already satisfied: cycler>=0.10 in ./.local/lib/python3.7/site-packages (from matplotlib>=3.0.0->mlxtend) (0.10.0)\n",
      "Requirement already satisfied: pyparsing>=2.2.1 in ./.local/lib/python3.7/site-packages (from matplotlib>=3.0.0->mlxtend) (2.4.7)\n",
      "Requirement already satisfied: pillow>=6.2.0 in ./.local/lib/python3.7/site-packages (from matplotlib>=3.0.0->mlxtend) (8.4.0)\n",
      "Requirement already satisfied: six>=1.5 in ./.local/lib/python3.7/site-packages (from python-dateutil>=2.7.3->pandas>=0.24.2->mlxtend) (1.16.0)\n",
      "Defaulting to user installation because normal site-packages is not writeable\n",
      "Requirement already satisfied: xgboost in ./.local/lib/python3.7/site-packages (1.5.0)\n",
      "Requirement already satisfied: numpy in ./.local/lib/python3.7/site-packages (from xgboost) (1.21.3)\n",
      "Requirement already satisfied: scipy in ./.local/lib/python3.7/site-packages (from xgboost) (1.7.1)\n"
     ]
    }
   ],
   "source": [
    "!pip3 install mlxtend\n",
    "!pip3 install xgboost"
   ]
  },
  {
   "cell_type": "code",
   "execution_count": 142,
   "metadata": {},
   "outputs": [],
   "source": [
    "from sklearn import preprocessing\n",
    "from mlxtend.classifier import StackingCVClassifier\n",
    "from sklearn.neighbors import KNeighborsClassifier\n",
    "from sklearn.ensemble import RandomForestClassifier\n",
    "from sklearn.linear_model import LogisticRegression\n",
    "from sklearn.naive_bayes import GaussianNB \n",
    "from sklearn import model_selection\n",
    "from xgboost import XGBClassifier"
   ]
  },
  {
   "cell_type": "code",
   "execution_count": 143,
   "metadata": {},
   "outputs": [],
   "source": [
    "df = pd.read_csv('scenario1data/eventdatamodel.csv', sep=',', header=None)"
   ]
  },
  {
   "cell_type": "code",
   "execution_count": 144,
   "metadata": {},
   "outputs": [
    {
     "data": {
      "text/plain": [
       "(100000, 18)"
      ]
     },
     "execution_count": 144,
     "metadata": {},
     "output_type": "execute_result"
    }
   ],
   "source": [
    "df.shape"
   ]
  },
  {
   "cell_type": "code",
   "execution_count": 145,
   "metadata": {},
   "outputs": [
    {
     "data": {
      "text/html": [
       "<div>\n",
       "<style scoped>\n",
       "    .dataframe tbody tr th:only-of-type {\n",
       "        vertical-align: middle;\n",
       "    }\n",
       "\n",
       "    .dataframe tbody tr th {\n",
       "        vertical-align: top;\n",
       "    }\n",
       "\n",
       "    .dataframe thead th {\n",
       "        text-align: right;\n",
       "    }\n",
       "</style>\n",
       "<table border=\"1\" class=\"dataframe\">\n",
       "  <thead>\n",
       "    <tr style=\"text-align: right;\">\n",
       "      <th></th>\n",
       "      <th>0</th>\n",
       "      <th>1</th>\n",
       "      <th>2</th>\n",
       "      <th>3</th>\n",
       "      <th>4</th>\n",
       "      <th>5</th>\n",
       "      <th>6</th>\n",
       "      <th>7</th>\n",
       "      <th>8</th>\n",
       "      <th>9</th>\n",
       "      <th>10</th>\n",
       "      <th>11</th>\n",
       "      <th>12</th>\n",
       "      <th>13</th>\n",
       "      <th>14</th>\n",
       "      <th>15</th>\n",
       "      <th>16</th>\n",
       "      <th>17</th>\n",
       "    </tr>\n",
       "  </thead>\n",
       "  <tbody>\n",
       "    <tr>\n",
       "      <th>66229</th>\n",
       "      <td>M</td>\n",
       "      <td>25-32</td>\n",
       "      <td>32</td>\n",
       "      <td>vivo</td>\n",
       "      <td>X3L</td>\n",
       "      <td>1</td>\n",
       "      <td>1</td>\n",
       "      <td>1</td>\n",
       "      <td>0</td>\n",
       "      <td>0</td>\n",
       "      <td>0</td>\n",
       "      <td>1</td>\n",
       "      <td>0</td>\n",
       "      <td>19</td>\n",
       "      <td>18</td>\n",
       "      <td>0.074829</td>\n",
       "      <td>1</td>\n",
       "      <td>18</td>\n",
       "    </tr>\n",
       "  </tbody>\n",
       "</table>\n",
       "</div>"
      ],
      "text/plain": [
       "      0      1   2     3    4   5   6   7   8   9   10  11  12  13  14  \\\n",
       "66229  M  25-32  32  vivo  X3L   1   1   1   0   0   0   1   0  19  18   \n",
       "\n",
       "             15  16  17  \n",
       "66229  0.074829   1  18  "
      ]
     },
     "execution_count": 145,
     "metadata": {},
     "output_type": "execute_result"
    }
   ],
   "source": [
    "df.sample()"
   ]
  },
  {
   "cell_type": "code",
   "execution_count": 146,
   "metadata": {},
   "outputs": [],
   "source": [
    "#Updating the column name for the DF\n",
    "df.columns = ['gender', 'age_group','age', 'device_brand', 'phone_brand', 'is_installed', 'is_active', 'super_category_game','super_finance',\n",
    "'super_travel', 'super_health', 'others', 'Day_weeks', 'hours', 'week_of_year', 'Average', 'change_flag','cluster_id']"
   ]
  },
  {
   "cell_type": "code",
   "execution_count": 147,
   "metadata": {},
   "outputs": [
    {
     "data": {
      "text/html": [
       "<div>\n",
       "<style scoped>\n",
       "    .dataframe tbody tr th:only-of-type {\n",
       "        vertical-align: middle;\n",
       "    }\n",
       "\n",
       "    .dataframe tbody tr th {\n",
       "        vertical-align: top;\n",
       "    }\n",
       "\n",
       "    .dataframe thead th {\n",
       "        text-align: right;\n",
       "    }\n",
       "</style>\n",
       "<table border=\"1\" class=\"dataframe\">\n",
       "  <thead>\n",
       "    <tr style=\"text-align: right;\">\n",
       "      <th></th>\n",
       "      <th>gender</th>\n",
       "      <th>age_group</th>\n",
       "      <th>age</th>\n",
       "      <th>device_brand</th>\n",
       "      <th>phone_brand</th>\n",
       "      <th>is_installed</th>\n",
       "      <th>is_active</th>\n",
       "      <th>super_category_game</th>\n",
       "      <th>super_finance</th>\n",
       "      <th>super_travel</th>\n",
       "      <th>super_health</th>\n",
       "      <th>others</th>\n",
       "      <th>Day_weeks</th>\n",
       "      <th>hours</th>\n",
       "      <th>week_of_year</th>\n",
       "      <th>Average</th>\n",
       "      <th>change_flag</th>\n",
       "      <th>cluster_id</th>\n",
       "    </tr>\n",
       "  </thead>\n",
       "  <tbody>\n",
       "    <tr>\n",
       "      <th>77299</th>\n",
       "      <td>M</td>\n",
       "      <td>32+</td>\n",
       "      <td>40</td>\n",
       "      <td>Huawei</td>\n",
       "      <td>hu1</td>\n",
       "      <td>1</td>\n",
       "      <td>0</td>\n",
       "      <td>0</td>\n",
       "      <td>0</td>\n",
       "      <td>0</td>\n",
       "      <td>0</td>\n",
       "      <td>1</td>\n",
       "      <td>2</td>\n",
       "      <td>9</td>\n",
       "      <td>18</td>\n",
       "      <td>0.027232</td>\n",
       "      <td>1</td>\n",
       "      <td>69</td>\n",
       "    </tr>\n",
       "    <tr>\n",
       "      <th>75392</th>\n",
       "      <td>F</td>\n",
       "      <td>0-24</td>\n",
       "      <td>24</td>\n",
       "      <td>samsung</td>\n",
       "      <td>Galaxy Grand 2</td>\n",
       "      <td>1</td>\n",
       "      <td>1</td>\n",
       "      <td>0</td>\n",
       "      <td>0</td>\n",
       "      <td>0</td>\n",
       "      <td>0</td>\n",
       "      <td>1</td>\n",
       "      <td>3</td>\n",
       "      <td>19</td>\n",
       "      <td>18</td>\n",
       "      <td>0.114978</td>\n",
       "      <td>1</td>\n",
       "      <td>26</td>\n",
       "    </tr>\n",
       "    <tr>\n",
       "      <th>67969</th>\n",
       "      <td>F</td>\n",
       "      <td>32+</td>\n",
       "      <td>53</td>\n",
       "      <td>Xiaomi</td>\n",
       "      <td>xnote3</td>\n",
       "      <td>1</td>\n",
       "      <td>0</td>\n",
       "      <td>0</td>\n",
       "      <td>0</td>\n",
       "      <td>0</td>\n",
       "      <td>0</td>\n",
       "      <td>1</td>\n",
       "      <td>3</td>\n",
       "      <td>10</td>\n",
       "      <td>18</td>\n",
       "      <td>0.016409</td>\n",
       "      <td>1</td>\n",
       "      <td>363</td>\n",
       "    </tr>\n",
       "    <tr>\n",
       "      <th>86888</th>\n",
       "      <td>M</td>\n",
       "      <td>25-32</td>\n",
       "      <td>25</td>\n",
       "      <td>Xiaomi</td>\n",
       "      <td>MI 4</td>\n",
       "      <td>1</td>\n",
       "      <td>0</td>\n",
       "      <td>0</td>\n",
       "      <td>0</td>\n",
       "      <td>0</td>\n",
       "      <td>0</td>\n",
       "      <td>1</td>\n",
       "      <td>5</td>\n",
       "      <td>9</td>\n",
       "      <td>18</td>\n",
       "      <td>0.019202</td>\n",
       "      <td>1</td>\n",
       "      <td>14</td>\n",
       "    </tr>\n",
       "    <tr>\n",
       "      <th>34251</th>\n",
       "      <td>M</td>\n",
       "      <td>25-32</td>\n",
       "      <td>28</td>\n",
       "      <td>Huawei</td>\n",
       "      <td>4X</td>\n",
       "      <td>1</td>\n",
       "      <td>1</td>\n",
       "      <td>0</td>\n",
       "      <td>0</td>\n",
       "      <td>0</td>\n",
       "      <td>0</td>\n",
       "      <td>1</td>\n",
       "      <td>1</td>\n",
       "      <td>16</td>\n",
       "      <td>18</td>\n",
       "      <td>0.026883</td>\n",
       "      <td>1</td>\n",
       "      <td>0</td>\n",
       "    </tr>\n",
       "  </tbody>\n",
       "</table>\n",
       "</div>"
      ],
      "text/plain": [
       "      gender age_group  age device_brand     phone_brand  is_installed  \\\n",
       "77299      M       32+   40       Huawei             hu1             1   \n",
       "75392      F      0-24   24      samsung  Galaxy Grand 2             1   \n",
       "67969      F       32+   53       Xiaomi          xnote3             1   \n",
       "86888      M     25-32   25       Xiaomi            MI 4             1   \n",
       "34251      M     25-32   28       Huawei              4X             1   \n",
       "\n",
       "       is_active  super_category_game  super_finance  super_travel  \\\n",
       "77299          0                    0              0             0   \n",
       "75392          1                    0              0             0   \n",
       "67969          0                    0              0             0   \n",
       "86888          0                    0              0             0   \n",
       "34251          1                    0              0             0   \n",
       "\n",
       "       super_health  others  Day_weeks  hours  week_of_year   Average  \\\n",
       "77299             0       1          2      9            18  0.027232   \n",
       "75392             0       1          3     19            18  0.114978   \n",
       "67969             0       1          3     10            18  0.016409   \n",
       "86888             0       1          5      9            18  0.019202   \n",
       "34251             0       1          1     16            18  0.026883   \n",
       "\n",
       "       change_flag  cluster_id  \n",
       "77299            1          69  \n",
       "75392            1          26  \n",
       "67969            1         363  \n",
       "86888            1          14  \n",
       "34251            1           0  "
      ]
     },
     "execution_count": 147,
     "metadata": {},
     "output_type": "execute_result"
    }
   ],
   "source": [
    "df.sample(5)"
   ]
  },
  {
   "cell_type": "code",
   "execution_count": 148,
   "metadata": {},
   "outputs": [],
   "source": [
    "#Changing the datatype\n",
    "df['gender'] = df['gender'].apply(lambda x: 1 if x=='M' else 0)\n",
    "df['age_group'] = df['age_group'].astype('category')\n",
    "df['device_brand'] = df['device_brand'].astype('category')\n",
    "df['phone_brand'] = df['phone_brand'].astype('category')\n",
    "df['age_group'] = df['age_group'].cat.codes\n",
    "df['device_brand'] = df['device_brand'].cat.codes\n",
    "df['phone_brand'] = df['phone_brand'].cat.codes"
   ]
  },
  {
   "cell_type": "code",
   "execution_count": 149,
   "metadata": {},
   "outputs": [
    {
     "name": "stdout",
     "output_type": "stream",
     "text": [
      "<class 'pandas.core.frame.DataFrame'>\n",
      "RangeIndex: 100000 entries, 0 to 99999\n",
      "Data columns (total 18 columns):\n",
      " #   Column               Non-Null Count   Dtype  \n",
      "---  ------               --------------   -----  \n",
      " 0   gender               100000 non-null  int64  \n",
      " 1   age_group            100000 non-null  int8   \n",
      " 2   age                  100000 non-null  int64  \n",
      " 3   device_brand         100000 non-null  int8   \n",
      " 4   phone_brand          100000 non-null  int16  \n",
      " 5   is_installed         100000 non-null  int64  \n",
      " 6   is_active            100000 non-null  int64  \n",
      " 7   super_category_game  100000 non-null  int64  \n",
      " 8   super_finance        100000 non-null  int64  \n",
      " 9   super_travel         100000 non-null  int64  \n",
      " 10  super_health         100000 non-null  int64  \n",
      " 11  others               100000 non-null  int64  \n",
      " 12  Day_weeks            100000 non-null  int64  \n",
      " 13  hours                100000 non-null  int64  \n",
      " 14  week_of_year         100000 non-null  int64  \n",
      " 15  Average              100000 non-null  float64\n",
      " 16  change_flag          100000 non-null  int64  \n",
      " 17  cluster_id           100000 non-null  int64  \n",
      "dtypes: float64(1), int16(1), int64(14), int8(2)\n",
      "memory usage: 11.8 MB\n"
     ]
    }
   ],
   "source": [
    "df.info()"
   ]
  },
  {
   "cell_type": "code",
   "execution_count": null,
   "metadata": {},
   "outputs": [],
   "source": []
  },
  {
   "cell_type": "code",
   "execution_count": 150,
   "metadata": {},
   "outputs": [],
   "source": [
    "##Models"
   ]
  },
  {
   "cell_type": "code",
   "execution_count": 151,
   "metadata": {},
   "outputs": [],
   "source": [
    "#Linear Regression using Age"
   ]
  },
  {
   "cell_type": "code",
   "execution_count": 152,
   "metadata": {},
   "outputs": [],
   "source": [
    "y = df['age']\n",
    "X = df.drop('age', 1)"
   ]
  },
  {
   "cell_type": "code",
   "execution_count": 153,
   "metadata": {},
   "outputs": [],
   "source": [
    "from sklearn.model_selection import train_test_split\n",
    "\n",
    "X_train, X_test, y_train, y_test = train_test_split(X, y, test_size=0.2, random_state=123)"
   ]
  },
  {
   "cell_type": "code",
   "execution_count": 154,
   "metadata": {},
   "outputs": [],
   "source": [
    "from sklearn import linear_model\n",
    "\n",
    "lm = linear_model.LinearRegression()\n",
    "model = lm.fit(X_train,y_train)\n",
    "predictions = model.predict(X_test)"
   ]
  },
  {
   "cell_type": "code",
   "execution_count": 155,
   "metadata": {},
   "outputs": [
    {
     "name": "stdout",
     "output_type": "stream",
     "text": [
      "[41.4319198  40.46524471 43.72622561 32.46312046 27.71586674]\n"
     ]
    }
   ],
   "source": [
    "print(predictions[0:5])"
   ]
  },
  {
   "cell_type": "code",
   "execution_count": 156,
   "metadata": {},
   "outputs": [],
   "source": [
    "y_test_pred=pd.DataFrame(predictions)"
   ]
  },
  {
   "cell_type": "code",
   "execution_count": 157,
   "metadata": {},
   "outputs": [
    {
     "data": {
      "text/html": [
       "<div>\n",
       "<style scoped>\n",
       "    .dataframe tbody tr th:only-of-type {\n",
       "        vertical-align: middle;\n",
       "    }\n",
       "\n",
       "    .dataframe tbody tr th {\n",
       "        vertical-align: top;\n",
       "    }\n",
       "\n",
       "    .dataframe thead th {\n",
       "        text-align: right;\n",
       "    }\n",
       "</style>\n",
       "<table border=\"1\" class=\"dataframe\">\n",
       "  <thead>\n",
       "    <tr style=\"text-align: right;\">\n",
       "      <th></th>\n",
       "      <th>0</th>\n",
       "    </tr>\n",
       "  </thead>\n",
       "  <tbody>\n",
       "    <tr>\n",
       "      <th>0</th>\n",
       "      <td>41.431920</td>\n",
       "    </tr>\n",
       "    <tr>\n",
       "      <th>1</th>\n",
       "      <td>40.465245</td>\n",
       "    </tr>\n",
       "    <tr>\n",
       "      <th>2</th>\n",
       "      <td>43.726226</td>\n",
       "    </tr>\n",
       "    <tr>\n",
       "      <th>3</th>\n",
       "      <td>32.463120</td>\n",
       "    </tr>\n",
       "    <tr>\n",
       "      <th>4</th>\n",
       "      <td>27.715867</td>\n",
       "    </tr>\n",
       "    <tr>\n",
       "      <th>...</th>\n",
       "      <td>...</td>\n",
       "    </tr>\n",
       "    <tr>\n",
       "      <th>19995</th>\n",
       "      <td>19.063667</td>\n",
       "    </tr>\n",
       "    <tr>\n",
       "      <th>19996</th>\n",
       "      <td>41.872214</td>\n",
       "    </tr>\n",
       "    <tr>\n",
       "      <th>19997</th>\n",
       "      <td>45.721886</td>\n",
       "    </tr>\n",
       "    <tr>\n",
       "      <th>19998</th>\n",
       "      <td>28.326351</td>\n",
       "    </tr>\n",
       "    <tr>\n",
       "      <th>19999</th>\n",
       "      <td>39.886777</td>\n",
       "    </tr>\n",
       "  </tbody>\n",
       "</table>\n",
       "<p>20000 rows × 1 columns</p>\n",
       "</div>"
      ],
      "text/plain": [
       "               0\n",
       "0      41.431920\n",
       "1      40.465245\n",
       "2      43.726226\n",
       "3      32.463120\n",
       "4      27.715867\n",
       "...          ...\n",
       "19995  19.063667\n",
       "19996  41.872214\n",
       "19997  45.721886\n",
       "19998  28.326351\n",
       "19999  39.886777\n",
       "\n",
       "[20000 rows x 1 columns]"
      ]
     },
     "execution_count": 157,
     "metadata": {},
     "output_type": "execute_result"
    }
   ],
   "source": [
    "y_test_pred"
   ]
  },
  {
   "cell_type": "code",
   "execution_count": 158,
   "metadata": {},
   "outputs": [
    {
     "name": "stdout",
     "output_type": "stream",
     "text": [
      "[-1.94363524e+00  1.13796333e+01 -9.43233365e-04  1.16018253e-02\n",
      " -9.04831765e-15  1.80993889e-01 -5.68399500e-01  4.40294246e-01\n",
      "  7.24667434e-01  3.84047528e-01 -7.10542736e-15 -1.57502204e-01\n",
      " -8.91585185e-02 -4.01807614e+00  1.45333849e+01 -6.77824739e-01\n",
      "  3.20948662e-03]\n",
      "92.45691313256407\n"
     ]
    }
   ],
   "source": [
    "print(lm.coef_)\n",
    "print(lm.intercept_)"
   ]
  },
  {
   "cell_type": "code",
   "execution_count": 159,
   "metadata": {},
   "outputs": [
    {
     "data": {
      "text/plain": [
       "0.6071770518644974"
      ]
     },
     "execution_count": 159,
     "metadata": {},
     "output_type": "execute_result"
    }
   ],
   "source": [
    "#R2 score using linear regression\n",
    "from sklearn.metrics import r2_score\n",
    "r2_score(y_test, y_test_pred)"
   ]
  },
  {
   "cell_type": "code",
   "execution_count": null,
   "metadata": {},
   "outputs": [],
   "source": []
  },
  {
   "cell_type": "code",
   "execution_count": 160,
   "metadata": {},
   "outputs": [],
   "source": [
    "#Logistic Regression using gender"
   ]
  },
  {
   "cell_type": "code",
   "execution_count": 161,
   "metadata": {},
   "outputs": [],
   "source": [
    "y = df['gender']\n",
    "X = df.drop('gender', 1)\n",
    "X_train, X_test, y_train, y_test = train_test_split(X, y, test_size=0.2, random_state=123)"
   ]
  },
  {
   "cell_type": "code",
   "execution_count": 162,
   "metadata": {},
   "outputs": [],
   "source": [
    "from sklearn.linear_model import LogisticRegression\n",
    "lm = LogisticRegression()\n",
    "model = lm.fit(X_train,y_train)\n",
    "predictions = model.predict(X_test)"
   ]
  },
  {
   "cell_type": "code",
   "execution_count": 163,
   "metadata": {},
   "outputs": [
    {
     "name": "stdout",
     "output_type": "stream",
     "text": [
      "[1 1 1 1 1]\n"
     ]
    }
   ],
   "source": [
    "print(predictions[0:5])"
   ]
  },
  {
   "cell_type": "code",
   "execution_count": 164,
   "metadata": {},
   "outputs": [
    {
     "name": "stdout",
     "output_type": "stream",
     "text": [
      "[[ 0.37563145 -0.0389448  -0.00328269 -0.0020461   0.01149505 -0.18986333\n",
      "  -0.01407716  0.10456365  0.00697668 -0.00984187  0.01149505  0.01521421\n",
      "  -0.02287841  0.11291099  0.18168241  0.63131976 -0.00076617]]\n",
      "[0.01150314]\n"
     ]
    }
   ],
   "source": [
    "print(lm.coef_)\n",
    "print(lm.intercept_)"
   ]
  },
  {
   "cell_type": "code",
   "execution_count": 165,
   "metadata": {},
   "outputs": [
    {
     "data": {
      "text/plain": [
       "-0.2886602510403842"
      ]
     },
     "execution_count": 165,
     "metadata": {},
     "output_type": "execute_result"
    }
   ],
   "source": [
    "#R2 score using Logistic Regression\n",
    "from sklearn.metrics import r2_score\n",
    "r2_score(y_test, predictions)"
   ]
  },
  {
   "cell_type": "code",
   "execution_count": 166,
   "metadata": {},
   "outputs": [],
   "source": [
    "y_test_pred=pd.DataFrame(predictions)\n",
    "y_test_pred['predicted'] = y_test_pred[0].apply(lambda x: 1 if x > 0.5 else 0)"
   ]
  },
  {
   "cell_type": "code",
   "execution_count": 167,
   "metadata": {},
   "outputs": [
    {
     "name": "stdout",
     "output_type": "stream",
     "text": [
      "[[   39  4526]\n",
      " [   14 15421]]\n"
     ]
    }
   ],
   "source": [
    "from sklearn import metrics\n",
    "# Confusion matrix \n",
    "confusion = metrics.confusion_matrix(y_test, y_test_pred['predicted'])\n",
    "print(confusion)"
   ]
  },
  {
   "cell_type": "code",
   "execution_count": null,
   "metadata": {},
   "outputs": [],
   "source": []
  },
  {
   "cell_type": "code",
   "execution_count": 168,
   "metadata": {},
   "outputs": [],
   "source": [
    "#Regression using age using xgboost"
   ]
  },
  {
   "cell_type": "code",
   "execution_count": 169,
   "metadata": {},
   "outputs": [],
   "source": [
    "import xgboost as xgb\n",
    "from sklearn.metrics import mean_squared_error"
   ]
  },
  {
   "cell_type": "code",
   "execution_count": 170,
   "metadata": {},
   "outputs": [],
   "source": [
    "data_dmatrix = xgb.DMatrix(data=X,label=y)"
   ]
  },
  {
   "cell_type": "code",
   "execution_count": 171,
   "metadata": {},
   "outputs": [],
   "source": [
    "from sklearn.model_selection import train_test_split\n",
    "\n",
    "X_train, X_test, y_train, y_test = train_test_split(X, y, test_size=0.2, random_state=123)"
   ]
  },
  {
   "cell_type": "code",
   "execution_count": 172,
   "metadata": {},
   "outputs": [],
   "source": [
    "xg_reg = xgb.XGBRegressor(objective ='reg:linear', colsample_bytree = 0.3, learning_rate = 0.1,max_depth = 5, alpha = 10, n_estimators = 10)"
   ]
  },
  {
   "cell_type": "code",
   "execution_count": 173,
   "metadata": {},
   "outputs": [
    {
     "name": "stdout",
     "output_type": "stream",
     "text": [
      "[08:07:42] WARNING: ../src/objective/regression_obj.cu:188: reg:linear is now deprecated in favor of reg:squarederror.\n"
     ]
    }
   ],
   "source": [
    "xg_reg.fit(X_train,y_train)\n",
    "\n",
    "predct = xg_reg.predict(X_test)"
   ]
  },
  {
   "cell_type": "code",
   "execution_count": 174,
   "metadata": {},
   "outputs": [
    {
     "name": "stdout",
     "output_type": "stream",
     "text": [
      "RMSE: 0.369446\n"
     ]
    }
   ],
   "source": [
    "rmse = np.sqrt(mean_squared_error(y_test, predct))\n",
    "print(\"RMSE: %f\" % (rmse))"
   ]
  },
  {
   "cell_type": "code",
   "execution_count": 175,
   "metadata": {},
   "outputs": [
    {
     "data": {
      "text/plain": [
       "array([0.6006742 , 0.69974613, 0.67410564, ..., 0.7384567 , 0.7230028 ,\n",
       "       0.6797648 ], dtype=float32)"
      ]
     },
     "execution_count": 175,
     "metadata": {},
     "output_type": "execute_result"
    }
   ],
   "source": [
    "predct"
   ]
  },
  {
   "cell_type": "code",
   "execution_count": 176,
   "metadata": {},
   "outputs": [
    {
     "name": "stdout",
     "output_type": "stream",
     "text": [
      "[08:07:43] WARNING: ../src/objective/regression_obj.cu:188: reg:linear is now deprecated in favor of reg:squarederror.\n",
      "[08:07:43] WARNING: ../src/learner.cc:576: \n",
      "Parameters: { \"n_estimators\" } might not be used.\n",
      "\n",
      "  This could be a false alarm, with some parameters getting used by language bindings but\n",
      "  then being mistakenly passed down to XGBoost core, or some parameter actually being used\n",
      "  but getting flagged wrongly here. Please open an issue if you find any such cases.\n",
      "\n",
      "\n",
      "[08:07:43] WARNING: ../src/objective/regression_obj.cu:188: reg:linear is now deprecated in favor of reg:squarederror.\n",
      "[08:07:43] WARNING: ../src/learner.cc:576: \n",
      "Parameters: { \"n_estimators\" } might not be used.\n",
      "\n",
      "  This could be a false alarm, with some parameters getting used by language bindings but\n",
      "  then being mistakenly passed down to XGBoost core, or some parameter actually being used\n",
      "  but getting flagged wrongly here. Please open an issue if you find any such cases.\n",
      "\n",
      "\n",
      "[08:07:43] WARNING: ../src/objective/regression_obj.cu:188: reg:linear is now deprecated in favor of reg:squarederror.\n",
      "[08:07:43] WARNING: ../src/learner.cc:576: \n",
      "Parameters: { \"n_estimators\" } might not be used.\n",
      "\n",
      "  This could be a false alarm, with some parameters getting used by language bindings but\n",
      "  then being mistakenly passed down to XGBoost core, or some parameter actually being used\n",
      "  but getting flagged wrongly here. Please open an issue if you find any such cases.\n",
      "\n",
      "\n"
     ]
    }
   ],
   "source": [
    "params = {\"objective\":\"reg:linear\",'min_child_weight': 5,'colsample_bytree': 1.0,'learning_rate': 0.1,'n_estimators': 360, 'max_depth': 5, 'alpha': 10}\n",
    "\n",
    "cv_results = xgb.cv(dtrain=data_dmatrix, params=params, nfold=3,num_boost_round=50,early_stopping_rounds=10,metrics=\"rmse\", as_pandas=True, seed=123)"
   ]
  },
  {
   "cell_type": "code",
   "execution_count": 177,
   "metadata": {},
   "outputs": [
    {
     "data": {
      "text/html": [
       "<div>\n",
       "<style scoped>\n",
       "    .dataframe tbody tr th:only-of-type {\n",
       "        vertical-align: middle;\n",
       "    }\n",
       "\n",
       "    .dataframe tbody tr th {\n",
       "        vertical-align: top;\n",
       "    }\n",
       "\n",
       "    .dataframe thead th {\n",
       "        text-align: right;\n",
       "    }\n",
       "</style>\n",
       "<table border=\"1\" class=\"dataframe\">\n",
       "  <thead>\n",
       "    <tr style=\"text-align: right;\">\n",
       "      <th></th>\n",
       "      <th>train-rmse-mean</th>\n",
       "      <th>train-rmse-std</th>\n",
       "      <th>test-rmse-mean</th>\n",
       "      <th>test-rmse-std</th>\n",
       "    </tr>\n",
       "  </thead>\n",
       "  <tbody>\n",
       "    <tr>\n",
       "      <th>0</th>\n",
       "      <td>0.477647</td>\n",
       "      <td>0.000179</td>\n",
       "      <td>0.477732</td>\n",
       "      <td>0.000227</td>\n",
       "    </tr>\n",
       "    <tr>\n",
       "      <th>1</th>\n",
       "      <td>0.458141</td>\n",
       "      <td>0.000213</td>\n",
       "      <td>0.458247</td>\n",
       "      <td>0.000116</td>\n",
       "    </tr>\n",
       "    <tr>\n",
       "      <th>2</th>\n",
       "      <td>0.440033</td>\n",
       "      <td>0.001689</td>\n",
       "      <td>0.440155</td>\n",
       "      <td>0.001251</td>\n",
       "    </tr>\n",
       "    <tr>\n",
       "      <th>3</th>\n",
       "      <td>0.425252</td>\n",
       "      <td>0.001654</td>\n",
       "      <td>0.425356</td>\n",
       "      <td>0.001082</td>\n",
       "    </tr>\n",
       "    <tr>\n",
       "      <th>4</th>\n",
       "      <td>0.408872</td>\n",
       "      <td>0.001681</td>\n",
       "      <td>0.409052</td>\n",
       "      <td>0.000960</td>\n",
       "    </tr>\n",
       "  </tbody>\n",
       "</table>\n",
       "</div>"
      ],
      "text/plain": [
       "   train-rmse-mean  train-rmse-std  test-rmse-mean  test-rmse-std\n",
       "0         0.477647        0.000179        0.477732       0.000227\n",
       "1         0.458141        0.000213        0.458247       0.000116\n",
       "2         0.440033        0.001689        0.440155       0.001251\n",
       "3         0.425252        0.001654        0.425356       0.001082\n",
       "4         0.408872        0.001681        0.409052       0.000960"
      ]
     },
     "execution_count": 177,
     "metadata": {},
     "output_type": "execute_result"
    }
   ],
   "source": [
    "cv_results.head()"
   ]
  },
  {
   "cell_type": "code",
   "execution_count": null,
   "metadata": {},
   "outputs": [],
   "source": []
  },
  {
   "cell_type": "code",
   "execution_count": 178,
   "metadata": {},
   "outputs": [],
   "source": [
    "#Regression using Gender using xgboost"
   ]
  },
  {
   "cell_type": "code",
   "execution_count": 179,
   "metadata": {},
   "outputs": [],
   "source": [
    "y = df['gender']\n",
    "X = df.drop('gender', 1)"
   ]
  },
  {
   "cell_type": "code",
   "execution_count": 180,
   "metadata": {},
   "outputs": [],
   "source": [
    "data_dmatrix = xgb.DMatrix(data=X,label=y)"
   ]
  },
  {
   "cell_type": "code",
   "execution_count": 181,
   "metadata": {},
   "outputs": [],
   "source": [
    "from sklearn.model_selection import train_test_split\n",
    "\n",
    "X_train, X_test, y_train, y_test = train_test_split(X, y, test_size=0.2, random_state=123)"
   ]
  },
  {
   "cell_type": "code",
   "execution_count": 182,
   "metadata": {},
   "outputs": [],
   "source": [
    "xg_reg = xgb.XGBRegressor(objective ='reg:logistic', colsample_bytree = 0.3, learning_rate = 0.1,max_depth = 5, alpha = 10, n_estimators = 10)"
   ]
  },
  {
   "cell_type": "code",
   "execution_count": 183,
   "metadata": {},
   "outputs": [],
   "source": [
    "xg_reg.fit(X_train,y_train)\n",
    "\n",
    "predct = xg_reg.predict(X_test)"
   ]
  },
  {
   "cell_type": "code",
   "execution_count": 184,
   "metadata": {},
   "outputs": [
    {
     "name": "stdout",
     "output_type": "stream",
     "text": [
      "RMSE: 0.370928\n"
     ]
    }
   ],
   "source": [
    "#RMSE using xgboost\n",
    "rmse = np.sqrt(mean_squared_error(y_test, predct))\n",
    "print(\"RMSE: %f\" % (rmse))"
   ]
  },
  {
   "cell_type": "code",
   "execution_count": 185,
   "metadata": {},
   "outputs": [
    {
     "data": {
      "text/plain": [
       "array([0.5750714 , 0.72673625, 0.6794701 , ..., 0.73959583, 0.7093975 ,\n",
       "       0.66470194], dtype=float32)"
      ]
     },
     "execution_count": 185,
     "metadata": {},
     "output_type": "execute_result"
    }
   ],
   "source": [
    "predct"
   ]
  },
  {
   "cell_type": "code",
   "execution_count": 186,
   "metadata": {},
   "outputs": [
    {
     "name": "stdout",
     "output_type": "stream",
     "text": [
      "[08:07:49] WARNING: ../src/objective/regression_obj.cu:188: reg:linear is now deprecated in favor of reg:squarederror.\n",
      "[08:07:49] WARNING: ../src/objective/regression_obj.cu:188: reg:linear is now deprecated in favor of reg:squarederror.\n",
      "[08:07:49] WARNING: ../src/objective/regression_obj.cu:188: reg:linear is now deprecated in favor of reg:squarederror.\n"
     ]
    }
   ],
   "source": [
    "params = {\"objective\":\"reg:linear\",'colsample_bytree': 0.3,'learning_rate': 0.1, 'max_depth': 5, 'alpha': 10}\n",
    "\n",
    "cv_results = xgb.cv(dtrain=data_dmatrix, params=params, nfold=3, num_boost_round=50,early_stopping_rounds=10,metrics=\"rmse\", as_pandas=True, seed=123)"
   ]
  },
  {
   "cell_type": "code",
   "execution_count": 187,
   "metadata": {},
   "outputs": [
    {
     "data": {
      "text/html": [
       "<div>\n",
       "<style scoped>\n",
       "    .dataframe tbody tr th:only-of-type {\n",
       "        vertical-align: middle;\n",
       "    }\n",
       "\n",
       "    .dataframe tbody tr th {\n",
       "        vertical-align: top;\n",
       "    }\n",
       "\n",
       "    .dataframe thead th {\n",
       "        text-align: right;\n",
       "    }\n",
       "</style>\n",
       "<table border=\"1\" class=\"dataframe\">\n",
       "  <thead>\n",
       "    <tr style=\"text-align: right;\">\n",
       "      <th></th>\n",
       "      <th>train-rmse-mean</th>\n",
       "      <th>train-rmse-std</th>\n",
       "      <th>test-rmse-mean</th>\n",
       "      <th>test-rmse-std</th>\n",
       "    </tr>\n",
       "  </thead>\n",
       "  <tbody>\n",
       "    <tr>\n",
       "      <th>0</th>\n",
       "      <td>0.476786</td>\n",
       "      <td>0.000359</td>\n",
       "      <td>0.476846</td>\n",
       "      <td>0.000463</td>\n",
       "    </tr>\n",
       "    <tr>\n",
       "      <th>1</th>\n",
       "      <td>0.458888</td>\n",
       "      <td>0.001077</td>\n",
       "      <td>0.458922</td>\n",
       "      <td>0.000977</td>\n",
       "    </tr>\n",
       "    <tr>\n",
       "      <th>2</th>\n",
       "      <td>0.442719</td>\n",
       "      <td>0.001802</td>\n",
       "      <td>0.442717</td>\n",
       "      <td>0.001752</td>\n",
       "    </tr>\n",
       "    <tr>\n",
       "      <th>3</th>\n",
       "      <td>0.428788</td>\n",
       "      <td>0.001778</td>\n",
       "      <td>0.428782</td>\n",
       "      <td>0.001999</td>\n",
       "    </tr>\n",
       "    <tr>\n",
       "      <th>4</th>\n",
       "      <td>0.419370</td>\n",
       "      <td>0.001319</td>\n",
       "      <td>0.419404</td>\n",
       "      <td>0.001424</td>\n",
       "    </tr>\n",
       "  </tbody>\n",
       "</table>\n",
       "</div>"
      ],
      "text/plain": [
       "   train-rmse-mean  train-rmse-std  test-rmse-mean  test-rmse-std\n",
       "0         0.476786        0.000359        0.476846       0.000463\n",
       "1         0.458888        0.001077        0.458922       0.000977\n",
       "2         0.442719        0.001802        0.442717       0.001752\n",
       "3         0.428788        0.001778        0.428782       0.001999\n",
       "4         0.419370        0.001319        0.419404       0.001424"
      ]
     },
     "execution_count": 187,
     "metadata": {},
     "output_type": "execute_result"
    }
   ],
   "source": [
    "cv_results.head()"
   ]
  },
  {
   "cell_type": "code",
   "execution_count": null,
   "metadata": {},
   "outputs": [],
   "source": []
  },
  {
   "cell_type": "code",
   "execution_count": 188,
   "metadata": {},
   "outputs": [],
   "source": [
    "#Stacking"
   ]
  },
  {
   "cell_type": "code",
   "execution_count": 189,
   "metadata": {},
   "outputs": [],
   "source": [
    "y = df['gender']\n",
    "X = df.drop('gender', 1)\n",
    "X_train, X_test, y_train, y_test = train_test_split(X, y, test_size=0.2, random_state=123)"
   ]
  },
  {
   "cell_type": "code",
   "execution_count": 190,
   "metadata": {},
   "outputs": [],
   "source": [
    "from sklearn import model_selection\n",
    "from sklearn.linear_model import LogisticRegression\n",
    "from sklearn.neighbors import KNeighborsClassifier\n",
    "from sklearn.naive_bayes import GaussianNB \n",
    "from sklearn.ensemble import RandomForestClassifier\n",
    "from mlxtend.classifier import StackingCVClassifier"
   ]
  },
  {
   "cell_type": "code",
   "execution_count": 191,
   "metadata": {},
   "outputs": [],
   "source": [
    "RANDOM_SEED = None\n",
    "\n",
    "\n",
    "clf1 = KNeighborsClassifier(n_neighbors=1)\n",
    "clf2 = RandomForestClassifier(random_state=RANDOM_SEED)\n",
    "clf3 = GaussianNB()\n",
    "lr = LogisticRegression()\n",
    "SkFold = model_selection.StratifiedKFold(n_splits=10, random_state=7, shuffle=True)"
   ]
  },
  {
   "cell_type": "code",
   "execution_count": 192,
   "metadata": {},
   "outputs": [],
   "source": [
    "sclf = StackingCVClassifier(classifiers=[clf1, clf2, clf3],meta_classifier=lr)"
   ]
  },
  {
   "cell_type": "code",
   "execution_count": 193,
   "metadata": {},
   "outputs": [],
   "source": [
    "x = X.to_numpy()\n",
    "y = y.to_numpy()"
   ]
  },
  {
   "cell_type": "code",
   "execution_count": 194,
   "metadata": {},
   "outputs": [
    {
     "name": "stdout",
     "output_type": "stream",
     "text": [
      "3-fold cross validation:\n",
      "\n",
      "Accuracy: 1.00 (+/- 0.00) [KNN]\n",
      "Accuracy: 1.00 (+/- 0.00) [Random Forest]\n",
      "Accuracy: 0.76 (+/- 0.00) [Naive Bayes]\n",
      "Accuracy: 1.00 (+/- 0.00) [StackingClassifier]\n"
     ]
    }
   ],
   "source": [
    "print('3-fold cross validation:\\n')\n",
    "\n",
    "for clf, label in zip([clf1,clf2, clf3, sclf], ['KNN','Random Forest', 'Naive Bayes', 'StackingClassifier']):\n",
    "  scores = model_selection.cross_val_score(clf, x, y,  scoring='accuracy', cv=SkFold, n_jobs=-1, error_score='raise')\n",
    "  print(\"Accuracy: %0.2f (+/- %0.2f) [%s]\" % (scores.mean(), scores.std(), label))"
   ]
  },
  {
   "cell_type": "code",
   "execution_count": null,
   "metadata": {},
   "outputs": [],
   "source": []
  },
  {
   "cell_type": "code",
   "execution_count": 195,
   "metadata": {},
   "outputs": [],
   "source": [
    "import matplotlib.pyplot as plt\n",
    "from mlxtend.plotting import plot_decision_regions\n",
    "import matplotlib.gridspec as gridspec\n",
    "import itertools\n",
    "from sklearn.decomposition import PCA"
   ]
  },
  {
   "cell_type": "code",
   "execution_count": 196,
   "metadata": {},
   "outputs": [
    {
     "data": {
      "text/plain": [
       "<Figure size 720x576 with 0 Axes>"
      ]
     },
     "metadata": {},
     "output_type": "display_data"
    }
   ],
   "source": [
    "gs = gridspec.GridSpec(2, 2)\n",
    "\n",
    "fig = plt.figure(figsize=(10,8))\n",
    "plt.show()"
   ]
  },
  {
   "cell_type": "code",
   "execution_count": 197,
   "metadata": {},
   "outputs": [
    {
     "data": {
      "image/png": "[encoded data removed]",
      "text/plain": [
       "<Figure size 432x288 with 3 Axes>"
      ]
     },
     "metadata": {
      "needs_background": "light"
     },
     "output_type": "display_data"
    }
   ],
   "source": [
    "for clf, lab, grd in zip([clf1, clf2, clf3], \n",
    "                         ['Random Forest', \n",
    "                          'Naive Bayes',\n",
    "                          'StackingCVClassifier'],\n",
    "                          itertools.product([0, 1], repeat=2)):\n",
    "  \n",
    "    pca = PCA(n_components = 2)\n",
    "    X = pca.fit_transform(x)\n",
    "\n",
    "    clf.fit(X, y)\n",
    "    ax = plt.subplot(gs[grd[0], grd[1]])\n",
    "    fig = plot_decision_regions(X,y, clf=clf)\n",
    "    plt.title(lab)\n",
    "plt.show()"
   ]
  },
  {
   "cell_type": "code",
   "execution_count": null,
   "metadata": {},
   "outputs": [],
   "source": []
  },
  {
   "cell_type": "code",
   "execution_count": 198,
   "metadata": {},
   "outputs": [],
   "source": [
    "#Prepare data for Scenario 2 "
   ]
  },
  {
   "cell_type": "code",
   "execution_count": 199,
   "metadata": {},
   "outputs": [
    {
     "data": {
      "text/html": [
       "<div>\n",
       "<style scoped>\n",
       "    .dataframe tbody tr th:only-of-type {\n",
       "        vertical-align: middle;\n",
       "    }\n",
       "\n",
       "    .dataframe tbody tr th {\n",
       "        vertical-align: top;\n",
       "    }\n",
       "\n",
       "    .dataframe thead th {\n",
       "        text-align: right;\n",
       "    }\n",
       "</style>\n",
       "<table border=\"1\" class=\"dataframe\">\n",
       "  <thead>\n",
       "    <tr style=\"text-align: right;\">\n",
       "      <th></th>\n",
       "      <th>0</th>\n",
       "      <th>1</th>\n",
       "      <th>2</th>\n",
       "      <th>3</th>\n",
       "      <th>4</th>\n",
       "    </tr>\n",
       "  </thead>\n",
       "  <tbody>\n",
       "    <tr>\n",
       "      <th>50775</th>\n",
       "      <td>M</td>\n",
       "      <td>M32+</td>\n",
       "      <td>52</td>\n",
       "      <td>Huawei</td>\n",
       "      <td>Ascend G7</td>\n",
       "    </tr>\n",
       "    <tr>\n",
       "      <th>407493</th>\n",
       "      <td>M</td>\n",
       "      <td>M32+</td>\n",
       "      <td>35</td>\n",
       "      <td>Huawei</td>\n",
       "      <td>Mate 7</td>\n",
       "    </tr>\n",
       "    <tr>\n",
       "      <th>269800</th>\n",
       "      <td>M</td>\n",
       "      <td>M32+</td>\n",
       "      <td>44</td>\n",
       "      <td>Coolpad</td>\n",
       "      <td>ivvi Pro</td>\n",
       "    </tr>\n",
       "    <tr>\n",
       "      <th>267552</th>\n",
       "      <td>F</td>\n",
       "      <td>F32+</td>\n",
       "      <td>33</td>\n",
       "      <td>vivo</td>\n",
       "      <td>Y51</td>\n",
       "    </tr>\n",
       "    <tr>\n",
       "      <th>397426</th>\n",
       "      <td>M</td>\n",
       "      <td>M32+</td>\n",
       "      <td>34</td>\n",
       "      <td>lenovo</td>\n",
       "      <td>S8</td>\n",
       "    </tr>\n",
       "  </tbody>\n",
       "</table>\n",
       "</div>"
      ],
      "text/plain": [
       "        0     1   2        3          4\n",
       "50775   M  M32+  52   Huawei  Ascend G7\n",
       "407493  M  M32+  35   Huawei     Mate 7\n",
       "269800  M  M32+  44  Coolpad   ivvi Pro\n",
       "267552  F  F32+  33     vivo        Y51\n",
       "397426  M  M32+  34   lenovo         S8"
      ]
     },
     "execution_count": 199,
     "metadata": {},
     "output_type": "execute_result"
    }
   ],
   "source": [
    "df1=pd.read_csv(\"scenario2data/noeventdata.csv\",sep=',', header=None)\n",
    "df1.sample(5)"
   ]
  },
  {
   "cell_type": "code",
   "execution_count": 200,
   "metadata": {},
   "outputs": [],
   "source": [
    "df1.columns = ['gender', 'age_group','age', 'device_brand', 'phone_brand']"
   ]
  },
  {
   "cell_type": "code",
   "execution_count": 201,
   "metadata": {},
   "outputs": [
    {
     "data": {
      "text/html": [
       "<div>\n",
       "<style scoped>\n",
       "    .dataframe tbody tr th:only-of-type {\n",
       "        vertical-align: middle;\n",
       "    }\n",
       "\n",
       "    .dataframe tbody tr th {\n",
       "        vertical-align: top;\n",
       "    }\n",
       "\n",
       "    .dataframe thead th {\n",
       "        text-align: right;\n",
       "    }\n",
       "</style>\n",
       "<table border=\"1\" class=\"dataframe\">\n",
       "  <thead>\n",
       "    <tr style=\"text-align: right;\">\n",
       "      <th></th>\n",
       "      <th>gender</th>\n",
       "      <th>age_group</th>\n",
       "      <th>age</th>\n",
       "      <th>device_brand</th>\n",
       "      <th>phone_brand</th>\n",
       "    </tr>\n",
       "  </thead>\n",
       "  <tbody>\n",
       "    <tr>\n",
       "      <th>398364</th>\n",
       "      <td>F</td>\n",
       "      <td>F32+</td>\n",
       "      <td>33</td>\n",
       "      <td>Coolpad</td>\n",
       "      <td>5892</td>\n",
       "    </tr>\n",
       "    <tr>\n",
       "      <th>228654</th>\n",
       "      <td>M</td>\n",
       "      <td>M32+</td>\n",
       "      <td>37</td>\n",
       "      <td>Huawei</td>\n",
       "      <td>hu1</td>\n",
       "    </tr>\n",
       "    <tr>\n",
       "      <th>231527</th>\n",
       "      <td>M</td>\n",
       "      <td>M25-32</td>\n",
       "      <td>27</td>\n",
       "      <td>OPPO</td>\n",
       "      <td>R7</td>\n",
       "    </tr>\n",
       "    <tr>\n",
       "      <th>125846</th>\n",
       "      <td>M</td>\n",
       "      <td>M32+</td>\n",
       "      <td>53</td>\n",
       "      <td>Huawei</td>\n",
       "      <td>P8max</td>\n",
       "    </tr>\n",
       "    <tr>\n",
       "      <th>120960</th>\n",
       "      <td>F</td>\n",
       "      <td>F32+</td>\n",
       "      <td>33</td>\n",
       "      <td>TCL</td>\n",
       "      <td>3N</td>\n",
       "    </tr>\n",
       "  </tbody>\n",
       "</table>\n",
       "</div>"
      ],
      "text/plain": [
       "       gender age_group  age device_brand phone_brand\n",
       "398364      F      F32+   33      Coolpad        5892\n",
       "228654      M      M32+   37       Huawei         hu1\n",
       "231527      M    M25-32   27         OPPO          R7\n",
       "125846      M      M32+   53       Huawei       P8max\n",
       "120960      F      F32+   33          TCL          3N"
      ]
     },
     "execution_count": 201,
     "metadata": {},
     "output_type": "execute_result"
    }
   ],
   "source": [
    "df1.sample(5)"
   ]
  },
  {
   "cell_type": "code",
   "execution_count": 202,
   "metadata": {},
   "outputs": [],
   "source": [
    "df1['gender']=df1['gender'].apply(lambda x: 1 if x=='M' else 0)\n",
    "df1['age_group']=df1['age_group'].apply(lambda x: x[1:])\n",
    "\n",
    "df1['age_group'] = df1['age_group'].astype('category')\n",
    "df1['device_brand'] = df1['device_brand'].astype('category')\n",
    "df1['phone_brand'] = df1['phone_brand'].astype('category')\n",
    "\n",
    "df1['age_group'] = df1['age_group'].cat.codes\n",
    "df1['device_brand'] = df1['device_brand'].cat.codes\n",
    "df1['phone_brand'] = df1['phone_brand'].cat.codes"
   ]
  },
  {
   "cell_type": "code",
   "execution_count": 203,
   "metadata": {},
   "outputs": [
    {
     "name": "stdout",
     "output_type": "stream",
     "text": [
      "<class 'pandas.core.frame.DataFrame'>\n",
      "RangeIndex: 407661 entries, 0 to 407660\n",
      "Data columns (total 5 columns):\n",
      " #   Column        Non-Null Count   Dtype\n",
      "---  ------        --------------   -----\n",
      " 0   gender        407661 non-null  int64\n",
      " 1   age_group     407661 non-null  int8 \n",
      " 2   age           407661 non-null  int64\n",
      " 3   device_brand  407661 non-null  int8 \n",
      " 4   phone_brand   407661 non-null  int16\n",
      "dtypes: int16(1), int64(2), int8(2)\n",
      "memory usage: 7.8 MB\n"
     ]
    }
   ],
   "source": [
    "df1.info()"
   ]
  },
  {
   "cell_type": "code",
   "execution_count": null,
   "metadata": {},
   "outputs": [],
   "source": []
  },
  {
   "cell_type": "code",
   "execution_count": 204,
   "metadata": {},
   "outputs": [],
   "source": [
    "#Linear Regression using age"
   ]
  },
  {
   "cell_type": "code",
   "execution_count": 205,
   "metadata": {},
   "outputs": [],
   "source": [
    "y = df1['age']\n",
    "X = df1.drop('age', 1)"
   ]
  },
  {
   "cell_type": "code",
   "execution_count": 206,
   "metadata": {},
   "outputs": [],
   "source": [
    "from sklearn.model_selection import train_test_split\n",
    "\n",
    "X_train, X_test, y_train, y_test = train_test_split(X, y, test_size=0.2, random_state=123)"
   ]
  },
  {
   "cell_type": "code",
   "execution_count": 207,
   "metadata": {},
   "outputs": [],
   "source": [
    "from sklearn import linear_model\n",
    "\n",
    "lm = linear_model.LinearRegression()\n",
    "model = lm.fit(X_train,y_train)\n",
    "predictions = model.predict(X_test)"
   ]
  },
  {
   "cell_type": "code",
   "execution_count": 208,
   "metadata": {},
   "outputs": [
    {
     "name": "stdout",
     "output_type": "stream",
     "text": [
      "[41.18251921 19.54693066 30.09866864 30.20474414 19.52892968]\n"
     ]
    }
   ],
   "source": [
    "print(predictions[0:5])"
   ]
  },
  {
   "cell_type": "code",
   "execution_count": 209,
   "metadata": {},
   "outputs": [],
   "source": [
    "y_test_pred=pd.DataFrame(predictions)"
   ]
  },
  {
   "cell_type": "code",
   "execution_count": 210,
   "metadata": {},
   "outputs": [
    {
     "data": {
      "text/html": [
       "<div>\n",
       "<style scoped>\n",
       "    .dataframe tbody tr th:only-of-type {\n",
       "        vertical-align: middle;\n",
       "    }\n",
       "\n",
       "    .dataframe tbody tr th {\n",
       "        vertical-align: top;\n",
       "    }\n",
       "\n",
       "    .dataframe thead th {\n",
       "        text-align: right;\n",
       "    }\n",
       "</style>\n",
       "<table border=\"1\" class=\"dataframe\">\n",
       "  <thead>\n",
       "    <tr style=\"text-align: right;\">\n",
       "      <th></th>\n",
       "      <th>0</th>\n",
       "    </tr>\n",
       "  </thead>\n",
       "  <tbody>\n",
       "    <tr>\n",
       "      <th>0</th>\n",
       "      <td>41.182519</td>\n",
       "    </tr>\n",
       "    <tr>\n",
       "      <th>1</th>\n",
       "      <td>19.546931</td>\n",
       "    </tr>\n",
       "    <tr>\n",
       "      <th>2</th>\n",
       "      <td>30.098669</td>\n",
       "    </tr>\n",
       "    <tr>\n",
       "      <th>3</th>\n",
       "      <td>30.204744</td>\n",
       "    </tr>\n",
       "    <tr>\n",
       "      <th>4</th>\n",
       "      <td>19.528930</td>\n",
       "    </tr>\n",
       "    <tr>\n",
       "      <th>...</th>\n",
       "      <td>...</td>\n",
       "    </tr>\n",
       "    <tr>\n",
       "      <th>81528</th>\n",
       "      <td>19.805303</td>\n",
       "    </tr>\n",
       "    <tr>\n",
       "      <th>81529</th>\n",
       "      <td>30.240007</td>\n",
       "    </tr>\n",
       "    <tr>\n",
       "      <th>81530</th>\n",
       "      <td>19.336881</td>\n",
       "    </tr>\n",
       "    <tr>\n",
       "      <th>81531</th>\n",
       "      <td>19.544185</td>\n",
       "    </tr>\n",
       "    <tr>\n",
       "      <th>81532</th>\n",
       "      <td>30.101265</td>\n",
       "    </tr>\n",
       "  </tbody>\n",
       "</table>\n",
       "<p>81533 rows × 1 columns</p>\n",
       "</div>"
      ],
      "text/plain": [
       "               0\n",
       "0      41.182519\n",
       "1      19.546931\n",
       "2      30.098669\n",
       "3      30.204744\n",
       "4      19.528930\n",
       "...          ...\n",
       "81528  19.805303\n",
       "81529  30.240007\n",
       "81530  19.336881\n",
       "81531  19.544185\n",
       "81532  30.101265\n",
       "\n",
       "[81533 rows x 1 columns]"
      ]
     },
     "execution_count": 210,
     "metadata": {},
     "output_type": "execute_result"
    }
   ],
   "source": [
    "y_test_pred"
   ]
  },
  {
   "cell_type": "code",
   "execution_count": 211,
   "metadata": {},
   "outputs": [
    {
     "name": "stdout",
     "output_type": "stream",
     "text": [
      "[-2.84902307e-01  1.06843436e+01 -3.29771001e-03 -3.82999596e-05]\n",
      "19.926144790167392\n"
     ]
    }
   ],
   "source": [
    "print(lm.coef_)\n",
    "print(lm.intercept_)"
   ]
  },
  {
   "cell_type": "code",
   "execution_count": 212,
   "metadata": {},
   "outputs": [
    {
     "data": {
      "text/plain": [
       "0.6568942422527415"
      ]
     },
     "execution_count": 212,
     "metadata": {},
     "output_type": "execute_result"
    }
   ],
   "source": [
    "#R2 score using Linear Regression\n",
    "from sklearn.metrics import r2_score\n",
    "r2_score(y_test, y_test_pred)"
   ]
  },
  {
   "cell_type": "code",
   "execution_count": 213,
   "metadata": {},
   "outputs": [
    {
     "data": {
      "text/plain": [
       "1    273197\n",
       "0    134464\n",
       "Name: gender, dtype: int64"
      ]
     },
     "execution_count": 213,
     "metadata": {},
     "output_type": "execute_result"
    }
   ],
   "source": [
    "df1.gender.value_counts()"
   ]
  },
  {
   "cell_type": "code",
   "execution_count": null,
   "metadata": {},
   "outputs": [],
   "source": []
  },
  {
   "cell_type": "code",
   "execution_count": 214,
   "metadata": {},
   "outputs": [],
   "source": [
    "#Logistic Regression using age"
   ]
  },
  {
   "cell_type": "code",
   "execution_count": 215,
   "metadata": {},
   "outputs": [],
   "source": [
    "y = df1['gender']\n",
    "X = df1.drop('gender', 1)\n",
    "X_train, X_test, y_train, y_test = train_test_split(X, y, test_size=0.2, random_state=123)"
   ]
  },
  {
   "cell_type": "code",
   "execution_count": 216,
   "metadata": {},
   "outputs": [],
   "source": [
    "from sklearn.linear_model import LogisticRegression\n",
    "lm = LogisticRegression()\n",
    "model = lm.fit(X_train,y_train)\n",
    "predictions = model.predict(X_test)"
   ]
  },
  {
   "cell_type": "code",
   "execution_count": 217,
   "metadata": {},
   "outputs": [
    {
     "name": "stdout",
     "output_type": "stream",
     "text": [
      "[1 1 1 1 1]\n"
     ]
    }
   ],
   "source": [
    "print(predictions[0:5])"
   ]
  },
  {
   "cell_type": "code",
   "execution_count": 218,
   "metadata": {},
   "outputs": [
    {
     "name": "stdout",
     "output_type": "stream",
     "text": [
      "[[ 8.79015784e-02 -8.53206376e-03 -2.92404466e-03 -3.99647874e-05]]\n",
      "[1.02311101]\n"
     ]
    }
   ],
   "source": [
    "print(lm.coef_)\n",
    "print(lm.intercept_)"
   ]
  },
  {
   "cell_type": "code",
   "execution_count": 219,
   "metadata": {},
   "outputs": [
    {
     "data": {
      "text/plain": [
       "-0.4901398154071097"
      ]
     },
     "execution_count": 219,
     "metadata": {},
     "output_type": "execute_result"
    }
   ],
   "source": [
    "#R2 score using Logistic Regression\n",
    "from sklearn.metrics import r2_score\n",
    "r2_score(y_test, predictions)"
   ]
  },
  {
   "cell_type": "code",
   "execution_count": 220,
   "metadata": {},
   "outputs": [],
   "source": [
    "y_test_pred=pd.DataFrame(predictions)\n",
    "y_test_pred['predicted'] = y_test_pred[0].apply(lambda x: 1 if x > 0.5 else 0)"
   ]
  },
  {
   "cell_type": "code",
   "execution_count": 221,
   "metadata": {},
   "outputs": [
    {
     "name": "stdout",
     "output_type": "stream",
     "text": [
      "[[    0 26818]\n",
      " [    0 54715]]\n"
     ]
    }
   ],
   "source": [
    "from sklearn import metrics\n",
    "# Confusion matrix \n",
    "confusion = metrics.confusion_matrix(y_test, y_test_pred['predicted'])\n",
    "print(confusion)"
   ]
  },
  {
   "cell_type": "code",
   "execution_count": null,
   "metadata": {},
   "outputs": [],
   "source": []
  },
  {
   "cell_type": "code",
   "execution_count": 222,
   "metadata": {},
   "outputs": [],
   "source": [
    "#Regression using age using xgboost"
   ]
  },
  {
   "cell_type": "code",
   "execution_count": 223,
   "metadata": {},
   "outputs": [],
   "source": [
    "import xgboost as xgb\n",
    "from sklearn.metrics import mean_squared_error"
   ]
  },
  {
   "cell_type": "code",
   "execution_count": 224,
   "metadata": {},
   "outputs": [],
   "source": [
    "data_dmatrix = xgb.DMatrix(data=X,label=y)"
   ]
  },
  {
   "cell_type": "code",
   "execution_count": 225,
   "metadata": {},
   "outputs": [],
   "source": [
    "from sklearn.model_selection import train_test_split\n",
    "\n",
    "X_train, X_test, y_train, y_test = train_test_split(X, y, test_size=0.2, random_state=123)"
   ]
  },
  {
   "cell_type": "code",
   "execution_count": 226,
   "metadata": {},
   "outputs": [],
   "source": [
    "xg_reg = xgb.XGBRegressor(objective ='reg:linear', colsample_bytree = 0.3, learning_rate = 0.1,max_depth = 5, alpha = 10, n_estimators = 10)"
   ]
  },
  {
   "cell_type": "code",
   "execution_count": 227,
   "metadata": {},
   "outputs": [
    {
     "name": "stdout",
     "output_type": "stream",
     "text": [
      "[08:15:02] WARNING: ../src/objective/regression_obj.cu:188: reg:linear is now deprecated in favor of reg:squarederror.\n"
     ]
    }
   ],
   "source": [
    "xg_reg.fit(X_train,y_train)\n",
    "\n",
    "predct = xg_reg.predict(X_test)"
   ]
  },
  {
   "cell_type": "code",
   "execution_count": 228,
   "metadata": {},
   "outputs": [
    {
     "name": "stdout",
     "output_type": "stream",
     "text": [
      "RMSE: 0.469967\n"
     ]
    }
   ],
   "source": [
    "#RMSE using xgboost\n",
    "rmse = np.sqrt(mean_squared_error(y_test, predct))\n",
    "print(\"RMSE: %f\" % (rmse))"
   ]
  },
  {
   "cell_type": "code",
   "execution_count": 229,
   "metadata": {},
   "outputs": [
    {
     "data": {
      "text/plain": [
       "array([0.56688416, 0.5732242 , 0.6192242 , ..., 0.5962865 , 0.6257498 ,\n",
       "       0.6674907 ], dtype=float32)"
      ]
     },
     "execution_count": 229,
     "metadata": {},
     "output_type": "execute_result"
    }
   ],
   "source": [
    "predct"
   ]
  },
  {
   "cell_type": "code",
   "execution_count": 230,
   "metadata": {},
   "outputs": [],
   "source": [
    "params = {\"objective\":\"reg:linear\",'min_child_weight': [1, 5, 10],'gamma': [0.5, 1, 1.5, 2, 5], 'subsample': [0.6, 0.8, 1.0], \n",
    "          'colsample_by_tree': [0.6, 0.8, 1.0], 'max_depth': [3, 4, 5],'n_estimators': range(60, 360, 40),\n",
    "          'learning_rate': [0.1, 0.01, 0.05]\n",
    "          }"
   ]
  },
  {
   "cell_type": "code",
   "execution_count": 231,
   "metadata": {},
   "outputs": [
    {
     "name": "stdout",
     "output_type": "stream",
     "text": [
      "[08:15:03] WARNING: ../src/objective/regression_obj.cu:188: reg:linear is now deprecated in favor of reg:squarederror.\n",
      "[08:15:03] WARNING: ../src/learner.cc:576: \n",
      "Parameters: { \"n_estimators\" } might not be used.\n",
      "\n",
      "  This could be a false alarm, with some parameters getting used by language bindings but\n",
      "  then being mistakenly passed down to XGBoost core, or some parameter actually being used\n",
      "  but getting flagged wrongly here. Please open an issue if you find any such cases.\n",
      "\n",
      "\n",
      "[08:15:03] WARNING: ../src/objective/regression_obj.cu:188: reg:linear is now deprecated in favor of reg:squarederror.\n",
      "[08:15:03] WARNING: ../src/learner.cc:576: \n",
      "Parameters: { \"n_estimators\" } might not be used.\n",
      "\n",
      "  This could be a false alarm, with some parameters getting used by language bindings but\n",
      "  then being mistakenly passed down to XGBoost core, or some parameter actually being used\n",
      "  but getting flagged wrongly here. Please open an issue if you find any such cases.\n",
      "\n",
      "\n",
      "[08:15:03] WARNING: ../src/objective/regression_obj.cu:188: reg:linear is now deprecated in favor of reg:squarederror.\n",
      "[08:15:03] WARNING: ../src/learner.cc:576: \n",
      "Parameters: { \"n_estimators\" } might not be used.\n",
      "\n",
      "  This could be a false alarm, with some parameters getting used by language bindings but\n",
      "  then being mistakenly passed down to XGBoost core, or some parameter actually being used\n",
      "  but getting flagged wrongly here. Please open an issue if you find any such cases.\n",
      "\n",
      "\n"
     ]
    }
   ],
   "source": [
    "params = {\"objective\":\"reg:linear\",'min_child_weight': 5,'colsample_bytree': 1.0,'learning_rate': 0.1,\n",
    "                'n_estimators': 360, 'max_depth': 5, 'alpha': 10}\n",
    "\n",
    "cv_results = xgb.cv(dtrain=data_dmatrix, params=params, nfold=3,\n",
    "                    num_boost_round=50,early_stopping_rounds=10,metrics=\"rmse\", as_pandas=True, seed=123)"
   ]
  },
  {
   "cell_type": "code",
   "execution_count": 232,
   "metadata": {},
   "outputs": [
    {
     "data": {
      "text/html": [
       "<div>\n",
       "<style scoped>\n",
       "    .dataframe tbody tr th:only-of-type {\n",
       "        vertical-align: middle;\n",
       "    }\n",
       "\n",
       "    .dataframe tbody tr th {\n",
       "        vertical-align: top;\n",
       "    }\n",
       "\n",
       "    .dataframe thead th {\n",
       "        text-align: right;\n",
       "    }\n",
       "</style>\n",
       "<table border=\"1\" class=\"dataframe\">\n",
       "  <thead>\n",
       "    <tr style=\"text-align: right;\">\n",
       "      <th></th>\n",
       "      <th>train-rmse-mean</th>\n",
       "      <th>train-rmse-std</th>\n",
       "      <th>test-rmse-mean</th>\n",
       "      <th>test-rmse-std</th>\n",
       "    </tr>\n",
       "  </thead>\n",
       "  <tbody>\n",
       "    <tr>\n",
       "      <th>0</th>\n",
       "      <td>0.493171</td>\n",
       "      <td>0.000072</td>\n",
       "      <td>0.493159</td>\n",
       "      <td>0.000024</td>\n",
       "    </tr>\n",
       "    <tr>\n",
       "      <th>1</th>\n",
       "      <td>0.487449</td>\n",
       "      <td>0.000126</td>\n",
       "      <td>0.487523</td>\n",
       "      <td>0.000064</td>\n",
       "    </tr>\n",
       "    <tr>\n",
       "      <th>2</th>\n",
       "      <td>0.482790</td>\n",
       "      <td>0.000182</td>\n",
       "      <td>0.482857</td>\n",
       "      <td>0.000076</td>\n",
       "    </tr>\n",
       "    <tr>\n",
       "      <th>3</th>\n",
       "      <td>0.478844</td>\n",
       "      <td>0.000158</td>\n",
       "      <td>0.478933</td>\n",
       "      <td>0.000181</td>\n",
       "    </tr>\n",
       "    <tr>\n",
       "      <th>4</th>\n",
       "      <td>0.475620</td>\n",
       "      <td>0.000181</td>\n",
       "      <td>0.475687</td>\n",
       "      <td>0.000219</td>\n",
       "    </tr>\n",
       "  </tbody>\n",
       "</table>\n",
       "</div>"
      ],
      "text/plain": [
       "   train-rmse-mean  train-rmse-std  test-rmse-mean  test-rmse-std\n",
       "0         0.493171        0.000072        0.493159       0.000024\n",
       "1         0.487449        0.000126        0.487523       0.000064\n",
       "2         0.482790        0.000182        0.482857       0.000076\n",
       "3         0.478844        0.000158        0.478933       0.000181\n",
       "4         0.475620        0.000181        0.475687       0.000219"
      ]
     },
     "execution_count": 232,
     "metadata": {},
     "output_type": "execute_result"
    }
   ],
   "source": [
    "cv_results.head()"
   ]
  },
  {
   "cell_type": "code",
   "execution_count": null,
   "metadata": {},
   "outputs": [],
   "source": []
  },
  {
   "cell_type": "code",
   "execution_count": 233,
   "metadata": {},
   "outputs": [],
   "source": [
    "#Regression using Gender using xgboost"
   ]
  },
  {
   "cell_type": "code",
   "execution_count": 234,
   "metadata": {},
   "outputs": [],
   "source": [
    "y = df1['gender']\n",
    "X = df1.drop('gender', 1)"
   ]
  },
  {
   "cell_type": "code",
   "execution_count": 235,
   "metadata": {},
   "outputs": [],
   "source": [
    "data_dmatrix = xgb.DMatrix(data=X,label=y)"
   ]
  },
  {
   "cell_type": "code",
   "execution_count": 236,
   "metadata": {},
   "outputs": [],
   "source": [
    "from sklearn.model_selection import train_test_split\n",
    "\n",
    "X_train, X_test, y_train, y_test = train_test_split(X, y, test_size=0.2, random_state=123)"
   ]
  },
  {
   "cell_type": "code",
   "execution_count": 237,
   "metadata": {},
   "outputs": [],
   "source": [
    "xg_reg = xgb.XGBRegressor(objective ='reg:logistic', colsample_bytree = 0.3, learning_rate = 0.1,max_depth = 5, alpha = 10, n_estimators = 10)"
   ]
  },
  {
   "cell_type": "code",
   "execution_count": 238,
   "metadata": {},
   "outputs": [],
   "source": [
    "xg_reg.fit(X_train,y_train)\n",
    "\n",
    "predct = xg_reg.predict(X_test)"
   ]
  },
  {
   "cell_type": "code",
   "execution_count": 239,
   "metadata": {},
   "outputs": [
    {
     "name": "stdout",
     "output_type": "stream",
     "text": [
      "RMSE: 0.470109\n"
     ]
    }
   ],
   "source": [
    "#RMSE using Xgboost\n",
    "rmse = np.sqrt(mean_squared_error(y_test, predct))\n",
    "print(\"RMSE: %f\" % (rmse))"
   ]
  },
  {
   "cell_type": "code",
   "execution_count": 240,
   "metadata": {},
   "outputs": [
    {
     "data": {
      "text/plain": [
       "array([0.5674448 , 0.57366925, 0.618923  , ..., 0.5964528 , 0.6255146 ,\n",
       "       0.6646626 ], dtype=float32)"
      ]
     },
     "execution_count": 240,
     "metadata": {},
     "output_type": "execute_result"
    }
   ],
   "source": [
    "predct"
   ]
  },
  {
   "cell_type": "code",
   "execution_count": 241,
   "metadata": {},
   "outputs": [
    {
     "name": "stdout",
     "output_type": "stream",
     "text": [
      "[08:15:13] WARNING: ../src/objective/regression_obj.cu:188: reg:linear is now deprecated in favor of reg:squarederror.\n",
      "[08:15:13] WARNING: ../src/objective/regression_obj.cu:188: reg:linear is now deprecated in favor of reg:squarederror.\n",
      "[08:15:13] WARNING: ../src/objective/regression_obj.cu:188: reg:linear is now deprecated in favor of reg:squarederror.\n"
     ]
    }
   ],
   "source": [
    "params = {\"objective\":\"reg:linear\",'colsample_bytree': 0.3,'learning_rate': 0.1, 'max_depth': 5, 'alpha': 10}\n",
    "\n",
    "cv_results = xgb.cv(dtrain=data_dmatrix, params=params, nfold=3, num_boost_round=50,early_stopping_rounds=10,metrics=\"rmse\", as_pandas=True, seed=123)"
   ]
  },
  {
   "cell_type": "code",
   "execution_count": 242,
   "metadata": {},
   "outputs": [
    {
     "data": {
      "text/html": [
       "<div>\n",
       "<style scoped>\n",
       "    .dataframe tbody tr th:only-of-type {\n",
       "        vertical-align: middle;\n",
       "    }\n",
       "\n",
       "    .dataframe tbody tr th {\n",
       "        vertical-align: top;\n",
       "    }\n",
       "\n",
       "    .dataframe thead th {\n",
       "        text-align: right;\n",
       "    }\n",
       "</style>\n",
       "<table border=\"1\" class=\"dataframe\">\n",
       "  <thead>\n",
       "    <tr style=\"text-align: right;\">\n",
       "      <th></th>\n",
       "      <th>train-rmse-mean</th>\n",
       "      <th>train-rmse-std</th>\n",
       "      <th>test-rmse-mean</th>\n",
       "      <th>test-rmse-std</th>\n",
       "    </tr>\n",
       "  </thead>\n",
       "  <tbody>\n",
       "    <tr>\n",
       "      <th>0</th>\n",
       "      <td>0.494566</td>\n",
       "      <td>0.000019</td>\n",
       "      <td>0.494507</td>\n",
       "      <td>0.000073</td>\n",
       "    </tr>\n",
       "    <tr>\n",
       "      <th>1</th>\n",
       "      <td>0.489413</td>\n",
       "      <td>0.000365</td>\n",
       "      <td>0.489453</td>\n",
       "      <td>0.000473</td>\n",
       "    </tr>\n",
       "    <tr>\n",
       "      <th>2</th>\n",
       "      <td>0.485253</td>\n",
       "      <td>0.000669</td>\n",
       "      <td>0.485200</td>\n",
       "      <td>0.000772</td>\n",
       "    </tr>\n",
       "    <tr>\n",
       "      <th>3</th>\n",
       "      <td>0.481748</td>\n",
       "      <td>0.000375</td>\n",
       "      <td>0.481777</td>\n",
       "      <td>0.000525</td>\n",
       "    </tr>\n",
       "    <tr>\n",
       "      <th>4</th>\n",
       "      <td>0.478729</td>\n",
       "      <td>0.000413</td>\n",
       "      <td>0.478764</td>\n",
       "      <td>0.000564</td>\n",
       "    </tr>\n",
       "  </tbody>\n",
       "</table>\n",
       "</div>"
      ],
      "text/plain": [
       "   train-rmse-mean  train-rmse-std  test-rmse-mean  test-rmse-std\n",
       "0         0.494566        0.000019        0.494507       0.000073\n",
       "1         0.489413        0.000365        0.489453       0.000473\n",
       "2         0.485253        0.000669        0.485200       0.000772\n",
       "3         0.481748        0.000375        0.481777       0.000525\n",
       "4         0.478729        0.000413        0.478764       0.000564"
      ]
     },
     "execution_count": 242,
     "metadata": {},
     "output_type": "execute_result"
    }
   ],
   "source": [
    "cv_results.head()"
   ]
  },
  {
   "cell_type": "code",
   "execution_count": null,
   "metadata": {},
   "outputs": [],
   "source": []
  },
  {
   "cell_type": "code",
   "execution_count": 243,
   "metadata": {},
   "outputs": [],
   "source": [
    "#Stacking"
   ]
  },
  {
   "cell_type": "code",
   "execution_count": 244,
   "metadata": {},
   "outputs": [],
   "source": [
    "RANDOM_SEED = None\n",
    "\n",
    "clf1 = KNeighborsClassifier(n_neighbors=1)\n",
    "clf2 = RandomForestClassifier(random_state=RANDOM_SEED)\n",
    "clf3 = GaussianNB()\n",
    "lr = LogisticRegression()\n",
    "SkFold = model_selection.StratifiedKFold(n_splits=10, random_state=7, shuffle=True)"
   ]
  },
  {
   "cell_type": "code",
   "execution_count": 245,
   "metadata": {},
   "outputs": [],
   "source": [
    "sclf = StackingCVClassifier(classifiers=[clf1, clf2, clf3],meta_classifier=lr)"
   ]
  },
  {
   "cell_type": "code",
   "execution_count": 252,
   "metadata": {},
   "outputs": [
    {
     "name": "stdout",
     "output_type": "stream",
     "text": [
      "3-fold cross validation:\n",
      "\n"
     ]
    },
    {
     "ename": "ValueError",
     "evalue": "Found input variables with inconsistent numbers of samples: [100000, 407661]",
     "output_type": "error",
     "traceback": [
      "\u001b[0;31m---------------------------------------------------------------------------\u001b[0m",
      "\u001b[0;31mValueError\u001b[0m                                Traceback (most recent call last)",
      "\u001b[0;32m/tmp/ipykernel_7375/2628399018.py\u001b[0m in \u001b[0;36m<module>\u001b[0;34m\u001b[0m\n\u001b[1;32m      2\u001b[0m \u001b[0;34m\u001b[0m\u001b[0m\n\u001b[1;32m      3\u001b[0m \u001b[0;32mfor\u001b[0m \u001b[0mclf\u001b[0m\u001b[0;34m,\u001b[0m \u001b[0mlabel\u001b[0m \u001b[0;32min\u001b[0m \u001b[0mzip\u001b[0m\u001b[0;34m(\u001b[0m\u001b[0;34m[\u001b[0m\u001b[0mclf1\u001b[0m\u001b[0;34m,\u001b[0m\u001b[0mclf2\u001b[0m\u001b[0;34m,\u001b[0m \u001b[0mclf3\u001b[0m\u001b[0;34m,\u001b[0m \u001b[0msclf\u001b[0m\u001b[0;34m]\u001b[0m\u001b[0;34m,\u001b[0m \u001b[0;34m[\u001b[0m\u001b[0;34m'KNN'\u001b[0m\u001b[0;34m,\u001b[0m\u001b[0;34m'Random Forest'\u001b[0m\u001b[0;34m,\u001b[0m \u001b[0;34m'Naive Bayes'\u001b[0m\u001b[0;34m,\u001b[0m \u001b[0;34m'StackingClassifier'\u001b[0m\u001b[0;34m]\u001b[0m\u001b[0;34m)\u001b[0m\u001b[0;34m:\u001b[0m\u001b[0;34m\u001b[0m\u001b[0;34m\u001b[0m\u001b[0m\n\u001b[0;32m----> 4\u001b[0;31m   \u001b[0mscores\u001b[0m \u001b[0;34m=\u001b[0m \u001b[0mmodel_selection\u001b[0m\u001b[0;34m.\u001b[0m\u001b[0mcross_val_score\u001b[0m\u001b[0;34m(\u001b[0m\u001b[0mclf\u001b[0m\u001b[0;34m,\u001b[0m \u001b[0mx\u001b[0m\u001b[0;34m,\u001b[0m \u001b[0my\u001b[0m\u001b[0;34m,\u001b[0m  \u001b[0mscoring\u001b[0m\u001b[0;34m=\u001b[0m\u001b[0;34m'accuracy'\u001b[0m\u001b[0;34m,\u001b[0m \u001b[0mcv\u001b[0m\u001b[0;34m=\u001b[0m\u001b[0mSkFold\u001b[0m\u001b[0;34m,\u001b[0m \u001b[0mn_jobs\u001b[0m\u001b[0;34m=\u001b[0m\u001b[0;34m-\u001b[0m\u001b[0;36m1\u001b[0m\u001b[0;34m,\u001b[0m \u001b[0merror_score\u001b[0m\u001b[0;34m=\u001b[0m\u001b[0;34m'raise'\u001b[0m\u001b[0;34m)\u001b[0m\u001b[0;34m\u001b[0m\u001b[0;34m\u001b[0m\u001b[0m\n\u001b[0m\u001b[1;32m      5\u001b[0m   \u001b[0mprint\u001b[0m\u001b[0;34m(\u001b[0m\u001b[0;34m\"Accuracy: %0.2f (+/- %0.2f) [%s]\"\u001b[0m \u001b[0;34m%\u001b[0m \u001b[0;34m(\u001b[0m\u001b[0mscores\u001b[0m\u001b[0;34m.\u001b[0m\u001b[0mmean\u001b[0m\u001b[0;34m(\u001b[0m\u001b[0;34m)\u001b[0m\u001b[0;34m,\u001b[0m \u001b[0mscores\u001b[0m\u001b[0;34m.\u001b[0m\u001b[0mstd\u001b[0m\u001b[0;34m(\u001b[0m\u001b[0;34m)\u001b[0m\u001b[0;34m,\u001b[0m \u001b[0mlabel\u001b[0m\u001b[0;34m)\u001b[0m\u001b[0;34m)\u001b[0m\u001b[0;34m\u001b[0m\u001b[0;34m\u001b[0m\u001b[0m\n",
      "\u001b[0;32m~/.local/lib/python3.7/site-packages/sklearn/model_selection/_validation.py\u001b[0m in \u001b[0;36mcross_val_score\u001b[0;34m(estimator, X, y, groups, scoring, cv, n_jobs, verbose, fit_params, pre_dispatch, error_score)\u001b[0m\n\u001b[1;32m    519\u001b[0m         \u001b[0mfit_params\u001b[0m\u001b[0;34m=\u001b[0m\u001b[0mfit_params\u001b[0m\u001b[0;34m,\u001b[0m\u001b[0;34m\u001b[0m\u001b[0;34m\u001b[0m\u001b[0m\n\u001b[1;32m    520\u001b[0m         \u001b[0mpre_dispatch\u001b[0m\u001b[0;34m=\u001b[0m\u001b[0mpre_dispatch\u001b[0m\u001b[0;34m,\u001b[0m\u001b[0;34m\u001b[0m\u001b[0;34m\u001b[0m\u001b[0m\n\u001b[0;32m--> 521\u001b[0;31m         \u001b[0merror_score\u001b[0m\u001b[0;34m=\u001b[0m\u001b[0merror_score\u001b[0m\u001b[0;34m,\u001b[0m\u001b[0;34m\u001b[0m\u001b[0;34m\u001b[0m\u001b[0m\n\u001b[0m\u001b[1;32m    522\u001b[0m     )\n\u001b[1;32m    523\u001b[0m     \u001b[0;32mreturn\u001b[0m \u001b[0mcv_results\u001b[0m\u001b[0;34m[\u001b[0m\u001b[0;34m\"test_score\"\u001b[0m\u001b[0;34m]\u001b[0m\u001b[0;34m\u001b[0m\u001b[0;34m\u001b[0m\u001b[0m\n",
      "\u001b[0;32m~/.local/lib/python3.7/site-packages/sklearn/model_selection/_validation.py\u001b[0m in \u001b[0;36mcross_validate\u001b[0;34m(estimator, X, y, groups, scoring, cv, n_jobs, verbose, fit_params, pre_dispatch, return_train_score, return_estimator, error_score)\u001b[0m\n\u001b[1;32m    251\u001b[0m \u001b[0;34m\u001b[0m\u001b[0m\n\u001b[1;32m    252\u001b[0m     \"\"\"\n\u001b[0;32m--> 253\u001b[0;31m     \u001b[0mX\u001b[0m\u001b[0;34m,\u001b[0m \u001b[0my\u001b[0m\u001b[0;34m,\u001b[0m \u001b[0mgroups\u001b[0m \u001b[0;34m=\u001b[0m \u001b[0mindexable\u001b[0m\u001b[0;34m(\u001b[0m\u001b[0mX\u001b[0m\u001b[0;34m,\u001b[0m \u001b[0my\u001b[0m\u001b[0;34m,\u001b[0m \u001b[0mgroups\u001b[0m\u001b[0;34m)\u001b[0m\u001b[0;34m\u001b[0m\u001b[0;34m\u001b[0m\u001b[0m\n\u001b[0m\u001b[1;32m    254\u001b[0m \u001b[0;34m\u001b[0m\u001b[0m\n\u001b[1;32m    255\u001b[0m     \u001b[0mcv\u001b[0m \u001b[0;34m=\u001b[0m \u001b[0mcheck_cv\u001b[0m\u001b[0;34m(\u001b[0m\u001b[0mcv\u001b[0m\u001b[0;34m,\u001b[0m \u001b[0my\u001b[0m\u001b[0;34m,\u001b[0m \u001b[0mclassifier\u001b[0m\u001b[0;34m=\u001b[0m\u001b[0mis_classifier\u001b[0m\u001b[0;34m(\u001b[0m\u001b[0mestimator\u001b[0m\u001b[0;34m)\u001b[0m\u001b[0;34m)\u001b[0m\u001b[0;34m\u001b[0m\u001b[0;34m\u001b[0m\u001b[0m\n",
      "\u001b[0;32m~/.local/lib/python3.7/site-packages/sklearn/utils/validation.py\u001b[0m in \u001b[0;36mindexable\u001b[0;34m(*iterables)\u001b[0m\n\u001b[1;32m    368\u001b[0m     \"\"\"\n\u001b[1;32m    369\u001b[0m     \u001b[0mresult\u001b[0m \u001b[0;34m=\u001b[0m \u001b[0;34m[\u001b[0m\u001b[0m_make_indexable\u001b[0m\u001b[0;34m(\u001b[0m\u001b[0mX\u001b[0m\u001b[0;34m)\u001b[0m \u001b[0;32mfor\u001b[0m \u001b[0mX\u001b[0m \u001b[0;32min\u001b[0m \u001b[0miterables\u001b[0m\u001b[0;34m]\u001b[0m\u001b[0;34m\u001b[0m\u001b[0;34m\u001b[0m\u001b[0m\n\u001b[0;32m--> 370\u001b[0;31m     \u001b[0mcheck_consistent_length\u001b[0m\u001b[0;34m(\u001b[0m\u001b[0;34m*\u001b[0m\u001b[0mresult\u001b[0m\u001b[0;34m)\u001b[0m\u001b[0;34m\u001b[0m\u001b[0;34m\u001b[0m\u001b[0m\n\u001b[0m\u001b[1;32m    371\u001b[0m     \u001b[0;32mreturn\u001b[0m \u001b[0mresult\u001b[0m\u001b[0;34m\u001b[0m\u001b[0;34m\u001b[0m\u001b[0m\n\u001b[1;32m    372\u001b[0m \u001b[0;34m\u001b[0m\u001b[0m\n",
      "\u001b[0;32m~/.local/lib/python3.7/site-packages/sklearn/utils/validation.py\u001b[0m in \u001b[0;36mcheck_consistent_length\u001b[0;34m(*arrays)\u001b[0m\n\u001b[1;32m    331\u001b[0m         raise ValueError(\n\u001b[1;32m    332\u001b[0m             \u001b[0;34m\"Found input variables with inconsistent numbers of samples: %r\"\u001b[0m\u001b[0;34m\u001b[0m\u001b[0;34m\u001b[0m\u001b[0m\n\u001b[0;32m--> 333\u001b[0;31m             \u001b[0;34m%\u001b[0m \u001b[0;34m[\u001b[0m\u001b[0mint\u001b[0m\u001b[0;34m(\u001b[0m\u001b[0ml\u001b[0m\u001b[0;34m)\u001b[0m \u001b[0;32mfor\u001b[0m \u001b[0ml\u001b[0m \u001b[0;32min\u001b[0m \u001b[0mlengths\u001b[0m\u001b[0;34m]\u001b[0m\u001b[0;34m\u001b[0m\u001b[0;34m\u001b[0m\u001b[0m\n\u001b[0m\u001b[1;32m    334\u001b[0m         )\n\u001b[1;32m    335\u001b[0m \u001b[0;34m\u001b[0m\u001b[0m\n",
      "\u001b[0;31mValueError\u001b[0m: Found input variables with inconsistent numbers of samples: [100000, 407661]"
     ]
    }
   ],
   "source": [
    "print('3-fold cross validation:\\n')\n",
    "\n",
    "for clf, label in zip([clf1,clf2, clf3, sclf], ['KNN','Random Forest', 'Naive Bayes', 'StackingClassifier']):\n",
    "  scores = model_selection.cross_val_score(clf, x, y,  scoring='accuracy', cv=SkFold, n_jobs=-1, error_score='raise')\n",
    "  print(\"Accuracy: %0.2f (+/- %0.2f) [%s]\" % (scores.mean(), scores.std(), label))"
   ]
  },
  {
   "cell_type": "code",
   "execution_count": null,
   "metadata": {},
   "outputs": [],
   "source": []
  },
  {
   "cell_type": "code",
   "execution_count": 247,
   "metadata": {},
   "outputs": [],
   "source": [
    "#Grid search CV"
   ]
  },
  {
   "cell_type": "code",
   "execution_count": 248,
   "metadata": {},
   "outputs": [
    {
     "data": {
      "text/plain": [
       "<Figure size 720x576 with 0 Axes>"
      ]
     },
     "metadata": {},
     "output_type": "display_data"
    }
   ],
   "source": [
    "gs = gridspec.GridSpec(2, 2)\n",
    "\n",
    "fig = plt.figure(figsize=(10,8))"
   ]
  },
  {
   "cell_type": "code",
   "execution_count": 249,
   "metadata": {},
   "outputs": [
    {
     "ename": "ValueError",
     "evalue": "Found input variables with inconsistent numbers of samples: [100000, 407661]",
     "output_type": "error",
     "traceback": [
      "\u001b[0;31m---------------------------------------------------------------------------\u001b[0m",
      "\u001b[0;31mValueError\u001b[0m                                Traceback (most recent call last)",
      "\u001b[0;32m/tmp/ipykernel_7375/517085656.py\u001b[0m in \u001b[0;36m<module>\u001b[0;34m\u001b[0m\n\u001b[1;32m      8\u001b[0m     \u001b[0mX\u001b[0m \u001b[0;34m=\u001b[0m \u001b[0mpca\u001b[0m\u001b[0;34m.\u001b[0m\u001b[0mfit_transform\u001b[0m\u001b[0;34m(\u001b[0m\u001b[0mx\u001b[0m\u001b[0;34m)\u001b[0m\u001b[0;34m\u001b[0m\u001b[0;34m\u001b[0m\u001b[0m\n\u001b[1;32m      9\u001b[0m \u001b[0;34m\u001b[0m\u001b[0m\n\u001b[0;32m---> 10\u001b[0;31m     \u001b[0mclf\u001b[0m\u001b[0;34m.\u001b[0m\u001b[0mfit\u001b[0m\u001b[0;34m(\u001b[0m\u001b[0mX\u001b[0m\u001b[0;34m,\u001b[0m \u001b[0my\u001b[0m\u001b[0;34m)\u001b[0m\u001b[0;34m\u001b[0m\u001b[0;34m\u001b[0m\u001b[0m\n\u001b[0m\u001b[1;32m     11\u001b[0m     \u001b[0max\u001b[0m \u001b[0;34m=\u001b[0m \u001b[0mplt\u001b[0m\u001b[0;34m.\u001b[0m\u001b[0msubplot\u001b[0m\u001b[0;34m(\u001b[0m\u001b[0mgs\u001b[0m\u001b[0;34m[\u001b[0m\u001b[0mgrd\u001b[0m\u001b[0;34m[\u001b[0m\u001b[0;36m0\u001b[0m\u001b[0;34m]\u001b[0m\u001b[0;34m,\u001b[0m \u001b[0mgrd\u001b[0m\u001b[0;34m[\u001b[0m\u001b[0;36m1\u001b[0m\u001b[0;34m]\u001b[0m\u001b[0;34m]\u001b[0m\u001b[0;34m)\u001b[0m\u001b[0;34m\u001b[0m\u001b[0;34m\u001b[0m\u001b[0m\n\u001b[1;32m     12\u001b[0m     \u001b[0mfig\u001b[0m \u001b[0;34m=\u001b[0m \u001b[0mplot_decision_regions\u001b[0m\u001b[0;34m(\u001b[0m\u001b[0mX\u001b[0m\u001b[0;34m,\u001b[0m\u001b[0my\u001b[0m\u001b[0;34m,\u001b[0m \u001b[0mclf\u001b[0m\u001b[0;34m=\u001b[0m\u001b[0mclf\u001b[0m\u001b[0;34m)\u001b[0m\u001b[0;34m\u001b[0m\u001b[0;34m\u001b[0m\u001b[0m\n",
      "\u001b[0;32m~/.local/lib/python3.7/site-packages/sklearn/neighbors/_classification.py\u001b[0m in \u001b[0;36mfit\u001b[0;34m(self, X, y)\u001b[0m\n\u001b[1;32m    196\u001b[0m         \u001b[0mself\u001b[0m\u001b[0;34m.\u001b[0m\u001b[0mweights\u001b[0m \u001b[0;34m=\u001b[0m \u001b[0m_check_weights\u001b[0m\u001b[0;34m(\u001b[0m\u001b[0mself\u001b[0m\u001b[0;34m.\u001b[0m\u001b[0mweights\u001b[0m\u001b[0;34m)\u001b[0m\u001b[0;34m\u001b[0m\u001b[0;34m\u001b[0m\u001b[0m\n\u001b[1;32m    197\u001b[0m \u001b[0;34m\u001b[0m\u001b[0m\n\u001b[0;32m--> 198\u001b[0;31m         \u001b[0;32mreturn\u001b[0m \u001b[0mself\u001b[0m\u001b[0;34m.\u001b[0m\u001b[0m_fit\u001b[0m\u001b[0;34m(\u001b[0m\u001b[0mX\u001b[0m\u001b[0;34m,\u001b[0m \u001b[0my\u001b[0m\u001b[0;34m)\u001b[0m\u001b[0;34m\u001b[0m\u001b[0;34m\u001b[0m\u001b[0m\n\u001b[0m\u001b[1;32m    199\u001b[0m \u001b[0;34m\u001b[0m\u001b[0m\n\u001b[1;32m    200\u001b[0m     \u001b[0;32mdef\u001b[0m \u001b[0mpredict\u001b[0m\u001b[0;34m(\u001b[0m\u001b[0mself\u001b[0m\u001b[0;34m,\u001b[0m \u001b[0mX\u001b[0m\u001b[0;34m)\u001b[0m\u001b[0;34m:\u001b[0m\u001b[0;34m\u001b[0m\u001b[0;34m\u001b[0m\u001b[0m\n",
      "\u001b[0;32m~/.local/lib/python3.7/site-packages/sklearn/neighbors/_base.py\u001b[0m in \u001b[0;36m_fit\u001b[0;34m(self, X, y)\u001b[0m\n\u001b[1;32m    398\u001b[0m         \u001b[0;32mif\u001b[0m \u001b[0mself\u001b[0m\u001b[0;34m.\u001b[0m\u001b[0m_get_tags\u001b[0m\u001b[0;34m(\u001b[0m\u001b[0;34m)\u001b[0m\u001b[0;34m[\u001b[0m\u001b[0;34m\"requires_y\"\u001b[0m\u001b[0;34m]\u001b[0m\u001b[0;34m:\u001b[0m\u001b[0;34m\u001b[0m\u001b[0;34m\u001b[0m\u001b[0m\n\u001b[1;32m    399\u001b[0m             \u001b[0;32mif\u001b[0m \u001b[0;32mnot\u001b[0m \u001b[0misinstance\u001b[0m\u001b[0;34m(\u001b[0m\u001b[0mX\u001b[0m\u001b[0;34m,\u001b[0m \u001b[0;34m(\u001b[0m\u001b[0mKDTree\u001b[0m\u001b[0;34m,\u001b[0m \u001b[0mBallTree\u001b[0m\u001b[0;34m,\u001b[0m \u001b[0mNeighborsBase\u001b[0m\u001b[0;34m)\u001b[0m\u001b[0;34m)\u001b[0m\u001b[0;34m:\u001b[0m\u001b[0;34m\u001b[0m\u001b[0;34m\u001b[0m\u001b[0m\n\u001b[0;32m--> 400\u001b[0;31m                 \u001b[0mX\u001b[0m\u001b[0;34m,\u001b[0m \u001b[0my\u001b[0m \u001b[0;34m=\u001b[0m \u001b[0mself\u001b[0m\u001b[0;34m.\u001b[0m\u001b[0m_validate_data\u001b[0m\u001b[0;34m(\u001b[0m\u001b[0mX\u001b[0m\u001b[0;34m,\u001b[0m \u001b[0my\u001b[0m\u001b[0;34m,\u001b[0m \u001b[0maccept_sparse\u001b[0m\u001b[0;34m=\u001b[0m\u001b[0;34m\"csr\"\u001b[0m\u001b[0;34m,\u001b[0m \u001b[0mmulti_output\u001b[0m\u001b[0;34m=\u001b[0m\u001b[0;32mTrue\u001b[0m\u001b[0;34m)\u001b[0m\u001b[0;34m\u001b[0m\u001b[0;34m\u001b[0m\u001b[0m\n\u001b[0m\u001b[1;32m    401\u001b[0m \u001b[0;34m\u001b[0m\u001b[0m\n\u001b[1;32m    402\u001b[0m             \u001b[0;32mif\u001b[0m \u001b[0mis_classifier\u001b[0m\u001b[0;34m(\u001b[0m\u001b[0mself\u001b[0m\u001b[0;34m)\u001b[0m\u001b[0;34m:\u001b[0m\u001b[0;34m\u001b[0m\u001b[0;34m\u001b[0m\u001b[0m\n",
      "\u001b[0;32m~/.local/lib/python3.7/site-packages/sklearn/base.py\u001b[0m in \u001b[0;36m_validate_data\u001b[0;34m(self, X, y, reset, validate_separately, **check_params)\u001b[0m\n\u001b[1;32m    570\u001b[0m                 \u001b[0my\u001b[0m \u001b[0;34m=\u001b[0m \u001b[0mcheck_array\u001b[0m\u001b[0;34m(\u001b[0m\u001b[0my\u001b[0m\u001b[0;34m,\u001b[0m \u001b[0;34m**\u001b[0m\u001b[0mcheck_y_params\u001b[0m\u001b[0;34m)\u001b[0m\u001b[0;34m\u001b[0m\u001b[0;34m\u001b[0m\u001b[0m\n\u001b[1;32m    571\u001b[0m             \u001b[0;32melse\u001b[0m\u001b[0;34m:\u001b[0m\u001b[0;34m\u001b[0m\u001b[0;34m\u001b[0m\u001b[0m\n\u001b[0;32m--> 572\u001b[0;31m                 \u001b[0mX\u001b[0m\u001b[0;34m,\u001b[0m \u001b[0my\u001b[0m \u001b[0;34m=\u001b[0m \u001b[0mcheck_X_y\u001b[0m\u001b[0;34m(\u001b[0m\u001b[0mX\u001b[0m\u001b[0;34m,\u001b[0m \u001b[0my\u001b[0m\u001b[0;34m,\u001b[0m \u001b[0;34m**\u001b[0m\u001b[0mcheck_params\u001b[0m\u001b[0;34m)\u001b[0m\u001b[0;34m\u001b[0m\u001b[0;34m\u001b[0m\u001b[0m\n\u001b[0m\u001b[1;32m    573\u001b[0m             \u001b[0mout\u001b[0m \u001b[0;34m=\u001b[0m \u001b[0mX\u001b[0m\u001b[0;34m,\u001b[0m \u001b[0my\u001b[0m\u001b[0;34m\u001b[0m\u001b[0;34m\u001b[0m\u001b[0m\n\u001b[1;32m    574\u001b[0m \u001b[0;34m\u001b[0m\u001b[0m\n",
      "\u001b[0;32m~/.local/lib/python3.7/site-packages/sklearn/utils/validation.py\u001b[0m in \u001b[0;36mcheck_X_y\u001b[0;34m(X, y, accept_sparse, accept_large_sparse, dtype, order, copy, force_all_finite, ensure_2d, allow_nd, multi_output, ensure_min_samples, ensure_min_features, y_numeric, estimator)\u001b[0m\n\u001b[1;32m    971\u001b[0m     \u001b[0my\u001b[0m \u001b[0;34m=\u001b[0m \u001b[0m_check_y\u001b[0m\u001b[0;34m(\u001b[0m\u001b[0my\u001b[0m\u001b[0;34m,\u001b[0m \u001b[0mmulti_output\u001b[0m\u001b[0;34m=\u001b[0m\u001b[0mmulti_output\u001b[0m\u001b[0;34m,\u001b[0m \u001b[0my_numeric\u001b[0m\u001b[0;34m=\u001b[0m\u001b[0my_numeric\u001b[0m\u001b[0;34m)\u001b[0m\u001b[0;34m\u001b[0m\u001b[0;34m\u001b[0m\u001b[0m\n\u001b[1;32m    972\u001b[0m \u001b[0;34m\u001b[0m\u001b[0m\n\u001b[0;32m--> 973\u001b[0;31m     \u001b[0mcheck_consistent_length\u001b[0m\u001b[0;34m(\u001b[0m\u001b[0mX\u001b[0m\u001b[0;34m,\u001b[0m \u001b[0my\u001b[0m\u001b[0;34m)\u001b[0m\u001b[0;34m\u001b[0m\u001b[0;34m\u001b[0m\u001b[0m\n\u001b[0m\u001b[1;32m    974\u001b[0m \u001b[0;34m\u001b[0m\u001b[0m\n\u001b[1;32m    975\u001b[0m     \u001b[0;32mreturn\u001b[0m \u001b[0mX\u001b[0m\u001b[0;34m,\u001b[0m \u001b[0my\u001b[0m\u001b[0;34m\u001b[0m\u001b[0;34m\u001b[0m\u001b[0m\n",
      "\u001b[0;32m~/.local/lib/python3.7/site-packages/sklearn/utils/validation.py\u001b[0m in \u001b[0;36mcheck_consistent_length\u001b[0;34m(*arrays)\u001b[0m\n\u001b[1;32m    331\u001b[0m         raise ValueError(\n\u001b[1;32m    332\u001b[0m             \u001b[0;34m\"Found input variables with inconsistent numbers of samples: %r\"\u001b[0m\u001b[0;34m\u001b[0m\u001b[0;34m\u001b[0m\u001b[0m\n\u001b[0;32m--> 333\u001b[0;31m             \u001b[0;34m%\u001b[0m \u001b[0;34m[\u001b[0m\u001b[0mint\u001b[0m\u001b[0;34m(\u001b[0m\u001b[0ml\u001b[0m\u001b[0;34m)\u001b[0m \u001b[0;32mfor\u001b[0m \u001b[0ml\u001b[0m \u001b[0;32min\u001b[0m \u001b[0mlengths\u001b[0m\u001b[0;34m]\u001b[0m\u001b[0;34m\u001b[0m\u001b[0;34m\u001b[0m\u001b[0m\n\u001b[0m\u001b[1;32m    334\u001b[0m         )\n\u001b[1;32m    335\u001b[0m \u001b[0;34m\u001b[0m\u001b[0m\n",
      "\u001b[0;31mValueError\u001b[0m: Found input variables with inconsistent numbers of samples: [100000, 407661]"
     ]
    }
   ],
   "source": [
    "for clf, lab, grd in zip([clf1, clf2, clf3], \n",
    "                         ['Random Forest', \n",
    "                          'Naive Bayes',\n",
    "                          'StackingCVClassifier'],\n",
    "                          itertools.product([0, 1], repeat=2)):\n",
    "  \n",
    "    pca = PCA(n_components = 2)\n",
    "    X = pca.fit_transform(x)\n",
    "\n",
    "    clf.fit(X, y)\n",
    "    ax = plt.subplot(gs[grd[0], grd[1]])\n",
    "    fig = plot_decision_regions(X,y, clf=clf)\n",
    "    plt.title(lab)\n",
    "plt.show()"
   ]
  },
  {
   "cell_type": "code",
   "execution_count": null,
   "metadata": {},
   "outputs": [],
   "source": []
  },
  {
   "cell_type": "code",
   "execution_count": null,
   "metadata": {},
   "outputs": [],
   "source": []
  },
  {
   "cell_type": "code",
   "execution_count": null,
   "metadata": {},
   "outputs": [],
   "source": []
  }
 ],
 "metadata": {
  "colab": {
   "collapsed_sections": [],
   "name": "FinalCapstoneKRK.ipynb",
   "provenance": []
  },
  "kernelspec": {
   "display_name": "Python 3 (ipykernel)",
   "language": "python",
   "name": "python3"
  },
  "language_info": {
   "codemirror_mode": {
    "name": "ipython",
    "version": 3
   },
   "file_extension": ".py",
   "mimetype": "text/x-python",
   "name": "python",
   "nbconvert_exporter": "python",
   "pygments_lexer": "ipython3",
   "version": "3.7.10"
  }
 },
 "nbformat": 4,
 "nbformat_minor": 1
}
