{
 "cells": [
  {
   "cell_type": "code",
   "execution_count": 2,
   "metadata": {},
   "outputs": [],
   "source": [
    "# Setting the environment variables\n",
    "import os\n",
    "import sys\n",
    "import pandas as pd\n",
    "import numpy as np\n",
    "os.environ[\"PYSPARK_PYTHON\"]=\"/usr/bin/python3\"\n",
    "os.environ[\"PYSPARK_DRIVER_PYTHON\"]=\"/usr/bin/python3\"\n",
    "os.environ[\"PYSPARK_DRIVER_PYTHON_OPTS\"]=\"notebook --no-browser\"\n",
    "os.environ[\"JAVA_HOME\"] = \"/usr/java/jdk1.8.0_161/jre\"\n",
    "os.environ[\"SPARK_HOME\"] = \"/home/ec2-user/spark-2.4.4-bin-hadoop2.7\"\n",
    "os.environ[\"PYLIB\"] = os.environ[\"SPARK_HOME\"] + \"/python/lib\"\n",
    "sys.path.insert(0, os.environ[\"PYLIB\"] + \"/py4j-0.10.7-src.zip\")\n",
    "sys.path.insert(0, os.environ[\"PYLIB\"] + \"/pyspark.zip\")"
   ]
  },
  {
   "cell_type": "markdown",
   "metadata": {},
   "source": [
    "# Ecommerce Churn Assignment"
   ]
  },
  {
   "cell_type": "markdown",
   "metadata": {},
   "source": [
    "The aim of the assignment is to build a model that predicts whether a person purchases an item after it has been added to the cart or not. Being a classification problem, you are expected to use your understanding of all the three models covered till now. You must select the most robust model and provide a solution that predicts the churn in the most suitable manner. \n",
    "\n",
    "For this assignment, you are provided the data associated with an e-commerce company for the month of October 2019. Your task is to first analyse the data, and then perform multiple steps towards the model building process.\n",
    "\n",
    "The broad tasks are:\n",
    "- Data Exploration\n",
    "- Feature Engineering\n",
    "- Model Selection\n",
    "- Model Inference"
   ]
  },
  {
   "cell_type": "markdown",
   "metadata": {},
   "source": [
    "### Data description"
   ]
  },
  {
   "cell_type": "markdown",
   "metadata": {},
   "source": [
    "The dataset stores the information of a customer session on the e-commerce platform. It records the activity and the associated parameters with it.\n",
    "\n",
    "- **event_time**: Date and time when user accesses the platform\n",
    "- **event_type**: Action performed by the customer\n",
    "            - View\n",
    "            - Cart\n",
    "            - Purchase\n",
    "            - Remove from cart\n",
    "- **product_id**: Unique number to identify the product in the event\n",
    "- **category_id**: Unique number to identify the category of the product\n",
    "- **category_code**: Stores primary and secondary categories of the product\n",
    "- **brand**: Brand associated with the product\n",
    "- **price**: Price of the product\n",
    "- **user_id**: Unique ID for a customer\n",
    "- **user_session**: Session ID for a user\n"
   ]
  },
  {
   "cell_type": "markdown",
   "metadata": {},
   "source": [
    "### Initialising the SparkSession"
   ]
  },
  {
   "cell_type": "markdown",
   "metadata": {},
   "source": [
    "The dataset provided is 5 GBs in size. Therefore, it is expected that you increase the driver memory to a greater number."
   ]
  },
  {
   "cell_type": "code",
   "execution_count": 3,
   "metadata": {},
   "outputs": [],
   "source": [
    "# Spark environment\n",
    "from pyspark import SparkConf\n",
    "from pyspark.sql import SparkSession\n",
    "from pyspark.sql.functions import countDistinct ,col, avg, mean, isnan, when, count, col, to_timestamp\n",
    "from pyspark.sql.types import IntegerType"
   ]
  },
  {
   "cell_type": "code",
   "execution_count": 4,
   "metadata": {},
   "outputs": [
    {
     "data": {
      "text/html": [
       "\n",
       "            <div>\n",
       "                <p><b>SparkSession - in-memory</b></p>\n",
       "                \n",
       "        <div>\n",
       "            <p><b>SparkContext</b></p>\n",
       "\n",
       "            <p><a href=\"http://ip-172-31-63-36.ec2.internal:4040\">Spark UI</a></p>\n",
       "\n",
       "            <dl>\n",
       "              <dt>Version</dt>\n",
       "                <dd><code>v2.4.4</code></dd>\n",
       "              <dt>Master</dt>\n",
       "                <dd><code>local[*]</code></dd>\n",
       "              <dt>AppName</dt>\n",
       "                <dd><code>demo</code></dd>\n",
       "            </dl>\n",
       "        </div>\n",
       "        \n",
       "            </div>\n",
       "        "
      ],
      "text/plain": [
       "<pyspark.sql.session.SparkSession at 0x7f8b79e4e8d0>"
      ]
     },
     "execution_count": 4,
     "metadata": {},
     "output_type": "execute_result"
    }
   ],
   "source": [
    "# initialising the session with 14 GB driver memory\n",
    "MAX_MEMORY = \"14G\"\n",
    "\n",
    "spark = SparkSession \\\n",
    "    .builder \\\n",
    "    .appName(\"demo\") \\\n",
    "    .config(\"spark.driver.memory\", MAX_MEMORY) \\\n",
    "    .getOrCreate()\n",
    "\n",
    "spark"
   ]
  },
  {
   "cell_type": "code",
   "execution_count": 5,
   "metadata": {},
   "outputs": [
    {
     "data": {
      "text/plain": [
       "'14G'"
      ]
     },
     "execution_count": 5,
     "metadata": {},
     "output_type": "execute_result"
    }
   ],
   "source": [
    "# Spark session with 14 GB driver memory\n",
    "spark.sparkContext.getConf().get('spark.driver.memory')"
   ]
  },
  {
   "cell_type": "code",
   "execution_count": 6,
   "metadata": {},
   "outputs": [
    {
     "name": "stdout",
     "output_type": "stream",
     "text": [
      "Defaulting to user installation because normal site-packages is not writeable\n",
      "Requirement already satisfied: matplotlib in ./.local/lib/python3.7/site-packages (3.4.1)\n",
      "Requirement already satisfied: python-dateutil>=2.7 in ./.local/lib/python3.7/site-packages (from matplotlib) (2.8.1)\n",
      "Requirement already satisfied: pillow>=6.2.0 in ./.local/lib/python3.7/site-packages (from matplotlib) (8.2.0)\n",
      "Requirement already satisfied: pyparsing>=2.2.1 in ./.local/lib/python3.7/site-packages (from matplotlib) (2.4.7)\n",
      "Requirement already satisfied: numpy>=1.16 in ./.local/lib/python3.7/site-packages (from matplotlib) (1.19.1)\n",
      "Requirement already satisfied: cycler>=0.10 in ./.local/lib/python3.7/site-packages (from matplotlib) (0.10.0)\n",
      "Requirement already satisfied: kiwisolver>=1.0.1 in ./.local/lib/python3.7/site-packages (from matplotlib) (1.3.1)\n",
      "Requirement already satisfied: six>=1.5 in ./.local/lib/python3.7/site-packages (from python-dateutil>=2.7->matplotlib) (1.15.0)\n",
      "Defaulting to user installation because normal site-packages is not writeable\n",
      "Requirement already satisfied: seaborn in ./.local/lib/python3.7/site-packages (0.11.1)\n",
      "Requirement already satisfied: scipy>=1.0 in ./.local/lib/python3.7/site-packages (from seaborn) (1.6.3)\n",
      "Requirement already satisfied: matplotlib>=2.2 in ./.local/lib/python3.7/site-packages (from seaborn) (3.4.1)\n",
      "Requirement already satisfied: numpy>=1.15 in ./.local/lib/python3.7/site-packages (from seaborn) (1.19.1)\n",
      "Requirement already satisfied: pandas>=0.23 in ./.local/lib/python3.7/site-packages (from seaborn) (1.1.2)\n",
      "Requirement already satisfied: pillow>=6.2.0 in ./.local/lib/python3.7/site-packages (from matplotlib>=2.2->seaborn) (8.2.0)\n",
      "Requirement already satisfied: python-dateutil>=2.7 in ./.local/lib/python3.7/site-packages (from matplotlib>=2.2->seaborn) (2.8.1)\n",
      "Requirement already satisfied: kiwisolver>=1.0.1 in ./.local/lib/python3.7/site-packages (from matplotlib>=2.2->seaborn) (1.3.1)\n",
      "Requirement already satisfied: pyparsing>=2.2.1 in ./.local/lib/python3.7/site-packages (from matplotlib>=2.2->seaborn) (2.4.7)\n",
      "Requirement already satisfied: cycler>=0.10 in ./.local/lib/python3.7/site-packages (from matplotlib>=2.2->seaborn) (0.10.0)\n",
      "Requirement already satisfied: pytz>=2017.2 in ./.local/lib/python3.7/site-packages (from pandas>=0.23->seaborn) (2020.1)\n",
      "Requirement already satisfied: six>=1.5 in ./.local/lib/python3.7/site-packages (from python-dateutil>=2.7->matplotlib>=2.2->seaborn) (1.15.0)\n"
     ]
    }
   ],
   "source": [
    "#Installing Matplotlib and Seaborn\n",
    "!pip3 install matplotlib\n",
    "!pip3 install seaborn"
   ]
  },
  {
   "cell_type": "code",
   "execution_count": 7,
   "metadata": {},
   "outputs": [],
   "source": [
    "import matplotlib.pyplot as plt\n",
    "import datetime\n",
    "import seaborn as sns\n",
    "from datetime import timedelta"
   ]
  },
  {
   "cell_type": "code",
   "execution_count": 8,
   "metadata": {},
   "outputs": [],
   "source": [
    "# loading the dataset from the EC2 instance - 2019-Oct.csv\n",
    "df = spark.read.csv('/home/ec2-user/inputdata/2019-Oct.csv', header= True, inferSchema= False)"
   ]
  },
  {
   "cell_type": "code",
   "execution_count": 9,
   "metadata": {},
   "outputs": [
    {
     "name": "stdout",
     "output_type": "stream",
     "text": [
      "+--------------------+----------+----------+-------------------+--------------------+--------+-------+---------+--------------------+\n",
      "|          event_time|event_type|product_id|        category_id|       category_code|   brand|  price|  user_id|        user_session|\n",
      "+--------------------+----------+----------+-------------------+--------------------+--------+-------+---------+--------------------+\n",
      "|2019-10-01 00:00:...|      view|  44600062|2103807459595387724|                null|shiseido|  35.79|541312140|72d76fde-8bb3-4e0...|\n",
      "|2019-10-01 00:00:...|      view|   3900821|2053013552326770905|appliances.enviro...|    aqua|  33.20|554748717|9333dfbd-b87a-470...|\n",
      "|2019-10-01 00:00:...|      view|  17200506|2053013559792632471|furniture.living_...|    null| 543.10|519107250|566511c2-e2e3-422...|\n",
      "|2019-10-01 00:00:...|      view|   1307067|2053013558920217191|  computers.notebook|  lenovo| 251.74|550050854|7c90fc70-0e80-459...|\n",
      "|2019-10-01 00:00:...|      view|   1004237|2053013555631882655|electronics.smart...|   apple|1081.98|535871217|c6bd7419-2748-4c5...|\n",
      "|2019-10-01 00:00:...|      view|   1480613|2053013561092866779|   computers.desktop|  pulser| 908.62|512742880|0d0d91c2-c9c2-4e8...|\n",
      "|2019-10-01 00:00:...|      view|  17300353|2053013553853497655|                null|   creed| 380.96|555447699|4fe811e9-91de-46d...|\n",
      "|2019-10-01 00:00:...|      view|  31500053|2053013558031024687|                null|luminarc|  41.16|550978835|6280d577-25c8-414...|\n",
      "|2019-10-01 00:00:...|      view|  28719074|2053013565480109009|  apparel.shoes.keds|   baden| 102.71|520571932|ac1cd4e5-a3ce-422...|\n",
      "|2019-10-01 00:00:...|      view|   1004545|2053013555631882655|electronics.smart...|  huawei| 566.01|537918940|406c46ed-90a4-478...|\n",
      "|2019-10-01 00:00:...|      view|   2900536|2053013554776244595|appliances.kitche...|elenberg|  51.46|555158050|b5bdd0b3-4ca2-4c5...|\n",
      "|2019-10-01 00:00:...|      view|   1005011|2053013555631882655|electronics.smart...| samsung| 900.64|530282093|50a293fb-5940-41b...|\n",
      "|2019-10-01 00:00:...|      view|   3900746|2053013552326770905|appliances.enviro...|   haier| 102.38|555444559|98b88fa0-d8fa-4b9...|\n",
      "|2019-10-01 00:00:...|      view|  44600062|2103807459595387724|                null|shiseido|  35.79|541312140|72d76fde-8bb3-4e0...|\n",
      "|2019-10-01 00:00:...|      view|  13500240|2053013557099889147|furniture.bedroom...|     brw|  93.18|555446365|7f0062d8-ead0-4e0...|\n",
      "|2019-10-01 00:00:...|      view|  23100006|2053013561638126333|                null|    null| 357.79|513642368|17566c27-0a8f-450...|\n",
      "|2019-10-01 00:00:...|      view|   1801995|2053013554415534427|electronics.video.tv|   haier| 193.03|537192226|e3151795-c355-4ef...|\n",
      "|2019-10-01 00:00:...|      view|  10900029|2053013555069845885|appliances.kitche...|   bosch|  58.95|519528062|901b9e3c-3f8f-414...|\n",
      "|2019-10-01 00:00:...|      view|   1306631|2053013558920217191|  computers.notebook|      hp| 580.89|550050854|7c90fc70-0e80-459...|\n",
      "|2019-10-01 00:00:...|      view|   1005135|2053013555631882655|electronics.smart...|   apple|1747.79|535871217|c6bd7419-2748-4c5...|\n",
      "+--------------------+----------+----------+-------------------+--------------------+--------+-------+---------+--------------------+\n",
      "only showing top 20 rows\n",
      "\n"
     ]
    }
   ],
   "source": [
    "# exploring the dataframe - top 20 rows\n",
    "df.show(20)"
   ]
  },
  {
   "cell_type": "code",
   "execution_count": 10,
   "metadata": {
    "scrolled": true
   },
   "outputs": [
    {
     "name": "stdout",
     "output_type": "stream",
     "text": [
      "root\n",
      " |-- event_time: string (nullable = true)\n",
      " |-- event_type: string (nullable = true)\n",
      " |-- product_id: string (nullable = true)\n",
      " |-- category_id: string (nullable = true)\n",
      " |-- category_code: string (nullable = true)\n",
      " |-- brand: string (nullable = true)\n",
      " |-- price: string (nullable = true)\n",
      " |-- user_id: string (nullable = true)\n",
      " |-- user_session: string (nullable = true)\n",
      "\n"
     ]
    }
   ],
   "source": [
    "# exploring the dataframe - schema\n",
    "df.printSchema()"
   ]
  },
  {
   "cell_type": "code",
   "execution_count": 11,
   "metadata": {
    "scrolled": false
   },
   "outputs": [
    {
     "data": {
      "text/plain": [
       "9"
      ]
     },
     "execution_count": 11,
     "metadata": {},
     "output_type": "execute_result"
    }
   ],
   "source": [
    "# Number of columns in the dataset\n",
    "len(df.columns)"
   ]
  },
  {
   "cell_type": "code",
   "execution_count": 12,
   "metadata": {},
   "outputs": [
    {
     "data": {
      "text/plain": [
       "42448764"
      ]
     },
     "execution_count": 12,
     "metadata": {},
     "output_type": "execute_result"
    }
   ],
   "source": [
    "#Number of rows in the dataset\n",
    "df.count()"
   ]
  },
  {
   "cell_type": "markdown",
   "metadata": {},
   "source": [
    "So, we have a huge dataset that contains 42 million rows.\n",
    "\n",
    "Now, tha dataset is loaded in Spark environment. Let's proceed with the desired tasks."
   ]
  },
  {
   "cell_type": "code",
   "execution_count": 13,
   "metadata": {},
   "outputs": [],
   "source": [
    "#converting to parquet\n",
    "df.write.parquet('parquet_df.parquet', mode='overwrite')"
   ]
  },
  {
   "cell_type": "code",
   "execution_count": 14,
   "metadata": {},
   "outputs": [],
   "source": [
    "df_parq = spark.read.parquet('/home/ec2-user/parquet_df.parquet')"
   ]
  },
  {
   "cell_type": "code",
   "execution_count": 15,
   "metadata": {},
   "outputs": [
    {
     "name": "stdout",
     "output_type": "stream",
     "text": [
      "+--------------------+----------+----------+-------------------+--------------------+-------+-------+---------+--------------------+\n",
      "|          event_time|event_type|product_id|        category_id|       category_code|  brand|  price|  user_id|        user_session|\n",
      "+--------------------+----------+----------+-------------------+--------------------+-------+-------+---------+--------------------+\n",
      "|2019-10-11 05:40:...|      view|   1005135|2053013555631882655|electronics.smart...|  apple|1747.76|550180174|18776aab-5a2f-4e7...|\n",
      "|2019-10-11 05:40:...|      view|   8500281|2053013552259662037|                null|  stark| 499.34|535408245|c16e7cd7-7c20-477...|\n",
      "|2019-10-11 05:40:...|      view|   1004249|2053013555631882655|electronics.smart...|  apple| 746.17|531416893|faf3a9f4-4731-425...|\n",
      "|2019-10-11 05:40:...|      cart|   1004873|2053013555631882655|electronics.smart...|samsung| 378.93|513877997|6ad6470e-6e89-440...|\n",
      "|2019-10-11 05:40:...|      view|   1005102|2053013555631882655|electronics.smart...| xiaomi| 433.71|524713891|c5a104f6-f5ed-4f1...|\n",
      "+--------------------+----------+----------+-------------------+--------------------+-------+-------+---------+--------------------+\n",
      "only showing top 5 rows\n",
      "\n"
     ]
    }
   ],
   "source": [
    "df_parq.show(5)"
   ]
  },
  {
   "cell_type": "markdown",
   "metadata": {},
   "source": [
    "<hr>"
   ]
  },
  {
   "cell_type": "markdown",
   "metadata": {},
   "source": [
    "## Task 1 - Data Exploration\n",
    "\n",
    "**Find**\n",
    "- 5 most popular:\n",
    "    - Products sold by the e-commerce company in the month\n",
    "    - Brands on the platform\n",
    "    - Product categories\n",
    "- Number of unique users and the most active user on the platform\n",
    "- Average and maximum price for smartphones purchased by the customers\n",
    "<br>\n",
    "\n",
    "**Plot and comment**\n",
    "- Event-type funnel distribution in e-commerce shopping journey\n",
    "- Traffic on different days of the week\n",
    "\n",
    "Provide the results in a separate report."
   ]
  },
  {
   "cell_type": "code",
   "execution_count": 16,
   "metadata": {},
   "outputs": [],
   "source": [
    "#changing price column to integer type\n",
    "df_parq=df_parq.withColumn(\"price\",df_parq[\"price\"].cast(IntegerType()))"
   ]
  },
  {
   "cell_type": "code",
   "execution_count": 17,
   "metadata": {
    "scrolled": true
   },
   "outputs": [
    {
     "name": "stdout",
     "output_type": "stream",
     "text": [
      "+----------+-----+\n",
      "|product_id|count|\n",
      "+----------+-----+\n",
      "|   1004856|28944|\n",
      "|   1004767|21806|\n",
      "|   1004833|12697|\n",
      "|   1005115|12543|\n",
      "|   4804056|12381|\n",
      "+----------+-----+\n",
      "only showing top 5 rows\n",
      "\n"
     ]
    }
   ],
   "source": [
    "# 5 most popular products sold\n",
    "df_parq.filter(df_parq.event_type == 'purchase').groupBy(\"product_id\").count().orderBy(\"count\", ascending = False).show(5)"
   ]
  },
  {
   "cell_type": "code",
   "execution_count": 18,
   "metadata": {},
   "outputs": [
    {
     "name": "stdout",
     "output_type": "stream",
     "text": [
      "+--------------------+--------+\n",
      "|       category_code|   count|\n",
      "+--------------------+--------+\n",
      "|                null|13515609|\n",
      "|electronics.smart...|11507231|\n",
      "|  electronics.clocks| 1311033|\n",
      "|  computers.notebook| 1137623|\n",
      "|electronics.video.tv| 1113750|\n",
      "+--------------------+--------+\n",
      "only showing top 5 rows\n",
      "\n"
     ]
    }
   ],
   "source": [
    "# 5 most product categories sold\n",
    "df_parq.groupBy('category_code').count().orderBy('count', ascending= False).show(5)"
   ]
  },
  {
   "cell_type": "code",
   "execution_count": 19,
   "metadata": {},
   "outputs": [
    {
     "name": "stdout",
     "output_type": "stream",
     "text": [
      "+-------+-------+\n",
      "|  brand|  count|\n",
      "+-------+-------+\n",
      "|   null|6113008|\n",
      "|samsung|5282775|\n",
      "|  apple|4122554|\n",
      "| xiaomi|3083763|\n",
      "| huawei|1111205|\n",
      "+-------+-------+\n",
      "only showing top 5 rows\n",
      "\n"
     ]
    }
   ],
   "source": [
    "# 5 most popular brands\n",
    "df_parq.groupBy('brand').count().orderBy('count', ascending= False).show(5)"
   ]
  },
  {
   "cell_type": "code",
   "execution_count": 20,
   "metadata": {
    "scrolled": true
   },
   "outputs": [
    {
     "name": "stdout",
     "output_type": "stream",
     "text": [
      "+-----------------------+\n",
      "|count(DISTINCT user_id)|\n",
      "+-----------------------+\n",
      "|                3022290|\n",
      "+-----------------------+\n",
      "\n"
     ]
    }
   ],
   "source": [
    "# Number of unique users\n",
    "df_parq.select(countDistinct(\"user_id\")).show()"
   ]
  },
  {
   "cell_type": "code",
   "execution_count": 21,
   "metadata": {
    "scrolled": true
   },
   "outputs": [
    {
     "name": "stdout",
     "output_type": "stream",
     "text": [
      "+---------+-----+\n",
      "|  user_id|count|\n",
      "+---------+-----+\n",
      "|512475445| 7436|\n",
      "+---------+-----+\n",
      "only showing top 1 row\n",
      "\n"
     ]
    }
   ],
   "source": [
    "# The most active user on the platform\n",
    "df_parq.groupBy('user_id').count().orderBy('count', ascending= False).show(1)"
   ]
  },
  {
   "cell_type": "code",
   "execution_count": 22,
   "metadata": {},
   "outputs": [
    {
     "data": {
      "text/plain": [
       "[Row(max(price)=2110)]"
      ]
     },
     "execution_count": 22,
     "metadata": {},
     "output_type": "execute_result"
    }
   ],
   "source": [
    "# Maximum price for smartphones purchased by the customers\n",
    "df_smartphone = df_parq[(df_parq['category_code'] == 'electronics.smartphone')]\n",
    "df_smartphone.agg({'price':'max'}).collect()"
   ]
  },
  {
   "cell_type": "code",
   "execution_count": 23,
   "metadata": {},
   "outputs": [
    {
     "data": {
      "text/plain": [
       "[Row(avg(price)=471.4504376422095)]"
      ]
     },
     "execution_count": 23,
     "metadata": {},
     "output_type": "execute_result"
    }
   ],
   "source": [
    "# Average price for smartphones purchased by the customers\n",
    "df_smartphone.agg({'price':'avg'}).collect()"
   ]
  },
  {
   "cell_type": "code",
   "execution_count": 24,
   "metadata": {},
   "outputs": [],
   "source": [
    "#from pyspark.sql.functions import to_timestamp\n",
    "from pyspark.sql.functions import to_timestamp, dayofweek, hour"
   ]
  },
  {
   "cell_type": "code",
   "execution_count": 25,
   "metadata": {},
   "outputs": [],
   "source": [
    "df_parq = df_parq.withColumn(\"Date_time\", to_timestamp('event_time', 'yyyy-MM-dd HH:mm:ss'))"
   ]
  },
  {
   "cell_type": "markdown",
   "metadata": {},
   "source": [
    " "
   ]
  },
  {
   "cell_type": "code",
   "execution_count": 26,
   "metadata": {},
   "outputs": [
    {
     "name": "stdout",
     "output_type": "stream",
     "text": [
      "  event_type     count\n",
      "0   purchase    742849\n",
      "1       view  40779399\n",
      "2       cart    926516\n"
     ]
    }
   ],
   "source": [
    "# Event-type funnel distribution\n",
    "# Remember Spark dataframe cannot be visualised directly\n",
    "event_df = df.groupBy('event_type').count().toPandas()\n",
    "print(event_df)"
   ]
  },
  {
   "cell_type": "code",
   "execution_count": 27,
   "metadata": {},
   "outputs": [
    {
     "data": {
      "text/plain": [
       "[('Date_time', 'timestamp')]"
      ]
     },
     "execution_count": 27,
     "metadata": {},
     "output_type": "execute_result"
    }
   ],
   "source": [
    "df_parq.select(\"Date_time\").dtypes"
   ]
  },
  {
   "cell_type": "code",
   "execution_count": 28,
   "metadata": {},
   "outputs": [],
   "source": [
    "# Traffic on different days of the week\n",
    "# Remember Spark dataframe cannot be visualised directly\n",
    "df_event_type_df= df_parq.groupBy('event_type').count().toPandas()"
   ]
  },
  {
   "cell_type": "code",
   "execution_count": 29,
   "metadata": {},
   "outputs": [
    {
     "data": {
      "text/plain": [
       "Text(0.5, 0, 'Event type')"
      ]
     },
     "execution_count": 29,
     "metadata": {},
     "output_type": "execute_result"
    },
    {
     "data": {
      "text/plain": [
       "<Figure size 1008x720 with 0 Axes>"
      ]
     },
     "metadata": {},
     "output_type": "display_data"
    },
    {
     "data": {
      "image/png": "[encoded data removed]",
      "text/plain": [
       "<Figure size 432x288 with 1 Axes>"
      ]
     },
     "metadata": {
      "needs_background": "light"
     },
     "output_type": "display_data"
    }
   ],
   "source": [
    "plt.figure(figsize=(14,10))\n",
    "df_event_type_df.plot(x= 'event_type', y ='count' , kind= 'bar')\n",
    "plt.title('Event type funnel Distribution')\n",
    "plt.ylabel('count')\n",
    "plt.xlabel('Event type')"
   ]
  },
  {
   "cell_type": "code",
   "execution_count": 30,
   "metadata": {},
   "outputs": [
    {
     "name": "stdout",
     "output_type": "stream",
     "text": [
      "+-----------+-------+\n",
      "|day_of_week|  count|\n",
      "+-----------+-------+\n",
      "|          1|5855995|\n",
      "|          6|5829660|\n",
      "|          3|6801885|\n",
      "|          5|6380367|\n",
      "|          4|6652532|\n",
      "|          7|5606796|\n",
      "|          2|5321529|\n",
      "+-----------+-------+\n",
      "\n"
     ]
    }
   ],
   "source": [
    "# Traffic on different days of the week\n",
    "# Remember Spark dataframe cannot be visualised directly\n",
    "df_parq=df_parq.withColumn('day_of_week', dayofweek(df_parq.Date_time))\n",
    "\n",
    "df_parq.groupBy('day_of_week').count().show()"
   ]
  },
  {
   "cell_type": "code",
   "execution_count": 31,
   "metadata": {},
   "outputs": [],
   "source": [
    "day_of_week_df= df_parq.groupBy('day_of_week').count().toPandas()"
   ]
  },
  {
   "cell_type": "code",
   "execution_count": 32,
   "metadata": {},
   "outputs": [
    {
     "data": {
      "text/plain": [
       "Text(0.5, 0, 'Day of week')"
      ]
     },
     "execution_count": 32,
     "metadata": {},
     "output_type": "execute_result"
    },
    {
     "data": {
      "text/plain": [
       "<Figure size 1008x720 with 0 Axes>"
      ]
     },
     "metadata": {},
     "output_type": "display_data"
    },
    {
     "data": {
      "image/png": "[encoded data removed]",
      "text/plain": [
       "<Figure size 432x288 with 1 Axes>"
      ]
     },
     "metadata": {
      "needs_background": "light"
     },
     "output_type": "display_data"
    }
   ],
   "source": [
    "plt.figure(figsize=(14,10))\n",
    "day_of_week_df.plot(x= 'day_of_week', y ='count' , kind= 'bar')\n",
    "plt.title('Traffic on different days of the week')\n",
    "plt.ylabel('count')\n",
    "plt.xlabel('Day of week')"
   ]
  },
  {
   "cell_type": "code",
   "execution_count": 33,
   "metadata": {},
   "outputs": [],
   "source": [
    "# drop redundant column(s), if any\n",
    "df_parq= df_parq.drop('event_time')"
   ]
  },
  {
   "cell_type": "code",
   "execution_count": 34,
   "metadata": {},
   "outputs": [
    {
     "name": "stdout",
     "output_type": "stream",
     "text": [
      "+----------+----------+-------------------+--------------------+-------+-----+---------+--------------------+-------------------+-----------+\n",
      "|event_type|product_id|        category_id|       category_code|  brand|price|  user_id|        user_session|          Date_time|day_of_week|\n",
      "+----------+----------+-------------------+--------------------+-------+-----+---------+--------------------+-------------------+-----------+\n",
      "|      view|   1005135|2053013555631882655|electronics.smart...|  apple| 1747|550180174|18776aab-5a2f-4e7...|2019-10-11 05:40:25|          6|\n",
      "|      view|   8500281|2053013552259662037|                null|  stark|  499|535408245|c16e7cd7-7c20-477...|2019-10-11 05:40:25|          6|\n",
      "|      view|   1004249|2053013555631882655|electronics.smart...|  apple|  746|531416893|faf3a9f4-4731-425...|2019-10-11 05:40:25|          6|\n",
      "|      cart|   1004873|2053013555631882655|electronics.smart...|samsung|  378|513877997|6ad6470e-6e89-440...|2019-10-11 05:40:25|          6|\n",
      "|      view|   1005102|2053013555631882655|electronics.smart...| xiaomi|  433|524713891|c5a104f6-f5ed-4f1...|2019-10-11 05:40:25|          6|\n",
      "+----------+----------+-------------------+--------------------+-------+-----+---------+--------------------+-------------------+-----------+\n",
      "only showing top 5 rows\n",
      "\n"
     ]
    }
   ],
   "source": [
    "df_parq.show(5)"
   ]
  },
  {
   "cell_type": "markdown",
   "metadata": {},
   "source": [
    "<hr>"
   ]
  },
  {
   "cell_type": "markdown",
   "metadata": {},
   "source": [
    "## Task 2 - Feature Engineering\n",
    "\n",
    "- Handle missing values (provide justification for approach)\n",
    "- Generate the category code at 2 levels (Split into 2 columns)\n",
    "    - Example: electronics.video.tv - electronics, video\n",
    "- Capture user activity in different columns\n",
    "    - Total activities (view/cart/etc.) in the session\n",
    "    - Affinity towards a particular product (Product count for user)\n",
    "    - Affinity towards a category (Secondary category count for user)\n",
    "    - Average shopping expense for a product category (secondary)\n",
    "    - Number of user sessions\n",
    "- Impact of time: Day and Hour (Binning hours into 4 buckets)\n",
    "- Reduction in brands for analysis: Top 20 + ‘others’\n",
    "- Target variable generation: is_purchased\n"
   ]
  },
  {
   "cell_type": "code",
   "execution_count": 35,
   "metadata": {},
   "outputs": [
    {
     "name": "stdout",
     "output_type": "stream",
     "text": [
      "+----------+----------+-----------+-------------+-------+-----+-------+------------+---------+-----------+\n",
      "|event_type|product_id|category_id|category_code|  brand|price|user_id|user_session|Date_time|day_of_week|\n",
      "+----------+----------+-----------+-------------+-------+-----+-------+------------+---------+-----------+\n",
      "|         0|         0|          0|     13515609|6113008|    0|      0|           2|        0|          0|\n",
      "+----------+----------+-----------+-------------+-------+-----+-------+------------+---------+-----------+\n",
      "\n"
     ]
    }
   ],
   "source": [
    "# Handling missing values \n",
    "from pyspark.sql.functions import when, count, col, isnull\n",
    "df_parq.select([count(when(isnull(c), c)).alias(c) for c in df_parq.columns]).show()"
   ]
  },
  {
   "cell_type": "code",
   "execution_count": 36,
   "metadata": {},
   "outputs": [],
   "source": [
    "#removing null values from category code\n",
    "df_parq=df_parq[(df_parq['category_code'] != 'null')]"
   ]
  },
  {
   "cell_type": "code",
   "execution_count": 37,
   "metadata": {},
   "outputs": [],
   "source": [
    "#removing none values from brand\n",
    "df_parq=df_parq[(df_parq['brand'] != 'None')]"
   ]
  },
  {
   "cell_type": "code",
   "execution_count": 38,
   "metadata": {},
   "outputs": [],
   "source": [
    "#dropping the rows with null values\n",
    "df_parq = df_parq.na.drop()"
   ]
  },
  {
   "cell_type": "markdown",
   "metadata": {},
   "source": [
    "Reason for the action performed:\n",
    "\n"
   ]
  },
  {
   "cell_type": "code",
   "execution_count": 39,
   "metadata": {},
   "outputs": [],
   "source": [
    "#dropping duplicate entries\n",
    "df_parq = df_parq.dropDuplicates(df_parq.columns)"
   ]
  },
  {
   "cell_type": "code",
   "execution_count": 40,
   "metadata": {},
   "outputs": [
    {
     "data": {
      "text/plain": [
       "[('event_type', 'string'),\n",
       " ('product_id', 'string'),\n",
       " ('category_id', 'string'),\n",
       " ('category_code', 'string'),\n",
       " ('brand', 'string'),\n",
       " ('price', 'int'),\n",
       " ('user_id', 'string'),\n",
       " ('user_session', 'string'),\n",
       " ('Date_time', 'timestamp'),\n",
       " ('day_of_week', 'int')]"
      ]
     },
     "execution_count": 40,
     "metadata": {},
     "output_type": "execute_result"
    }
   ],
   "source": [
    "df_parq.dtypes"
   ]
  },
  {
   "cell_type": "markdown",
   "metadata": {},
   "source": [
    " "
   ]
  },
  {
   "cell_type": "code",
   "execution_count": 41,
   "metadata": {},
   "outputs": [],
   "source": [
    "# Generating 2 columns from category code\n",
    "# Columns have only single entity (electronics.video.tv: electronics, video)\n",
    "# Check if split command works with '.' or Spark treats it as special character\n",
    "from pyspark.sql.functions import split\n"
   ]
  },
  {
   "cell_type": "code",
   "execution_count": 42,
   "metadata": {},
   "outputs": [],
   "source": [
    "df_parq= df_parq.withColumn(\"category1\", split(col(\"category_code\"),\"\\.\").getItem(0)) \\\n",
    ".withColumn(\"category2\", split(col(\"category_code\"),\"\\.\").getItem(1)) \\\n",
    ".drop('category_code')"
   ]
  },
  {
   "cell_type": "code",
   "execution_count": 43,
   "metadata": {},
   "outputs": [
    {
     "data": {
      "text/plain": [
       "['event_type',\n",
       " 'product_id',\n",
       " 'category_id',\n",
       " 'brand',\n",
       " 'price',\n",
       " 'user_id',\n",
       " 'user_session',\n",
       " 'Date_time',\n",
       " 'day_of_week',\n",
       " 'category1',\n",
       " 'category2']"
      ]
     },
     "execution_count": 43,
     "metadata": {},
     "output_type": "execute_result"
    }
   ],
   "source": [
    "# Check if the column is added\n",
    "df_parq.columns"
   ]
  },
  {
   "cell_type": "code",
   "execution_count": 44,
   "metadata": {},
   "outputs": [],
   "source": [
    "from pyspark.sql.window import Window\n",
    "from pyspark.sql.functions import row_number\n",
    "from pyspark.sql.functions import udf, lit\n",
    "from pyspark.sql.functions import collect_list, collect_set\n",
    "from pyspark.sql import functions as func"
   ]
  },
  {
   "cell_type": "markdown",
   "metadata": {},
   "source": [
    " "
   ]
  },
  {
   "cell_type": "code",
   "execution_count": 45,
   "metadata": {},
   "outputs": [],
   "source": [
    "# Activities in a session by the user\n",
    "# Window functions can be helpful here\n",
    "\n",
    "df_parq =df_parq.withColumn('activity_indicator', lit(1))\n",
    "\n",
    "windowval1 = Window.partitionBy('user_id', 'user_session')\n",
    "\n",
    "df_parq = df_parq.withColumn('activity_countval', func.sum('activity_indicator').over(windowval1))\n",
    "\n",
    "df_parq = df_parq.drop('activity_indicator')\n",
    "\n",
    "interesting_columns = ['user_id', 'product_id', 'price', 'activity_countval']"
   ]
  },
  {
   "cell_type": "code",
   "execution_count": 46,
   "metadata": {},
   "outputs": [],
   "source": [
    "# View count for a product by the user\n",
    "# Window functions can be helpful here\n",
    "\n",
    "from pyspark.sql.types import FloatType, IntegerType\n",
    "\n",
    "product_view_indicators = udf(lambda c: 1 if c == 'view' else 0, IntegerType())\n",
    "\n",
    "df_parq =df_parq.withColumn('product_view_indication', product_view_indicators('event_type'))\n",
    "\n",
    "windowval1= Window.partitionBy('user_id', 'product_id')\n",
    "\n",
    "df_parq = df_parq.withColumn('product_view_counts', func.sum('product_view_indication').over(windowval1))\n",
    "\n",
    "df_parq = df_parq.drop('product_view_indication')\n",
    "\n",
    "interesting_columns += ['product_view_counts']"
   ]
  },
  {
   "cell_type": "code",
   "execution_count": 47,
   "metadata": {},
   "outputs": [],
   "source": [
    "# View count for the secondary category by the user\n",
    "# Window functions can be helpful here\n",
    "\n",
    "from pyspark.sql.types import FloatType, IntegerType\n",
    "\n",
    "category2_view_indicators = udf(lambda c: 1 if c == 'view' else 0, IntegerType())\n",
    "\n",
    "df_parq =df_parq.withColumn('category2_indication', category2_view_indicators('event_type'))\n",
    "\n",
    "windowval1= Window.partitionBy('user_id', 'category2')\n",
    "\n",
    "df_parq = df_parq.withColumn('category2_view_counts', func.sum('category2_indication').over(windowval1))\n",
    "\n",
    "df_parq = df_parq.drop('category2_indication')\n",
    "\n",
    "interesting_columns += ['category2_view_counts']"
   ]
  },
  {
   "cell_type": "code",
   "execution_count": 48,
   "metadata": {},
   "outputs": [],
   "source": [
    "# Average shopping expense for a product category\n",
    "# Window functions can be helpful here\n",
    "\n",
    "purchase_indicator = udf(lambda c: 1 if c== 'purchase' else 0, IntegerType())\n",
    "\n",
    "df_parq=df_parq.withColumn('purchase_indications', purchase_indicator('event_type'))\n",
    "\n",
    "df_parq=df_parq.withColumn('purchase_price', df_parq.purchase_indications*df_parq.price)\n",
    "\n",
    "Windowval1= Window.partitionBy('user_id', 'category2')\n",
    "\n",
    "df_parq=df_parq.withColumn('total_shopping_expense', func.sum('purchase_price').over(windowval1))\n",
    "\n",
    "df_parq=df_parq.withColumn('total_purchase_count', func.sum('purchase_indications').over(windowval1))\n",
    "\n",
    "df_parq=df_parq.withColumn('average_shopping_expense', df_parq.total_shopping_expense / df_parq.total_purchase_count)\n",
    "\n",
    "df_parq.drop('total_shopping_expense','purchase_price')\n",
    "\n",
    "interesting_columns += ['average_shopping_expense']"
   ]
  },
  {
   "cell_type": "code",
   "execution_count": 49,
   "metadata": {},
   "outputs": [],
   "source": [
    "# Session count for a user\n",
    "# Window functions can be helpful here\n",
    "\n",
    "df_parq=df_parq.withColumn('session_indications', lit(1))\n",
    "\n",
    "windowval1 = Window.partitionBy('user_id')\n",
    "\n",
    "df_parq=df_parq.withColumn('session_counts', func.sum('session_indications').over(windowval1))\n",
    "\n",
    "df_parq = df_parq.drop('session_indications')\n",
    "\n",
    "interesting_columns += ['session_counts']"
   ]
  },
  {
   "cell_type": "markdown",
   "metadata": {},
   "source": [
    " "
   ]
  },
  {
   "cell_type": "code",
   "execution_count": 50,
   "metadata": {},
   "outputs": [],
   "source": [
    "# Generating the hour variable\n",
    "from pyspark.sql.functions import to_timestamp, dayofweek, hour\n",
    "\n",
    "from pyspark.sql.functions import col, avg\n",
    "\n",
    "df_parq = df_parq.withColumn(\"hour\", hour(col(\"Date_Time\")))"
   ]
  },
  {
   "cell_type": "code",
   "execution_count": 51,
   "metadata": {},
   "outputs": [
    {
     "name": "stdout",
     "output_type": "stream",
     "text": [
      "Bucketizer output with 4 buckets\n"
     ]
    }
   ],
   "source": [
    "from pyspark.ml.feature import Bucketizer\n",
    "\n",
    "splits = [0, 6, 12, 18, 24]\n",
    "\n",
    "bucketizer = Bucketizer(splits=splits, inputCol=\"hour\", outputCol=\"binnedhour\")\n",
    "\n",
    "df_parq = bucketizer.transform(df_parq)\n",
    "\n",
    "print(\"Bucketizer output with %d buckets\" % (len(bucketizer.getSplits())-1))"
   ]
  },
  {
   "cell_type": "markdown",
   "metadata": {},
   "source": [
    " "
   ]
  },
  {
   "cell_type": "code",
   "execution_count": 52,
   "metadata": {},
   "outputs": [],
   "source": [
    "# Reduction in brands for analysis: Top 20 + ‘others'\n",
    "top_20_brands = df_parq.groupBy(\"brand\").count().orderBy(\"count\", ascending = False).select('brand').toPandas()"
   ]
  },
  {
   "cell_type": "code",
   "execution_count": 53,
   "metadata": {},
   "outputs": [
    {
     "data": {
      "text/plain": [
       "['samsung',\n",
       " 'apple',\n",
       " 'xiaomi',\n",
       " 'huawei',\n",
       " 'lg',\n",
       " 'oppo',\n",
       " 'acer',\n",
       " 'lenovo',\n",
       " 'bosch',\n",
       " 'hp',\n",
       " 'indesit',\n",
       " 'respect',\n",
       " 'casio',\n",
       " 'artel',\n",
       " 'sony',\n",
       " 'elenberg',\n",
       " 'asus',\n",
       " 'beko',\n",
       " 'haier',\n",
       " 'pioneer']"
      ]
     },
     "execution_count": 53,
     "metadata": {},
     "output_type": "execute_result"
    }
   ],
   "source": [
    "top_20_brands =list(top_20_brands.brand[:20])\n",
    "top_20_brands"
   ]
  },
  {
   "cell_type": "code",
   "execution_count": 54,
   "metadata": {},
   "outputs": [],
   "source": [
    "from pyspark.sql.window import Window\n",
    "from pyspark.sql.functions import row_number\n",
    "from pyspark.sql.functions import udf\n",
    "\n",
    "brand_indicators = udf(lambda c:c if c in top_20_brands else 'others')\n",
    "\n",
    "df_parq = df_parq.withColumn('brand_new', brand_indicators('brand'))\n",
    "\n",
    "df_parq = df_parq.drop('brand')\n",
    "interesting_columns += ['brand_new']"
   ]
  },
  {
   "cell_type": "code",
   "execution_count": 55,
   "metadata": {},
   "outputs": [],
   "source": [
    "# Generating 'is_purchased' variable\n",
    "from pyspark.sql.window import Window\n",
    "from pyspark.sql.functions import row_number\n",
    "from pyspark.sql.functions import udf\n",
    "from pyspark.sql.types import FloatType, IntegerType\n",
    "import pyspark.sql.functions as f\n",
    "\n",
    "df_parq = df_parq.withColumn('is_purchased', f.when(df_parq['event_type']=='purchase',1).otherwise(0))\n",
    "\n",
    "w = Window.partitionBy(\"user_id\",\"product_id\")\n",
    "\n",
    "df_parq = df_parq.withColumn(\"label\", f.max(\"is_purchased\").over(w))\n",
    "\n",
    "interesting_columns += ['label']"
   ]
  },
  {
   "cell_type": "markdown",
   "metadata": {},
   "source": [
    " "
   ]
  },
  {
   "cell_type": "code",
   "execution_count": 56,
   "metadata": {},
   "outputs": [],
   "source": [
    "# Generating 'is_purchased' variable\n",
    "from pyspark.sql.window import Window\n",
    "from pyspark.sql.functions import row_number\n",
    "from pyspark.sql.functions import udf\n",
    "from pyspark.sql.types import FloatType, IntegerType\n",
    "import pyspark.sql.functions as f\n",
    "\n",
    "df_parq = df_parq.withColumn('is_purchased', f.when(df_parq['event_type']=='purchase',1).otherwise(0))\n",
    "\n",
    "w = Window.partitionBy(\"user_id\",\"product_id\")\n",
    "\n",
    "df_parq = df_parq.withColumn(\"label\", f.max(\"is_purchased\").over(w))\n",
    "\n",
    "interesting_columns += ['label']"
   ]
  },
  {
   "cell_type": "code",
   "execution_count": 57,
   "metadata": {},
   "outputs": [
    {
     "data": {
      "text/plain": [
       "['event_type',\n",
       " 'product_id',\n",
       " 'category_id',\n",
       " 'price',\n",
       " 'user_id',\n",
       " 'user_session',\n",
       " 'Date_time',\n",
       " 'day_of_week',\n",
       " 'category1',\n",
       " 'category2',\n",
       " 'activity_countval',\n",
       " 'product_view_counts',\n",
       " 'category2_view_counts',\n",
       " 'purchase_indications',\n",
       " 'purchase_price',\n",
       " 'total_shopping_expense',\n",
       " 'total_purchase_count',\n",
       " 'average_shopping_expense',\n",
       " 'session_counts',\n",
       " 'hour',\n",
       " 'binnedhour',\n",
       " 'brand_new',\n",
       " 'is_purchased',\n",
       " 'label']"
      ]
     },
     "execution_count": 57,
     "metadata": {},
     "output_type": "execute_result"
    }
   ],
   "source": [
    "df_parq.columns"
   ]
  },
  {
   "cell_type": "code",
   "execution_count": 58,
   "metadata": {},
   "outputs": [],
   "source": [
    "# Dropping redundant columns\n",
    "df_parq=df_parq.drop('user_session', 'Date_time', 'category_id', 'purchase_price',\n",
    " 'total_shopping_expense', 'hour', 'user_id', 'product_id', 'purchase_indications', 'total_purchase_count')"
   ]
  },
  {
   "cell_type": "code",
   "execution_count": 59,
   "metadata": {},
   "outputs": [
    {
     "data": {
      "text/plain": [
       "['event_type',\n",
       " 'price',\n",
       " 'day_of_week',\n",
       " 'category1',\n",
       " 'category2',\n",
       " 'activity_countval',\n",
       " 'product_view_counts',\n",
       " 'category2_view_counts',\n",
       " 'average_shopping_expense',\n",
       " 'session_counts',\n",
       " 'binnedhour',\n",
       " 'brand_new',\n",
       " 'is_purchased',\n",
       " 'label']"
      ]
     },
     "execution_count": 59,
     "metadata": {},
     "output_type": "execute_result"
    }
   ],
   "source": [
    "df_parq.columns"
   ]
  },
  {
   "cell_type": "code",
   "execution_count": 60,
   "metadata": {},
   "outputs": [
    {
     "name": "stdout",
     "output_type": "stream",
     "text": [
      "+----------+-----+-----------+------------+-----------+-----------------+-------------------+---------------------+------------------------+--------------+----------+---------+------------+-----+\n",
      "|event_type|price|day_of_week|   category1|  category2|activity_countval|product_view_counts|category2_view_counts|average_shopping_expense|session_counts|binnedhour|brand_new|is_purchased|label|\n",
      "+----------+-----+-----------+------------+-----------+-----------------+-------------------+---------------------+------------------------+--------------+----------+---------+------------+-----+\n",
      "|      view|  111|          6|   furniture|living_room|                4|                  2|                    4|                    null|             4|       2.0|   others|           0|    0|\n",
      "|      view|  111|          6|   furniture|living_room|                4|                  2|                    4|                    null|             4|       2.0|   others|           0|    0|\n",
      "|      view|  275|          2| electronics|      audio|               11|                  1|                   11|                    null|            11|       2.0|   others|           0|    0|\n",
      "|      view|  272|          3|  appliances|    kitchen|               15|                  2|                   41|                    null|            59|       2.0|  indesit|           0|    0|\n",
      "|      view|  272|          3|  appliances|    kitchen|               15|                  2|                   41|                    null|            59|       2.0|  indesit|           0|    0|\n",
      "|      view|   68|          7|     apparel|      shoes|               10|                  1|                   13|                    null|            15|       2.0|   others|           0|    0|\n",
      "|      view|  108|          3| electronics|      audio|               11|                  1|                   11|                    null|            18|       2.0|   others|           0|    0|\n",
      "|      view|   64|          1|     apparel|      shoes|                3|                  4|                    4|                    null|             4|       0.0|   others|           0|    0|\n",
      "|      view|   64|          1|     apparel|      shoes|                3|                  4|                    4|                    null|             4|       0.0|   others|           0|    0|\n",
      "|      view|   64|          1|     apparel|      shoes|                3|                  4|                    4|                    null|             4|       0.0|   others|           0|    0|\n",
      "|      view|   64|          1|     apparel|      shoes|                1|                  4|                    4|                    null|             4|       0.0|   others|           0|    0|\n",
      "|      view|  192|          2|construction|      tools|               12|                  1|                   14|                    null|            14|       2.0|   others|           0|    0|\n",
      "|      view| 1208|          1| electronics| smartphone|                1|                  1|                    1|                    null|             5|       3.0|    apple|           0|    0|\n",
      "|      view|  102|          6|   computers| components|               20|                  1|                   11|                    null|            64|       2.0|     asus|           0|    0|\n",
      "|      view|  175|          6|   computers|peripherals|                2|                  2|                    2|                    null|             2|       2.0|   others|           0|    0|\n",
      "|      view|  175|          6|   computers|peripherals|                2|                  2|                    2|                    null|             2|       2.0|   others|           0|    0|\n",
      "|      view|  174|          6| electronics|      audio|                3|                  3|                    3|                    null|             3|       2.0|    apple|           0|    0|\n",
      "|      view|  174|          6| electronics|      audio|                3|                  3|                    3|                    null|             3|       2.0|    apple|           0|    0|\n",
      "|      view|  174|          6| electronics|      audio|                3|                  3|                    3|                    null|             3|       2.0|    apple|           0|    0|\n",
      "|      view|   38|          6| electronics|     clocks|                8|                  2|                    8|                    null|            34|       1.0|   others|           0|    0|\n",
      "+----------+-----+-----------+------------+-----------+-----------------+-------------------+---------------------+------------------------+--------------+----------+---------+------------+-----+\n",
      "only showing top 20 rows\n",
      "\n"
     ]
    }
   ],
   "source": [
    "# Printing the top 20 rows as output\n",
    "df_parq.show(20)"
   ]
  },
  {
   "cell_type": "code",
   "execution_count": 61,
   "metadata": {},
   "outputs": [],
   "source": [
    "os.environ['HADOOP_HOME'] = \"/home/ec2-user/spark-2.4.4-bin-hadoop2.7\"\n",
    "sys.path.append(\"/home/ec2-user/spark-2.4.4-bin-hadoop2.7/bin\")"
   ]
  },
  {
   "cell_type": "code",
   "execution_count": 62,
   "metadata": {
    "scrolled": false
   },
   "outputs": [],
   "source": [
    "# Columns in df after feature engineering\n",
    "df_parq =df_parq.dropDuplicates(df_parq.columns)"
   ]
  },
  {
   "cell_type": "code",
   "execution_count": 63,
   "metadata": {},
   "outputs": [],
   "source": [
    "# Storing the cleaned df in the instance to prevent repetition of steps again\n",
    "# Rename the file based on your preferences\n",
    "df_parq.coalesce(1).write.format(\"csv\").mode(\"overwrite\").save(\"df_updated2\")"
   ]
  },
  {
   "cell_type": "markdown",
   "metadata": {},
   "source": [
    "Proceed to another notebooks after saving the dataframe."
   ]
  }
 ],
 "metadata": {
  "kernelspec": {
   "display_name": "Python 3",
   "language": "python",
   "name": "python3"
  },
  "language_info": {
   "codemirror_mode": {
    "name": "ipython",
    "version": 3
   },
   "file_extension": ".py",
   "mimetype": "text/x-python",
   "name": "python",
   "nbconvert_exporter": "python",
   "pygments_lexer": "ipython3",
   "version": "3.7.9"
  }
 },
 "nbformat": 4,
 "nbformat_minor": 4
}
