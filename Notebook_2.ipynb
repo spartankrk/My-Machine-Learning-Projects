{
 "cells": [
  {
   "cell_type": "code",
   "execution_count": 2,
   "metadata": {},
   "outputs": [],
   "source": [
    "# Setting the environment variables\n",
    "import os\n",
    "import sys\n",
    "import pandas as pd\n",
    "import numpy as np\n",
    "os.environ[\"PYSPARK_PYTHON\"]=\"/usr/bin/python3\"\n",
    "os.environ[\"PYSPARK_DRIVER_PYTHON\"]=\"/usr/bin/python3\"\n",
    "os.environ[\"PYSPARK_DRIVER_PYTHON_OPTS\"]=\"notebook --no-browser\"\n",
    "os.environ[\"JAVA_HOME\"] = \"/usr/java/jdk1.8.0_161/jre\"\n",
    "os.environ[\"SPARK_HOME\"] = \"/home/ec2-user/spark-2.4.4-bin-hadoop2.7\"\n",
    "os.environ[\"PYLIB\"] = os.environ[\"SPARK_HOME\"] + \"/python/lib\"\n",
    "sys.path.insert(0, os.environ[\"PYLIB\"] + \"/py4j-0.10.7-src.zip\")\n",
    "sys.path.insert(0, os.environ[\"PYLIB\"] + \"/pyspark.zip\")"
   ]
  },
  {
   "cell_type": "markdown",
   "metadata": {},
   "source": [
    "# Ecommerce Churn Assignment"
   ]
  },
  {
   "cell_type": "markdown",
   "metadata": {},
   "source": [
    "The aim of the assignment is to build a model that predicts whether a person purchases an item after it has been added to the cart or not. Being a classification problem, you are expected to use your understanding of all the three models covered till now. You must select the most robust model and provide a solution that predicts the churn in the most suitable manner. \n",
    "\n",
    "For this assignment, you are provided the data associated with an e-commerce company for the month of October 2019. Your task is to first analyse the data, and then perform multiple steps towards the model building process.\n",
    "\n",
    "The broad tasks are:\n",
    "- Data Exploration\n",
    "- Feature Engineering\n",
    "- Model Selection\n",
    "- Model Inference"
   ]
  },
  {
   "cell_type": "markdown",
   "metadata": {},
   "source": [
    "### Data description"
   ]
  },
  {
   "cell_type": "markdown",
   "metadata": {},
   "source": [
    "The dataset stores the information of a customer session on the e-commerce platform. It records the activity and the associated parameters with it.\n",
    "\n",
    "- **event_time**: Date and time when user accesses the platform\n",
    "- **event_type**: Action performed by the customer\n",
    "            - View\n",
    "            - Cart\n",
    "            - Purchase\n",
    "            - Remove from cart\n",
    "- **product_id**: Unique number to identify the product in the event\n",
    "- **category_id**: Unique number to identify the category of the product\n",
    "- **category_code**: Stores primary and secondary categories of the product\n",
    "- **brand**: Brand associated with the product\n",
    "- **price**: Price of the product\n",
    "- **user_id**: Unique ID for a customer\n",
    "- **user_session**: Session ID for a user\n"
   ]
  },
  {
   "cell_type": "markdown",
   "metadata": {},
   "source": [
    "### Initialising the SparkSession"
   ]
  },
  {
   "cell_type": "markdown",
   "metadata": {},
   "source": [
    "The dataset provided is 5 GBs in size. Therefore, it is expected that you increase the driver memory to a greater number. You can refer to notebook 1 for the steps involved here."
   ]
  },
  {
   "cell_type": "code",
   "execution_count": 3,
   "metadata": {},
   "outputs": [],
   "source": [
    "# Loading the clean data\n",
    "from pyspark import SparkConf\n",
    "from pyspark.sql import SparkSession\n",
    "from pyspark.sql.functions import countDistinct ,col, avg, mean, isnan, when, count, col, to_timestamp\n",
    "from pyspark.sql.types import IntegerType"
   ]
  },
  {
   "cell_type": "code",
   "execution_count": 4,
   "metadata": {},
   "outputs": [
    {
     "data": {
      "text/html": [
       "\n",
       "            <div>\n",
       "                <p><b>SparkSession - in-memory</b></p>\n",
       "                \n",
       "        <div>\n",
       "            <p><b>SparkContext</b></p>\n",
       "\n",
       "            <p><a href=\"http://ip-172-31-63-36.ec2.internal:4040\">Spark UI</a></p>\n",
       "\n",
       "            <dl>\n",
       "              <dt>Version</dt>\n",
       "                <dd><code>v2.4.4</code></dd>\n",
       "              <dt>Master</dt>\n",
       "                <dd><code>local[*]</code></dd>\n",
       "              <dt>AppName</dt>\n",
       "                <dd><code>demo</code></dd>\n",
       "            </dl>\n",
       "        </div>\n",
       "        \n",
       "            </div>\n",
       "        "
      ],
      "text/plain": [
       "<pyspark.sql.session.SparkSession at 0x7fa584c17810>"
      ]
     },
     "execution_count": 4,
     "metadata": {},
     "output_type": "execute_result"
    }
   ],
   "source": [
    "# initialising the session with 14 GB driver memory\n",
    "MAX_MEMORY = \"14G\"\n",
    "\n",
    "spark = SparkSession \\\n",
    "    .builder \\\n",
    "    .appName(\"demo\") \\\n",
    "    .config(\"spark.driver.memory\", MAX_MEMORY) \\\n",
    "    .getOrCreate()\n",
    "\n",
    "spark"
   ]
  },
  {
   "cell_type": "code",
   "execution_count": 5,
   "metadata": {},
   "outputs": [],
   "source": [
    "#Reading the previously stored CSV file\n",
    "df_lr = spark.read.csv('/home/ec2-user/df_updated2', header= False, inferSchema= True)"
   ]
  },
  {
   "cell_type": "code",
   "execution_count": 6,
   "metadata": {},
   "outputs": [
    {
     "name": "stdout",
     "output_type": "stream",
     "text": [
      "+--------+---+---+-----------+-----------+---+---+---+-----+---+----+-------+----+----+\n",
      "|     _c0|_c1|_c2|        _c3|        _c4|_c5|_c6|_c7|  _c8|_c9|_c10|   _c11|_c12|_c13|\n",
      "+--------+---+---+-----------+-----------+---+---+---+-----+---+----+-------+----+----+\n",
      "|    view|540|  6|electronics| smartphone| 35|  1| 35| null| 35| 3.0| huawei|   0|   0|\n",
      "|    view|114|  5| appliances|environment|  1|  1|  1| null|  4| 0.0| others|   0|   0|\n",
      "|    view| 39|  3|electronics|     clocks|  2|  2|  2| null|  2| 3.0|  casio|   0|   0|\n",
      "|    view|167|  6|electronics|      audio|  2|  2|  2| null| 14| 2.0| others|   0|   0|\n",
      "|    view|161|  6|electronics|      audio| 12|  1|  1| null|121| 2.0|  apple|   0|   0|\n",
      "|    view|437|  4|  computers| components|  4|  1| 29| null| 85| 2.0| others|   0|   0|\n",
      "|    view| 45|  5|    apparel|      shoes| 11|  2| 11| null|330| 0.0| others|   0|   0|\n",
      "|    view|243|  3|electronics| smartphone|  2|  1|  2| null|  2| 1.0|samsung|   0|   0|\n",
      "|    view|146|  2|electronics|      audio|  3|  2| 30| null| 74| 1.0| others|   0|   0|\n",
      "|    view|582|  4|electronics| smartphone|  1| 13| 50| null|157| 1.0|  apple|   0|   0|\n",
      "|    view|250|  6|electronics| smartphone|  2|  1| 37| null|118| 2.0|samsung|   0|   0|\n",
      "|    view|131|  4|electronics| smartphone|  3|  2|  2| null| 33| 2.0|samsung|   0|   0|\n",
      "|purchase|179|  2|electronics| smartphone|  4|  4|  4|192.0|  7| 2.0|   sony|   1|   1|\n",
      "|    view|115|  3| appliances|    kitchen| 37|  1| 45| null| 50| 2.0| others|   0|   0|\n",
      "|    view|720|  5|  computers|   notebook| 51|  1| 63| null|134| 3.0| lenovo|   0|   0|\n",
      "+--------+---+---+-----------+-----------+---+---+---+-----+---+----+-------+----+----+\n",
      "only showing top 15 rows\n",
      "\n"
     ]
    }
   ],
   "source": [
    "df_lr.show(15)"
   ]
  },
  {
   "cell_type": "code",
   "execution_count": 7,
   "metadata": {},
   "outputs": [
    {
     "name": "stdout",
     "output_type": "stream",
     "text": [
      "root\n",
      " |-- _c0: string (nullable = true)\n",
      " |-- _c1: integer (nullable = true)\n",
      " |-- _c2: integer (nullable = true)\n",
      " |-- _c3: string (nullable = true)\n",
      " |-- _c4: string (nullable = true)\n",
      " |-- _c5: integer (nullable = true)\n",
      " |-- _c6: integer (nullable = true)\n",
      " |-- _c7: integer (nullable = true)\n",
      " |-- _c8: double (nullable = true)\n",
      " |-- _c9: integer (nullable = true)\n",
      " |-- _c10: double (nullable = true)\n",
      " |-- _c11: string (nullable = true)\n",
      " |-- _c12: integer (nullable = true)\n",
      " |-- _c13: integer (nullable = true)\n",
      "\n"
     ]
    }
   ],
   "source": [
    "df_lr.printSchema()"
   ]
  },
  {
   "cell_type": "code",
   "execution_count": 8,
   "metadata": {},
   "outputs": [],
   "source": [
    "#Dropping all null values\n",
    "df_lr=df_lr.na.drop()"
   ]
  },
  {
   "cell_type": "code",
   "execution_count": 10,
   "metadata": {},
   "outputs": [],
   "source": [
    "#Renaming the column names in line with the updates\n",
    "df_lr = df_lr.select(col(\"_c0\").alias(\"event_type\"), col(\"_c1\").alias(\"price\"), col(\"_c2\").alias(\"day_of_week\"), col(\"_c3\").alias(\"category1\"), col(\"_c4\").alias(\"category2\"), col(\"_c5\").alias(\"activity_countval\"), col(\"_c6\").alias(\"product_view_counts\"), col(\"_c7\").alias(\"category2_view_counts\"), col(\"_c8\").alias(\"average_shopping_expense\"), col(\"_c9\").alias(\"session_counts\"), col(\"_c10\").alias(\"binnedhour\"), col(\"_c11\").alias(\"brand_new\"), col(\"_c12\").alias(\"is_purchased\"), col(\"_c13\").alias(\"label\"))"
   ]
  },
  {
   "cell_type": "code",
   "execution_count": 11,
   "metadata": {},
   "outputs": [
    {
     "name": "stdout",
     "output_type": "stream",
     "text": [
      "+----------+-----+-----------+-----------+-----------+-----------------+-------------------+---------------------+------------------------+--------------+----------+---------+------------+-----+\n",
      "|event_type|price|day_of_week|  category1|  category2|activity_countval|product_view_counts|category2_view_counts|average_shopping_expense|session_counts|binnedhour|brand_new|is_purchased|label|\n",
      "+----------+-----+-----------+-----------+-----------+-----------------+-------------------+---------------------+------------------------+--------------+----------+---------+------------+-----+\n",
      "|  purchase|  179|          2|electronics| smartphone|                4|                  4|                    4|                   192.0|             7|       2.0|     sony|           1|    1|\n",
      "|      view|  197|          7|electronics| smartphone|               13|                  3|                  155|                  228.25|           231|       2.0|   xiaomi|           0|    0|\n",
      "|      view|  203|          5|electronics| smartphone|               35|                  6|                  147|                   215.0|           180|       2.0|   xiaomi|           0|    0|\n",
      "|      view|  378|          7| appliances|environment|                3|                  1|                   38|      114.66666666666667|            80|       1.0|    bosch|           0|    0|\n",
      "|      view|  345|          1|electronics|      audio|               16|                  1|                   22|                   327.0|            51|       1.0|   others|           0|    0|\n",
      "+----------+-----+-----------+-----------+-----------+-----------------+-------------------+---------------------+------------------------+--------------+----------+---------+------------+-----+\n",
      "only showing top 5 rows\n",
      "\n"
     ]
    }
   ],
   "source": [
    "df_lr.show(5)"
   ]
  },
  {
   "cell_type": "markdown",
   "metadata": {},
   "source": [
    "<hr>"
   ]
  },
  {
   "cell_type": "markdown",
   "metadata": {},
   "source": [
    "## Task 3: Model Selection\n",
    "3 models for classification:\t\n",
    "- Logistic Regression\n",
    "- Decision Tree\n",
    "- Random Forest"
   ]
  },
  {
   "cell_type": "markdown",
   "metadata": {},
   "source": [
    "### Model 1: Logistic Regression"
   ]
  },
  {
   "cell_type": "code",
   "execution_count": 13,
   "metadata": {},
   "outputs": [],
   "source": [
    "# Additional steps for Logistic regression - Feature selection, Correlation, etc.\n",
    "df_lr=df_lr.withColumn(\"is_purchased\",df_lr[\"is_purchased\"].cast(IntegerType()))"
   ]
  },
  {
   "cell_type": "code",
   "execution_count": 14,
   "metadata": {},
   "outputs": [],
   "source": [
    "import matplotlib.pyplot as plt\n",
    "import seaborn as sns\n",
    "%matplotlib inline"
   ]
  },
  {
   "cell_type": "markdown",
   "metadata": {},
   "source": [
    "#### Feature Transformation"
   ]
  },
  {
   "cell_type": "code",
   "execution_count": 15,
   "metadata": {},
   "outputs": [
    {
     "name": "stdout",
     "output_type": "stream",
     "text": [
      "+----------+-----+-----------+---------+---------+-----------------+-------------------+---------------------+------------------------+--------------+----------+---------+------------+-----+\n",
      "|event_type|price|day_of_week|category1|category2|activity_countval|product_view_counts|category2_view_counts|average_shopping_expense|session_counts|binnedhour|brand_new|is_purchased|label|\n",
      "+----------+-----+-----------+---------+---------+-----------------+-------------------+---------------------+------------------------+--------------+----------+---------+------------+-----+\n",
      "|         0|    0|          0|        0|        0|                0|                  0|                    0|                       0|             0|         0|        0|           0|    0|\n",
      "+----------+-----+-----------+---------+---------+-----------------+-------------------+---------------------+------------------------+--------------+----------+---------+------------+-----+\n",
      "\n"
     ]
    }
   ],
   "source": [
    "# Check if only the required columns are present to build the model\n",
    "# If not, drop the redundant columns\n",
    "from pyspark.sql.functions import when, count, col, isnull, isnan\n",
    "df_lr.select([count(when(isnan(c), c)).alias(c) for c in df_lr.columns]).show()"
   ]
  },
  {
   "cell_type": "code",
   "execution_count": 16,
   "metadata": {},
   "outputs": [
    {
     "name": "stdout",
     "output_type": "stream",
     "text": [
      "Defaulting to user installation because normal site-packages is not writeable\n",
      "Requirement already satisfied: xverse in ./.local/lib/python3.7/site-packages (1.0.5)\n",
      "Requirement already satisfied: statsmodels>=0.6.1 in ./.local/lib/python3.7/site-packages (from xverse) (0.12.2)\n",
      "Requirement already satisfied: scikit-learn>=0.19.0 in ./.local/lib/python3.7/site-packages (from xverse) (0.19.2)\n",
      "Requirement already satisfied: matplotlib>=3.0.3 in ./.local/lib/python3.7/site-packages (from xverse) (3.4.1)\n",
      "Requirement already satisfied: scipy>=0.19.0 in ./.local/lib/python3.7/site-packages (from xverse) (1.6.3)\n",
      "Requirement already satisfied: pandas>=0.21.1 in ./.local/lib/python3.7/site-packages (from xverse) (1.1.2)\n",
      "Requirement already satisfied: numpy>=1.11.3 in ./.local/lib/python3.7/site-packages (from xverse) (1.19.1)\n",
      "Requirement already satisfied: patsy>=0.5 in ./.local/lib/python3.7/site-packages (from statsmodels>=0.6.1->xverse) (0.5.1)\n",
      "Requirement already satisfied: kiwisolver>=1.0.1 in ./.local/lib/python3.7/site-packages (from matplotlib>=3.0.3->xverse) (1.3.1)\n",
      "Requirement already satisfied: pyparsing>=2.2.1 in ./.local/lib/python3.7/site-packages (from matplotlib>=3.0.3->xverse) (2.4.7)\n",
      "Requirement already satisfied: cycler>=0.10 in ./.local/lib/python3.7/site-packages (from matplotlib>=3.0.3->xverse) (0.10.0)\n",
      "Requirement already satisfied: pillow>=6.2.0 in ./.local/lib/python3.7/site-packages (from matplotlib>=3.0.3->xverse) (8.2.0)\n",
      "Requirement already satisfied: python-dateutil>=2.7 in ./.local/lib/python3.7/site-packages (from matplotlib>=3.0.3->xverse) (2.8.1)\n",
      "Requirement already satisfied: pytz>=2017.2 in ./.local/lib/python3.7/site-packages (from pandas>=0.21.1->xverse) (2020.1)\n",
      "Requirement already satisfied: six in ./.local/lib/python3.7/site-packages (from patsy>=0.5->statsmodels>=0.6.1->xverse) (1.15.0)\n"
     ]
    }
   ],
   "source": [
    "!pip3 install xverse"
   ]
  },
  {
   "cell_type": "code",
   "execution_count": 17,
   "metadata": {},
   "outputs": [
    {
     "name": "stdout",
     "output_type": "stream",
     "text": [
      "+----------+-------+\n",
      "|binnedhour|  count|\n",
      "+----------+-------+\n",
      "|       1.0|1445390|\n",
      "|       2.0|1260359|\n",
      "|       0.0| 705528|\n",
      "|       3.0| 391342|\n",
      "+----------+-------+\n",
      "\n"
     ]
    }
   ],
   "source": [
    "df_lr.groupBy('binnedhour').count().orderBy('count', ascending= False).show(5)"
   ]
  },
  {
   "cell_type": "code",
   "execution_count": 18,
   "metadata": {},
   "outputs": [
    {
     "data": {
      "text/plain": [
       "3802619"
      ]
     },
     "execution_count": 18,
     "metadata": {},
     "output_type": "execute_result"
    }
   ],
   "source": [
    "df_lr.count()"
   ]
  },
  {
   "cell_type": "code",
   "execution_count": 19,
   "metadata": {},
   "outputs": [
    {
     "name": "stdout",
     "output_type": "stream",
     "text": [
      "root\n",
      " |-- event_type: string (nullable = true)\n",
      " |-- price: integer (nullable = true)\n",
      " |-- day_of_week: integer (nullable = true)\n",
      " |-- category1: string (nullable = true)\n",
      " |-- category2: string (nullable = true)\n",
      " |-- activity_countval: integer (nullable = true)\n",
      " |-- product_view_counts: integer (nullable = true)\n",
      " |-- category2_view_counts: integer (nullable = true)\n",
      " |-- average_shopping_expense: double (nullable = true)\n",
      " |-- session_counts: integer (nullable = true)\n",
      " |-- binnedhour: double (nullable = true)\n",
      " |-- brand_new: string (nullable = true)\n",
      " |-- is_purchased: integer (nullable = true)\n",
      " |-- label: integer (nullable = true)\n",
      "\n"
     ]
    }
   ],
   "source": [
    "df_lr.printSchema()"
   ]
  },
  {
   "cell_type": "code",
   "execution_count": 20,
   "metadata": {},
   "outputs": [],
   "source": [
    "# Categorising the attributes into its type - Continuous and Categorical\n",
    "categorical_features=['brand_new','category2', 'day_of_week']\n",
    "continuous_features=['price', 'product_view_counts', 'category2_view_counts', 'average_shopping_expense', 'session_counts', 'activity_countval']\n",
    "output_label = 'is_purchased'"
   ]
  },
  {
   "cell_type": "code",
   "execution_count": 21,
   "metadata": {},
   "outputs": [],
   "source": [
    "# Feature transformation for categorical features\n",
    "#Using StringIndexer\n",
    "from pyspark.ml.feature import StringIndexer, OneHotEncoderEstimator, VectorAssembler "
   ]
  },
  {
   "cell_type": "code",
   "execution_count": 22,
   "metadata": {},
   "outputs": [],
   "source": [
    "stages=[]"
   ]
  },
  {
   "cell_type": "code",
   "execution_count": 23,
   "metadata": {},
   "outputs": [],
   "source": [
    "for categoricalCol in categorical_features:\n",
    "    stringIndexer=StringIndexer(inputCol=categoricalCol,outputCol=categoricalCol+'_index').setHandleInvalid(\"keep\")\n",
    "    encoder=OneHotEncoderEstimator(inputCols=[stringIndexer.getOutputCol()],outputCols=\\\n",
    "                                   [categoricalCol+\"_enc\"])\n",
    "    stages+=[stringIndexer,encoder]"
   ]
  },
  {
   "cell_type": "code",
   "execution_count": 24,
   "metadata": {},
   "outputs": [],
   "source": [
    "assemblerInputs=[col+\"_enc\" for col in categorical_features]+continuous_features\n",
    "assembler=VectorAssembler(inputCols=assemblerInputs,outputCol=\"features\")\n",
    "stages+=[assembler]"
   ]
  },
  {
   "cell_type": "code",
   "execution_count": 25,
   "metadata": {},
   "outputs": [],
   "source": [
    "# Vector assembler to combine all the features\n",
    "from pyspark.ml.feature import VectorAssembler\n",
    "from pyspark.ml import Pipeline\n",
    "pipeline=Pipeline(stages=stages)"
   ]
  },
  {
   "cell_type": "code",
   "execution_count": 27,
   "metadata": {},
   "outputs": [],
   "source": [
    "# Transforming the dataframe df\n",
    "df_lr_tf = pipeline.fit(df_lr).transform(df_lr)"
   ]
  },
  {
   "cell_type": "code",
   "execution_count": 28,
   "metadata": {},
   "outputs": [
    {
     "name": "stdout",
     "output_type": "stream",
     "text": [
      "root\n",
      " |-- event_type: string (nullable = true)\n",
      " |-- price: integer (nullable = true)\n",
      " |-- day_of_week: integer (nullable = true)\n",
      " |-- category1: string (nullable = true)\n",
      " |-- category2: string (nullable = true)\n",
      " |-- activity_countval: integer (nullable = true)\n",
      " |-- product_view_counts: integer (nullable = true)\n",
      " |-- category2_view_counts: integer (nullable = true)\n",
      " |-- average_shopping_expense: double (nullable = true)\n",
      " |-- session_counts: integer (nullable = true)\n",
      " |-- binnedhour: double (nullable = true)\n",
      " |-- brand_new: string (nullable = true)\n",
      " |-- is_purchased: integer (nullable = true)\n",
      " |-- label: integer (nullable = true)\n",
      " |-- brand_new_index: double (nullable = false)\n",
      " |-- brand_new_enc: vector (nullable = true)\n",
      " |-- category2_index: double (nullable = false)\n",
      " |-- category2_enc: vector (nullable = true)\n",
      " |-- day_of_week_index: double (nullable = false)\n",
      " |-- day_of_week_enc: vector (nullable = true)\n",
      " |-- features: vector (nullable = true)\n",
      "\n"
     ]
    }
   ],
   "source": [
    "# Schema of the transformed df\n",
    "df_lr_tf.printSchema()"
   ]
  },
  {
   "cell_type": "code",
   "execution_count": 29,
   "metadata": {},
   "outputs": [
    {
     "name": "stdout",
     "output_type": "stream",
     "text": [
      "+----------+-----+-----------+-----------+-----------+-----------------+-------------------+---------------------+------------------------+--------------+----------+---------+------------+-----+---------------+---------------+---------------+---------------+-----------------+---------------+--------------------+\n",
      "|event_type|price|day_of_week|  category1|  category2|activity_countval|product_view_counts|category2_view_counts|average_shopping_expense|session_counts|binnedhour|brand_new|is_purchased|label|brand_new_index|  brand_new_enc|category2_index|  category2_enc|day_of_week_index|day_of_week_enc|            features|\n",
      "+----------+-----+-----------+-----------+-----------+-----------------+-------------------+---------------------+------------------------+--------------+----------+---------+------------+-----+---------------+---------------+---------------+---------------+-----------------+---------------+--------------------+\n",
      "|  purchase|  179|          2|electronics| smartphone|                4|                  4|                    4|                   192.0|             7|       2.0|     sony|           1|    1|           16.0|(21,[16],[1.0])|            0.0| (56,[0],[1.0])|              6.0|  (7,[6],[1.0])|(90,[16,21,83,84,...|\n",
      "|      view|  197|          7|electronics| smartphone|               13|                  3|                  155|                  228.25|           231|       2.0|   xiaomi|           0|    0|            3.0| (21,[3],[1.0])|            0.0| (56,[0],[1.0])|              5.0|  (7,[5],[1.0])|(90,[3,21,82,84,8...|\n",
      "|      view|  203|          5|electronics| smartphone|               35|                  6|                  147|                   215.0|           180|       2.0|   xiaomi|           0|    0|            3.0| (21,[3],[1.0])|            0.0| (56,[0],[1.0])|              2.0|  (7,[2],[1.0])|(90,[3,21,79,84,8...|\n",
      "|      view|  378|          7| appliances|environment|                3|                  1|                   38|      114.66666666666667|            80|       1.0|    bosch|           0|    0|            9.0| (21,[9],[1.0])|            3.0| (56,[3],[1.0])|              5.0|  (7,[5],[1.0])|(90,[9,24,82,84,8...|\n",
      "|      view|  345|          1|electronics|      audio|               16|                  1|                   22|                   327.0|            51|       1.0|   others|           0|    0|            1.0| (21,[1],[1.0])|            2.0| (56,[2],[1.0])|              4.0|  (7,[4],[1.0])|(90,[1,23,81,84,8...|\n",
      "|      view|  167|          6|electronics| smartphone|                2|                  3|                   60|       158.1578947368421|           100|       0.0|   huawei|           0|    1|            4.0| (21,[4],[1.0])|            0.0| (56,[0],[1.0])|              3.0|  (7,[3],[1.0])|(90,[4,21,80,84,8...|\n",
      "|      view|   81|          5|electronics|  telephone|               54|                  1|                   60|                    33.0|           770|       1.0|   others|           0|    0|            1.0| (21,[1],[1.0])|           14.0|(56,[14],[1.0])|              2.0|  (7,[2],[1.0])|(90,[1,35,79,84,8...|\n",
      "|      view|    9|          6|electronics|  telephone|                1|                  2|                   30|                     9.0|            36|       1.0|   others|           0|    1|            1.0| (21,[1],[1.0])|           14.0|(56,[14],[1.0])|              3.0|  (7,[3],[1.0])|(90,[1,35,80,84,8...|\n",
      "|      view|  131|          4|electronics| smartphone|               84|                  6|                  202|      1205.8333333333333|           257|       2.0|  samsung|           0|    0|            0.0| (21,[0],[1.0])|            0.0| (56,[0],[1.0])|              1.0|  (7,[1],[1.0])|(90,[0,21,78,84,8...|\n",
      "|      view|   91|          7|electronics|      audio|               17|                  6|                   14|                   102.0|           385|       3.0|   huawei|           0|    1|            4.0| (21,[4],[1.0])|            2.0| (56,[2],[1.0])|              5.0|  (7,[5],[1.0])|(90,[4,23,82,84,8...|\n",
      "|      view|   71|          3|electronics|      audio|               14|                  3|                   41|                    38.0|            43|       1.0|   xiaomi|           0|    0|            3.0| (21,[3],[1.0])|            2.0| (56,[2],[1.0])|              0.0|  (7,[0],[1.0])|(90,[3,23,77,84,8...|\n",
      "|      view|  551|          6|electronics| smartphone|               29|                  1|                  110|                   379.0|           122|       1.0|  samsung|           0|    0|            0.0| (21,[0],[1.0])|            0.0| (56,[0],[1.0])|              3.0|  (7,[3],[1.0])|(90,[0,21,80,84,8...|\n",
      "|      cart|  195|          7|electronics| smartphone|                3|                  8|                    8|                   196.5|            15|       1.0|  samsung|           0|    1|            0.0| (21,[0],[1.0])|            0.0| (56,[0],[1.0])|              5.0|  (7,[5],[1.0])|(90,[0,21,82,84,8...|\n",
      "|      view|  133|          2|electronics| smartphone|               15|                  2|                   55|                   146.0|            59|       1.0|   xiaomi|           0|    0|            3.0| (21,[3],[1.0])|            0.0| (56,[0],[1.0])|              6.0|  (7,[6],[1.0])|(90,[3,21,83,84,8...|\n",
      "|      view| 1003|          5|electronics| smartphone|               10|                  2|                   15|                  1338.0|            21|       1.0|    apple|           0|    0|            2.0| (21,[2],[1.0])|            0.0| (56,[0],[1.0])|              2.0|  (7,[2],[1.0])|(90,[2,21,79,84,8...|\n",
      "|      view|  329|          2| appliances|    kitchen|               42|                  5|                   66|                   369.0|            69|       1.0|  indesit|           0|    0|            8.0| (21,[8],[1.0])|            1.0| (56,[1],[1.0])|              6.0|  (7,[6],[1.0])|(90,[8,22,83,84,8...|\n",
      "|  purchase|  152|          2|electronics| smartphone|                8|                  7|                   29|      117.57142857142857|            43|       2.0|  samsung|           1|    1|            0.0| (21,[0],[1.0])|            0.0| (56,[0],[1.0])|              6.0|  (7,[6],[1.0])|(90,[0,21,83,84,8...|\n",
      "|      view|  975|          1|electronics| smartphone|               14|                 14|                   47|                   975.0|            64|       0.0|    apple|           0|    0|            2.0| (21,[2],[1.0])|            0.0| (56,[0],[1.0])|              4.0|  (7,[4],[1.0])|(90,[2,21,81,84,8...|\n",
      "|      view|  143|          5|electronics| smartphone|               36|                  1|                  146|                   226.5|           179|       0.0|  samsung|           0|    0|            0.0| (21,[0],[1.0])|            0.0| (56,[0],[1.0])|              2.0|  (7,[2],[1.0])|(90,[0,21,79,84,8...|\n",
      "|      view|  225|          4| appliances|    kitchen|               24|                  1|                   87|                   173.5|           197|       2.0|   others|           0|    0|            1.0| (21,[1],[1.0])|            1.0| (56,[1],[1.0])|              1.0|  (7,[1],[1.0])|(90,[1,22,78,84,8...|\n",
      "+----------+-----+-----------+-----------+-----------+-----------------+-------------------+---------------------+------------------------+--------------+----------+---------+------------+-----+---------------+---------------+---------------+---------------+-----------------+---------------+--------------------+\n",
      "only showing top 20 rows\n",
      "\n"
     ]
    }
   ],
   "source": [
    "# Checking the elements of the transformed df - Top 20 rows\n",
    "df_lr_tf.show(20)"
   ]
  },
  {
   "cell_type": "code",
   "execution_count": 31,
   "metadata": {},
   "outputs": [],
   "source": [
    "# Scaling the features vector\n",
    "from pyspark.ml.feature import MinMaxScaler\n",
    "scaler = MinMaxScaler().setInputCol(\"features\").setOutputCol(\"scaled_features\")\n",
    "df_lrr = scaler.fit(df_lr_tf).transform(df_lr_tf)"
   ]
  },
  {
   "cell_type": "code",
   "execution_count": 32,
   "metadata": {},
   "outputs": [
    {
     "data": {
      "text/plain": [
       "Row(features=SparseVector(90, {16: 1.0, 21: 1.0, 83: 1.0, 84: 179.0, 85: 4.0, 86: 4.0, 87: 192.0, 88: 7.0, 89: 4.0}), scaled_features=DenseVector([0.0, 0.0, 0.0, 0.0, 0.0, 0.0, 0.0, 0.0, 0.0, 0.0, 0.0, 0.0, 0.0, 0.0, 0.0, 0.0, 1.0, 0.0, 0.0, 0.0, 0.0, 1.0, 0.0, 0.0, 0.0, 0.0, 0.0, 0.0, 0.0, 0.0, 0.0, 0.0, 0.0, 0.0, 0.0, 0.0, 0.0, 0.0, 0.0, 0.0, 0.0, 0.0, 0.0, 0.0, 0.0, 0.0, 0.0, 0.0, 0.0, 0.0, 0.0, 0.0, 0.0, 0.0, 0.0, 0.0, 0.0, 0.0, 0.0, 0.0, 0.0, 0.0, 0.0, 0.0, 0.0, 0.0, 0.0, 0.0, 0.0, 0.0, 0.0, 0.0, 0.0, 0.0, 0.0, 0.0, 0.0, 0.0, 0.0, 0.0, 0.0, 0.0, 0.0, 1.0, 0.0695, 0.0129, 0.0015, 0.0746, 0.0021, 0.0058]))"
      ]
     },
     "execution_count": 32,
     "metadata": {},
     "output_type": "execute_result"
    }
   ],
   "source": [
    "df_lrr.select(\"features\",\"scaled_features\").head()"
   ]
  },
  {
   "cell_type": "markdown",
   "metadata": {},
   "source": [
    "#### Train-test split"
   ]
  },
  {
   "cell_type": "code",
   "execution_count": 33,
   "metadata": {},
   "outputs": [],
   "source": [
    "# Splitting the data into train and test (Remember you are expected to compare the model later)\n",
    "traindata, testdata = df_lrr.randomSplit([0.7,0.3], seed=100)"
   ]
  },
  {
   "cell_type": "code",
   "execution_count": 34,
   "metadata": {},
   "outputs": [],
   "source": [
    "#Importing Logistic Regression\n",
    "from pyspark.ml.classification import LogisticRegression\n",
    "\n",
    "# create the logistic model, configure it and call fit it to the data. \n",
    "lr = LogisticRegression(featuresCol='scaled_features', labelCol='label')"
   ]
  },
  {
   "cell_type": "code",
   "execution_count": 35,
   "metadata": {},
   "outputs": [
    {
     "name": "stdout",
     "output_type": "stream",
     "text": [
      "+--------------------+\n",
      "|            features|\n",
      "+--------------------+\n",
      "|(90,[1,31,82,84,8...|\n",
      "|(90,[1,31,82,84,8...|\n",
      "|(90,[1,31,82,84,8...|\n",
      "|(90,[16,23,81,84,...|\n",
      "|(90,[1,31,79,84,8...|\n",
      "|(90,[1,31,79,84,8...|\n",
      "|(90,[3,23,81,84,8...|\n",
      "|(90,[3,23,81,84,8...|\n",
      "|(90,[0,23,81,84,8...|\n",
      "|(90,[3,23,81,84,8...|\n",
      "+--------------------+\n",
      "only showing top 10 rows\n",
      "\n"
     ]
    }
   ],
   "source": [
    "traindata.select(\"features\").show(10)"
   ]
  },
  {
   "cell_type": "code",
   "execution_count": 36,
   "metadata": {},
   "outputs": [
    {
     "name": "stdout",
     "output_type": "stream",
     "text": [
      "+--------------------+\n",
      "|     scaled_features|\n",
      "+--------------------+\n",
      "|[0.0,1.0,0.0,0.0,...|\n",
      "|[0.0,1.0,0.0,0.0,...|\n",
      "|[0.0,1.0,0.0,0.0,...|\n",
      "|[0.0,0.0,0.0,0.0,...|\n",
      "|[0.0,1.0,0.0,0.0,...|\n",
      "|[0.0,1.0,0.0,0.0,...|\n",
      "|[0.0,0.0,0.0,1.0,...|\n",
      "|[0.0,0.0,0.0,1.0,...|\n",
      "|[1.0,0.0,0.0,0.0,...|\n",
      "|[0.0,0.0,0.0,1.0,...|\n",
      "+--------------------+\n",
      "only showing top 10 rows\n",
      "\n"
     ]
    }
   ],
   "source": [
    "traindata.select(\"scaled_features\").show(10)"
   ]
  },
  {
   "cell_type": "code",
   "execution_count": 37,
   "metadata": {},
   "outputs": [
    {
     "name": "stdout",
     "output_type": "stream",
     "text": [
      "+-----+\n",
      "|label|\n",
      "+-----+\n",
      "|    0|\n",
      "|    1|\n",
      "|    1|\n",
      "|    1|\n",
      "|    1|\n",
      "|    1|\n",
      "|    1|\n",
      "|    1|\n",
      "|    1|\n",
      "|    1|\n",
      "+-----+\n",
      "only showing top 10 rows\n",
      "\n"
     ]
    }
   ],
   "source": [
    "traindata.select(\"label\").show(10)"
   ]
  },
  {
   "cell_type": "markdown",
   "metadata": {},
   "source": [
    "#### Model Fitting"
   ]
  },
  {
   "cell_type": "code",
   "execution_count": 39,
   "metadata": {},
   "outputs": [],
   "source": [
    "# Building the model\n",
    "model = lr.fit(traindata)"
   ]
  },
  {
   "cell_type": "code",
   "execution_count": 40,
   "metadata": {},
   "outputs": [],
   "source": [
    "# Fitting the model on transformed df\n",
    "result = model.evaluate(df_lrr)"
   ]
  },
  {
   "cell_type": "markdown",
   "metadata": {},
   "source": [
    "#### Model Analysis"
   ]
  },
  {
   "cell_type": "markdown",
   "metadata": {},
   "source": [
    "Required Steps:\n",
    "- Fit on test data\n",
    "- Performance analysis\n",
    "    - Appropriate Metric with reasoning\n",
    "    - Threshold selection"
   ]
  },
  {
   "cell_type": "code",
   "execution_count": 41,
   "metadata": {},
   "outputs": [
    {
     "name": "stdout",
     "output_type": "stream",
     "text": [
      "+----------+-----+-----------+-----------+-----------+-----------------+-------------------+---------------------+------------------------+--------------+----------+---------+------------+-----+---------------+---------------+---------------+---------------+-----------------+---------------+--------------------+--------------------+\n",
      "|event_type|price|day_of_week|  category1|  category2|activity_countval|product_view_counts|category2_view_counts|average_shopping_expense|session_counts|binnedhour|brand_new|is_purchased|label|brand_new_index|  brand_new_enc|category2_index|  category2_enc|day_of_week_index|day_of_week_enc|            features|     scaled_features|\n",
      "+----------+-----+-----------+-----------+-----------+-----------------+-------------------+---------------------+------------------------+--------------+----------+---------+------------+-----+---------------+---------------+---------------+---------------+-----------------+---------------+--------------------+--------------------+\n",
      "|  purchase|  179|          2|electronics| smartphone|                4|                  4|                    4|                   192.0|             7|       2.0|     sony|           1|    1|           16.0|(21,[16],[1.0])|            0.0| (56,[0],[1.0])|              6.0|  (7,[6],[1.0])|(90,[16,21,83,84,...|[0.0,0.0,0.0,0.0,...|\n",
      "|      view|  197|          7|electronics| smartphone|               13|                  3|                  155|                  228.25|           231|       2.0|   xiaomi|           0|    0|            3.0| (21,[3],[1.0])|            0.0| (56,[0],[1.0])|              5.0|  (7,[5],[1.0])|(90,[3,21,82,84,8...|[0.0,0.0,0.0,1.0,...|\n",
      "|      view|  203|          5|electronics| smartphone|               35|                  6|                  147|                   215.0|           180|       2.0|   xiaomi|           0|    0|            3.0| (21,[3],[1.0])|            0.0| (56,[0],[1.0])|              2.0|  (7,[2],[1.0])|(90,[3,21,79,84,8...|[0.0,0.0,0.0,1.0,...|\n",
      "|      view|  378|          7| appliances|environment|                3|                  1|                   38|      114.66666666666667|            80|       1.0|    bosch|           0|    0|            9.0| (21,[9],[1.0])|            3.0| (56,[3],[1.0])|              5.0|  (7,[5],[1.0])|(90,[9,24,82,84,8...|[0.0,0.0,0.0,0.0,...|\n",
      "|      view|  345|          1|electronics|      audio|               16|                  1|                   22|                   327.0|            51|       1.0|   others|           0|    0|            1.0| (21,[1],[1.0])|            2.0| (56,[2],[1.0])|              4.0|  (7,[4],[1.0])|(90,[1,23,81,84,8...|[0.0,1.0,0.0,0.0,...|\n",
      "|      view|  167|          6|electronics| smartphone|                2|                  3|                   60|       158.1578947368421|           100|       0.0|   huawei|           0|    1|            4.0| (21,[4],[1.0])|            0.0| (56,[0],[1.0])|              3.0|  (7,[3],[1.0])|(90,[4,21,80,84,8...|[0.0,0.0,0.0,0.0,...|\n",
      "|      view|   81|          5|electronics|  telephone|               54|                  1|                   60|                    33.0|           770|       1.0|   others|           0|    0|            1.0| (21,[1],[1.0])|           14.0|(56,[14],[1.0])|              2.0|  (7,[2],[1.0])|(90,[1,35,79,84,8...|[0.0,1.0,0.0,0.0,...|\n",
      "|      view|    9|          6|electronics|  telephone|                1|                  2|                   30|                     9.0|            36|       1.0|   others|           0|    1|            1.0| (21,[1],[1.0])|           14.0|(56,[14],[1.0])|              3.0|  (7,[3],[1.0])|(90,[1,35,80,84,8...|[0.0,1.0,0.0,0.0,...|\n",
      "|      view|  131|          4|electronics| smartphone|               84|                  6|                  202|      1205.8333333333333|           257|       2.0|  samsung|           0|    0|            0.0| (21,[0],[1.0])|            0.0| (56,[0],[1.0])|              1.0|  (7,[1],[1.0])|(90,[0,21,78,84,8...|[1.0,0.0,0.0,0.0,...|\n",
      "|      view|   91|          7|electronics|      audio|               17|                  6|                   14|                   102.0|           385|       3.0|   huawei|           0|    1|            4.0| (21,[4],[1.0])|            2.0| (56,[2],[1.0])|              5.0|  (7,[5],[1.0])|(90,[4,23,82,84,8...|[0.0,0.0,0.0,0.0,...|\n",
      "|      view|   71|          3|electronics|      audio|               14|                  3|                   41|                    38.0|            43|       1.0|   xiaomi|           0|    0|            3.0| (21,[3],[1.0])|            2.0| (56,[2],[1.0])|              0.0|  (7,[0],[1.0])|(90,[3,23,77,84,8...|[0.0,0.0,0.0,1.0,...|\n",
      "|      view|  551|          6|electronics| smartphone|               29|                  1|                  110|                   379.0|           122|       1.0|  samsung|           0|    0|            0.0| (21,[0],[1.0])|            0.0| (56,[0],[1.0])|              3.0|  (7,[3],[1.0])|(90,[0,21,80,84,8...|[1.0,0.0,0.0,0.0,...|\n",
      "|      cart|  195|          7|electronics| smartphone|                3|                  8|                    8|                   196.5|            15|       1.0|  samsung|           0|    1|            0.0| (21,[0],[1.0])|            0.0| (56,[0],[1.0])|              5.0|  (7,[5],[1.0])|(90,[0,21,82,84,8...|[1.0,0.0,0.0,0.0,...|\n",
      "|      view|  133|          2|electronics| smartphone|               15|                  2|                   55|                   146.0|            59|       1.0|   xiaomi|           0|    0|            3.0| (21,[3],[1.0])|            0.0| (56,[0],[1.0])|              6.0|  (7,[6],[1.0])|(90,[3,21,83,84,8...|[0.0,0.0,0.0,1.0,...|\n",
      "|      view| 1003|          5|electronics| smartphone|               10|                  2|                   15|                  1338.0|            21|       1.0|    apple|           0|    0|            2.0| (21,[2],[1.0])|            0.0| (56,[0],[1.0])|              2.0|  (7,[2],[1.0])|(90,[2,21,79,84,8...|[0.0,0.0,1.0,0.0,...|\n",
      "|      view|  329|          2| appliances|    kitchen|               42|                  5|                   66|                   369.0|            69|       1.0|  indesit|           0|    0|            8.0| (21,[8],[1.0])|            1.0| (56,[1],[1.0])|              6.0|  (7,[6],[1.0])|(90,[8,22,83,84,8...|[0.0,0.0,0.0,0.0,...|\n",
      "|  purchase|  152|          2|electronics| smartphone|                8|                  7|                   29|      117.57142857142857|            43|       2.0|  samsung|           1|    1|            0.0| (21,[0],[1.0])|            0.0| (56,[0],[1.0])|              6.0|  (7,[6],[1.0])|(90,[0,21,83,84,8...|[1.0,0.0,0.0,0.0,...|\n",
      "|      view|  975|          1|electronics| smartphone|               14|                 14|                   47|                   975.0|            64|       0.0|    apple|           0|    0|            2.0| (21,[2],[1.0])|            0.0| (56,[0],[1.0])|              4.0|  (7,[4],[1.0])|(90,[2,21,81,84,8...|[0.0,0.0,1.0,0.0,...|\n",
      "|      view|  143|          5|electronics| smartphone|               36|                  1|                  146|                   226.5|           179|       0.0|  samsung|           0|    0|            0.0| (21,[0],[1.0])|            0.0| (56,[0],[1.0])|              2.0|  (7,[2],[1.0])|(90,[0,21,79,84,8...|[1.0,0.0,0.0,0.0,...|\n",
      "|      view|  225|          4| appliances|    kitchen|               24|                  1|                   87|                   173.5|           197|       2.0|   others|           0|    0|            1.0| (21,[1],[1.0])|            1.0| (56,[1],[1.0])|              1.0|  (7,[1],[1.0])|(90,[1,22,78,84,8...|[0.0,1.0,0.0,0.0,...|\n",
      "+----------+-----+-----------+-----------+-----------+-----------------+-------------------+---------------------+------------------------+--------------+----------+---------+------------+-----+---------------+---------------+---------------+---------------+-----------------+---------------+--------------------+--------------------+\n",
      "only showing top 20 rows\n",
      "\n"
     ]
    }
   ],
   "source": [
    "df_lrr.show(20)"
   ]
  },
  {
   "cell_type": "code",
   "execution_count": 42,
   "metadata": {},
   "outputs": [
    {
     "data": {
      "text/plain": [
       "0.8116329824260595"
      ]
     },
     "execution_count": 42,
     "metadata": {},
     "output_type": "execute_result"
    }
   ],
   "source": [
    "result.accuracy"
   ]
  },
  {
   "cell_type": "code",
   "execution_count": 43,
   "metadata": {},
   "outputs": [
    {
     "data": {
      "text/plain": [
       "[0.8515713674881443, 0.7645165857570395]"
      ]
     },
     "execution_count": 43,
     "metadata": {},
     "output_type": "execute_result"
    }
   ],
   "source": [
    "result.recallByLabel"
   ]
  },
  {
   "cell_type": "code",
   "execution_count": 44,
   "metadata": {},
   "outputs": [
    {
     "data": {
      "text/plain": [
       "[0.8101101408330914, 0.8136428163130099]"
      ]
     },
     "execution_count": 44,
     "metadata": {},
     "output_type": "execute_result"
    }
   ],
   "source": [
    "result.precisionByLabel"
   ]
  },
  {
   "cell_type": "code",
   "execution_count": 45,
   "metadata": {},
   "outputs": [
    {
     "data": {
      "text/plain": [
       "[0.8303234970005865, 0.7883150803872394]"
      ]
     },
     "execution_count": 45,
     "metadata": {},
     "output_type": "execute_result"
    }
   ],
   "source": [
    "result.fMeasureByLabel()"
   ]
  },
  {
   "cell_type": "code",
   "execution_count": 46,
   "metadata": {},
   "outputs": [
    {
     "data": {
      "text/plain": [
       "0.8854948369999165"
      ]
     },
     "execution_count": 46,
     "metadata": {},
     "output_type": "execute_result"
    }
   ],
   "source": [
    "result.areaUnderROC"
   ]
  },
  {
   "cell_type": "markdown",
   "metadata": {},
   "source": [
    "#### Updated model, if any\n",
    "Repeat the steps "
   ]
  },
  {
   "cell_type": "code",
   "execution_count": null,
   "metadata": {},
   "outputs": [],
   "source": []
  }
 ],
 "metadata": {
  "kernelspec": {
   "display_name": "Python 3",
   "language": "python",
   "name": "python3"
  },
  "language_info": {
   "codemirror_mode": {
    "name": "ipython",
    "version": 3
   },
   "file_extension": ".py",
   "mimetype": "text/x-python",
   "name": "python",
   "nbconvert_exporter": "python",
   "pygments_lexer": "ipython3",
   "version": "3.7.9"
  }
 },
 "nbformat": 4,
 "nbformat_minor": 4
}
