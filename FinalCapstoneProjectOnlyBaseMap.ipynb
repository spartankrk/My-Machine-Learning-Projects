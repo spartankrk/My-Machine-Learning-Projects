{
  "nbformat": 4,
  "nbformat_minor": 0,
  "metadata": {
    "colab": {
      "name": "FinalCapstoneProjectOnlyBaseMap.ipynb",
      "provenance": [],
      "collapsed_sections": []
    },
    "kernelspec": {
      "display_name": "Python 3",
      "name": "python3"
    },
    "language_info": {
      "name": "python"
    }
  },
  "cells": [
    {
      "cell_type": "code",
      "metadata": {
        "id": "_0s34bKPYJsk",
        "colab": {
          "base_uri": "https://localhost:8080/"
        },
        "outputId": "0aa1275f-fa1b-44c2-9c12-a2f69b2068cf"
      },
      "source": [
        "#Import the libraries\n",
        "import pandas as pd\n",
        "import numpy as np\n",
        "import matplotlib.pyplot as plt\n",
        "import datetime\n",
        "import seaborn as sns\n",
        "from datetime import timedelta\n",
        "from tabulate import tabulate\n",
        "!pip3 install s3fs\n",
        "!pip3 install fsspec"
      ],
      "execution_count": null,
      "outputs": [
        {
          "output_type": "stream",
          "name": "stdout",
          "text": [
            "Collecting s3fs\n",
            "  Downloading s3fs-2021.10.1-py3-none-any.whl (26 kB)\n",
            "Collecting aiobotocore~=1.4.1\n",
            "  Downloading aiobotocore-1.4.2.tar.gz (52 kB)\n",
            "\u001b[K     |████████████████████████████████| 52 kB 1.3 MB/s \n",
            "\u001b[?25hCollecting fsspec==2021.10.1\n",
            "  Downloading fsspec-2021.10.1-py3-none-any.whl (125 kB)\n",
            "\u001b[K     |████████████████████████████████| 125 kB 10.4 MB/s \n",
            "\u001b[?25hCollecting botocore<1.20.107,>=1.20.106\n",
            "  Downloading botocore-1.20.106-py2.py3-none-any.whl (7.7 MB)\n",
            "\u001b[K     |████████████████████████████████| 7.7 MB 50.2 MB/s \n",
            "\u001b[?25hCollecting aiohttp>=3.3.1\n",
            "  Downloading aiohttp-3.7.4.post0-cp37-cp37m-manylinux2014_x86_64.whl (1.3 MB)\n",
            "\u001b[K     |████████████████████████████████| 1.3 MB 49.0 MB/s \n",
            "\u001b[?25hRequirement already satisfied: wrapt>=1.10.10 in /usr/local/lib/python3.7/dist-packages (from aiobotocore~=1.4.1->s3fs) (1.12.1)\n",
            "Collecting aioitertools>=0.5.1\n",
            "  Downloading aioitertools-0.8.0-py3-none-any.whl (21 kB)\n",
            "Requirement already satisfied: attrs>=17.3.0 in /usr/local/lib/python3.7/dist-packages (from aiohttp>=3.3.1->aiobotocore~=1.4.1->s3fs) (21.2.0)\n",
            "Collecting multidict<7.0,>=4.5\n",
            "  Downloading multidict-5.2.0-cp37-cp37m-manylinux_2_5_x86_64.manylinux1_x86_64.manylinux_2_12_x86_64.manylinux2010_x86_64.whl (160 kB)\n",
            "\u001b[K     |████████████████████████████████| 160 kB 65.1 MB/s \n",
            "\u001b[?25hCollecting async-timeout<4.0,>=3.0\n",
            "  Downloading async_timeout-3.0.1-py3-none-any.whl (8.2 kB)\n",
            "Requirement already satisfied: chardet<5.0,>=2.0 in /usr/local/lib/python3.7/dist-packages (from aiohttp>=3.3.1->aiobotocore~=1.4.1->s3fs) (3.0.4)\n",
            "Collecting yarl<2.0,>=1.0\n",
            "  Downloading yarl-1.7.0-cp37-cp37m-manylinux_2_5_x86_64.manylinux1_x86_64.manylinux_2_12_x86_64.manylinux2010_x86_64.whl (271 kB)\n",
            "\u001b[K     |████████████████████████████████| 271 kB 66.4 MB/s \n",
            "\u001b[?25hRequirement already satisfied: typing-extensions>=3.6.5 in /usr/local/lib/python3.7/dist-packages (from aiohttp>=3.3.1->aiobotocore~=1.4.1->s3fs) (3.7.4.3)\n",
            "Collecting jmespath<1.0.0,>=0.7.1\n",
            "  Downloading jmespath-0.10.0-py2.py3-none-any.whl (24 kB)\n",
            "Collecting urllib3<1.27,>=1.25.4\n",
            "  Downloading urllib3-1.26.7-py2.py3-none-any.whl (138 kB)\n",
            "\u001b[K     |████████████████████████████████| 138 kB 93.3 MB/s \n",
            "\u001b[?25hRequirement already satisfied: python-dateutil<3.0.0,>=2.1 in /usr/local/lib/python3.7/dist-packages (from botocore<1.20.107,>=1.20.106->aiobotocore~=1.4.1->s3fs) (2.8.2)\n",
            "Requirement already satisfied: six>=1.5 in /usr/local/lib/python3.7/dist-packages (from python-dateutil<3.0.0,>=2.1->botocore<1.20.107,>=1.20.106->aiobotocore~=1.4.1->s3fs) (1.15.0)\n",
            "Requirement already satisfied: idna>=2.0 in /usr/local/lib/python3.7/dist-packages (from yarl<2.0,>=1.0->aiohttp>=3.3.1->aiobotocore~=1.4.1->s3fs) (2.10)\n",
            "Building wheels for collected packages: aiobotocore\n",
            "  Building wheel for aiobotocore (setup.py) ... \u001b[?25l\u001b[?25hdone\n",
            "  Created wheel for aiobotocore: filename=aiobotocore-1.4.2-py3-none-any.whl size=49925 sha256=ba4bb90b4e6d67493ec721a8c2a42796312a643daada798cc82731de48a27352\n",
            "  Stored in directory: /root/.cache/pip/wheels/33/e7/d9/b297a9aa9c43d56bc2463e6e2771655ff638f30b30f0b61fcb\n",
            "Successfully built aiobotocore\n",
            "Installing collected packages: multidict, yarl, urllib3, jmespath, async-timeout, botocore, aioitertools, aiohttp, fsspec, aiobotocore, s3fs\n",
            "  Attempting uninstall: urllib3\n",
            "    Found existing installation: urllib3 1.24.3\n",
            "    Uninstalling urllib3-1.24.3:\n",
            "      Successfully uninstalled urllib3-1.24.3\n",
            "\u001b[31mERROR: pip's dependency resolver does not currently take into account all the packages that are installed. This behaviour is the source of the following dependency conflicts.\n",
            "requests 2.23.0 requires urllib3!=1.25.0,!=1.25.1,<1.26,>=1.21.1, but you have urllib3 1.26.7 which is incompatible.\n",
            "datascience 0.10.6 requires folium==0.2.1, but you have folium 0.8.3 which is incompatible.\u001b[0m\n",
            "Successfully installed aiobotocore-1.4.2 aiohttp-3.7.4.post0 aioitertools-0.8.0 async-timeout-3.0.1 botocore-1.20.106 fsspec-2021.10.1 jmespath-0.10.0 multidict-5.2.0 s3fs-2021.10.1 urllib3-1.26.7 yarl-1.7.0\n",
            "Requirement already satisfied: fsspec in /usr/local/lib/python3.7/dist-packages (2021.10.1)\n"
          ]
        }
      ]
    },
    {
      "cell_type": "code",
      "metadata": {
        "id": "M-H0qBfKfJK0"
      },
      "source": [
        "#Reading final_app_events csv file and loading it in a DF\n",
        "dfappevent=pd.read_csv('s3://capstone-project-sep2021/final_app_events.csv', delimiter=',', names= [\"event_id\", \"app_id\", \"is_installed\", \"is_active\"])"
      ],
      "execution_count": null,
      "outputs": []
    },
    {
      "cell_type": "code",
      "metadata": {
        "colab": {
          "base_uri": "https://localhost:8080/",
          "height": 357
        },
        "id": "k-nfPPdT7gpo",
        "outputId": "7b999a56-a06f-40c7-8c5f-20e9232e7cbc"
      },
      "source": [
        "#First 10 entries of the new DF\n",
        "dfappevent.head(10)"
      ],
      "execution_count": null,
      "outputs": [
        {
          "output_type": "execute_result",
          "data": {
            "text/html": [
              "<div>\n",
              "<style scoped>\n",
              "    .dataframe tbody tr th:only-of-type {\n",
              "        vertical-align: middle;\n",
              "    }\n",
              "\n",
              "    .dataframe tbody tr th {\n",
              "        vertical-align: top;\n",
              "    }\n",
              "\n",
              "    .dataframe thead th {\n",
              "        text-align: right;\n",
              "    }\n",
              "</style>\n",
              "<table border=\"1\" class=\"dataframe\">\n",
              "  <thead>\n",
              "    <tr style=\"text-align: right;\">\n",
              "      <th></th>\n",
              "      <th>event_id</th>\n",
              "      <th>app_id</th>\n",
              "      <th>is_installed</th>\n",
              "      <th>is_active</th>\n",
              "    </tr>\n",
              "  </thead>\n",
              "  <tbody>\n",
              "    <tr>\n",
              "      <th>0</th>\n",
              "      <td>2</td>\n",
              "      <td>5927333115845830913</td>\n",
              "      <td>1</td>\n",
              "      <td>1</td>\n",
              "    </tr>\n",
              "    <tr>\n",
              "      <th>1</th>\n",
              "      <td>2</td>\n",
              "      <td>-5720078949152207372</td>\n",
              "      <td>1</td>\n",
              "      <td>0</td>\n",
              "    </tr>\n",
              "    <tr>\n",
              "      <th>2</th>\n",
              "      <td>2</td>\n",
              "      <td>-1633887856876571208</td>\n",
              "      <td>1</td>\n",
              "      <td>0</td>\n",
              "    </tr>\n",
              "    <tr>\n",
              "      <th>3</th>\n",
              "      <td>2</td>\n",
              "      <td>-653184325010919369</td>\n",
              "      <td>1</td>\n",
              "      <td>1</td>\n",
              "    </tr>\n",
              "    <tr>\n",
              "      <th>4</th>\n",
              "      <td>2</td>\n",
              "      <td>8693964245073640147</td>\n",
              "      <td>1</td>\n",
              "      <td>1</td>\n",
              "    </tr>\n",
              "    <tr>\n",
              "      <th>5</th>\n",
              "      <td>2</td>\n",
              "      <td>4775896950989639373</td>\n",
              "      <td>1</td>\n",
              "      <td>1</td>\n",
              "    </tr>\n",
              "    <tr>\n",
              "      <th>6</th>\n",
              "      <td>2</td>\n",
              "      <td>-8022267440849930066</td>\n",
              "      <td>1</td>\n",
              "      <td>0</td>\n",
              "    </tr>\n",
              "    <tr>\n",
              "      <th>7</th>\n",
              "      <td>2</td>\n",
              "      <td>9112463267739110219</td>\n",
              "      <td>1</td>\n",
              "      <td>0</td>\n",
              "    </tr>\n",
              "    <tr>\n",
              "      <th>8</th>\n",
              "      <td>2</td>\n",
              "      <td>-3725672010020973973</td>\n",
              "      <td>1</td>\n",
              "      <td>0</td>\n",
              "    </tr>\n",
              "    <tr>\n",
              "      <th>9</th>\n",
              "      <td>2</td>\n",
              "      <td>7167114343576723123</td>\n",
              "      <td>1</td>\n",
              "      <td>1</td>\n",
              "    </tr>\n",
              "  </tbody>\n",
              "</table>\n",
              "</div>"
            ],
            "text/plain": [
              "   event_id               app_id  is_installed  is_active\n",
              "0         2  5927333115845830913             1          1\n",
              "1         2 -5720078949152207372             1          0\n",
              "2         2 -1633887856876571208             1          0\n",
              "3         2  -653184325010919369             1          1\n",
              "4         2  8693964245073640147             1          1\n",
              "5         2  4775896950989639373             1          1\n",
              "6         2 -8022267440849930066             1          0\n",
              "7         2  9112463267739110219             1          0\n",
              "8         2 -3725672010020973973             1          0\n",
              "9         2  7167114343576723123             1          1"
            ]
          },
          "metadata": {},
          "execution_count": 3
        }
      ]
    },
    {
      "cell_type": "code",
      "metadata": {
        "colab": {
          "base_uri": "https://localhost:8080/"
        },
        "id": "5CBfs9Xs8q8J",
        "outputId": "acc7fdb8-bb63-49b1-e5c4-a7d4306a8b6e"
      },
      "source": [
        "#Getting the info of the new DF\n",
        "dfappevent.info()"
      ],
      "execution_count": null,
      "outputs": [
        {
          "output_type": "stream",
          "name": "stdout",
          "text": [
            "<class 'pandas.core.frame.DataFrame'>\n",
            "RangeIndex: 32473067 entries, 0 to 32473066\n",
            "Data columns (total 4 columns):\n",
            " #   Column        Dtype\n",
            "---  ------        -----\n",
            " 0   event_id      int64\n",
            " 1   app_id        int64\n",
            " 2   is_installed  int64\n",
            " 3   is_active     int64\n",
            "dtypes: int64(4)\n",
            "memory usage: 991.0 MB\n"
          ]
        }
      ]
    },
    {
      "cell_type": "code",
      "metadata": {
        "colab": {
          "base_uri": "https://localhost:8080/"
        },
        "id": "MIOPoKnu8s_V",
        "outputId": "43ea1544-c92c-4f33-97b0-868c2053327f"
      },
      "source": [
        "#Validating to see if there are any null entries\n",
        "dfappevent.isnull().sum()"
      ],
      "execution_count": null,
      "outputs": [
        {
          "output_type": "execute_result",
          "data": {
            "text/plain": [
              "event_id        0\n",
              "app_id          0\n",
              "is_installed    0\n",
              "is_active       0\n",
              "dtype: int64"
            ]
          },
          "metadata": {},
          "execution_count": 5
        }
      ]
    },
    {
      "cell_type": "code",
      "metadata": {
        "id": "XzwGY-oN83eg"
      },
      "source": [
        "#Ensuring that app_id has absolute values\n",
        "dfappevent['app_id']=dfappevent.app_id.apply(abs)"
      ],
      "execution_count": null,
      "outputs": []
    },
    {
      "cell_type": "code",
      "metadata": {
        "colab": {
          "base_uri": "https://localhost:8080/",
          "height": 357
        },
        "id": "W3fqr0U1-D_v",
        "outputId": "f30729c4-513c-4945-f626-c088d190e627"
      },
      "source": [
        "#Revalidating the entries post above entry\n",
        "dfappevent.head(10)"
      ],
      "execution_count": null,
      "outputs": [
        {
          "output_type": "execute_result",
          "data": {
            "text/html": [
              "<div>\n",
              "<style scoped>\n",
              "    .dataframe tbody tr th:only-of-type {\n",
              "        vertical-align: middle;\n",
              "    }\n",
              "\n",
              "    .dataframe tbody tr th {\n",
              "        vertical-align: top;\n",
              "    }\n",
              "\n",
              "    .dataframe thead th {\n",
              "        text-align: right;\n",
              "    }\n",
              "</style>\n",
              "<table border=\"1\" class=\"dataframe\">\n",
              "  <thead>\n",
              "    <tr style=\"text-align: right;\">\n",
              "      <th></th>\n",
              "      <th>event_id</th>\n",
              "      <th>app_id</th>\n",
              "      <th>is_installed</th>\n",
              "      <th>is_active</th>\n",
              "    </tr>\n",
              "  </thead>\n",
              "  <tbody>\n",
              "    <tr>\n",
              "      <th>0</th>\n",
              "      <td>2</td>\n",
              "      <td>5927333115845830913</td>\n",
              "      <td>1</td>\n",
              "      <td>1</td>\n",
              "    </tr>\n",
              "    <tr>\n",
              "      <th>1</th>\n",
              "      <td>2</td>\n",
              "      <td>5720078949152207372</td>\n",
              "      <td>1</td>\n",
              "      <td>0</td>\n",
              "    </tr>\n",
              "    <tr>\n",
              "      <th>2</th>\n",
              "      <td>2</td>\n",
              "      <td>1633887856876571208</td>\n",
              "      <td>1</td>\n",
              "      <td>0</td>\n",
              "    </tr>\n",
              "    <tr>\n",
              "      <th>3</th>\n",
              "      <td>2</td>\n",
              "      <td>653184325010919369</td>\n",
              "      <td>1</td>\n",
              "      <td>1</td>\n",
              "    </tr>\n",
              "    <tr>\n",
              "      <th>4</th>\n",
              "      <td>2</td>\n",
              "      <td>8693964245073640147</td>\n",
              "      <td>1</td>\n",
              "      <td>1</td>\n",
              "    </tr>\n",
              "    <tr>\n",
              "      <th>5</th>\n",
              "      <td>2</td>\n",
              "      <td>4775896950989639373</td>\n",
              "      <td>1</td>\n",
              "      <td>1</td>\n",
              "    </tr>\n",
              "    <tr>\n",
              "      <th>6</th>\n",
              "      <td>2</td>\n",
              "      <td>8022267440849930066</td>\n",
              "      <td>1</td>\n",
              "      <td>0</td>\n",
              "    </tr>\n",
              "    <tr>\n",
              "      <th>7</th>\n",
              "      <td>2</td>\n",
              "      <td>9112463267739110219</td>\n",
              "      <td>1</td>\n",
              "      <td>0</td>\n",
              "    </tr>\n",
              "    <tr>\n",
              "      <th>8</th>\n",
              "      <td>2</td>\n",
              "      <td>3725672010020973973</td>\n",
              "      <td>1</td>\n",
              "      <td>0</td>\n",
              "    </tr>\n",
              "    <tr>\n",
              "      <th>9</th>\n",
              "      <td>2</td>\n",
              "      <td>7167114343576723123</td>\n",
              "      <td>1</td>\n",
              "      <td>1</td>\n",
              "    </tr>\n",
              "  </tbody>\n",
              "</table>\n",
              "</div>"
            ],
            "text/plain": [
              "   event_id               app_id  is_installed  is_active\n",
              "0         2  5927333115845830913             1          1\n",
              "1         2  5720078949152207372             1          0\n",
              "2         2  1633887856876571208             1          0\n",
              "3         2   653184325010919369             1          1\n",
              "4         2  8693964245073640147             1          1\n",
              "5         2  4775896950989639373             1          1\n",
              "6         2  8022267440849930066             1          0\n",
              "7         2  9112463267739110219             1          0\n",
              "8         2  3725672010020973973             1          0\n",
              "9         2  7167114343576723123             1          1"
            ]
          },
          "metadata": {},
          "execution_count": 7
        }
      ]
    },
    {
      "cell_type": "code",
      "metadata": {
        "id": "3s-MfImBfUyy"
      },
      "source": [
        ""
      ],
      "execution_count": null,
      "outputs": []
    },
    {
      "cell_type": "code",
      "metadata": {
        "id": "WVYWwSKYXMLj",
        "colab": {
          "base_uri": "https://localhost:8080/"
        },
        "outputId": "83e55790-e7fe-4930-d5be-8c9c39819f81"
      },
      "source": [
        "#Reading final_label_data csv file and loading it in a DF\n",
        "dflabeldata = pd.read_csv('s3://capstone-project-sep2021/final_label_data.csv',delimiter=',',names=[\"app_id\",\"category\"], engine='python', error_bad_lines=False)"
      ],
      "execution_count": null,
      "outputs": [
        {
          "output_type": "stream",
          "name": "stderr",
          "text": [
            "Skipping line 123004: ',' expected after '\"'\n",
            "Skipping line 123005: ',' expected after '\"'\n",
            "Skipping line 123006: ',' expected after '\"'\n",
            "Skipping line 123007: ',' expected after '\"'\n",
            "Skipping line 123008: ',' expected after '\"'\n",
            "Skipping line 123009: ',' expected after '\"'\n",
            "Skipping line 123010: ',' expected after '\"'\n",
            "Skipping line 123011: ',' expected after '\"'\n",
            "Skipping line 123012: ',' expected after '\"'\n",
            "Skipping line 123013: ',' expected after '\"'\n",
            "Skipping line 123014: field larger than field limit (131072)\n",
            "Skipping line 125799: ',' expected after '\"'\n",
            "Skipping line 125800: ',' expected after '\"'\n",
            "Skipping line 125801: ',' expected after '\"'\n",
            "Skipping line 125802: ',' expected after '\"'\n",
            "Skipping line 125803: ',' expected after '\"'\n",
            "Skipping line 125804: ',' expected after '\"'\n",
            "Skipping line 125805: ',' expected after '\"'\n",
            "Skipping line 125806: field larger than field limit (131072)\n",
            "Skipping line 126210: ',' expected after '\"'\n",
            "Skipping line 126220: ',' expected after '\"'\n",
            "Skipping line 126482: ',' expected after '\"'\n",
            "Skipping line 126860: ',' expected after '\"'\n",
            "Skipping line 126985: ',' expected after '\"'\n",
            "Skipping line 127188: ',' expected after '\"'\n",
            "Skipping line 127202: ',' expected after '\"'\n",
            "Skipping line 127347: ',' expected after '\"'\n",
            "Skipping line 127422: ',' expected after '\"'\n",
            "Skipping line 127432: field larger than field limit (131072)\n",
            "Skipping line 340467: ',' expected after '\"'\n",
            "Skipping line 340468: ',' expected after '\"'\n",
            "Skipping line 340469: ',' expected after '\"'\n",
            "Skipping line 340470: ',' expected after '\"'\n",
            "Skipping line 340471: ',' expected after '\"'\n",
            "Skipping line 340472: ',' expected after '\"'\n",
            "Skipping line 340473: ',' expected after '\"'\n",
            "Skipping line 340474: ',' expected after '\"'\n",
            "Skipping line 340475: ',' expected after '\"'\n",
            "Skipping line 340476: ',' expected after '\"'\n",
            "Skipping line 340477: ',' expected after '\"'\n",
            "Skipping line 340478: ',' expected after '\"'\n",
            "Skipping line 340479: ',' expected after '\"'\n",
            "Skipping line 340480: ',' expected after '\"'\n",
            "Skipping line 340481: ',' expected after '\"'\n",
            "Skipping line 340482: ',' expected after '\"'\n",
            "Skipping line 340483: ',' expected after '\"'\n",
            "Skipping line 340484: ',' expected after '\"'\n",
            "Skipping line 340485: ',' expected after '\"'\n",
            "Skipping line 340486: ',' expected after '\"'\n",
            "Skipping line 340487: ',' expected after '\"'\n",
            "Skipping line 340488: ',' expected after '\"'\n",
            "Skipping line 340489: ',' expected after '\"'\n",
            "Skipping line 340490: ',' expected after '\"'\n",
            "Skipping line 340491: ',' expected after '\"'\n",
            "Skipping line 340492: ',' expected after '\"'\n",
            "Skipping line 340493: ',' expected after '\"'\n",
            "Skipping line 340494: ',' expected after '\"'\n",
            "Skipping line 340495: ',' expected after '\"'\n",
            "Skipping line 340496: ',' expected after '\"'\n",
            "Skipping line 340497: ',' expected after '\"'\n",
            "Skipping line 340498: ',' expected after '\"'\n",
            "Skipping line 340499: ',' expected after '\"'\n",
            "Skipping line 340500: ',' expected after '\"'\n",
            "Skipping line 340501: ',' expected after '\"'\n",
            "Skipping line 340502: ',' expected after '\"'\n",
            "Skipping line 340503: ',' expected after '\"'\n",
            "Skipping line 340504: ',' expected after '\"'\n",
            "Skipping line 340505: ',' expected after '\"'\n",
            "Skipping line 340506: ',' expected after '\"'\n",
            "Skipping line 340507: field larger than field limit (131072)\n",
            "Skipping line 399149: ',' expected after '\"'\n",
            "Skipping line 399150: ',' expected after '\"'\n",
            "Skipping line 399151: ',' expected after '\"'\n",
            "Skipping line 399152: ',' expected after '\"'\n",
            "Skipping line 399153: ',' expected after '\"'\n",
            "Skipping line 399154: ',' expected after '\"'\n",
            "Skipping line 399155: ',' expected after '\"'\n",
            "Skipping line 399156: ',' expected after '\"'\n",
            "Skipping line 399157: ',' expected after '\"'\n",
            "Skipping line 399158: ',' expected after '\"'\n",
            "Skipping line 399159: ',' expected after '\"'\n",
            "Skipping line 399160: ',' expected after '\"'\n",
            "Skipping line 399161: ',' expected after '\"'\n",
            "Skipping line 399162: ',' expected after '\"'\n",
            "Skipping line 399281: ',' expected after '\"'\n",
            "Skipping line 399322: ',' expected after '\"'\n",
            "Skipping line 399333: ',' expected after '\"'\n",
            "Skipping line 399367: ',' expected after '\"'\n",
            "Skipping line 399370: ',' expected after '\"'\n",
            "Skipping line 399387: ',' expected after '\"'\n",
            "Skipping line 399389: ',' expected after '\"'\n",
            "Skipping line 399391: ',' expected after '\"'\n",
            "Skipping line 399410: ',' expected after '\"'\n",
            "Skipping line 399421: ',' expected after '\"'\n",
            "Skipping line 399422: ',' expected after '\"'\n",
            "Skipping line 399427: ',' expected after '\"'\n",
            "Skipping line 399431: field larger than field limit (131072)\n"
          ]
        }
      ]
    },
    {
      "cell_type": "code",
      "metadata": {
        "colab": {
          "base_uri": "https://localhost:8080/"
        },
        "id": "eppNcOB4swSP",
        "outputId": "d450cb38-005f-4ea9-df35-eacca7ff2af5"
      },
      "source": [
        "#Getting the info of the new DF\n",
        "dflabeldata.info()"
      ],
      "execution_count": null,
      "outputs": [
        {
          "output_type": "stream",
          "name": "stdout",
          "text": [
            "<class 'pandas.core.frame.DataFrame'>\n",
            "RangeIndex: 436835 entries, 0 to 436834\n",
            "Data columns (total 2 columns):\n",
            " #   Column    Non-Null Count   Dtype \n",
            "---  ------    --------------   ----- \n",
            " 0   app_id    436835 non-null  int64 \n",
            " 1   category  436835 non-null  object\n",
            "dtypes: int64(1), object(1)\n",
            "memory usage: 6.7+ MB\n"
          ]
        }
      ]
    },
    {
      "cell_type": "code",
      "metadata": {
        "id": "wsCYTikq_kcU"
      },
      "source": [
        "#changing the type of the\n",
        "dflabeldata['category']=dflabeldata['category'].apply(lambda x : str(x))\n",
        "dflabeldata['app_id']=dflabeldata.app_id.apply(abs)"
      ],
      "execution_count": null,
      "outputs": []
    },
    {
      "cell_type": "code",
      "metadata": {
        "colab": {
          "base_uri": "https://localhost:8080/"
        },
        "id": "xWXmpomv_4DZ",
        "outputId": "67ead896-9803-467e-e495-b1ffd90834c7"
      },
      "source": [
        "dflabeldata.info()"
      ],
      "execution_count": null,
      "outputs": [
        {
          "output_type": "stream",
          "name": "stdout",
          "text": [
            "<class 'pandas.core.frame.DataFrame'>\n",
            "RangeIndex: 436835 entries, 0 to 436834\n",
            "Data columns (total 2 columns):\n",
            " #   Column    Non-Null Count   Dtype \n",
            "---  ------    --------------   ----- \n",
            " 0   app_id    436835 non-null  int64 \n",
            " 1   category  436835 non-null  object\n",
            "dtypes: int64(1), object(1)\n",
            "memory usage: 6.7+ MB\n"
          ]
        }
      ]
    },
    {
      "cell_type": "code",
      "metadata": {
        "id": "mvjyuCePfXVf"
      },
      "source": [
        ""
      ],
      "execution_count": null,
      "outputs": []
    },
    {
      "cell_type": "code",
      "metadata": {
        "id": "IRduFbnA-Ndp"
      },
      "source": [
        "#Reading final_events_data csv file and loading it in a DF\n",
        "dfeventdata=pd.read_csv('s3://capstone-project-sep2021/final_event_data.csv',delimiter=',', names= [\"device_id\",'gender','age','age_group',\"event_id\",\"timestamp\",'longitude','latitude'])"
      ],
      "execution_count": null,
      "outputs": []
    },
    {
      "cell_type": "code",
      "metadata": {
        "colab": {
          "base_uri": "https://localhost:8080/",
          "height": 357
        },
        "id": "--VnX8W6AiWm",
        "outputId": "bdd2c4d7-5b07-4a43-9a5f-b6423ca8b440"
      },
      "source": [
        "#First 10 entries of the new DF\n",
        "dfeventdata.head(10)"
      ],
      "execution_count": null,
      "outputs": [
        {
          "output_type": "execute_result",
          "data": {
            "text/html": [
              "<div>\n",
              "<style scoped>\n",
              "    .dataframe tbody tr th:only-of-type {\n",
              "        vertical-align: middle;\n",
              "    }\n",
              "\n",
              "    .dataframe tbody tr th {\n",
              "        vertical-align: top;\n",
              "    }\n",
              "\n",
              "    .dataframe thead th {\n",
              "        text-align: right;\n",
              "    }\n",
              "</style>\n",
              "<table border=\"1\" class=\"dataframe\">\n",
              "  <thead>\n",
              "    <tr style=\"text-align: right;\">\n",
              "      <th></th>\n",
              "      <th>device_id</th>\n",
              "      <th>gender</th>\n",
              "      <th>age</th>\n",
              "      <th>age_group</th>\n",
              "      <th>event_id</th>\n",
              "      <th>timestamp</th>\n",
              "      <th>longitude</th>\n",
              "      <th>latitude</th>\n",
              "    </tr>\n",
              "  </thead>\n",
              "  <tbody>\n",
              "    <tr>\n",
              "      <th>0</th>\n",
              "      <td>-9223067244542180000</td>\n",
              "      <td>M</td>\n",
              "      <td>24</td>\n",
              "      <td>M0-24</td>\n",
              "      <td>\\N</td>\n",
              "      <td>\\N</td>\n",
              "      <td>\\N</td>\n",
              "      <td>\\N</td>\n",
              "    </tr>\n",
              "    <tr>\n",
              "      <th>1</th>\n",
              "      <td>-9222956879900150000</td>\n",
              "      <td>M</td>\n",
              "      <td>36</td>\n",
              "      <td>M32+</td>\n",
              "      <td>11281</td>\n",
              "      <td>2016-05-07 11:36:04</td>\n",
              "      <td>0.0</td>\n",
              "      <td>0.0</td>\n",
              "    </tr>\n",
              "    <tr>\n",
              "      <th>2</th>\n",
              "      <td>-9222956879900150000</td>\n",
              "      <td>M</td>\n",
              "      <td>36</td>\n",
              "      <td>M32+</td>\n",
              "      <td>12679</td>\n",
              "      <td>2016-05-07 12:18:35</td>\n",
              "      <td>113.24</td>\n",
              "      <td>23.19</td>\n",
              "    </tr>\n",
              "    <tr>\n",
              "      <th>3</th>\n",
              "      <td>-9222956879900150000</td>\n",
              "      <td>M</td>\n",
              "      <td>36</td>\n",
              "      <td>M32+</td>\n",
              "      <td>49383</td>\n",
              "      <td>2016-05-07 15:44:45</td>\n",
              "      <td>0.0</td>\n",
              "      <td>0.0</td>\n",
              "    </tr>\n",
              "    <tr>\n",
              "      <th>4</th>\n",
              "      <td>-9222956879900150000</td>\n",
              "      <td>M</td>\n",
              "      <td>36</td>\n",
              "      <td>M32+</td>\n",
              "      <td>131849</td>\n",
              "      <td>2016-05-07 12:06:35</td>\n",
              "      <td>113.24</td>\n",
              "      <td>23.19</td>\n",
              "    </tr>\n",
              "    <tr>\n",
              "      <th>5</th>\n",
              "      <td>-9222956879900150000</td>\n",
              "      <td>M</td>\n",
              "      <td>36</td>\n",
              "      <td>M32+</td>\n",
              "      <td>205471</td>\n",
              "      <td>2016-05-06 15:36:46</td>\n",
              "      <td>113.24</td>\n",
              "      <td>23.19</td>\n",
              "    </tr>\n",
              "    <tr>\n",
              "      <th>6</th>\n",
              "      <td>-9222956879900150000</td>\n",
              "      <td>M</td>\n",
              "      <td>36</td>\n",
              "      <td>M32+</td>\n",
              "      <td>211711</td>\n",
              "      <td>2016-05-06 21:26:14</td>\n",
              "      <td>113.24</td>\n",
              "      <td>23.19</td>\n",
              "    </tr>\n",
              "    <tr>\n",
              "      <th>7</th>\n",
              "      <td>-9222956879900150000</td>\n",
              "      <td>M</td>\n",
              "      <td>36</td>\n",
              "      <td>M32+</td>\n",
              "      <td>229069</td>\n",
              "      <td>2016-05-06 15:34:19</td>\n",
              "      <td>113.24</td>\n",
              "      <td>23.19</td>\n",
              "    </tr>\n",
              "    <tr>\n",
              "      <th>8</th>\n",
              "      <td>-9222956879900150000</td>\n",
              "      <td>M</td>\n",
              "      <td>36</td>\n",
              "      <td>M32+</td>\n",
              "      <td>229087</td>\n",
              "      <td>2016-05-06 15:33:50</td>\n",
              "      <td>113.24</td>\n",
              "      <td>23.19</td>\n",
              "    </tr>\n",
              "    <tr>\n",
              "      <th>9</th>\n",
              "      <td>-9222956879900150000</td>\n",
              "      <td>M</td>\n",
              "      <td>36</td>\n",
              "      <td>M32+</td>\n",
              "      <td>289564</td>\n",
              "      <td>2016-05-06 21:26:44</td>\n",
              "      <td>113.24</td>\n",
              "      <td>23.19</td>\n",
              "    </tr>\n",
              "  </tbody>\n",
              "</table>\n",
              "</div>"
            ],
            "text/plain": [
              "             device_id gender  age  ...            timestamp longitude latitude\n",
              "0 -9223067244542180000      M   24  ...                   \\N        \\N       \\N\n",
              "1 -9222956879900150000      M   36  ...  2016-05-07 11:36:04       0.0      0.0\n",
              "2 -9222956879900150000      M   36  ...  2016-05-07 12:18:35    113.24    23.19\n",
              "3 -9222956879900150000      M   36  ...  2016-05-07 15:44:45       0.0      0.0\n",
              "4 -9222956879900150000      M   36  ...  2016-05-07 12:06:35    113.24    23.19\n",
              "5 -9222956879900150000      M   36  ...  2016-05-06 15:36:46    113.24    23.19\n",
              "6 -9222956879900150000      M   36  ...  2016-05-06 21:26:14    113.24    23.19\n",
              "7 -9222956879900150000      M   36  ...  2016-05-06 15:34:19    113.24    23.19\n",
              "8 -9222956879900150000      M   36  ...  2016-05-06 15:33:50    113.24    23.19\n",
              "9 -9222956879900150000      M   36  ...  2016-05-06 21:26:44    113.24    23.19\n",
              "\n",
              "[10 rows x 8 columns]"
            ]
          },
          "metadata": {},
          "execution_count": 13
        }
      ]
    },
    {
      "cell_type": "code",
      "metadata": {
        "colab": {
          "base_uri": "https://localhost:8080/"
        },
        "id": "Jan5iSiFAmLM",
        "outputId": "9ea027e1-e6fe-417f-ba00-3d05e5478a68"
      },
      "source": [
        "#Getting the info of the new DF\n",
        "dfeventdata.info()"
      ],
      "execution_count": null,
      "outputs": [
        {
          "output_type": "stream",
          "name": "stdout",
          "text": [
            "<class 'pandas.core.frame.DataFrame'>\n",
            "RangeIndex: 1266933 entries, 0 to 1266932\n",
            "Data columns (total 8 columns):\n",
            " #   Column     Non-Null Count    Dtype \n",
            "---  ------     --------------    ----- \n",
            " 0   device_id  1266933 non-null  int64 \n",
            " 1   gender     1266933 non-null  object\n",
            " 2   age        1266933 non-null  int64 \n",
            " 3   age_group  1266933 non-null  object\n",
            " 4   event_id   1266933 non-null  object\n",
            " 5   timestamp  1266933 non-null  object\n",
            " 6   longitude  1266933 non-null  object\n",
            " 7   latitude   1266933 non-null  object\n",
            "dtypes: int64(2), object(6)\n",
            "memory usage: 77.3+ MB\n"
          ]
        }
      ]
    },
    {
      "cell_type": "code",
      "metadata": {
        "id": "g3hCmeqN6ezQ"
      },
      "source": [
        "dfeventdata[\"event_id\"]=dfeventdata[\"event_id\"].str.replace(\"\\\\\",\"\",)\n",
        "dfeventdata[\"timestamp\"]=dfeventdata[\"timestamp\"].str.replace(\"\\\\\",\"\",)\n",
        "dfeventdata[\"longitude\"]=dfeventdata[\"longitude\"].str.replace(\"\\\\\",\"\",)\n",
        "dfeventdata[\"latitude\"]=dfeventdata[\"latitude\"].str.replace(\"\\\\\",\"\",)\n",
        "\n",
        "dfeventdata[\"event_id\"]=dfeventdata[\"event_id\"].str.replace(\"N\",\"0\",)\n",
        "dfeventdata[\"timestamp\"]=dfeventdata[\"timestamp\"].str.replace(\"N\",\"2021-05-05 00:00:00\",)\n",
        "dfeventdata[\"longitude\"]=dfeventdata[\"longitude\"].str.replace(\"N\",\"0\",)\n",
        "dfeventdata[\"latitude\"]=dfeventdata[\"latitude\"].str.replace(\"N\",\"0\",)"
      ],
      "execution_count": null,
      "outputs": []
    },
    {
      "cell_type": "code",
      "metadata": {
        "id": "trDNMbjI67Rr"
      },
      "source": [
        "#change datatypes to required datatype format.\n",
        "dfeventdata['device_id']=dfeventdata['device_id'].apply(abs)\n",
        "dfeventdata['timestamp']=pd.to_datetime(dfeventdata['timestamp'])\n",
        "dfeventdata[\"longitude\"]=dfeventdata[\"longitude\"].astype(float)\n",
        "dfeventdata[\"latitude\"]=dfeventdata[\"latitude\"].astype(float)\n",
        "dfeventdata['event_id']=dfeventdata[\"event_id\"].astype(int)\n",
        "dfeventdata['gender']=dfeventdata[\"gender\"].astype(\"string\")\n",
        "dfeventdata['age_group']=dfeventdata[\"age_group\"].astype(\"string\")"
      ],
      "execution_count": null,
      "outputs": []
    },
    {
      "cell_type": "code",
      "metadata": {
        "colab": {
          "base_uri": "https://localhost:8080/"
        },
        "id": "a15VlqcL7FwA",
        "outputId": "2f8c8391-2f22-4d70-8c88-9f61fdbe653c"
      },
      "source": [
        "dfeventdata.info()"
      ],
      "execution_count": null,
      "outputs": [
        {
          "output_type": "stream",
          "name": "stdout",
          "text": [
            "<class 'pandas.core.frame.DataFrame'>\n",
            "RangeIndex: 1266933 entries, 0 to 1266932\n",
            "Data columns (total 8 columns):\n",
            " #   Column     Non-Null Count    Dtype         \n",
            "---  ------     --------------    -----         \n",
            " 0   device_id  1266933 non-null  int64         \n",
            " 1   gender     1266933 non-null  string        \n",
            " 2   age        1266933 non-null  int64         \n",
            " 3   age_group  1266933 non-null  string        \n",
            " 4   event_id   1266933 non-null  int64         \n",
            " 5   timestamp  1266933 non-null  datetime64[ns]\n",
            " 6   longitude  1266933 non-null  float64       \n",
            " 7   latitude   1266933 non-null  float64       \n",
            "dtypes: datetime64[ns](1), float64(2), int64(3), string(2)\n",
            "memory usage: 77.3 MB\n"
          ]
        }
      ]
    },
    {
      "cell_type": "code",
      "metadata": {
        "colab": {
          "base_uri": "https://localhost:8080/",
          "height": 295
        },
        "id": "iy-Q5YpSI1Yq",
        "outputId": "e95c62b5-1df6-4b61-fe64-95934d17ad55"
      },
      "source": [
        "dfeventdata.describe()"
      ],
      "execution_count": null,
      "outputs": [
        {
          "output_type": "execute_result",
          "data": {
            "text/html": [
              "<div>\n",
              "<style scoped>\n",
              "    .dataframe tbody tr th:only-of-type {\n",
              "        vertical-align: middle;\n",
              "    }\n",
              "\n",
              "    .dataframe tbody tr th {\n",
              "        vertical-align: top;\n",
              "    }\n",
              "\n",
              "    .dataframe thead th {\n",
              "        text-align: right;\n",
              "    }\n",
              "</style>\n",
              "<table border=\"1\" class=\"dataframe\">\n",
              "  <thead>\n",
              "    <tr style=\"text-align: right;\">\n",
              "      <th></th>\n",
              "      <th>device_id</th>\n",
              "      <th>age</th>\n",
              "      <th>event_id</th>\n",
              "      <th>longitude</th>\n",
              "      <th>latitude</th>\n",
              "    </tr>\n",
              "  </thead>\n",
              "  <tbody>\n",
              "    <tr>\n",
              "      <th>count</th>\n",
              "      <td>1.266933e+06</td>\n",
              "      <td>1.266933e+06</td>\n",
              "      <td>1.266933e+06</td>\n",
              "      <td>1.266933e+06</td>\n",
              "      <td>1.266933e+06</td>\n",
              "    </tr>\n",
              "    <tr>\n",
              "      <th>mean</th>\n",
              "      <td>4.634877e+18</td>\n",
              "      <td>3.340051e+01</td>\n",
              "      <td>1.560763e+06</td>\n",
              "      <td>7.521735e+01</td>\n",
              "      <td>2.094308e+01</td>\n",
              "    </tr>\n",
              "    <tr>\n",
              "      <th>std</th>\n",
              "      <td>2.617042e+18</td>\n",
              "      <td>9.762003e+00</td>\n",
              "      <td>9.747112e+05</td>\n",
              "      <td>5.493059e+01</td>\n",
              "      <td>1.592072e+01</td>\n",
              "    </tr>\n",
              "    <tr>\n",
              "      <th>min</th>\n",
              "      <td>5.036611e+13</td>\n",
              "      <td>1.000000e+00</td>\n",
              "      <td>0.000000e+00</td>\n",
              "      <td>-1.800000e+02</td>\n",
              "      <td>-3.380000e+01</td>\n",
              "    </tr>\n",
              "    <tr>\n",
              "      <th>25%</th>\n",
              "      <td>2.400791e+18</td>\n",
              "      <td>2.600000e+01</td>\n",
              "      <td>7.091030e+05</td>\n",
              "      <td>0.000000e+00</td>\n",
              "      <td>0.000000e+00</td>\n",
              "    </tr>\n",
              "    <tr>\n",
              "      <th>50%</th>\n",
              "      <td>4.645192e+18</td>\n",
              "      <td>3.100000e+01</td>\n",
              "      <td>1.557841e+06</td>\n",
              "      <td>1.122600e+02</td>\n",
              "      <td>2.782000e+01</td>\n",
              "    </tr>\n",
              "    <tr>\n",
              "      <th>75%</th>\n",
              "      <td>6.854440e+18</td>\n",
              "      <td>3.900000e+01</td>\n",
              "      <td>2.405959e+06</td>\n",
              "      <td>1.170400e+02</td>\n",
              "      <td>3.305000e+01</td>\n",
              "    </tr>\n",
              "    <tr>\n",
              "      <th>max</th>\n",
              "      <td>9.223067e+18</td>\n",
              "      <td>9.600000e+01</td>\n",
              "      <td>3.252948e+06</td>\n",
              "      <td>1.511800e+02</td>\n",
              "      <td>5.364000e+01</td>\n",
              "    </tr>\n",
              "  </tbody>\n",
              "</table>\n",
              "</div>"
            ],
            "text/plain": [
              "          device_id           age      event_id     longitude      latitude\n",
              "count  1.266933e+06  1.266933e+06  1.266933e+06  1.266933e+06  1.266933e+06\n",
              "mean   4.634877e+18  3.340051e+01  1.560763e+06  7.521735e+01  2.094308e+01\n",
              "std    2.617042e+18  9.762003e+00  9.747112e+05  5.493059e+01  1.592072e+01\n",
              "min    5.036611e+13  1.000000e+00  0.000000e+00 -1.800000e+02 -3.380000e+01\n",
              "25%    2.400791e+18  2.600000e+01  7.091030e+05  0.000000e+00  0.000000e+00\n",
              "50%    4.645192e+18  3.100000e+01  1.557841e+06  1.122600e+02  2.782000e+01\n",
              "75%    6.854440e+18  3.900000e+01  2.405959e+06  1.170400e+02  3.305000e+01\n",
              "max    9.223067e+18  9.600000e+01  3.252948e+06  1.511800e+02  5.364000e+01"
            ]
          },
          "metadata": {},
          "execution_count": 18
        }
      ]
    },
    {
      "cell_type": "code",
      "metadata": {
        "colab": {
          "base_uri": "https://localhost:8080/"
        },
        "id": "bGH-qFoiJQ2R",
        "outputId": "5ac18093-0792-41e2-8d6b-3c847a974bb8"
      },
      "source": [
        "#validating longitude values.  longitude should be between -180 to 180\n",
        "dfeventdata.longitude.describe()"
      ],
      "execution_count": null,
      "outputs": [
        {
          "output_type": "execute_result",
          "data": {
            "text/plain": [
              "count    1.266933e+06\n",
              "mean     7.521735e+01\n",
              "std      5.493059e+01\n",
              "min     -1.800000e+02\n",
              "25%      0.000000e+00\n",
              "50%      1.122600e+02\n",
              "75%      1.170400e+02\n",
              "max      1.511800e+02\n",
              "Name: longitude, dtype: float64"
            ]
          },
          "metadata": {},
          "execution_count": 19
        }
      ]
    },
    {
      "cell_type": "code",
      "metadata": {
        "colab": {
          "base_uri": "https://localhost:8080/"
        },
        "id": "uYJYYVOgL2Jo",
        "outputId": "5723f9d5-9f51-4414-a046-ac4a09a31bce"
      },
      "source": [
        " #validating latitude values.  latitude should be between -90 to 90\n",
        " dfeventdata.latitude.describe()"
      ],
      "execution_count": null,
      "outputs": [
        {
          "output_type": "execute_result",
          "data": {
            "text/plain": [
              "count    1.266933e+06\n",
              "mean     2.094308e+01\n",
              "std      1.592072e+01\n",
              "min     -3.380000e+01\n",
              "25%      0.000000e+00\n",
              "50%      2.782000e+01\n",
              "75%      3.305000e+01\n",
              "max      5.364000e+01\n",
              "Name: latitude, dtype: float64"
            ]
          },
          "metadata": {},
          "execution_count": 20
        }
      ]
    },
    {
      "cell_type": "code",
      "metadata": {
        "id": "PZPzbdOatyEm"
      },
      "source": [
        ""
      ],
      "execution_count": null,
      "outputs": []
    },
    {
      "cell_type": "code",
      "metadata": {
        "id": "4s2aAy2oMEyM"
      },
      "source": [
        "#Reading final_non_event_data csv file and loading it in a DF\n",
        "dfnoneventdata=pd.read_csv('s3://capstone-project-sep2021/final_non_event_data.csv',delimiter=',', names= [\"device_id\",\"gender\",'age',\"age_group\",\"device_brand\",\"phone_brand\"], encoding='utf-8')"
      ],
      "execution_count": null,
      "outputs": []
    },
    {
      "cell_type": "code",
      "metadata": {
        "colab": {
          "base_uri": "https://localhost:8080/"
        },
        "id": "AkkeI9T4XTLQ",
        "outputId": "db945ba6-be65-4c34-fc73-f19a200432f4"
      },
      "source": [
        "dfnoneventdata.info()"
      ],
      "execution_count": null,
      "outputs": [
        {
          "output_type": "stream",
          "name": "stdout",
          "text": [
            "<class 'pandas.core.frame.DataFrame'>\n",
            "RangeIndex: 74646 entries, 0 to 74645\n",
            "Data columns (total 6 columns):\n",
            " #   Column        Non-Null Count  Dtype \n",
            "---  ------        --------------  ----- \n",
            " 0   device_id     74646 non-null  int64 \n",
            " 1   gender        74646 non-null  object\n",
            " 2   age           74646 non-null  int64 \n",
            " 3   age_group     74646 non-null  object\n",
            " 4   device_brand  74646 non-null  object\n",
            " 5   phone_brand   74646 non-null  object\n",
            "dtypes: int64(2), object(4)\n",
            "memory usage: 3.4+ MB\n"
          ]
        }
      ]
    },
    {
      "cell_type": "code",
      "metadata": {
        "colab": {
          "base_uri": "https://localhost:8080/",
          "height": 357
        },
        "id": "IC3aBx1vCXPm",
        "outputId": "1df93586-8e97-4e69-8f5c-13beaf9ea0e4"
      },
      "source": [
        "dfnoneventdata.head(10)"
      ],
      "execution_count": null,
      "outputs": [
        {
          "output_type": "execute_result",
          "data": {
            "text/html": [
              "<div>\n",
              "<style scoped>\n",
              "    .dataframe tbody tr th:only-of-type {\n",
              "        vertical-align: middle;\n",
              "    }\n",
              "\n",
              "    .dataframe tbody tr th {\n",
              "        vertical-align: top;\n",
              "    }\n",
              "\n",
              "    .dataframe thead th {\n",
              "        text-align: right;\n",
              "    }\n",
              "</style>\n",
              "<table border=\"1\" class=\"dataframe\">\n",
              "  <thead>\n",
              "    <tr style=\"text-align: right;\">\n",
              "      <th></th>\n",
              "      <th>device_id</th>\n",
              "      <th>gender</th>\n",
              "      <th>age</th>\n",
              "      <th>age_group</th>\n",
              "      <th>device_brand</th>\n",
              "      <th>phone_brand</th>\n",
              "    </tr>\n",
              "  </thead>\n",
              "  <tbody>\n",
              "    <tr>\n",
              "      <th>0</th>\n",
              "      <td>-9223067244542180000</td>\n",
              "      <td>M</td>\n",
              "      <td>24</td>\n",
              "      <td>M0-24</td>\n",
              "      <td>vivo</td>\n",
              "      <td>Y19T</td>\n",
              "    </tr>\n",
              "    <tr>\n",
              "      <th>1</th>\n",
              "      <td>-9222956879900150000</td>\n",
              "      <td>M</td>\n",
              "      <td>36</td>\n",
              "      <td>M32+</td>\n",
              "      <td>samsung</td>\n",
              "      <td>Galaxy Note 2</td>\n",
              "    </tr>\n",
              "    <tr>\n",
              "      <th>2</th>\n",
              "      <td>-9222754701995930000</td>\n",
              "      <td>M</td>\n",
              "      <td>29</td>\n",
              "      <td>M25-32</td>\n",
              "      <td>Coolpad</td>\n",
              "      <td>8730L</td>\n",
              "    </tr>\n",
              "    <tr>\n",
              "      <th>3</th>\n",
              "      <td>-9222352239947200000</td>\n",
              "      <td>M</td>\n",
              "      <td>23</td>\n",
              "      <td>M0-24</td>\n",
              "      <td>Xiaomi</td>\n",
              "      <td>xnote11</td>\n",
              "    </tr>\n",
              "    <tr>\n",
              "      <th>4</th>\n",
              "      <td>-9222173362545970000</td>\n",
              "      <td>F</td>\n",
              "      <td>56</td>\n",
              "      <td>F32+</td>\n",
              "      <td>samsung</td>\n",
              "      <td>Galaxy Note 2</td>\n",
              "    </tr>\n",
              "    <tr>\n",
              "      <th>5</th>\n",
              "      <td>-9221639938103560000</td>\n",
              "      <td>F</td>\n",
              "      <td>27</td>\n",
              "      <td>F25-32</td>\n",
              "      <td>Xiaomi</td>\n",
              "      <td>xnote2</td>\n",
              "    </tr>\n",
              "    <tr>\n",
              "      <th>6</th>\n",
              "      <td>-9221307795397200000</td>\n",
              "      <td>M</td>\n",
              "      <td>33</td>\n",
              "      <td>M32+</td>\n",
              "      <td>Coolpad</td>\n",
              "      <td>900tr2123</td>\n",
              "    </tr>\n",
              "    <tr>\n",
              "      <th>7</th>\n",
              "      <td>-9221086586254640000</td>\n",
              "      <td>M</td>\n",
              "      <td>29</td>\n",
              "      <td>M25-32</td>\n",
              "      <td>Xiaomi</td>\n",
              "      <td>x11S</td>\n",
              "    </tr>\n",
              "    <tr>\n",
              "      <th>8</th>\n",
              "      <td>-9221066489596330000</td>\n",
              "      <td>M</td>\n",
              "      <td>31</td>\n",
              "      <td>M25-32</td>\n",
              "      <td>lenovo</td>\n",
              "      <td>K860i</td>\n",
              "    </tr>\n",
              "    <tr>\n",
              "      <th>9</th>\n",
              "      <td>-9221046405740900000</td>\n",
              "      <td>M</td>\n",
              "      <td>38</td>\n",
              "      <td>M32+</td>\n",
              "      <td>Huawei</td>\n",
              "      <td>G510</td>\n",
              "    </tr>\n",
              "  </tbody>\n",
              "</table>\n",
              "</div>"
            ],
            "text/plain": [
              "             device_id gender  age age_group device_brand    phone_brand\n",
              "0 -9223067244542180000      M   24     M0-24         vivo           Y19T\n",
              "1 -9222956879900150000      M   36      M32+      samsung  Galaxy Note 2\n",
              "2 -9222754701995930000      M   29    M25-32      Coolpad          8730L\n",
              "3 -9222352239947200000      M   23     M0-24       Xiaomi        xnote11\n",
              "4 -9222173362545970000      F   56      F32+      samsung  Galaxy Note 2\n",
              "5 -9221639938103560000      F   27    F25-32       Xiaomi         xnote2\n",
              "6 -9221307795397200000      M   33      M32+      Coolpad      900tr2123\n",
              "7 -9221086586254640000      M   29    M25-32       Xiaomi           x11S\n",
              "8 -9221066489596330000      M   31    M25-32       lenovo          K860i\n",
              "9 -9221046405740900000      M   38      M32+       Huawei           G510"
            ]
          },
          "metadata": {},
          "execution_count": 23
        }
      ]
    },
    {
      "cell_type": "code",
      "metadata": {
        "id": "3-xRIwfUXx0K"
      },
      "source": [
        "#change datatypes to required datatype format.\n",
        "dfnoneventdata['device_id']=dfnoneventdata['device_id'].apply(abs)\n",
        "dfnoneventdata['device_brand']=dfnoneventdata[\"device_brand\"].astype(\"str\")\n",
        "dfnoneventdata['gender']=dfnoneventdata[\"gender\"].astype(\"str\")\n",
        "dfnoneventdata['phone_brand']=dfnoneventdata.phone_brand.str.replace(r'[^\\x00-\\x7F]+', '')"
      ],
      "execution_count": null,
      "outputs": []
    },
    {
      "cell_type": "code",
      "metadata": {
        "colab": {
          "base_uri": "https://localhost:8080/",
          "height": 357
        },
        "id": "6mvUo3slCOut",
        "outputId": "6f2bcba6-258c-4fcc-af62-f27f85a8c69a"
      },
      "source": [
        "dfnoneventdata.head(10)"
      ],
      "execution_count": null,
      "outputs": [
        {
          "output_type": "execute_result",
          "data": {
            "text/html": [
              "<div>\n",
              "<style scoped>\n",
              "    .dataframe tbody tr th:only-of-type {\n",
              "        vertical-align: middle;\n",
              "    }\n",
              "\n",
              "    .dataframe tbody tr th {\n",
              "        vertical-align: top;\n",
              "    }\n",
              "\n",
              "    .dataframe thead th {\n",
              "        text-align: right;\n",
              "    }\n",
              "</style>\n",
              "<table border=\"1\" class=\"dataframe\">\n",
              "  <thead>\n",
              "    <tr style=\"text-align: right;\">\n",
              "      <th></th>\n",
              "      <th>device_id</th>\n",
              "      <th>gender</th>\n",
              "      <th>age</th>\n",
              "      <th>age_group</th>\n",
              "      <th>device_brand</th>\n",
              "      <th>phone_brand</th>\n",
              "    </tr>\n",
              "  </thead>\n",
              "  <tbody>\n",
              "    <tr>\n",
              "      <th>0</th>\n",
              "      <td>9223067244542180000</td>\n",
              "      <td>M</td>\n",
              "      <td>24</td>\n",
              "      <td>M0-24</td>\n",
              "      <td>vivo</td>\n",
              "      <td>Y19T</td>\n",
              "    </tr>\n",
              "    <tr>\n",
              "      <th>1</th>\n",
              "      <td>9222956879900150000</td>\n",
              "      <td>M</td>\n",
              "      <td>36</td>\n",
              "      <td>M32+</td>\n",
              "      <td>samsung</td>\n",
              "      <td>Galaxy Note 2</td>\n",
              "    </tr>\n",
              "    <tr>\n",
              "      <th>2</th>\n",
              "      <td>9222754701995930000</td>\n",
              "      <td>M</td>\n",
              "      <td>29</td>\n",
              "      <td>M25-32</td>\n",
              "      <td>Coolpad</td>\n",
              "      <td>8730L</td>\n",
              "    </tr>\n",
              "    <tr>\n",
              "      <th>3</th>\n",
              "      <td>9222352239947200000</td>\n",
              "      <td>M</td>\n",
              "      <td>23</td>\n",
              "      <td>M0-24</td>\n",
              "      <td>Xiaomi</td>\n",
              "      <td>xnote11</td>\n",
              "    </tr>\n",
              "    <tr>\n",
              "      <th>4</th>\n",
              "      <td>9222173362545970000</td>\n",
              "      <td>F</td>\n",
              "      <td>56</td>\n",
              "      <td>F32+</td>\n",
              "      <td>samsung</td>\n",
              "      <td>Galaxy Note 2</td>\n",
              "    </tr>\n",
              "    <tr>\n",
              "      <th>5</th>\n",
              "      <td>9221639938103560000</td>\n",
              "      <td>F</td>\n",
              "      <td>27</td>\n",
              "      <td>F25-32</td>\n",
              "      <td>Xiaomi</td>\n",
              "      <td>xnote2</td>\n",
              "    </tr>\n",
              "    <tr>\n",
              "      <th>6</th>\n",
              "      <td>9221307795397200000</td>\n",
              "      <td>M</td>\n",
              "      <td>33</td>\n",
              "      <td>M32+</td>\n",
              "      <td>Coolpad</td>\n",
              "      <td>900tr2123</td>\n",
              "    </tr>\n",
              "    <tr>\n",
              "      <th>7</th>\n",
              "      <td>9221086586254640000</td>\n",
              "      <td>M</td>\n",
              "      <td>29</td>\n",
              "      <td>M25-32</td>\n",
              "      <td>Xiaomi</td>\n",
              "      <td>x11S</td>\n",
              "    </tr>\n",
              "    <tr>\n",
              "      <th>8</th>\n",
              "      <td>9221066489596330000</td>\n",
              "      <td>M</td>\n",
              "      <td>31</td>\n",
              "      <td>M25-32</td>\n",
              "      <td>lenovo</td>\n",
              "      <td>K860i</td>\n",
              "    </tr>\n",
              "    <tr>\n",
              "      <th>9</th>\n",
              "      <td>9221046405740900000</td>\n",
              "      <td>M</td>\n",
              "      <td>38</td>\n",
              "      <td>M32+</td>\n",
              "      <td>Huawei</td>\n",
              "      <td>G510</td>\n",
              "    </tr>\n",
              "  </tbody>\n",
              "</table>\n",
              "</div>"
            ],
            "text/plain": [
              "             device_id gender  age age_group device_brand    phone_brand\n",
              "0  9223067244542180000      M   24     M0-24         vivo           Y19T\n",
              "1  9222956879900150000      M   36      M32+      samsung  Galaxy Note 2\n",
              "2  9222754701995930000      M   29    M25-32      Coolpad          8730L\n",
              "3  9222352239947200000      M   23     M0-24       Xiaomi        xnote11\n",
              "4  9222173362545970000      F   56      F32+      samsung  Galaxy Note 2\n",
              "5  9221639938103560000      F   27    F25-32       Xiaomi         xnote2\n",
              "6  9221307795397200000      M   33      M32+      Coolpad      900tr2123\n",
              "7  9221086586254640000      M   29    M25-32       Xiaomi           x11S\n",
              "8  9221066489596330000      M   31    M25-32       lenovo          K860i\n",
              "9  9221046405740900000      M   38      M32+       Huawei           G510"
            ]
          },
          "metadata": {},
          "execution_count": 25
        }
      ]
    },
    {
      "cell_type": "code",
      "metadata": {
        "id": "r5loQxK1t6xC"
      },
      "source": [
        ""
      ],
      "execution_count": null,
      "outputs": []
    },
    {
      "cell_type": "code",
      "metadata": {
        "id": "RgsYSSAOStOr"
      },
      "source": [
        "#Geospatial Visualization"
      ],
      "execution_count": null,
      "outputs": []
    },
    {
      "cell_type": "code",
      "metadata": {
        "id": "aQ1UGkdWS2_y"
      },
      "source": [
        "#Plot the visualization plot for a sample of 1 lakh data points."
      ],
      "execution_count": null,
      "outputs": []
    },
    {
      "cell_type": "code",
      "metadata": {
        "colab": {
          "base_uri": "https://localhost:8080/"
        },
        "id": "M_sP84FpK13e",
        "outputId": "c0c8cfdc-bb58-49c2-b2ca-84961431fa36"
      },
      "source": [
        "!apt-get install libgeos-3.5.0\n",
        "!apt-get install libgeos-dev"
      ],
      "execution_count": null,
      "outputs": [
        {
          "output_type": "stream",
          "name": "stdout",
          "text": [
            "Reading package lists... Done\n",
            "Building dependency tree       \n",
            "Reading state information... Done\n",
            "E: Unable to locate package libgeos-3.5.0\n",
            "E: Couldn't find any package by glob 'libgeos-3.5.0'\n",
            "E: Couldn't find any package by regex 'libgeos-3.5.0'\n",
            "Reading package lists... Done\n",
            "Building dependency tree       \n",
            "Reading state information... Done\n",
            "libgeos-dev is already the newest version (3.6.2-1build2).\n",
            "libgeos-dev set to manually installed.\n",
            "0 upgraded, 0 newly installed, 0 to remove and 37 not upgraded.\n"
          ]
        }
      ]
    },
    {
      "cell_type": "code",
      "metadata": {
        "colab": {
          "base_uri": "https://localhost:8080/",
          "height": 575
        },
        "id": "Ew20jL2hLGrH",
        "outputId": "9171ff0d-db75-40fc-b287-8807b5334d92"
      },
      "source": [
        "!pip install https://github.com/matplotlib/basemap/archive/master.zip"
      ],
      "execution_count": null,
      "outputs": [
        {
          "output_type": "stream",
          "name": "stdout",
          "text": [
            "Collecting https://github.com/matplotlib/basemap/archive/master.zip\n",
            "  Downloading https://github.com/matplotlib/basemap/archive/master.zip\n",
            "\u001b[K     \\ 133.1 MB 8.8 MB/s\n",
            "\u001b[?25hRequirement already satisfied: matplotlib!=3.0.1,>=1.0.0 in /usr/local/lib/python3.7/dist-packages (from basemap==1.2.2+dev) (3.2.2)\n",
            "Requirement already satisfied: numpy>=1.2.1 in /usr/local/lib/python3.7/dist-packages (from basemap==1.2.2+dev) (1.19.5)\n",
            "Collecting pyproj>=1.9.3\n",
            "  Downloading pyproj-3.2.1-cp37-cp37m-manylinux2010_x86_64.whl (6.3 MB)\n",
            "\u001b[K     |████████████████████████████████| 6.3 MB 5.2 MB/s \n",
            "\u001b[?25hCollecting pyshp>=1.2.0\n",
            "  Downloading pyshp-2.1.3.tar.gz (219 kB)\n",
            "\u001b[K     |████████████████████████████████| 219 kB 52.7 MB/s \n",
            "\u001b[?25hRequirement already satisfied: six in /usr/local/lib/python3.7/dist-packages (from basemap==1.2.2+dev) (1.15.0)\n",
            "Requirement already satisfied: cycler>=0.10 in /usr/local/lib/python3.7/dist-packages (from matplotlib!=3.0.1,>=1.0.0->basemap==1.2.2+dev) (0.10.0)\n",
            "Requirement already satisfied: python-dateutil>=2.1 in /usr/local/lib/python3.7/dist-packages (from matplotlib!=3.0.1,>=1.0.0->basemap==1.2.2+dev) (2.8.2)\n",
            "Requirement already satisfied: kiwisolver>=1.0.1 in /usr/local/lib/python3.7/dist-packages (from matplotlib!=3.0.1,>=1.0.0->basemap==1.2.2+dev) (1.3.2)\n",
            "Requirement already satisfied: pyparsing!=2.0.4,!=2.1.2,!=2.1.6,>=2.0.1 in /usr/local/lib/python3.7/dist-packages (from matplotlib!=3.0.1,>=1.0.0->basemap==1.2.2+dev) (2.4.7)\n",
            "Requirement already satisfied: certifi in /usr/local/lib/python3.7/dist-packages (from pyproj>=1.9.3->basemap==1.2.2+dev) (2021.5.30)\n",
            "Building wheels for collected packages: basemap, pyshp\n",
            "  Building wheel for basemap (setup.py) ... \u001b[?25l\u001b[?25hdone\n",
            "  Created wheel for basemap: filename=basemap-1.2.2+dev-cp37-cp37m-linux_x86_64.whl size=121759610 sha256=9b7852a0fa913355a97af422f0996cfbd356efba85729def9b1f381173c6d9f6\n",
            "  Stored in directory: /tmp/pip-ephem-wheel-cache-4k2sk57m/wheels/98/1a/9d/de6aa4dee52d726996be77bb4a65cf03865288bfc35e5b24d8\n",
            "  Building wheel for pyshp (setup.py) ... \u001b[?25l\u001b[?25hdone\n",
            "  Created wheel for pyshp: filename=pyshp-2.1.3-py3-none-any.whl size=37325 sha256=7d1a17680d0a1bacd07e8224c1a02be2878d5900a8ac63568806b400d9ad6fa7\n",
            "  Stored in directory: /root/.cache/pip/wheels/43/f8/87/53c8cd41545ba20e536ea29a8fcb5431b5f477ca50d5dffbbe\n",
            "Successfully built basemap pyshp\n",
            "Installing collected packages: pyshp, pyproj, basemap\n",
            "Successfully installed basemap-1.2.2+dev pyproj-3.2.1 pyshp-2.1.3\n"
          ]
        },
        {
          "output_type": "display_data",
          "data": {
            "application/vnd.colab-display-data+json": {
              "pip_warning": {
                "packages": [
                  "mpl_toolkits"
                ]
              }
            }
          },
          "metadata": {}
        }
      ]
    },
    {
      "cell_type": "code",
      "metadata": {
        "id": "LPSTFvCH8cFd"
      },
      "source": [
        ""
      ],
      "execution_count": null,
      "outputs": []
    },
    {
      "cell_type": "code",
      "metadata": {
        "id": "xG_pJ8AwC8tq"
      },
      "source": [
        ""
      ],
      "execution_count": null,
      "outputs": []
    },
    {
      "cell_type": "code",
      "metadata": {
        "colab": {
          "base_uri": "https://localhost:8080/",
          "height": 203
        },
        "id": "19ge9FKUH1qS",
        "outputId": "e517c3da-9635-48bb-fb88-7e2b4bc28fe0"
      },
      "source": [
        "train = dfeventdata.sample(100000)\n",
        "train.head()"
      ],
      "execution_count": null,
      "outputs": [
        {
          "output_type": "execute_result",
          "data": {
            "text/html": [
              "<div>\n",
              "<style scoped>\n",
              "    .dataframe tbody tr th:only-of-type {\n",
              "        vertical-align: middle;\n",
              "    }\n",
              "\n",
              "    .dataframe tbody tr th {\n",
              "        vertical-align: top;\n",
              "    }\n",
              "\n",
              "    .dataframe thead th {\n",
              "        text-align: right;\n",
              "    }\n",
              "</style>\n",
              "<table border=\"1\" class=\"dataframe\">\n",
              "  <thead>\n",
              "    <tr style=\"text-align: right;\">\n",
              "      <th></th>\n",
              "      <th>device_id</th>\n",
              "      <th>gender</th>\n",
              "      <th>age</th>\n",
              "      <th>age_group</th>\n",
              "      <th>event_id</th>\n",
              "      <th>timestamp</th>\n",
              "      <th>longitude</th>\n",
              "      <th>latitude</th>\n",
              "    </tr>\n",
              "  </thead>\n",
              "  <tbody>\n",
              "    <tr>\n",
              "      <th>265549</th>\n",
              "      <td>5395726473773800000</td>\n",
              "      <td>F</td>\n",
              "      <td>70</td>\n",
              "      <td>F32+</td>\n",
              "      <td>1722365</td>\n",
              "      <td>2016-05-04 16:45:59</td>\n",
              "      <td>121.42</td>\n",
              "      <td>31.24</td>\n",
              "    </tr>\n",
              "    <tr>\n",
              "      <th>843022</th>\n",
              "      <td>3036199120978700000</td>\n",
              "      <td>M</td>\n",
              "      <td>42</td>\n",
              "      <td>M32+</td>\n",
              "      <td>2834736</td>\n",
              "      <td>2016-05-06 17:32:19</td>\n",
              "      <td>0.00</td>\n",
              "      <td>0.00</td>\n",
              "    </tr>\n",
              "    <tr>\n",
              "      <th>1019681</th>\n",
              "      <td>5518750837082750000</td>\n",
              "      <td>M</td>\n",
              "      <td>27</td>\n",
              "      <td>M25-32</td>\n",
              "      <td>39294</td>\n",
              "      <td>2016-05-07 09:23:53</td>\n",
              "      <td>103.84</td>\n",
              "      <td>30.71</td>\n",
              "    </tr>\n",
              "    <tr>\n",
              "      <th>868074</th>\n",
              "      <td>3396214697706440000</td>\n",
              "      <td>M</td>\n",
              "      <td>25</td>\n",
              "      <td>M25-32</td>\n",
              "      <td>2858637</td>\n",
              "      <td>2016-05-05 16:41:28</td>\n",
              "      <td>0.00</td>\n",
              "      <td>0.00</td>\n",
              "    </tr>\n",
              "    <tr>\n",
              "      <th>605265</th>\n",
              "      <td>574247655320808000</td>\n",
              "      <td>M</td>\n",
              "      <td>37</td>\n",
              "      <td>M32+</td>\n",
              "      <td>2137723</td>\n",
              "      <td>2016-05-06 23:03:46</td>\n",
              "      <td>0.00</td>\n",
              "      <td>0.00</td>\n",
              "    </tr>\n",
              "  </tbody>\n",
              "</table>\n",
              "</div>"
            ],
            "text/plain": [
              "                   device_id gender  ...  longitude latitude\n",
              "265549   5395726473773800000      F  ...     121.42    31.24\n",
              "843022   3036199120978700000      M  ...       0.00     0.00\n",
              "1019681  5518750837082750000      M  ...     103.84    30.71\n",
              "868074   3396214697706440000      M  ...       0.00     0.00\n",
              "605265    574247655320808000      M  ...       0.00     0.00\n",
              "\n",
              "[5 rows x 8 columns]"
            ]
          },
          "metadata": {},
          "execution_count": 30
        }
      ]
    },
    {
      "cell_type": "code",
      "metadata": {
        "id": "Uq--6d4zJ-nk"
      },
      "source": [
        "from mpl_toolkits.basemap import Basemap"
      ],
      "execution_count": null,
      "outputs": []
    },
    {
      "cell_type": "code",
      "metadata": {
        "colab": {
          "base_uri": "https://localhost:8080/",
          "height": 292
        },
        "id": "9J-YY4NEH1Xw",
        "outputId": "2f47b7d9-18b7-4948-9eb4-53a72b9a2720"
      },
      "source": [
        "ig = plt.figure(figsize=(8, 8))\n",
        "\n",
        "# Mercator of World\n",
        "m = Basemap(projection='merc',\n",
        "             llcrnrlat=5,  #latitude of lower left hand corner of the desired map domain\n",
        "             urcrnrlat=60, #latitude of upper right hand corner of the desired map domain\n",
        "             llcrnrlon=20, #longitude of lower left hand corner of the desired map domain\n",
        "             urcrnrlon=150, #longitude of upper right hand corner of the desired map domain\n",
        "             lat_ts=0, #latitude of true scale\n",
        "             resolution='c') #resolution of boundary dataset being used - c for crude\n",
        "\n",
        "\n",
        "m.fillcontinents(color='#191919',lake_color='#000000') # dark grey land, black lakes\n",
        "m.drawmapboundary(fill_color='#000000')                # black background\n",
        "m.drawcountries(linewidth=0.15, color=\"w\")              # thin white line for country borders\n",
        "\n",
        "# Plot the data\n",
        "mxy = m(train[\"longitude\"].tolist(), train[\"latitude\"].tolist())\n",
        "m.scatter(mxy[0], mxy[1], s=5, c=\"#1292db\", zorder=2)    # zorder for the points  \n",
        "\n",
        "plt.title(\"World map\")\n",
        "plt.show()"
      ],
      "execution_count": null,
      "outputs": [
        {
          "output_type": "display_data",
          "data": {
            "image/png": "[encoded data removed]",
            "text/plain": [
              "<Figure size 576x576 with 1 Axes>"
            ]
          },
          "metadata": {}
        }
      ]
    },
    {
      "cell_type": "code",
      "metadata": {
        "id": "9MfLZJwRHyaF"
      },
      "source": [
        "#Compare the event visualization plots based on the users' gender information. [This can be done on the sample of 1 lakh data points.]"
      ],
      "execution_count": null,
      "outputs": []
    },
    {
      "cell_type": "code",
      "metadata": {
        "colab": {
          "base_uri": "https://localhost:8080/",
          "height": 292
        },
        "id": "1PoXmPraKUgo",
        "outputId": "2d51c04e-86ff-4ad1-ad8b-25784b9cec28"
      },
      "source": [
        "mtrain=train[train['gender']=='M']\n",
        "ig = plt.figure(figsize=(8, 8))\n",
        "\n",
        "# Mercator of World\n",
        "m = Basemap(projection='merc',\n",
        "             llcrnrlat=5,  #latitude of lower left hand corner of the desired map domain\n",
        "             urcrnrlat=60, #latitude of upper right hand corner of the desired map domain\n",
        "             llcrnrlon=20, #longitude of lower left hand corner of the desired map domain\n",
        "             urcrnrlon=150, #longitude of upper right hand corner of the desired map domain\n",
        "             lat_ts=0, #latitude of true scale\n",
        "             resolution='c') #resolution of boundary dataset being used - c for crude\n",
        "\n",
        "\n",
        "m.fillcontinents(color='#191919',lake_color='#000000') # dark grey land, black lakes\n",
        "m.drawmapboundary(fill_color='#000000')                # black background\n",
        "m.drawcountries(linewidth=0.15, color=\"w\")              # thin white line for country borders\n",
        "\n",
        "# Plot the data\n",
        "mxy = m(mtrain[\"longitude\"].tolist(), mtrain[\"latitude\"].tolist())\n",
        "m.scatter(mxy[0], mxy[1], s=5, c=\"#1292db\", zorder=2)    # zorder for the points  \n",
        "\n",
        "plt.title(\"World map\")\n",
        "plt.show()"
      ],
      "execution_count": null,
      "outputs": [
        {
          "output_type": "display_data",
          "data": {
            "image/png": "[encoded data removed]",
            "text/plain": [
              "<Figure size 576x576 with 1 Axes>"
            ]
          },
          "metadata": {}
        }
      ]
    },
    {
      "cell_type": "code",
      "metadata": {
        "colab": {
          "base_uri": "https://localhost:8080/",
          "height": 292
        },
        "id": "fU-fTJNWX4Mx",
        "outputId": "88a9a2c0-39eb-4c27-ee51-a3ba6f065f37"
      },
      "source": [
        "ftrain=train[train['gender']=='F']\n",
        "ig = plt.figure(figsize=(8, 8))\n",
        "\n",
        "# Mercator of World\n",
        "m = Basemap(projection='merc',\n",
        "             llcrnrlat=5,  #latitude of lower left hand corner of the desired map domain\n",
        "             urcrnrlat=60, #latitude of upper right hand corner of the desired map domain\n",
        "             llcrnrlon=20, #longitude of lower left hand corner of the desired map domain\n",
        "             urcrnrlon=150, #longitude of upper right hand corner of the desired map domain\n",
        "             lat_ts=0, #latitude of true scale\n",
        "             resolution='c') #resolution of boundary dataset being used - c for crude\n",
        "\n",
        "\n",
        "m.fillcontinents(color='#191919',lake_color='#000000') # dark grey land, black lakes\n",
        "m.drawmapboundary(fill_color='#000000')                # black background\n",
        "m.drawcountries(linewidth=0.15, color=\"w\")              # thin white line for country borders\n",
        "\n",
        "# Plot the data\n",
        "mxy = m(ftrain[\"longitude\"].tolist(), ftrain[\"latitude\"].tolist())\n",
        "m.scatter(mxy[0], mxy[1], s=5, c=\"#1292db\", zorder=2)    # zorder for the points  \n",
        "\n",
        "plt.title(\"World map\")\n",
        "plt.show()"
      ],
      "execution_count": null,
      "outputs": [
        {
          "output_type": "display_data",
          "data": {
            "image/png": "[encoded data removed]",
            "text/plain": [
              "<Figure size 576x576 with 1 Axes>"
            ]
          },
          "metadata": {}
        }
      ]
    },
    {
      "cell_type": "code",
      "metadata": {
        "id": "b0U-LcSdKbmX"
      },
      "source": [
        "#Compare the event visualization plots based on the following age groups: 0–24, 25–32, 32+"
      ],
      "execution_count": null,
      "outputs": []
    },
    {
      "cell_type": "code",
      "metadata": {
        "colab": {
          "base_uri": "https://localhost:8080/",
          "height": 292
        },
        "id": "xwtzOqIsKhTF",
        "outputId": "ac77439a-4fee-4043-f7d5-11d9d92697f7"
      },
      "source": [
        "agetrain=train[train['age_group'].str.contains('25-32')]\n",
        "ig = plt.figure(figsize=(8, 8))\n",
        "\n",
        "# Mercator of World\n",
        "m = Basemap(projection='merc',\n",
        "             llcrnrlat=5,  #latitude of lower left hand corner of the desired map domain\n",
        "             urcrnrlat=60, #latitude of upper right hand corner of the desired map domain\n",
        "             llcrnrlon=20, #longitude of lower left hand corner of the desired map domain\n",
        "             urcrnrlon=150, #longitude of upper right hand corner of the desired map domain\n",
        "             lat_ts=0, #latitude of true scale\n",
        "             resolution='c') #resolution of boundary dataset being used - c for crude\n",
        "\n",
        "\n",
        "m.fillcontinents(color='#191919',lake_color='#000000') # dark grey land, black lakes\n",
        "m.drawmapboundary(fill_color='#000000')                # black background\n",
        "m.drawcountries(linewidth=0.15, color=\"w\")              # thin white line for country borders\n",
        "\n",
        "# Plot the data\n",
        "mxy = m(agetrain[\"longitude\"].tolist(), agetrain[\"latitude\"].tolist())\n",
        "m.scatter(mxy[0], mxy[1], s=5, c=\"#1292db\", zorder=2)    # zorder for the points  \n",
        "\n",
        "plt.title(\"World map\")\n",
        "plt.show()"
      ],
      "execution_count": null,
      "outputs": [
        {
          "output_type": "display_data",
          "data": {
            "image/png": "[encoded data removed]",
            "text/plain": [
              "<Figure size 576x576 with 1 Axes>"
            ]
          },
          "metadata": {}
        }
      ]
    },
    {
      "cell_type": "code",
      "metadata": {
        "colab": {
          "base_uri": "https://localhost:8080/",
          "height": 292
        },
        "id": "igdXU2IiKkhV",
        "outputId": "a43ab8bc-1388-4185-d5bf-3e3807534fdc"
      },
      "source": [
        "agetrain=train[train['age_group'].str.contains('0-24')]\n",
        "ig = plt.figure(figsize=(8, 8))\n",
        "\n",
        "# Mercator of World\n",
        "m = Basemap(projection='merc',\n",
        "             llcrnrlat=5,  #latitude of lower left hand corner of the desired map domain\n",
        "             urcrnrlat=60, #latitude of upper right hand corner of the desired map domain\n",
        "             llcrnrlon=20, #longitude of lower left hand corner of the desired map domain\n",
        "             urcrnrlon=150, #longitude of upper right hand corner of the desired map domain\n",
        "             lat_ts=0, #latitude of true scale\n",
        "             resolution='c') #resolution of boundary dataset being used - c for crude\n",
        "\n",
        "\n",
        "m.fillcontinents(color='#191919',lake_color='#000000') # dark grey land, black lakes\n",
        "m.drawmapboundary(fill_color='#000000')                # black background\n",
        "m.drawcountries(linewidth=0.15, color=\"w\")              # thin white line for country borders\n",
        "\n",
        "# Plot the data\n",
        "mxy = m(agetrain[\"longitude\"].tolist(), agetrain[\"latitude\"].tolist())\n",
        "m.scatter(mxy[0], mxy[1], s=5, c=\"#1292db\", zorder=2)    # zorder for the points  \n",
        "\n",
        "plt.title(\"World map\")\n",
        "plt.show()"
      ],
      "execution_count": null,
      "outputs": [
        {
          "output_type": "display_data",
          "data": {
            "image/png": "[encoded data removed]",
            "text/plain": [
              "<Figure size 576x576 with 1 Axes>"
            ]
          },
          "metadata": {}
        }
      ]
    },
    {
      "cell_type": "code",
      "metadata": {
        "colab": {
          "base_uri": "https://localhost:8080/",
          "height": 292
        },
        "id": "I_wlKn4_YTth",
        "outputId": "6e09689c-edc0-42f3-cf75-23183edaabaf"
      },
      "source": [
        "agetrain=train[train['age_group'].str.contains('32+')]\n",
        "ig = plt.figure(figsize=(8, 8))\n",
        "\n",
        "# Mercator of World\n",
        "m = Basemap(projection='merc',\n",
        "             llcrnrlat=5,  #latitude of lower left hand corner of the desired map domain\n",
        "             urcrnrlat=60, #latitude of upper right hand corner of the desired map domain\n",
        "             llcrnrlon=20, #longitude of lower left hand corner of the desired map domain\n",
        "             urcrnrlon=150, #longitude of upper right hand corner of the desired map domain\n",
        "             lat_ts=0, #latitude of true scale\n",
        "             resolution='c') #resolution of boundary dataset being used - c for crude\n",
        "\n",
        "\n",
        "m.fillcontinents(color='#191919',lake_color='#000000') # dark grey land, black lakes\n",
        "m.drawmapboundary(fill_color='#000000')                # black background\n",
        "m.drawcountries(linewidth=0.15, color=\"w\")              # thin white line for country borders\n",
        "\n",
        "# Plot the data\n",
        "mxy = m(agetrain[\"longitude\"].tolist(), agetrain[\"latitude\"].tolist())\n",
        "m.scatter(mxy[0], mxy[1], s=5, c=\"#1292db\", zorder=2)    # zorder for the points  \n",
        "\n",
        "plt.title(\"World map\")\n",
        "plt.show()"
      ],
      "execution_count": null,
      "outputs": [
        {
          "output_type": "display_data",
          "data": {
            "image/png": "[encoded data removed]",
            "text/plain": [
              "<Figure size 576x576 with 1 Axes>"
            ]
          },
          "metadata": {}
        }
      ]
    }
  ]
}