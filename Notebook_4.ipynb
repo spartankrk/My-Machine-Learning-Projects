{
 "cells": [
  {
   "cell_type": "code",
   "execution_count": 1,
   "metadata": {},
   "outputs": [],
   "source": [
    "# Setting the environment variables\n",
    "import os\n",
    "import sys\n",
    "import pandas as pd\n",
    "import numpy as np\n",
    "os.environ[\"PYSPARK_PYTHON\"]=\"/usr/bin/python3\"\n",
    "os.environ[\"PYSPARK_DRIVER_PYTHON\"]=\"/usr/bin/python3\"\n",
    "os.environ[\"PYSPARK_DRIVER_PYTHON_OPTS\"]=\"notebook --no-browser\"\n",
    "os.environ[\"JAVA_HOME\"] = \"/usr/java/jdk1.8.0_161/jre\"\n",
    "os.environ[\"SPARK_HOME\"] = \"/home/ec2-user/spark-2.4.4-bin-hadoop2.7\"\n",
    "os.environ[\"PYLIB\"] = os.environ[\"SPARK_HOME\"] + \"/python/lib\"\n",
    "sys.path.insert(0, os.environ[\"PYLIB\"] + \"/py4j-0.10.7-src.zip\")\n",
    "sys.path.insert(0, os.environ[\"PYLIB\"] + \"/pyspark.zip\")"
   ]
  },
  {
   "cell_type": "markdown",
   "metadata": {},
   "source": [
    "# Ecommerce Churn Assignment"
   ]
  },
  {
   "cell_type": "markdown",
   "metadata": {},
   "source": [
    "The aim of the assignment is to build a model that predicts whether a person purchases an item after it has been added to the cart or not. Being a classification problem, you are expected to use your understanding of all the three models covered till now. You must select the most robust model and provide a solution that predicts the churn in the most suitable manner. \n",
    "\n",
    "For this assignment, you are provided the data associated with an e-commerce company for the month of October 2019. Your task is to first analyse the data, and then perform multiple steps towards the model building process.\n",
    "\n",
    "The broad tasks are:\n",
    "- Data Exploration\n",
    "- Feature Engineering\n",
    "- Model Selection\n",
    "- Model Inference"
   ]
  },
  {
   "cell_type": "markdown",
   "metadata": {},
   "source": [
    "### Data description"
   ]
  },
  {
   "cell_type": "markdown",
   "metadata": {},
   "source": [
    "The dataset stores the information of a customer session on the e-commerce platform. It records the activity and the associated parameters with it.\n",
    "\n",
    "- **event_time**: Date and time when user accesses the platform\n",
    "- **event_type**: Action performed by the customer\n",
    "            - View\n",
    "            - Cart\n",
    "            - Purchase\n",
    "            - Remove from cart\n",
    "- **product_id**: Unique number to identify the product in the event\n",
    "- **category_id**: Unique number to identify the category of the product\n",
    "- **category_code**: Stores primary and secondary categories of the product\n",
    "- **brand**: Brand associated with the product\n",
    "- **price**: Price of the product\n",
    "- **user_id**: Unique ID for a customer\n",
    "- **user_session**: Session ID for a user\n"
   ]
  },
  {
   "cell_type": "markdown",
   "metadata": {},
   "source": [
    "### Initialising the SparkSession"
   ]
  },
  {
   "cell_type": "markdown",
   "metadata": {},
   "source": [
    "The dataset provided is 5 GBs in size. Therefore, it is expected that you increase the driver memory to a greater number. You can refer to notebook 1 for the steps involved here."
   ]
  },
  {
   "cell_type": "code",
   "execution_count": 2,
   "metadata": {},
   "outputs": [],
   "source": [
    "from pyspark import SparkConf\n",
    "from pyspark.sql import SparkSession\n",
    "from pyspark.sql.functions import countDistinct ,col, avg, mean, isnan, when, count, col, to_timestamp\n",
    "from pyspark.sql.types import IntegerType\n",
    "import matplotlib.pyplot as plt\n",
    "import datetime\n",
    "import seaborn as sns\n",
    "from datetime import timedelta\n",
    "import pandas as pd\n",
    "import numpy as np\n",
    "import pyspark.sql.functions as f"
   ]
  },
  {
   "cell_type": "code",
   "execution_count": 3,
   "metadata": {},
   "outputs": [
    {
     "data": {
      "text/html": [
       "\n",
       "            <div>\n",
       "                <p><b>SparkSession - in-memory</b></p>\n",
       "                \n",
       "        <div>\n",
       "            <p><b>SparkContext</b></p>\n",
       "\n",
       "            <p><a href=\"http://ip-172-31-63-36.ec2.internal:4040\">Spark UI</a></p>\n",
       "\n",
       "            <dl>\n",
       "              <dt>Version</dt>\n",
       "                <dd><code>v2.4.4</code></dd>\n",
       "              <dt>Master</dt>\n",
       "                <dd><code>local[*]</code></dd>\n",
       "              <dt>AppName</dt>\n",
       "                <dd><code>demo</code></dd>\n",
       "            </dl>\n",
       "        </div>\n",
       "        \n",
       "            </div>\n",
       "        "
      ],
      "text/plain": [
       "<pyspark.sql.session.SparkSession at 0x7fdd290e6850>"
      ]
     },
     "execution_count": 3,
     "metadata": {},
     "output_type": "execute_result"
    }
   ],
   "source": [
    "# initialising the session with 14 GB driver memory\n",
    "MAX_MEMORY = \"14G\"\n",
    "\n",
    "spark = SparkSession \\\n",
    "    .builder \\\n",
    "    .appName(\"demo\") \\\n",
    "    .config(\"spark.driver.memory\", MAX_MEMORY) \\\n",
    "    .getOrCreate()\n",
    "\n",
    "spark"
   ]
  },
  {
   "cell_type": "code",
   "execution_count": 4,
   "metadata": {},
   "outputs": [],
   "source": [
    "# Loading the clean data\n",
    "df_clean = spark.read.csv('/home/ec2-user/df_updated2', header= False, inferSchema= True)"
   ]
  },
  {
   "cell_type": "code",
   "execution_count": 5,
   "metadata": {},
   "outputs": [
    {
     "name": "stdout",
     "output_type": "stream",
     "text": [
      "+----+---+---+-----------+-----------+---+---+---+----+---+----+------+----+----+\n",
      "| _c0|_c1|_c2|        _c3|        _c4|_c5|_c6|_c7| _c8|_c9|_c10|  _c11|_c12|_c13|\n",
      "+----+---+---+-----------+-----------+---+---+---+----+---+----+------+----+----+\n",
      "|view|540|  6|electronics| smartphone| 35|  1| 35|null| 35| 3.0|huawei|   0|   0|\n",
      "|view|114|  5| appliances|environment|  1|  1|  1|null|  4| 0.0|others|   0|   0|\n",
      "|view| 39|  3|electronics|     clocks|  2|  2|  2|null|  2| 3.0| casio|   0|   0|\n",
      "|view|167|  6|electronics|      audio|  2|  2|  2|null| 14| 2.0|others|   0|   0|\n",
      "|view|161|  6|electronics|      audio| 12|  1|  1|null|121| 2.0| apple|   0|   0|\n",
      "+----+---+---+-----------+-----------+---+---+---+----+---+----+------+----+----+\n",
      "only showing top 5 rows\n",
      "\n"
     ]
    }
   ],
   "source": [
    "df_clean.show(5)"
   ]
  },
  {
   "cell_type": "code",
   "execution_count": 6,
   "metadata": {},
   "outputs": [],
   "source": [
    "#renaming the column names\n",
    "df_clean = df_clean.select(col(\"_c0\").alias(\"event_type\"), col(\"_c1\").alias(\"price\"), col(\"_c2\").alias(\"day_of_week\"), col(\"_c3\").alias(\"category1\"), col(\"_c4\").alias(\"category2\"), col(\"_c5\").alias(\"activity_countval\"), col(\"_c6\").alias(\"product_view_counts\"), col(\"_c7\").alias(\"category2_view_counts\"), col(\"_c8\").alias(\"average_shopping_expense\"), col(\"_c9\").alias(\"session_counts\"), col(\"_c10\").alias(\"binnedhour\"), col(\"_c11\").alias(\"brand_new\"), col(\"_c12\").alias(\"is_purchased\"), col(\"_c13\").alias(\"label\"))"
   ]
  },
  {
   "cell_type": "code",
   "execution_count": 7,
   "metadata": {},
   "outputs": [
    {
     "name": "stdout",
     "output_type": "stream",
     "text": [
      "+----------+-----+-----------+-----------+-----------+-----------------+-------------------+---------------------+------------------------+--------------+----------+---------+------------+-----+\n",
      "|event_type|price|day_of_week|  category1|  category2|activity_countval|product_view_counts|category2_view_counts|average_shopping_expense|session_counts|binnedhour|brand_new|is_purchased|label|\n",
      "+----------+-----+-----------+-----------+-----------+-----------------+-------------------+---------------------+------------------------+--------------+----------+---------+------------+-----+\n",
      "|      view|  540|          6|electronics| smartphone|               35|                  1|                   35|                    null|            35|       3.0|   huawei|           0|    0|\n",
      "|      view|  114|          5| appliances|environment|                1|                  1|                    1|                    null|             4|       0.0|   others|           0|    0|\n",
      "|      view|   39|          3|electronics|     clocks|                2|                  2|                    2|                    null|             2|       3.0|    casio|           0|    0|\n",
      "|      view|  167|          6|electronics|      audio|                2|                  2|                    2|                    null|            14|       2.0|   others|           0|    0|\n",
      "|      view|  161|          6|electronics|      audio|               12|                  1|                    1|                    null|           121|       2.0|    apple|           0|    0|\n",
      "+----------+-----+-----------+-----------+-----------+-----------------+-------------------+---------------------+------------------------+--------------+----------+---------+------------+-----+\n",
      "only showing top 5 rows\n",
      "\n"
     ]
    }
   ],
   "source": [
    "df_clean.show(5)"
   ]
  },
  {
   "cell_type": "code",
   "execution_count": 8,
   "metadata": {},
   "outputs": [
    {
     "data": {
      "text/plain": [
       "15874983"
      ]
     },
     "execution_count": 8,
     "metadata": {},
     "output_type": "execute_result"
    }
   ],
   "source": [
    "df_clean.count()"
   ]
  },
  {
   "cell_type": "code",
   "execution_count": 9,
   "metadata": {},
   "outputs": [],
   "source": [
    "from sklearn.model_selection import train_test_split\n",
    "from sklearn.tree import DecisionTreeClassifier\n",
    "from sklearn.metrics import classification_report, confusion_matrix\n",
    "from sklearn import metrics"
   ]
  },
  {
   "cell_type": "code",
   "execution_count": 10,
   "metadata": {},
   "outputs": [],
   "source": [
    "#import required libraries\n",
    "from sklearn import preprocessing\n",
    "from sklearn.model_selection import KFold\n",
    "from sklearn.model_selection import GridSearchCV\n",
    "from pyspark.mllib.util import MLUtils"
   ]
  },
  {
   "cell_type": "code",
   "execution_count": 11,
   "metadata": {},
   "outputs": [
    {
     "name": "stdout",
     "output_type": "stream",
     "text": [
      "+----------+-----+-----------+-----------+-----------+-----------------+-------------------+---------------------+------------------------+--------------+----------+---------+------------+-----+\n",
      "|event_type|price|day_of_week|  category1|  category2|activity_countval|product_view_counts|category2_view_counts|average_shopping_expense|session_counts|binnedhour|brand_new|is_purchased|label|\n",
      "+----------+-----+-----------+-----------+-----------+-----------------+-------------------+---------------------+------------------------+--------------+----------+---------+------------+-----+\n",
      "|      view|  540|          6|electronics| smartphone|               35|                  1|                   35|                    null|            35|       3.0|   huawei|           0|    0|\n",
      "|      view|  114|          5| appliances|environment|                1|                  1|                    1|                    null|             4|       0.0|   others|           0|    0|\n",
      "|      view|   39|          3|electronics|     clocks|                2|                  2|                    2|                    null|             2|       3.0|    casio|           0|    0|\n",
      "|      view|  167|          6|electronics|      audio|                2|                  2|                    2|                    null|            14|       2.0|   others|           0|    0|\n",
      "|      view|  161|          6|electronics|      audio|               12|                  1|                    1|                    null|           121|       2.0|    apple|           0|    0|\n",
      "+----------+-----+-----------+-----------+-----------+-----------------+-------------------+---------------------+------------------------+--------------+----------+---------+------------+-----+\n",
      "only showing top 5 rows\n",
      "\n"
     ]
    }
   ],
   "source": [
    "df_clean.show(5)"
   ]
  },
  {
   "cell_type": "markdown",
   "metadata": {},
   "source": [
    "## Task 3: Model Selection\n",
    "3 models for classification:\t\n",
    "- Logistic Regression\n",
    "- Decision Tree\n",
    "- Random Forest"
   ]
  },
  {
   "cell_type": "markdown",
   "metadata": {},
   "source": [
    "### Model 3: Random Forest"
   ]
  },
  {
   "cell_type": "code",
   "execution_count": 12,
   "metadata": {},
   "outputs": [],
   "source": [
    "# Additional steps for Decision Trees, if any\n"
   ]
  },
  {
   "cell_type": "code",
   "execution_count": 13,
   "metadata": {},
   "outputs": [],
   "source": [
    "df_clean=df_clean.withColumn(\"is_purchased\",df_clean[\"is_purchased\"].cast(IntegerType()))"
   ]
  },
  {
   "cell_type": "code",
   "execution_count": 14,
   "metadata": {},
   "outputs": [],
   "source": [
    "df_clean=df_clean.drop('user_session')"
   ]
  },
  {
   "cell_type": "code",
   "execution_count": 15,
   "metadata": {},
   "outputs": [
    {
     "name": "stdout",
     "output_type": "stream",
     "text": [
      "root\n",
      " |-- event_type: string (nullable = true)\n",
      " |-- price: integer (nullable = true)\n",
      " |-- day_of_week: integer (nullable = true)\n",
      " |-- category1: string (nullable = true)\n",
      " |-- category2: string (nullable = true)\n",
      " |-- activity_countval: integer (nullable = true)\n",
      " |-- product_view_counts: integer (nullable = true)\n",
      " |-- category2_view_counts: integer (nullable = true)\n",
      " |-- average_shopping_expense: double (nullable = true)\n",
      " |-- session_counts: integer (nullable = true)\n",
      " |-- binnedhour: double (nullable = true)\n",
      " |-- brand_new: string (nullable = true)\n",
      " |-- is_purchased: integer (nullable = true)\n",
      " |-- label: integer (nullable = true)\n",
      "\n"
     ]
    }
   ],
   "source": [
    "df_clean.printSchema()"
   ]
  },
  {
   "cell_type": "markdown",
   "metadata": {},
   "source": [
    "#### Feature Transformation (Code will be same; check for the columns)"
   ]
  },
  {
   "cell_type": "code",
   "execution_count": 16,
   "metadata": {},
   "outputs": [
    {
     "data": {
      "text/plain": [
       "15874983"
      ]
     },
     "execution_count": 16,
     "metadata": {},
     "output_type": "execute_result"
    }
   ],
   "source": [
    "# Check if only the required columns are present to build the model\n",
    "# If not, drop the redundant columns\n",
    "df_clean.count()"
   ]
  },
  {
   "cell_type": "code",
   "execution_count": 17,
   "metadata": {},
   "outputs": [],
   "source": [
    "# Categorising the attributes into its type - Continuous and Categorical\n",
    "all_categorical_features = ['day_of_week', 'category1', 'category2', 'binnedhour', 'brand_new']\n",
    "all_continuous_features = ['price', 'activity_countval', 'product_view_counts', 'category2_view_counts', 'session_counts', 'average_shopping_expense']"
   ]
  },
  {
   "cell_type": "code",
   "execution_count": 18,
   "metadata": {},
   "outputs": [],
   "source": [
    "# Importing the libraries for data transormation\n",
    "from pyspark.ml.feature import OneHotEncoderEstimator, StringIndexer, VectorAssembler"
   ]
  },
  {
   "cell_type": "code",
   "execution_count": 19,
   "metadata": {},
   "outputs": [],
   "source": [
    "stages=[]"
   ]
  },
  {
   "cell_type": "code",
   "execution_count": 20,
   "metadata": {},
   "outputs": [],
   "source": [
    "# Building a function for encoding all the categorical variables\n",
    "for categoricalCol in all_categorical_features:\n",
    "    stringIndexer = StringIndexer(inputCol = categoricalCol, outputCol = categoricalCol + 'Index').setHandleInvalid(\"keep\")\n",
    "    encoder = OneHotEncoderEstimator(inputCols=[stringIndexer.getOutputCol()], outputCols=[categoricalCol + \"classVec\"])\n",
    "    stages += [stringIndexer, encoder]"
   ]
  },
  {
   "cell_type": "code",
   "execution_count": 21,
   "metadata": {},
   "outputs": [],
   "source": [
    "# Vector assembler to combine all the features\n",
    "assemblerInputs = [c + \"classVec\" for c in all_categorical_features] + all_continuous_features\n",
    "assembler = VectorAssembler(inputCols=assemblerInputs, outputCol=\"features\").setHandleInvalid(\"keep\")\n",
    "stages += [assembler]"
   ]
  },
  {
   "cell_type": "code",
   "execution_count": 22,
   "metadata": {},
   "outputs": [],
   "source": [
    "# Pipeline for the tasks\n",
    "# Loading all the steps in a pipeline\n",
    "from pyspark.ml import Pipeline\n",
    "pipeline = Pipeline(stages = stages)"
   ]
  },
  {
   "cell_type": "code",
   "execution_count": 23,
   "metadata": {},
   "outputs": [],
   "source": [
    "# Transforming the dataframe df\n",
    "# Fitting the steps on the dataFrame\n",
    "pipelineModel = pipeline.fit(df_clean)\n",
    "df_clean = pipelineModel.transform(df_clean)"
   ]
  },
  {
   "cell_type": "code",
   "execution_count": 24,
   "metadata": {},
   "outputs": [
    {
     "name": "stdout",
     "output_type": "stream",
     "text": [
      "root\n",
      " |-- event_type: string (nullable = true)\n",
      " |-- price: integer (nullable = true)\n",
      " |-- day_of_week: integer (nullable = true)\n",
      " |-- category1: string (nullable = true)\n",
      " |-- category2: string (nullable = true)\n",
      " |-- activity_countval: integer (nullable = true)\n",
      " |-- product_view_counts: integer (nullable = true)\n",
      " |-- category2_view_counts: integer (nullable = true)\n",
      " |-- average_shopping_expense: double (nullable = true)\n",
      " |-- session_counts: integer (nullable = true)\n",
      " |-- binnedhour: double (nullable = true)\n",
      " |-- brand_new: string (nullable = true)\n",
      " |-- is_purchased: integer (nullable = true)\n",
      " |-- label: integer (nullable = true)\n",
      " |-- day_of_weekIndex: double (nullable = false)\n",
      " |-- day_of_weekclassVec: vector (nullable = true)\n",
      " |-- category1Index: double (nullable = false)\n",
      " |-- category1classVec: vector (nullable = true)\n",
      " |-- category2Index: double (nullable = false)\n",
      " |-- category2classVec: vector (nullable = true)\n",
      " |-- binnedhourIndex: double (nullable = false)\n",
      " |-- binnedhourclassVec: vector (nullable = true)\n",
      " |-- brand_newIndex: double (nullable = false)\n",
      " |-- brand_newclassVec: vector (nullable = true)\n",
      " |-- features: vector (nullable = true)\n",
      "\n"
     ]
    }
   ],
   "source": [
    "# Schema of the transformed df\n",
    "df_clean.printSchema()"
   ]
  },
  {
   "cell_type": "code",
   "execution_count": 25,
   "metadata": {},
   "outputs": [
    {
     "name": "stdout",
     "output_type": "stream",
     "text": [
      "+----------+-----+-----------+-----------+-----------+-----------------+-------------------+---------------------+------------------------+--------------+----------+---------+------------+-----+----------------+-------------------+--------------+-----------------+--------------+-----------------+---------------+------------------+--------------+-----------------+--------------------+\n",
      "|event_type|price|day_of_week|  category1|  category2|activity_countval|product_view_counts|category2_view_counts|average_shopping_expense|session_counts|binnedhour|brand_new|is_purchased|label|day_of_weekIndex|day_of_weekclassVec|category1Index|category1classVec|category2Index|category2classVec|binnedhourIndex|binnedhourclassVec|brand_newIndex|brand_newclassVec|            features|\n",
      "+----------+-----+-----------+-----------+-----------+-----------------+-------------------+---------------------+------------------------+--------------+----------+---------+------------+-----+----------------+-------------------+--------------+-----------------+--------------+-----------------+---------------+------------------+--------------+-----------------+--------------------+\n",
      "|      view|  540|          6|electronics| smartphone|               35|                  1|                   35|                    null|            35|       3.0|   huawei|           0|    0|             4.0|      (7,[4],[1.0])|           0.0|   (13,[0],[1.0])|           0.0|   (57,[0],[1.0])|            3.0|     (4,[3],[1.0])|           4.0|   (21,[4],[1.0])|(108,[4,7,20,80,8...|\n",
      "|      view|  114|          5| appliances|environment|                1|                  1|                    1|                    null|             4|       0.0|   others|           0|    0|             2.0|      (7,[2],[1.0])|           1.0|   (13,[1],[1.0])|           7.0|   (57,[7],[1.0])|            2.0|     (4,[2],[1.0])|           0.0|   (21,[0],[1.0])|(108,[2,8,27,79,8...|\n",
      "|      view|   39|          3|electronics|     clocks|                2|                  2|                    2|                    null|             2|       3.0|    casio|           0|    0|             0.0|      (7,[0],[1.0])|           0.0|   (13,[0],[1.0])|           3.0|   (57,[3],[1.0])|            3.0|     (4,[3],[1.0])|          13.0|  (21,[13],[1.0])|(108,[0,7,23,80,9...|\n",
      "|      view|  167|          6|electronics|      audio|                2|                  2|                    2|                    null|            14|       2.0|   others|           0|    0|             4.0|      (7,[4],[1.0])|           0.0|   (13,[0],[1.0])|           2.0|   (57,[2],[1.0])|            0.0|     (4,[0],[1.0])|           0.0|   (21,[0],[1.0])|(108,[4,7,22,77,8...|\n",
      "|      view|  161|          6|electronics|      audio|               12|                  1|                    1|                    null|           121|       2.0|    apple|           0|    0|             4.0|      (7,[4],[1.0])|           0.0|   (13,[0],[1.0])|           2.0|   (57,[2],[1.0])|            0.0|     (4,[0],[1.0])|           2.0|   (21,[2],[1.0])|(108,[4,7,22,77,8...|\n",
      "|      view|  437|          4|  computers| components|                4|                  1|                   29|                    null|            85|       2.0|   others|           0|    0|             1.0|      (7,[1],[1.0])|           2.0|   (13,[2],[1.0])|          12.0|  (57,[12],[1.0])|            0.0|     (4,[0],[1.0])|           0.0|   (21,[0],[1.0])|(108,[1,9,32,77,8...|\n",
      "|      view|   45|          5|    apparel|      shoes|               11|                  2|                   11|                    null|           330|       0.0|   others|           0|    0|             2.0|      (7,[2],[1.0])|           3.0|   (13,[3],[1.0])|           5.0|   (57,[5],[1.0])|            2.0|     (4,[2],[1.0])|           0.0|   (21,[0],[1.0])|(108,[2,10,25,79,...|\n",
      "|      view|  243|          3|electronics| smartphone|                2|                  1|                    2|                    null|             2|       1.0|  samsung|           0|    0|             0.0|      (7,[0],[1.0])|           0.0|   (13,[0],[1.0])|           0.0|   (57,[0],[1.0])|            1.0|     (4,[1],[1.0])|           1.0|   (21,[1],[1.0])|(108,[0,7,20,78,8...|\n",
      "|      view|  146|          2|electronics|      audio|                3|                  2|                   30|                    null|            74|       1.0|   others|           0|    0|             6.0|      (7,[6],[1.0])|           0.0|   (13,[0],[1.0])|           2.0|   (57,[2],[1.0])|            1.0|     (4,[1],[1.0])|           0.0|   (21,[0],[1.0])|(108,[6,7,22,78,8...|\n",
      "|      view|  582|          4|electronics| smartphone|                1|                 13|                   50|                    null|           157|       1.0|    apple|           0|    0|             1.0|      (7,[1],[1.0])|           0.0|   (13,[0],[1.0])|           0.0|   (57,[0],[1.0])|            1.0|     (4,[1],[1.0])|           2.0|   (21,[2],[1.0])|(108,[1,7,20,78,8...|\n",
      "|      view|  250|          6|electronics| smartphone|                2|                  1|                   37|                    null|           118|       2.0|  samsung|           0|    0|             4.0|      (7,[4],[1.0])|           0.0|   (13,[0],[1.0])|           0.0|   (57,[0],[1.0])|            0.0|     (4,[0],[1.0])|           1.0|   (21,[1],[1.0])|(108,[4,7,20,77,8...|\n",
      "|      view|  131|          4|electronics| smartphone|                3|                  2|                    2|                    null|            33|       2.0|  samsung|           0|    0|             1.0|      (7,[1],[1.0])|           0.0|   (13,[0],[1.0])|           0.0|   (57,[0],[1.0])|            0.0|     (4,[0],[1.0])|           1.0|   (21,[1],[1.0])|(108,[1,7,20,77,8...|\n",
      "|  purchase|  179|          2|electronics| smartphone|                4|                  4|                    4|                   192.0|             7|       2.0|     sony|           1|    1|             6.0|      (7,[6],[1.0])|           0.0|   (13,[0],[1.0])|           0.0|   (57,[0],[1.0])|            0.0|     (4,[0],[1.0])|          15.0|  (21,[15],[1.0])|(108,[6,7,20,77,9...|\n",
      "|      view|  115|          3| appliances|    kitchen|               37|                  1|                   45|                    null|            50|       2.0|   others|           0|    0|             0.0|      (7,[0],[1.0])|           1.0|   (13,[1],[1.0])|           1.0|   (57,[1],[1.0])|            0.0|     (4,[0],[1.0])|           0.0|   (21,[0],[1.0])|(108,[0,8,21,77,8...|\n",
      "|      view|  720|          5|  computers|   notebook|               51|                  1|                   63|                    null|           134|       3.0|   lenovo|           0|    0|             2.0|      (7,[2],[1.0])|           2.0|   (13,[2],[1.0])|           4.0|   (57,[4],[1.0])|            3.0|     (4,[3],[1.0])|           8.0|   (21,[8],[1.0])|(108,[2,9,24,80,8...|\n",
      "|      view|   95|          3|       kids|   carriage|                1|                  4|                   18|                    null|            33|       1.0|   others|           0|    0|             0.0|      (7,[0],[1.0])|           7.0|   (13,[7],[1.0])|          16.0|  (57,[16],[1.0])|            1.0|     (4,[1],[1.0])|           0.0|   (21,[0],[1.0])|(108,[0,14,36,78,...|\n",
      "|      view|  197|          7|electronics| smartphone|               13|                  3|                  155|                  228.25|           231|       2.0|   xiaomi|           0|    0|             5.0|      (7,[5],[1.0])|           0.0|   (13,[0],[1.0])|           0.0|   (57,[0],[1.0])|            0.0|     (4,[0],[1.0])|           3.0|   (21,[3],[1.0])|(108,[5,7,20,77,8...|\n",
      "|      view|  290|          2|electronics| smartphone|               79|                 15|                  840|                    null|           921|       0.0|   xiaomi|           0|    0|             6.0|      (7,[6],[1.0])|           0.0|   (13,[0],[1.0])|           0.0|   (57,[0],[1.0])|            2.0|     (4,[2],[1.0])|           3.0|   (21,[3],[1.0])|(108,[6,7,20,79,8...|\n",
      "|      view|  405|          6| appliances|    kitchen|               14|                  1|                   17|                    null|           230|       1.0|       lg|           0|    0|             4.0|      (7,[4],[1.0])|           1.0|   (13,[1],[1.0])|           1.0|   (57,[1],[1.0])|            1.0|     (4,[1],[1.0])|           5.0|   (21,[5],[1.0])|(108,[4,8,21,78,8...|\n",
      "|      view|  100|          1| appliances|    kitchen|               32|                  1|                   52|                    null|            54|       2.0|   others|           0|    0|             3.0|      (7,[3],[1.0])|           1.0|   (13,[1],[1.0])|           1.0|   (57,[1],[1.0])|            0.0|     (4,[0],[1.0])|           0.0|   (21,[0],[1.0])|(108,[3,8,21,77,8...|\n",
      "+----------+-----+-----------+-----------+-----------+-----------------+-------------------+---------------------+------------------------+--------------+----------+---------+------------+-----+----------------+-------------------+--------------+-----------------+--------------+-----------------+---------------+------------------+--------------+-----------------+--------------------+\n",
      "only showing top 20 rows\n",
      "\n"
     ]
    }
   ],
   "source": [
    "# Checking the elements of the transformed df - Top 20 rows\n",
    "df_clean.show(20)"
   ]
  },
  {
   "cell_type": "code",
   "execution_count": 26,
   "metadata": {},
   "outputs": [
    {
     "data": {
      "text/plain": [
       "15874983"
      ]
     },
     "execution_count": 26,
     "metadata": {},
     "output_type": "execute_result"
    }
   ],
   "source": [
    "df_clean.count()"
   ]
  },
  {
   "cell_type": "code",
   "execution_count": 27,
   "metadata": {},
   "outputs": [
    {
     "name": "stdout",
     "output_type": "stream",
     "text": [
      "+----------+-----+-----------+-----------+-----------+-----------------+-------------------+---------------------+------------------------+--------------+----------+---------+------------+-----+----------------+-------------------+--------------+-----------------+--------------+-----------------+---------------+------------------+--------------+-----------------+--------------------+\n",
      "|event_type|price|day_of_week|  category1|  category2|activity_countval|product_view_counts|category2_view_counts|average_shopping_expense|session_counts|binnedhour|brand_new|is_purchased|label|day_of_weekIndex|day_of_weekclassVec|category1Index|category1classVec|category2Index|category2classVec|binnedhourIndex|binnedhourclassVec|brand_newIndex|brand_newclassVec|            features|\n",
      "+----------+-----+-----------+-----------+-----------+-----------------+-------------------+---------------------+------------------------+--------------+----------+---------+------------+-----+----------------+-------------------+--------------+-----------------+--------------+-----------------+---------------+------------------+--------------+-----------------+--------------------+\n",
      "|      view|  540|          6|electronics| smartphone|               35|                  1|                   35|                    null|            35|       3.0|   huawei|           0|    0|             4.0|      (7,[4],[1.0])|           0.0|   (13,[0],[1.0])|           0.0|   (57,[0],[1.0])|            3.0|     (4,[3],[1.0])|           4.0|   (21,[4],[1.0])|(108,[4,7,20,80,8...|\n",
      "|      view|  114|          5| appliances|environment|                1|                  1|                    1|                    null|             4|       0.0|   others|           0|    0|             2.0|      (7,[2],[1.0])|           1.0|   (13,[1],[1.0])|           7.0|   (57,[7],[1.0])|            2.0|     (4,[2],[1.0])|           0.0|   (21,[0],[1.0])|(108,[2,8,27,79,8...|\n",
      "|      view|   39|          3|electronics|     clocks|                2|                  2|                    2|                    null|             2|       3.0|    casio|           0|    0|             0.0|      (7,[0],[1.0])|           0.0|   (13,[0],[1.0])|           3.0|   (57,[3],[1.0])|            3.0|     (4,[3],[1.0])|          13.0|  (21,[13],[1.0])|(108,[0,7,23,80,9...|\n",
      "|      view|  167|          6|electronics|      audio|                2|                  2|                    2|                    null|            14|       2.0|   others|           0|    0|             4.0|      (7,[4],[1.0])|           0.0|   (13,[0],[1.0])|           2.0|   (57,[2],[1.0])|            0.0|     (4,[0],[1.0])|           0.0|   (21,[0],[1.0])|(108,[4,7,22,77,8...|\n",
      "|      view|  161|          6|electronics|      audio|               12|                  1|                    1|                    null|           121|       2.0|    apple|           0|    0|             4.0|      (7,[4],[1.0])|           0.0|   (13,[0],[1.0])|           2.0|   (57,[2],[1.0])|            0.0|     (4,[0],[1.0])|           2.0|   (21,[2],[1.0])|(108,[4,7,22,77,8...|\n",
      "|      view|  437|          4|  computers| components|                4|                  1|                   29|                    null|            85|       2.0|   others|           0|    0|             1.0|      (7,[1],[1.0])|           2.0|   (13,[2],[1.0])|          12.0|  (57,[12],[1.0])|            0.0|     (4,[0],[1.0])|           0.0|   (21,[0],[1.0])|(108,[1,9,32,77,8...|\n",
      "|      view|   45|          5|    apparel|      shoes|               11|                  2|                   11|                    null|           330|       0.0|   others|           0|    0|             2.0|      (7,[2],[1.0])|           3.0|   (13,[3],[1.0])|           5.0|   (57,[5],[1.0])|            2.0|     (4,[2],[1.0])|           0.0|   (21,[0],[1.0])|(108,[2,10,25,79,...|\n",
      "|      view|  243|          3|electronics| smartphone|                2|                  1|                    2|                    null|             2|       1.0|  samsung|           0|    0|             0.0|      (7,[0],[1.0])|           0.0|   (13,[0],[1.0])|           0.0|   (57,[0],[1.0])|            1.0|     (4,[1],[1.0])|           1.0|   (21,[1],[1.0])|(108,[0,7,20,78,8...|\n",
      "|      view|  146|          2|electronics|      audio|                3|                  2|                   30|                    null|            74|       1.0|   others|           0|    0|             6.0|      (7,[6],[1.0])|           0.0|   (13,[0],[1.0])|           2.0|   (57,[2],[1.0])|            1.0|     (4,[1],[1.0])|           0.0|   (21,[0],[1.0])|(108,[6,7,22,78,8...|\n",
      "|      view|  582|          4|electronics| smartphone|                1|                 13|                   50|                    null|           157|       1.0|    apple|           0|    0|             1.0|      (7,[1],[1.0])|           0.0|   (13,[0],[1.0])|           0.0|   (57,[0],[1.0])|            1.0|     (4,[1],[1.0])|           2.0|   (21,[2],[1.0])|(108,[1,7,20,78,8...|\n",
      "|      view|  250|          6|electronics| smartphone|                2|                  1|                   37|                    null|           118|       2.0|  samsung|           0|    0|             4.0|      (7,[4],[1.0])|           0.0|   (13,[0],[1.0])|           0.0|   (57,[0],[1.0])|            0.0|     (4,[0],[1.0])|           1.0|   (21,[1],[1.0])|(108,[4,7,20,77,8...|\n",
      "|      view|  131|          4|electronics| smartphone|                3|                  2|                    2|                    null|            33|       2.0|  samsung|           0|    0|             1.0|      (7,[1],[1.0])|           0.0|   (13,[0],[1.0])|           0.0|   (57,[0],[1.0])|            0.0|     (4,[0],[1.0])|           1.0|   (21,[1],[1.0])|(108,[1,7,20,77,8...|\n",
      "|  purchase|  179|          2|electronics| smartphone|                4|                  4|                    4|                   192.0|             7|       2.0|     sony|           1|    1|             6.0|      (7,[6],[1.0])|           0.0|   (13,[0],[1.0])|           0.0|   (57,[0],[1.0])|            0.0|     (4,[0],[1.0])|          15.0|  (21,[15],[1.0])|(108,[6,7,20,77,9...|\n",
      "|      view|  115|          3| appliances|    kitchen|               37|                  1|                   45|                    null|            50|       2.0|   others|           0|    0|             0.0|      (7,[0],[1.0])|           1.0|   (13,[1],[1.0])|           1.0|   (57,[1],[1.0])|            0.0|     (4,[0],[1.0])|           0.0|   (21,[0],[1.0])|(108,[0,8,21,77,8...|\n",
      "|      view|  720|          5|  computers|   notebook|               51|                  1|                   63|                    null|           134|       3.0|   lenovo|           0|    0|             2.0|      (7,[2],[1.0])|           2.0|   (13,[2],[1.0])|           4.0|   (57,[4],[1.0])|            3.0|     (4,[3],[1.0])|           8.0|   (21,[8],[1.0])|(108,[2,9,24,80,8...|\n",
      "|      view|   95|          3|       kids|   carriage|                1|                  4|                   18|                    null|            33|       1.0|   others|           0|    0|             0.0|      (7,[0],[1.0])|           7.0|   (13,[7],[1.0])|          16.0|  (57,[16],[1.0])|            1.0|     (4,[1],[1.0])|           0.0|   (21,[0],[1.0])|(108,[0,14,36,78,...|\n",
      "|      view|  197|          7|electronics| smartphone|               13|                  3|                  155|                  228.25|           231|       2.0|   xiaomi|           0|    0|             5.0|      (7,[5],[1.0])|           0.0|   (13,[0],[1.0])|           0.0|   (57,[0],[1.0])|            0.0|     (4,[0],[1.0])|           3.0|   (21,[3],[1.0])|(108,[5,7,20,77,8...|\n",
      "|      view|  290|          2|electronics| smartphone|               79|                 15|                  840|                    null|           921|       0.0|   xiaomi|           0|    0|             6.0|      (7,[6],[1.0])|           0.0|   (13,[0],[1.0])|           0.0|   (57,[0],[1.0])|            2.0|     (4,[2],[1.0])|           3.0|   (21,[3],[1.0])|(108,[6,7,20,79,8...|\n",
      "|      view|  405|          6| appliances|    kitchen|               14|                  1|                   17|                    null|           230|       1.0|       lg|           0|    0|             4.0|      (7,[4],[1.0])|           1.0|   (13,[1],[1.0])|           1.0|   (57,[1],[1.0])|            1.0|     (4,[1],[1.0])|           5.0|   (21,[5],[1.0])|(108,[4,8,21,78,8...|\n",
      "|      view|  100|          1| appliances|    kitchen|               32|                  1|                   52|                    null|            54|       2.0|   others|           0|    0|             3.0|      (7,[3],[1.0])|           1.0|   (13,[1],[1.0])|           1.0|   (57,[1],[1.0])|            0.0|     (4,[0],[1.0])|           0.0|   (21,[0],[1.0])|(108,[3,8,21,77,8...|\n",
      "+----------+-----+-----------+-----------+-----------+-----------------+-------------------+---------------------+------------------------+--------------+----------+---------+------------+-----+----------------+-------------------+--------------+-----------------+--------------+-----------------+---------------+------------------+--------------+-----------------+--------------------+\n",
      "only showing top 20 rows\n",
      "\n"
     ]
    }
   ],
   "source": [
    "# Checking the elements of the transformed df - Top 20 rows\n",
    "df_clean.show(20)"
   ]
  },
  {
   "cell_type": "markdown",
   "metadata": {},
   "source": [
    "#### Train-test split"
   ]
  },
  {
   "cell_type": "code",
   "execution_count": 28,
   "metadata": {},
   "outputs": [],
   "source": [
    "# Splitting the data into train and test (Remember you are expected to compare the model later)\n",
    "traindata, testdata = df_clean.randomSplit([0.7,0.3], seed=100)"
   ]
  },
  {
   "cell_type": "code",
   "execution_count": 29,
   "metadata": {},
   "outputs": [
    {
     "data": {
      "text/plain": [
       "11113821"
      ]
     },
     "execution_count": 29,
     "metadata": {},
     "output_type": "execute_result"
    }
   ],
   "source": [
    "# Number of rows in train and test data\n",
    "traindata.count()"
   ]
  },
  {
   "cell_type": "code",
   "execution_count": 30,
   "metadata": {},
   "outputs": [
    {
     "data": {
      "text/plain": [
       "4761162"
      ]
     },
     "execution_count": 30,
     "metadata": {},
     "output_type": "execute_result"
    }
   ],
   "source": [
    "testdata.count()"
   ]
  },
  {
   "cell_type": "markdown",
   "metadata": {},
   "source": [
    "#### Model Fitting"
   ]
  },
  {
   "cell_type": "code",
   "execution_count": 31,
   "metadata": {},
   "outputs": [
    {
     "name": "stderr",
     "output_type": "stream",
     "text": [
      "/home/ec2-user/.local/lib/python3.7/site-packages/sklearn/ensemble/weight_boosting.py:29: DeprecationWarning: numpy.core.umath_tests is an internal NumPy module and should not be imported. It will be removed in a future NumPy release.\n",
      "  from numpy.core.umath_tests import inner1d\n"
     ]
    }
   ],
   "source": [
    "from sklearn.ensemble import RandomForestClassifier"
   ]
  },
  {
   "cell_type": "code",
   "execution_count": 32,
   "metadata": {},
   "outputs": [],
   "source": [
    "# Building the model with hyperparameter tuning\n",
    "# Create ParamGrid for Cross Validation\n",
    "rf = RandomForestClassifier(\"label\", \"features\")"
   ]
  },
  {
   "cell_type": "code",
   "execution_count": 33,
   "metadata": {},
   "outputs": [],
   "source": [
    "# Run cross-validation steps\n"
   ]
  },
  {
   "cell_type": "code",
   "execution_count": 35,
   "metadata": {},
   "outputs": [
    {
     "ename": "TypeError",
     "evalue": "fit() missing 1 required positional argument: 'y'",
     "output_type": "error",
     "traceback": [
      "\u001b[0;31m---------------------------------------------------------------------------\u001b[0m",
      "\u001b[0;31mTypeError\u001b[0m                                 Traceback (most recent call last)",
      "\u001b[0;32m<ipython-input-35-dd52272d7c25>\u001b[0m in \u001b[0;36m<module>\u001b[0;34m\u001b[0m\n\u001b[1;32m      1\u001b[0m \u001b[0;31m# Fitting the models on transformed df\u001b[0m\u001b[0;34m\u001b[0m\u001b[0;34m\u001b[0m\u001b[0;34m\u001b[0m\u001b[0m\n\u001b[0;32m----> 2\u001b[0;31m \u001b[0mrf_model\u001b[0m\u001b[0;34m=\u001b[0m\u001b[0mrf\u001b[0m\u001b[0;34m.\u001b[0m\u001b[0mfit\u001b[0m\u001b[0;34m(\u001b[0m\u001b[0mtraindata\u001b[0m\u001b[0;34m)\u001b[0m\u001b[0;34m\u001b[0m\u001b[0;34m\u001b[0m\u001b[0m\n\u001b[0m",
      "\u001b[0;31mTypeError\u001b[0m: fit() missing 1 required positional argument: 'y'"
     ]
    }
   ],
   "source": [
    "# Fitting the models on transformed df\n",
    "rf_model=rf.fit(traindata)"
   ]
  },
  {
   "cell_type": "code",
   "execution_count": 36,
   "metadata": {},
   "outputs": [],
   "source": [
    "def get_dt_graph(dt):\n",
    "    dot_data = StringIO()\n",
    "    export_graphviz(dt_classifier, out_file=dot_data, filled=True,rounded=True,\n",
    "                    feature_names=X.columns, \n",
    "                    class_names=['is_purchased', \"No_purchase\"])\n",
    "    graph = pydotplus.graph_from_dot_data(dot_data.getvalue())\n",
    "    return graph "
   ]
  },
  {
   "cell_type": "code",
   "execution_count": 37,
   "metadata": {},
   "outputs": [
    {
     "ename": "NameError",
     "evalue": "name 'rf_estimators_' is not defined",
     "output_type": "error",
     "traceback": [
      "\u001b[0;31m---------------------------------------------------------------------------\u001b[0m",
      "\u001b[0;31mNameError\u001b[0m                                 Traceback (most recent call last)",
      "\u001b[0;32m<ipython-input-37-eabf8b78f867>\u001b[0m in \u001b[0;36m<module>\u001b[0;34m\u001b[0m\n\u001b[1;32m      1\u001b[0m \u001b[0;31m# Best model from the results of cross-validation\u001b[0m\u001b[0;34m\u001b[0m\u001b[0;34m\u001b[0m\u001b[0;34m\u001b[0m\u001b[0m\n\u001b[0;32m----> 2\u001b[0;31m \u001b[0mrf_estimators_\u001b[0m\u001b[0;34m\u001b[0m\u001b[0;34m\u001b[0m\u001b[0m\n\u001b[0m\u001b[1;32m      3\u001b[0m \u001b[0;34m\u001b[0m\u001b[0m\n\u001b[1;32m      4\u001b[0m \u001b[0mrf_estimators_\u001b[0m\u001b[0;34m[\u001b[0m\u001b[0;36m0\u001b[0m\u001b[0;34m]\u001b[0m\u001b[0;34m\u001b[0m\u001b[0;34m\u001b[0m\u001b[0m\n\u001b[1;32m      5\u001b[0m \u001b[0mgph\u001b[0m \u001b[0;34m=\u001b[0m \u001b[0mget_dt_graph\u001b[0m\u001b[0;34m(\u001b[0m\u001b[0msample_tree\u001b[0m\u001b[0;34m)\u001b[0m\u001b[0;34m\u001b[0m\u001b[0;34m\u001b[0m\u001b[0m\n",
      "\u001b[0;31mNameError\u001b[0m: name 'rf_estimators_' is not defined"
     ]
    }
   ],
   "source": [
    "# Best model from the results of cross-validation\n",
    "rf_estimators_\n",
    "\n",
    "rf_estimators_[0]\n",
    "gph = get_dt_graph(sample_tree)\n",
    "Image[gph.create_png()]"
   ]
  },
  {
   "cell_type": "code",
   "execution_count": 38,
   "metadata": {},
   "outputs": [
    {
     "ename": "AttributeError",
     "evalue": "'RandomForestClassifier' object has no attribute 'oob_score_'",
     "output_type": "error",
     "traceback": [
      "\u001b[0;31m---------------------------------------------------------------------------\u001b[0m",
      "\u001b[0;31mAttributeError\u001b[0m                            Traceback (most recent call last)",
      "\u001b[0;32m<ipython-input-38-462f32454904>\u001b[0m in \u001b[0;36m<module>\u001b[0;34m\u001b[0m\n\u001b[1;32m      1\u001b[0m \u001b[0;31m#OOB Score\u001b[0m\u001b[0;34m\u001b[0m\u001b[0;34m\u001b[0m\u001b[0;34m\u001b[0m\u001b[0m\n\u001b[0;32m----> 2\u001b[0;31m \u001b[0mrf\u001b[0m\u001b[0;34m.\u001b[0m\u001b[0moob_score_\u001b[0m\u001b[0;34m\u001b[0m\u001b[0;34m\u001b[0m\u001b[0m\n\u001b[0m",
      "\u001b[0;31mAttributeError\u001b[0m: 'RandomForestClassifier' object has no attribute 'oob_score_'"
     ]
    }
   ],
   "source": [
    "#OOB Score\n",
    "rf.oob_score_"
   ]
  },
  {
   "cell_type": "code",
   "execution_count": 39,
   "metadata": {},
   "outputs": [],
   "source": [
    "classifier_rf = RandomForestClassifier(random_state=42, n_jobs= -1)"
   ]
  },
  {
   "cell_type": "code",
   "execution_count": 40,
   "metadata": {},
   "outputs": [],
   "source": [
    "from sklearn.model_selection import GridSearchCV"
   ]
  },
  {
   "cell_type": "code",
   "execution_count": 41,
   "metadata": {},
   "outputs": [],
   "source": [
    "# Create the parameter grid based on results of random search\n",
    "params = {\n",
    "    'max_depth': [1, 2, 5, 10, 20],\n",
    "    'min_samples_leaf': [5, 10, 20, 50, 100],\n",
    "    'max_features': [2,3,4],\n",
    "    'n_estimators': [10, 30, 50, 100, 200]\n",
    "}"
   ]
  },
  {
   "cell_type": "code",
   "execution_count": 42,
   "metadata": {},
   "outputs": [],
   "source": [
    "# Instantiate the grid search model\n",
    "grid_search = GridSearchCV(estimator=classifier_rf, param_grid=params, \n",
    "                          cv=4, n_jobs=-1, verbose=1, scoring = \"accuracy\")"
   ]
  },
  {
   "cell_type": "code",
   "execution_count": 43,
   "metadata": {},
   "outputs": [
    {
     "ename": "NameError",
     "evalue": "name 'X' is not defined",
     "output_type": "error",
     "traceback": [
      "\u001b[0;31m---------------------------------------------------------------------------\u001b[0m",
      "\u001b[0;31mNameError\u001b[0m                                 Traceback (most recent call last)",
      "\u001b[0;32m<timed eval>\u001b[0m in \u001b[0;36m<module>\u001b[0;34m\u001b[0m\n",
      "\u001b[0;31mNameError\u001b[0m: name 'X' is not defined"
     ]
    }
   ],
   "source": [
    "%%time\n",
    "grid_search.fit(X,y)"
   ]
  },
  {
   "cell_type": "code",
   "execution_count": null,
   "metadata": {},
   "outputs": [],
   "source": [
    "rf_best_est = grid_search.best_estimator_"
   ]
  },
  {
   "cell_type": "code",
   "execution_count": null,
   "metadata": {},
   "outputs": [],
   "source": [
    "rf_best_est"
   ]
  },
  {
   "cell_type": "code",
   "execution_count": null,
   "metadata": {},
   "outputs": [],
   "source": [
    "rf_best_est.fit(X_train, y_train)"
   ]
  },
  {
   "cell_type": "code",
   "execution_count": null,
   "metadata": {},
   "outputs": [],
   "source": [
    "sample_tree = rf_best_est.estimators_[0]"
   ]
  },
  {
   "cell_type": "code",
   "execution_count": null,
   "metadata": {},
   "outputs": [],
   "source": [
    "evaluate_model(rf_best_est)"
   ]
  },
  {
   "cell_type": "code",
   "execution_count": null,
   "metadata": {},
   "outputs": [],
   "source": [
    "graphh = get_dt_graph(sample_tree)\n",
    "Image(graphh.create_png())"
   ]
  },
  {
   "cell_type": "code",
   "execution_count": null,
   "metadata": {},
   "outputs": [],
   "source": [
    "graphh = get_dt_graph(rf_best_est.estimators_[0])\n",
    "Image(graphh.create_png(), height=600, width=600)"
   ]
  },
  {
   "cell_type": "code",
   "execution_count": null,
   "metadata": {},
   "outputs": [],
   "source": [
    "graphh = get_dt_graph(rf_best.estimators_[10])    \n",
    "Image(graphh.create_png(), height=600, width=600)"
   ]
  },
  {
   "cell_type": "markdown",
   "metadata": {},
   "source": [
    "#### Model Analysis"
   ]
  },
  {
   "cell_type": "markdown",
   "metadata": {},
   "source": [
    "Required Steps:\n",
    "- Fit on test data\n",
    "- Performance analysis\n",
    "    - Appropriate Metric with reasoning"
   ]
  },
  {
   "cell_type": "code",
   "execution_count": null,
   "metadata": {},
   "outputs": [],
   "source": []
  },
  {
   "cell_type": "code",
   "execution_count": null,
   "metadata": {},
   "outputs": [],
   "source": []
  },
  {
   "cell_type": "code",
   "execution_count": null,
   "metadata": {},
   "outputs": [],
   "source": []
  },
  {
   "cell_type": "markdown",
   "metadata": {},
   "source": [
    "#### Summary of the best Random Forest model"
   ]
  },
  {
   "cell_type": "code",
   "execution_count": null,
   "metadata": {},
   "outputs": [],
   "source": []
  },
  {
   "cell_type": "code",
   "execution_count": null,
   "metadata": {},
   "outputs": [],
   "source": []
  },
  {
   "cell_type": "code",
   "execution_count": null,
   "metadata": {},
   "outputs": [],
   "source": []
  }
 ],
 "metadata": {
  "kernelspec": {
   "display_name": "Python 3",
   "language": "python",
   "name": "python3"
  },
  "language_info": {
   "codemirror_mode": {
    "name": "ipython",
    "version": 3
   },
   "file_extension": ".py",
   "mimetype": "text/x-python",
   "name": "python",
   "nbconvert_exporter": "python",
   "pygments_lexer": "ipython3",
   "version": "3.7.9"
  }
 },
 "nbformat": 4,
 "nbformat_minor": 4
}
